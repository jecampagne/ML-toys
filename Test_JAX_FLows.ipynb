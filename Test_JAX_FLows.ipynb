{
  "nbformat": 4,
  "nbformat_minor": 0,
  "metadata": {
    "colab": {
      "provenance": [],
      "collapsed_sections": [],
      "authorship_tag": "ABX9TyNhAbuV9r6RSsnu6XHKY2kk",
      "include_colab_link": true
    },
    "kernelspec": {
      "name": "python3",
      "display_name": "Python 3"
    },
    "language_info": {
      "name": "python"
    },
    "accelerator": "GPU"
  },
  "cells": [
    {
      "cell_type": "markdown",
      "metadata": {
        "id": "view-in-github",
        "colab_type": "text"
      },
      "source": [
        "<a href=\"https://colab.research.google.com/github/jecampagne/ML-toys/blob/main/Test_JAX_FLows.ipynb\" target=\"_parent\"><img src=\"https://colab.research.google.com/assets/colab-badge.svg\" alt=\"Open In Colab\"/></a>"
      ]
    },
    {
      "cell_type": "code",
      "source": [
        "!pip install -q distrax dm-haiku optax\n"
      ],
      "metadata": {
        "colab": {
          "base_uri": "https://localhost:8080/"
        },
        "id": "VfWiomtHCg_J",
        "outputId": "4aebeebe-190c-445a-df3a-8f4ffdf8dd43"
      },
      "execution_count": 1,
      "outputs": [
        {
          "output_type": "stream",
          "name": "stdout",
          "text": [
            "\u001b[?25l\r\u001b[K     |█▏                              | 10 kB 32.7 MB/s eta 0:00:01\r\u001b[K     |██▍                             | 20 kB 11.8 MB/s eta 0:00:01\r\u001b[K     |███▋                            | 30 kB 15.6 MB/s eta 0:00:01\r\u001b[K     |████▉                           | 40 kB 8.0 MB/s eta 0:00:01\r\u001b[K     |██████                          | 51 kB 6.4 MB/s eta 0:00:01\r\u001b[K     |███████▎                        | 61 kB 7.5 MB/s eta 0:00:01\r\u001b[K     |████████▍                       | 71 kB 8.5 MB/s eta 0:00:01\r\u001b[K     |█████████▋                      | 81 kB 9.5 MB/s eta 0:00:01\r\u001b[K     |██████████▉                     | 92 kB 7.9 MB/s eta 0:00:01\r\u001b[K     |████████████                    | 102 kB 8.3 MB/s eta 0:00:01\r\u001b[K     |█████████████▎                  | 112 kB 8.3 MB/s eta 0:00:01\r\u001b[K     |██████████████▌                 | 122 kB 8.3 MB/s eta 0:00:01\r\u001b[K     |███████████████▋                | 133 kB 8.3 MB/s eta 0:00:01\r\u001b[K     |████████████████▉               | 143 kB 8.3 MB/s eta 0:00:01\r\u001b[K     |██████████████████              | 153 kB 8.3 MB/s eta 0:00:01\r\u001b[K     |███████████████████▎            | 163 kB 8.3 MB/s eta 0:00:01\r\u001b[K     |████████████████████▌           | 174 kB 8.3 MB/s eta 0:00:01\r\u001b[K     |█████████████████████▊          | 184 kB 8.3 MB/s eta 0:00:01\r\u001b[K     |███████████████████████         | 194 kB 8.3 MB/s eta 0:00:01\r\u001b[K     |████████████████████████        | 204 kB 8.3 MB/s eta 0:00:01\r\u001b[K     |█████████████████████████▎      | 215 kB 8.3 MB/s eta 0:00:01\r\u001b[K     |██████████████████████████▌     | 225 kB 8.3 MB/s eta 0:00:01\r\u001b[K     |███████████████████████████▊    | 235 kB 8.3 MB/s eta 0:00:01\r\u001b[K     |█████████████████████████████   | 245 kB 8.3 MB/s eta 0:00:01\r\u001b[K     |██████████████████████████████▏ | 256 kB 8.3 MB/s eta 0:00:01\r\u001b[K     |███████████████████████████████▎| 266 kB 8.3 MB/s eta 0:00:01\r\u001b[K     |████████████████████████████████| 272 kB 8.3 MB/s \n",
            "\u001b[K     |████████████████████████████████| 350 kB 58.8 MB/s \n",
            "\u001b[K     |████████████████████████████████| 145 kB 85.2 MB/s \n",
            "\u001b[K     |████████████████████████████████| 85 kB 4.1 MB/s \n",
            "\u001b[?25h"
          ]
        }
      ]
    },
    {
      "cell_type": "code",
      "execution_count": 2,
      "metadata": {
        "id": "MvBKyXzs4G59"
      },
      "outputs": [],
      "source": [
        "import matplotlib as mpl\n",
        "import matplotlib.pyplot as plt\n",
        "import matplotlib.ticker as mticker\n",
        "mpl.rc('image', cmap='jet')\n",
        "mpl.rcParams['font.size'] = 16\n",
        "from mpl_toolkits.axes_grid1 import make_axes_locatable\n",
        "\n",
        "\n",
        "from typing import Any, Mapping, Sequence, Tuple\n",
        "\n",
        "import distrax\n",
        "import haiku as hk\n",
        "import jax\n",
        "import jax.numpy as jnp\n",
        "import matplotlib.pyplot as plt\n",
        "import numpy as np\n",
        "import optax\n",
        "from distrax._src.bijectors.bijector import Array\n",
        "from tensorflow_probability.substrates import jax as tfp\n",
        "\n",
        "tfd = tfp.distributions\n",
        "tfb = tfp.bijectors\n",
        "tfpk = tfp.math.psd_kernels"
      ]
    },
    {
      "cell_type": "code",
      "source": [
        "print(tfp.__version__, distrax.__version__, optax.__version__, hk.__version__)"
      ],
      "metadata": {
        "colab": {
          "base_uri": "https://localhost:8080/"
        },
        "id": "abNiINQc57-t",
        "outputId": "9a50e447-fc55-4aa0-ce5b-a6d480e7f870"
      },
      "execution_count": 3,
      "outputs": [
        {
          "output_type": "stream",
          "name": "stdout",
          "text": [
            "0.16.0 0.1.2 0.1.3 0.0.8\n"
          ]
        }
      ]
    },
    {
      "cell_type": "code",
      "source": [
        "#avoid boring Warnings\n",
        "import logging\n",
        "logger = logging.getLogger()\n",
        "\n",
        "\n",
        "class CheckTypesFilter(logging.Filter):\n",
        "    def filter(self, record):\n",
        "        return \"check_types\" not in record.getMessage()\n",
        "\n",
        "\n",
        "logger.addFilter(CheckTypesFilter())\n"
      ],
      "metadata": {
        "id": "49gcL3j1fJVR"
      },
      "execution_count": 4,
      "outputs": []
    },
    {
      "cell_type": "code",
      "source": [
        "Array = jnp.ndarray\n",
        "PRNGKey = Array\n",
        "Batch = Mapping[str, np.ndarray]\n",
        "OptState = Any\n",
        "\n",
        "MODEL = 'MAF' # \n",
        "TARGET_DENSITY = 'Energy_3' # {'Banana', 'Energy_1', 'Energy_3','Gauss_blobs' } Which dataset to model. \n",
        "\n",
        "if MODEL == 'NVP':\n",
        "    FLOW_NUM_LAYERS= 6\n",
        "    HIDDEN_SIZE= 128\n",
        "    MLP_NUM_LAYERS= 2\n",
        "\n",
        "elif MODEL == 'MAF':\n",
        "  FLOW_NUM_LAYERS = 8\n",
        "  HIDDEN_SIZE = 64\n",
        "  MLP_NUM_LAYERS = 2\n",
        "  FLOW_NUM_PARAMS = 12  \n",
        "\n",
        "\n"
      ],
      "metadata": {
        "id": "szo0oTugGKmw"
      },
      "execution_count": 118,
      "outputs": []
    },
    {
      "cell_type": "code",
      "source": [
        "def make_dataset_banana(seed: int, batch_size: int = 8, num_batches: int = 1):\n",
        "    \"\"\"pdf(x1,x2)=N(x1|(1/4)*x2**2,1)N(x2|0,4)\"\"\"\n",
        "\n",
        "    prng_seq = jax.random.PRNGKey(seed)\n",
        "    for _ in range(num_batches):\n",
        "        key, subkey = jax.random.split(prng_seq, num=2)\n",
        "        x2 = tfd.Normal(loc=0, scale=2.).sample(\n",
        "            seed=key, sample_shape=batch_size\n",
        "        )\n",
        "        x1 = tfd.Normal(loc=x2 ** 2 / 4, scale=1.).sample(seed=subkey)\n",
        "        yield jnp.stack([x1, x2], axis=-1)\n",
        "\n",
        "\n",
        "def make_dataset_energy_1(seed: int, batch_size: int = 8, num_batches: int = 1):\n",
        "    prng_seq = hk.PRNGSequence(seed)\n",
        "\n",
        "    def loc(z):\n",
        "        mu = 2 - z ** 2 / 32\n",
        "        return jnp.stack([mu, -mu], axis=-1)\n",
        "\n",
        "    for _ in range(num_batches):\n",
        "        key = next(prng_seq)\n",
        "        dist = tfd.JointDistributionSequential(\n",
        "            [\n",
        "                tfd.Normal(loc=0, scale=2),\n",
        "                lambda mu: tfd.MixtureSameFamily(\n",
        "                    tfd.Categorical(probs=[0.5, 0.5]),\n",
        "                    tfd.Normal(loc=loc(mu), scale=0.3),\n",
        "                ),\n",
        "            ]\n",
        "        )\n",
        "        x2, x1 = dist.sample(seed=key, sample_shape=(batch_size,))\n",
        "        yield jnp.stack([x1, x2], axis=-1)\n",
        "\n",
        "def w1(z):\n",
        "    return jnp.sin(2 * jnp.pi * z / 4)\n",
        "\n",
        "\n",
        "def w2(z):\n",
        "    exp_arg = -0.5 * ((z - 1) / 0.6) ** 2\n",
        "    return 3 * jnp.exp(exp_arg)\n",
        "\n",
        "def make_dataset_energy_3(seed: int, batch_size: int = 8, num_batches: int = 1):\n",
        "    prng_seq = hk.PRNGSequence(seed)\n",
        "\n",
        "    def loc(x1):\n",
        "        m1 = w1(x1)\n",
        "        return jnp.stack([m1, m1 - w2(x1)], axis=-1)\n",
        "\n",
        "    for _ in range(num_batches):\n",
        "        key = next(prng_seq)\n",
        "        dist = tfd.JointDistributionSequential(\n",
        "            [\n",
        "                tfd.Uniform(low=-3 / 2 * jnp.pi, high=3 / 2 * jnp.pi),\n",
        "                lambda mu: tfd.MixtureSameFamily(\n",
        "                    mixture_distribution=tfd.Categorical(probs=[0.5, 0.5]),\n",
        "                    components_distribution=tfd.Normal(loc=loc(mu), scale=0.50),\n",
        "                ),\n",
        "            ]\n",
        "        )\n",
        "        x1, x2 = dist.sample(seed=key, sample_shape=(batch_size,))\n",
        "        yield jnp.stack([x1, x2], axis=-1)\n",
        "\n",
        "def make_dataset_gaussian_blobs(\n",
        "    seed: int,\n",
        "    batch_size: int = 8,\n",
        "    num_batches: int = 1,\n",
        "    num_blobs: int = 8,\n",
        "    r: float = 2.0,\n",
        "    SCALE: float = 0.3\n",
        "):\n",
        "    prng_seq = hk.PRNGSequence(seed)\n",
        "    offset = 0  # jnp.pi / num_blobs\n",
        "    thetas = jnp.linspace(offset, 2 * jnp.pi + offset, num_blobs, endpoint=False)\n",
        "    x = r * jnp.cos(thetas)\n",
        "    y = r * jnp.sin(thetas)\n",
        "    loc = jnp.stack([x, y], axis=-1)\n",
        "\n",
        "    dist = tfd.MixtureSameFamily(\n",
        "        mixture_distribution=tfd.Categorical(\n",
        "            probs=[1 / num_blobs for _ in range(num_blobs)]\n",
        "        ),\n",
        "        components_distribution=tfd.MultivariateNormalDiag(\n",
        "            loc=loc, scale_diag=SCALE * jnp.ones((num_blobs, 2))\n",
        "        ),\n",
        "    )\n",
        "\n",
        "    for _ in range(num_batches):\n",
        "        key = next(prng_seq)\n",
        "        yield dist.sample(seed=key, sample_shape=(batch_size,))\n",
        "\n",
        "\n",
        "\n",
        "if TARGET_DENSITY ==\"Banana\" : \n",
        "  make_dataset =  make_dataset_banana #(valid loss diverge)\n",
        "  xlim, ylim = [-5, 15], [-6.5, 6.5]\n",
        "\n",
        "elif TARGET_DENSITY == \"Energy_1\":\n",
        "  make_dataset = make_dataset_energy_1\n",
        "  xlim, ylim = [-5,5], [-5,5]\n",
        "\n",
        "elif TARGET_DENSITY == \"Energy_3\":\n",
        "  make_dataset = make_dataset_energy_3\n",
        "  xlim, ylim = [-5,5], [-5,5]\n",
        "\n",
        "\n",
        "elif TARGET_DENSITY == \"Gauss_blobs\":\n",
        "  make_dataset = make_dataset_gaussian_blobs\n",
        "  xlim, ylim = [-4,4], [-4,4]\n",
        "\n"
      ],
      "metadata": {
        "id": "pY2C-gv7Fue6"
      },
      "execution_count": 108,
      "outputs": []
    },
    {
      "cell_type": "code",
      "source": [
        "data_batch = make_dataset(\n",
        "        seed=2123, batch_size=10_000, num_batches=1\n",
        "    )\n",
        "data = next(data_batch)"
      ],
      "metadata": {
        "id": "MZWclUcc2HUc"
      },
      "execution_count": 119,
      "outputs": []
    },
    {
      "cell_type": "code",
      "source": [
        "# mount drive\n",
        "from google.colab import drive\n",
        "drive.mount('/content/gdrive')\n",
        "\n"
      ],
      "metadata": {
        "colab": {
          "base_uri": "https://localhost:8080/"
        },
        "id": "JD2yiLf6q7PY",
        "outputId": "b6f7854b-af22-440e-cc36-bcd8fd9e8986"
      },
      "execution_count": 105,
      "outputs": [
        {
          "output_type": "stream",
          "name": "stdout",
          "text": [
            "Drive already mounted at /content/gdrive; to attempt to forcibly remount, call drive.mount(\"/content/gdrive\", force_remount=True).\n"
          ]
        }
      ]
    },
    {
      "cell_type": "code",
      "source": [
        "cd /content/gdrive/MyDrive"
      ],
      "metadata": {
        "colab": {
          "base_uri": "https://localhost:8080/"
        },
        "id": "dHBjAaHcr23g",
        "outputId": "17ba936c-7617-48ec-b565-5eb26e5c364f"
      },
      "execution_count": 90,
      "outputs": [
        {
          "output_type": "stream",
          "name": "stdout",
          "text": [
            "/content/gdrive/MyDrive\n"
          ]
        }
      ]
    },
    {
      "cell_type": "code",
      "source": [
        "ls"
      ],
      "metadata": {
        "colab": {
          "base_uri": "https://localhost:8080/"
        },
        "id": "jC148YF5r--Y",
        "outputId": "27954714-c901-4bb7-e33a-62be243ceb51"
      },
      "execution_count": 91,
      "outputs": [
        {
          "output_type": "stream",
          "name": "stdout",
          "text": [
            " BatchLinearSolve.ipynb\n",
            " Cl_interpolation.ipynb\n",
            "\u001b[0m\u001b[01;34m'Colab Notebooks'\u001b[0m/\n",
            "'DESC Bayesian analysis project & JAX-cosmo.gslides'\n",
            " DragonFractal.ipynb\n",
            " edit-python-code.ipynb\n",
            " \u001b[01;34mflax\u001b[0m/\n",
            " Glow.ipynb\n",
            " GP-predict-study.ipynb\n",
            " \u001b[01;34mImages\u001b[0m/\n",
            " \u001b[01;34mjax_cosmo\u001b[0m/\n",
            " jax-test.ipynb\n",
            " PyTorch-SimpleClassifer.ipynb\n",
            " PyTorch-SimpleClassifierv2.ipynb\n",
            " PyTorch-TutoDeBase.ipynb\n",
            " RL-test.ipynb\n",
            " Simpson_JaxJit_vs_Numpy.ipynb\n",
            " Test_AR_NFLows.ipynb\n",
            " Test_Flow.ipynb\n",
            " test.ipynb\n",
            " Test_JAX_FLows.ipynb\n",
            " TestLSolve.ipynb\n",
            " Test_NVP_FLows.ipynb\n",
            " test-share.ipynb\n",
            " Toy_Flow_cubic.ipynb\n",
            " Untitled\n",
            " Untitled5.ipynb\n",
            " Untitled6.ipynb\n",
            " Untitled7.ipynb\n",
            " \u001b[01;34mvideos\u001b[0m/\n"
          ]
        }
      ]
    },
    {
      "cell_type": "code",
      "source": [
        "images_dir = '/content/gdrive/MyDrive/Images'"
      ],
      "metadata": {
        "id": "lJnKRT0vrmdV"
      },
      "execution_count": 27,
      "outputs": []
    },
    {
      "cell_type": "code",
      "source": [
        "mkdir '/content/gdrive/MyDrive/Images'"
      ],
      "metadata": {
        "id": "n6CJFBzQsXfF"
      },
      "execution_count": 32,
      "outputs": []
    },
    {
      "cell_type": "code",
      "source": [
        "plt.scatter(data[:, 0], data[:, 1], s=0.1, color='red',label='Train')\n",
        "plt.title(TARGET_DENSITY)\n",
        "plt.xlim(xlim)\n",
        "plt.ylim(ylim)\n",
        "plt.xlabel(\"$x_1$\")\n",
        "plt.ylabel(\"$x_2$\")\n",
        "plt.gca().set_aspect('equal')\n",
        "plt.savefig(f\"{images_dir}/jax_NF_plots_{MODEL}_{TARGET_DENSITY}_true_pdf.pdf\")"
      ],
      "metadata": {
        "colab": {
          "base_uri": "https://localhost:8080/",
          "height": 310
        },
        "id": "nFMmmTBq2UqX",
        "outputId": "ff9ee33d-9e7d-44c0-d746-c1df575653d3"
      },
      "execution_count": 120,
      "outputs": [
        {
          "output_type": "display_data",
          "data": {
            "text/plain": [
              "<Figure size 432x288 with 1 Axes>"
            ],
            "image/png": "[encoded data removed]"
          },
          "metadata": {
            "needs_background": "light"
          }
        }
      ]
    },
    {
      "cell_type": "code",
      "source": [
        "\n",
        "\n",
        "def make_conditioner_nvp(\n",
        "    event_shape: Sequence[int], hidden_sizes: Sequence[int], num_bijector_params: int\n",
        ") -> hk.Sequential:\n",
        "\n",
        "    return hk.Sequential(\n",
        "        [\n",
        "            hk.Flatten(preserve_dims=-1),\n",
        "            hk.nets.MLP(hidden_sizes, activate_final=True),\n",
        "            hk.Linear(\n",
        "                num_bijector_params,\n",
        "                w_init=jnp.zeros,\n",
        "                b_init=jnp.zeros,\n",
        "            ),\n",
        "            hk.Reshape((num_bijector_params,), preserve_dims=-1),\n",
        "        ]\n",
        "    )\n",
        "\n",
        "\n",
        "def make_flow_model_nvp(\n",
        "    event_shape: Sequence[int],\n",
        "    num_layers: int,\n",
        "    hidden_sizes: Sequence[int],\n",
        ") -> distrax.Transformed:\n",
        "\n",
        "    mask = jnp.arange(0, np.prod(event_shape)) % 2  # every second element is masked\n",
        "    mask = jnp.reshape(mask, event_shape)\n",
        "    mask = mask.astype(bool)\n",
        "\n",
        "    def bijector_fn(params: Array):\n",
        "        shift, log_scale = jnp.split(params, 2, axis=-1)\n",
        "        return distrax.ScalarAffine(shift=shift, log_scale=log_scale)\n",
        "\n",
        "    layers = []\n",
        "    for _ in range(num_layers):\n",
        "        layer = distrax.MaskedCoupling(\n",
        "            mask=mask,\n",
        "            bijector=bijector_fn,\n",
        "            conditioner=make_conditioner_nvp(\n",
        "                event_shape=event_shape,\n",
        "                hidden_sizes=hidden_sizes,\n",
        "                num_bijector_params=2,\n",
        "            ),\n",
        "        )\n",
        "\n",
        "        layers.append(layer)\n",
        "        # Flip mask after each layer\n",
        "        mask = jnp.logical_not(mask)\n",
        "\n",
        "    flow = distrax.Inverse(distrax.Chain(layers))\n",
        "    base_distribution = distrax.Independent(\n",
        "        distrax.Normal(loc=jnp.zeros(event_shape), scale=jnp.ones(event_shape)),\n",
        "        reinterpreted_batch_ndims=len(event_shape),\n",
        "    )\n",
        "\n",
        "    return distrax.Transformed(base_distribution, flow)\n",
        "\n",
        "\n",
        "@hk.without_apply_rng\n",
        "@hk.transform\n",
        "def log_prob_nvp(data: Array) -> Array:\n",
        "\n",
        "    model = make_flow_model_nvp(\n",
        "        event_shape=data.shape[-1:],\n",
        "        num_layers=FLOW_NUM_LAYERS,\n",
        "        hidden_sizes=[HIDDEN_SIZE] * MLP_NUM_LAYERS,\n",
        "    )\n",
        "\n",
        "    return model.log_prob(data)\n",
        "\n",
        "\n",
        "@hk.without_apply_rng\n",
        "@hk.transform\n",
        "def sample_nvp(event_shape: Tuple, prng_key: PRNGKey, num_samples: int):  # type: ignore\n",
        "\n",
        "    model = make_flow_model_nvp(\n",
        "        event_shape=event_shape,\n",
        "        num_layers=FLOW_NUM_LAYERS,\n",
        "        hidden_sizes=[HIDDEN_SIZE] * MLP_NUM_LAYERS,\n",
        "    )\n",
        "\n",
        "    return model.sample(seed=prng_key, sample_shape=(num_samples,))\n",
        "\n",
        "\n",
        "@jax.jit\n",
        "def loss_fn_nvp(params: hk.Params, prng_key: PRNGKey, batch: Batch) -> Array:  # type: ignore\n",
        "    # data = prepare_data(batch, prng_key)\n",
        "    # Loss is average negative log likelihood.\n",
        "    loss = -jnp.mean(log_prob_nvp.apply(params, batch))\n",
        "    return loss\n",
        "\n",
        "\n",
        "@jax.jit\n",
        "def eval_fn_nvp(params: hk.Params, batch: Batch) -> Array:\n",
        "    # data = prepare_data(batch)  # We don't dequantize during evaluation.\n",
        "    loss = -jnp.mean(log_prob_nvp.apply(params, batch))\n",
        "    return loss"
      ],
      "metadata": {
        "id": "j53ZyJH0FoFw"
      },
      "execution_count": 111,
      "outputs": []
    },
    {
      "cell_type": "code",
      "source": [
        "def make_conditioner_maf2(\n",
        "    event_shape: Sequence[int], hidden_sizes: Sequence[int], num_bijector_params: int\n",
        ") -> hk.Sequential:\n",
        "\n",
        "    return hk.Sequential(\n",
        "        [\n",
        "            hk.Flatten(preserve_dims=-1),\n",
        "            hk.nets.MLP(hidden_sizes, activate_final=True),\n",
        "            hk.Linear(\n",
        "                np.prod(event_shape) * num_bijector_params,\n",
        "                w_init=jnp.zeros,\n",
        "                b_init=jnp.zeros,\n",
        "            ),\n",
        "            hk.Reshape(tuple(event_shape) + (num_bijector_params,), preserve_dims=-1),\n",
        "        ]\n",
        "    )\n",
        "\n",
        "\n",
        "def make_flow_model_maf2(\n",
        "    event_shape: Sequence[int],\n",
        "    num_layers: int,\n",
        "    hidden_sizes: Sequence[int],\n",
        "    flow_num_params: int,\n",
        ") -> distrax.Transformed:\n",
        "\n",
        "    mask = jnp.arange(0, np.prod(event_shape)) % 2  # every second element is masked\n",
        "    mask = jnp.reshape(mask, event_shape)\n",
        "    mask = mask.astype(bool)\n",
        "\n",
        "    flow_num_params = 3 * flow_num_params + 1\n",
        "\n",
        "    def bijector_fn(params: Array):\n",
        "        return distrax.RationalQuadraticSpline(params, range_min=-8.0, range_max=8.0)\n",
        "\n",
        "    layers = []\n",
        "    for _ in range(num_layers):\n",
        "        layer = distrax.MaskedCoupling(\n",
        "            mask=mask,\n",
        "            bijector=bijector_fn,\n",
        "            conditioner=make_conditioner_maf(\n",
        "                event_shape=event_shape,\n",
        "                hidden_sizes=hidden_sizes,\n",
        "                num_bijector_params=flow_num_params,\n",
        "            ),\n",
        "        )\n",
        "\n",
        "        layers.append(layer)\n",
        "        # Flip mask after each layer\n",
        "        mask = jnp.logical_not(mask)\n",
        "\n",
        "    flow = distrax.Inverse(distrax.Chain(layers))\n",
        "    base_distribution = distrax.Independent(\n",
        "        distrax.Normal(loc=jnp.zeros(event_shape), scale=jnp.ones(event_shape)),\n",
        "        reinterpreted_batch_ndims=len(event_shape),\n",
        "    )\n",
        "\n",
        "    return distrax.Transformed(base_distribution, flow)\n",
        "\n",
        "\n",
        "@hk.without_apply_rng\n",
        "@hk.transform\n",
        "def log_prob_maf(data: Array) -> Array:\n",
        "\n",
        "    model = make_flow_model_maf(\n",
        "        event_shape=data.shape[-1:],\n",
        "        num_layers=FLOW_NUM_LAYERS,\n",
        "        hidden_sizes=[HIDDEN_SIZE] * MLP_NUM_LAYERS,\n",
        "        flow_num_params=FLOW_NUM_PARAMS,  # num_bins\n",
        "    )\n",
        "\n",
        "    return model.log_prob(data)\n",
        "\n",
        "\n",
        "@hk.without_apply_rng\n",
        "@hk.transform\n",
        "def sample_maf(event_shape: Tuple, prng_key: PRNGKey, num_samples: int):  # type: ignore\n",
        "\n",
        "    model = make_flow_model_maf(\n",
        "        event_shape=event_shape,\n",
        "        num_layers=FLOW_NUM_LAYERS,\n",
        "        hidden_sizes=[HIDDEN_SIZE] * MLP_NUM_LAYERS,\n",
        "        flow_num_params=FLOW_NUM_PARAMS,  # num_bins\n",
        "    )\n",
        "\n",
        "    return model.sample(seed=prng_key, sample_shape=(num_samples,))\n",
        "\n",
        "\n",
        "@jax.jit\n",
        "def loss_fn_maf(params: hk.Params, prng_key: PRNGKey, batch: Batch) -> Array:  # type: ignore\n",
        "    # data = prepare_data(batch, prng_key)\n",
        "    # Loss is average negative log likelihood.\n",
        "    loss = -jnp.mean(log_prob_maf.apply(params, batch))\n",
        "    return loss\n",
        "\n",
        "\n",
        "@jax.jit\n",
        "def eval_fn_maf(params: hk.Params, batch: Batch) -> Array:\n",
        "    # data = prepare_data(batch)  # We don't dequantize during evaluation.\n",
        "    loss = -jnp.mean(log_prob_maf.apply(params, batch))\n",
        "    return loss\n"
      ],
      "metadata": {
        "id": "1lBdzVU5311G"
      },
      "execution_count": 94,
      "outputs": []
    },
    {
      "cell_type": "code",
      "source": [
        "def make_conditioner_maf(\n",
        "    event_shape: Sequence[int], hidden_sizes: Sequence[int], num_bijector_params: int\n",
        ") -> hk.Sequential:\n",
        "\n",
        "    return hk.Sequential(\n",
        "        [\n",
        "            hk.Flatten(preserve_dims=-1),\n",
        "            hk.nets.MLP(hidden_sizes, activate_final=True),\n",
        "            hk.Linear(\n",
        "                np.prod(event_shape) * num_bijector_params,\n",
        "                w_init=jnp.zeros,\n",
        "                b_init=jnp.zeros,\n",
        "            ),\n",
        "            hk.Reshape(tuple(event_shape) + (num_bijector_params,), preserve_dims=-1),\n",
        "        ]\n",
        "    )\n",
        "\n",
        "\n",
        "def make_flow_model_maf(\n",
        "    event_shape: Sequence[int],\n",
        "    num_layers: int,\n",
        "    hidden_sizes: Sequence[int],\n",
        "    flow_num_params: int,\n",
        ") -> distrax.Transformed:\n",
        "\n",
        "    mask = jnp.arange(0, np.prod(event_shape)) % 2  # every second element is masked\n",
        "    mask = jnp.reshape(mask, event_shape)\n",
        "    mask = mask.astype(bool)\n",
        "\n",
        "    flow_num_params = 3 * flow_num_params + 1\n",
        "\n",
        "    def bijector_fn(params: Array):\n",
        "        return distrax.RationalQuadraticSpline(params, range_min=-8.0, range_max=8.0)\n",
        "\n",
        "    layers = []\n",
        "    for _ in range(num_layers):\n",
        "        layer = distrax.MaskedCoupling(\n",
        "            mask=mask,\n",
        "            bijector=bijector_fn,\n",
        "            conditioner=make_conditioner_maf(\n",
        "                event_shape=event_shape,\n",
        "                hidden_sizes=hidden_sizes,\n",
        "                num_bijector_params=flow_num_params,\n",
        "            ),\n",
        "        )\n",
        "\n",
        "        layers.append(layer)\n",
        "        # Flip mask after each layer\n",
        "        mask = jnp.logical_not(mask)\n",
        "\n",
        "    flow = distrax.Inverse(distrax.Chain(layers))\n",
        "    base_distribution = distrax.Independent(\n",
        "        distrax.Normal(loc=jnp.zeros(event_shape), scale=jnp.ones(event_shape)),\n",
        "        reinterpreted_batch_ndims=len(event_shape),\n",
        "    )\n",
        "\n",
        "    return distrax.Transformed(base_distribution, flow)\n",
        "\n",
        "\n",
        "@hk.without_apply_rng\n",
        "@hk.transform\n",
        "def log_prob_maf(data: Array) -> Array:\n",
        "\n",
        "    model = make_flow_model_maf(\n",
        "        event_shape=data.shape[-1:],\n",
        "        num_layers=FLOW_NUM_LAYERS,\n",
        "        hidden_sizes=[HIDDEN_SIZE] * MLP_NUM_LAYERS,\n",
        "        flow_num_params=FLOW_NUM_PARAMS,  # num_bins\n",
        "    )\n",
        "\n",
        "    return model.log_prob(data)\n",
        "\n",
        "\n",
        "@hk.without_apply_rng\n",
        "@hk.transform\n",
        "def sample_maf(event_shape: Tuple, prng_key: PRNGKey, num_samples: int):  # type: ignore\n",
        "\n",
        "    model = make_flow_model_maf(\n",
        "        event_shape=event_shape,\n",
        "        num_layers=FLOW_NUM_LAYERS,\n",
        "        hidden_sizes=[HIDDEN_SIZE] * MLP_NUM_LAYERS,\n",
        "        flow_num_params=FLOW_NUM_PARAMS,  # num_bins\n",
        "    )\n",
        "\n",
        "    return model.sample(seed=prng_key, sample_shape=(num_samples,))\n",
        "\n",
        "\n",
        "@jax.jit\n",
        "def loss_fn_maf(params: hk.Params, prng_key: PRNGKey, batch: Batch) -> Array:  # type: ignore\n",
        "    # data = prepare_data(batch, prng_key)\n",
        "    # Loss is average negative log likelihood.\n",
        "    loss = -jnp.mean(log_prob_maf.apply(params, batch))\n",
        "    return loss\n",
        "\n",
        "\n",
        "@jax.jit\n",
        "def eval_fn_maf(params: hk.Params, batch: Batch) -> Array:\n",
        "    # data = prepare_data(batch)  # We don't dequantize during evaluation.\n",
        "    loss = -jnp.mean(log_prob_maf.apply(params, batch))\n",
        "    return loss\n"
      ],
      "metadata": {
        "id": "yEwUDBEF79D2"
      },
      "execution_count": 95,
      "outputs": []
    },
    {
      "cell_type": "code",
      "source": [
        "if MODEL == 'NVP':\n",
        "  log_prob = log_prob_nvp\n",
        "  sample  = sample_nvp\n",
        "  loss_fn = loss_fn_nvp\n",
        "  eval_fn = eval_fn_nvp\n",
        "elif MODEL == 'MAF':\n",
        "  log_prob = log_prob_maf\n",
        "  sample  = sample_maf\n",
        "  loss_fn = loss_fn_maf\n",
        "  eval_fn = eval_fn_maf\n"
      ],
      "metadata": {
        "id": "H4dIc3LSwyP_"
      },
      "execution_count": 121,
      "outputs": []
    },
    {
      "cell_type": "code",
      "source": [
        "\n",
        "\n",
        "N = 10000\n",
        "prng_seq = hk.PRNGSequence(42)\n",
        "params = log_prob.init(next(prng_seq), np.zeros((1, 2)))\n",
        "\n",
        "samples = sample.apply(\n",
        "        params=params,\n",
        "        prng_key=next(prng_seq),\n",
        "        event_shape=(2,),\n",
        "        num_samples=N,\n",
        ")\n",
        "# make plots\n",
        "plot_range = np.array([xlim,ylim])\n",
        "figsize = (8, 8)\n",
        "plt.scatter(samples[:, 0], samples[:, 1], s=0.1, color='blue',label='Init Train')\n",
        "plt.xlim(xlim)\n",
        "plt.ylim(ylim)\n",
        "plt.xlabel(\"$x_1$\")\n",
        "plt.ylabel(\"$x_2$\")\n",
        "plt.gca().set_aspect('equal')\n",
        "plt.tight_layout()\n",
        "plt.title(f\"{MODEL} Init\")\n",
        "plt.savefig(f\"{images_dir}/jax_NF_plots_{MODEL}_{TARGET_DENSITY}_init_pdf.pdf\")"
      ],
      "metadata": {
        "colab": {
          "base_uri": "https://localhost:8080/",
          "height": 305
        },
        "id": "AnpxVIV38ZKU",
        "outputId": "fb11198d-089b-47c0-f68d-0c31fc92d13f"
      },
      "execution_count": 122,
      "outputs": [
        {
          "output_type": "display_data",
          "data": {
            "text/plain": [
              "<Figure size 432x288 with 1 Axes>"
            ],
            "image/png": "[encoded data removed]"
          },
          "metadata": {
            "needs_background": "light"
          }
        }
      ]
    },
    {
      "cell_type": "code",
      "source": [
        "from IPython.lib.display import IFrame\n",
        "def train(\n",
        "    batch_size,\n",
        "    learning_rate,\n",
        "    training_steps,\n",
        "    eval_frequency,\n",
        "):\n",
        "    schedule_fn = optax.polynomial_schedule(\n",
        "    init_value=learning_rate, end_value=learning_rate/10., power=0.5, transition_steps=training_steps)\n",
        "    optimizer = optax.adam(schedule_fn)\n",
        "\n",
        "    @jax.jit\n",
        "    def update(\n",
        "        params: hk.Params, prng_key: PRNGKey, opt_state: OptState, batch: Batch\n",
        "    ) -> Tuple[hk.Params, OptState]:\n",
        "\n",
        "        \"\"\"Single SGD update step.\"\"\"\n",
        "        grads = jax.grad(loss_fn)(params, prng_key, batch)\n",
        "        updates, new_opt_state = optimizer.update(grads, opt_state)\n",
        "        new_params = optax.apply_updates(params, updates)\n",
        "        return new_params, new_opt_state\n",
        "\n",
        "    prng_seq = hk.PRNGSequence(42)\n",
        "    params = log_prob.init(next(prng_seq), np.zeros((1, 2)))\n",
        "    opt_state = optimizer.init(params)\n",
        "\n",
        "    train_ds = make_dataset(\n",
        "        seed=2123, batch_size=batch_size, num_batches=2 * training_steps\n",
        "    )\n",
        "    valid_ds = make_dataset(\n",
        "        seed=2235, batch_size=batch_size, num_batches=training_steps\n",
        "    )\n",
        "\n",
        "    best_params = params\n",
        "    best_val_loss = jnp.inf\n",
        "    all_train_loss = []\n",
        "    all_val_loss = []\n",
        "\n",
        "    for step in range(training_steps):\n",
        "        params, opt_state = update(params, next(prng_seq), opt_state, next(train_ds))\n",
        "\n",
        "        train_loss = eval_fn(params, next(train_ds))\n",
        "        val_loss = eval_fn(params, next(valid_ds))\n",
        "        all_train_loss.append(train_loss)\n",
        "        all_val_loss.append(val_loss)\n",
        "\n",
        "        if val_loss < best_val_loss:\n",
        "          best_val_loss = val_loss\n",
        "          best_params = params\n",
        "\n",
        "        if step % eval_frequency == 0:\n",
        "            print(\n",
        "                f\"STEP: {step}; training loss: {train_loss}, validation loss: {val_loss}\"\n",
        "            )\n",
        "    return best_params, all_train_loss, all_val_loss"
      ],
      "metadata": {
        "id": "EvvSavzk-jgm"
      },
      "execution_count": 123,
      "outputs": []
    },
    {
      "cell_type": "code",
      "source": [
        "\n",
        "params_fit, train_losses, val_losses  = train(batch_size=128,\n",
        "    learning_rate=1e-3,\n",
        "    training_steps=2000,\n",
        "    eval_frequency=100,\n",
        ")"
      ],
      "metadata": {
        "colab": {
          "base_uri": "https://localhost:8080/"
        },
        "id": "xandMDPDG-zJ",
        "outputId": "238f7e83-002c-4383-8809-24b03ffd8fd2"
      },
      "execution_count": 124,
      "outputs": [
        {
          "output_type": "stream",
          "name": "stdout",
          "text": [
            "STEP: 0; training loss: 6.129143714904785, validation loss: 6.598073959350586\n",
            "STEP: 100; training loss: 3.211529016494751, validation loss: 3.241471767425537\n",
            "STEP: 200; training loss: 3.2524282932281494, validation loss: 3.0971198081970215\n",
            "STEP: 300; training loss: 3.056882858276367, validation loss: 3.2895357608795166\n",
            "STEP: 400; training loss: 3.186110258102417, validation loss: 3.1471829414367676\n",
            "STEP: 500; training loss: 3.151042938232422, validation loss: 3.104595184326172\n",
            "STEP: 600; training loss: 3.1630945205688477, validation loss: 3.0818023681640625\n",
            "STEP: 700; training loss: 3.1536760330200195, validation loss: 3.108957290649414\n",
            "STEP: 800; training loss: 3.1202945709228516, validation loss: 3.1992764472961426\n",
            "STEP: 900; training loss: 3.069315195083618, validation loss: 3.0969784259796143\n",
            "STEP: 1000; training loss: 3.0776312351226807, validation loss: 3.1346845626831055\n",
            "STEP: 1100; training loss: 3.201773166656494, validation loss: 3.2181901931762695\n",
            "STEP: 1200; training loss: 3.0833253860473633, validation loss: 3.1662497520446777\n",
            "STEP: 1300; training loss: 3.081150770187378, validation loss: 3.0712103843688965\n",
            "STEP: 1400; training loss: 3.210164785385132, validation loss: 3.0084149837493896\n",
            "STEP: 1500; training loss: 3.139845371246338, validation loss: 3.1818184852600098\n",
            "STEP: 1600; training loss: 3.0574448108673096, validation loss: 3.0452589988708496\n",
            "STEP: 1700; training loss: 3.1019651889801025, validation loss: 3.088319778442383\n",
            "STEP: 1800; training loss: 3.084068775177002, validation loss: 3.135087013244629\n",
            "STEP: 1900; training loss: 3.2499382495880127, validation loss: 3.0651135444641113\n"
          ]
        }
      ]
    },
    {
      "cell_type": "code",
      "source": [],
      "metadata": {
        "id": "-pSj-Jnc3ypI"
      },
      "execution_count": 115,
      "outputs": []
    },
    {
      "cell_type": "code",
      "source": [
        "plt.plot(train_losses, label='train')\n",
        "plt.plot(val_losses, label='valid')\n",
        "plt.legend(loc='best')\n",
        "plt.xlabel('Epochs')\n",
        "plt.ylabel('Negative log likelihood')\n",
        "plt.title('Training and validation loss curves')\n",
        "plt.yscale(\"log\")\n",
        "plt.show()"
      ],
      "metadata": {
        "colab": {
          "base_uri": "https://localhost:8080/",
          "height": 310
        },
        "id": "xwd5IFRC2pyJ",
        "outputId": "15ae3ee2-b864-4067-8e72-7fc0fa42638e"
      },
      "execution_count": 125,
      "outputs": [
        {
          "output_type": "display_data",
          "data": {
            "text/plain": [
              "<Figure size 432x288 with 1 Axes>"
            ],
            "image/png": "[encoded data removed]"
          },
          "metadata": {
            "needs_background": "light"
          }
        }
      ]
    },
    {
      "cell_type": "code",
      "source": [
        "samples = sample.apply(\n",
        "        params=params_fit,\n",
        "        prng_key=next(prng_seq),\n",
        "        event_shape=(2,),\n",
        "        num_samples=N,\n",
        ")\n",
        "# make plots\n",
        "plot_range = np.array([xlim,ylim])\n",
        "figsize = (8, 8)\n",
        "#ax.hist2d(samples[:, 0], samples[:, 1], bins=100, range=plot_range)\n",
        "plt.scatter(samples[:, 0], samples[:, 1], s=0.1, color='blue',label='Init Train')\n",
        "plt.xlim(xlim)\n",
        "plt.ylim(ylim)\n",
        "plt.xlabel(\"$x_1$\")\n",
        "plt.ylabel(\"$x_2$\")\n",
        "plt.gca().set_aspect('equal')\n",
        "plt.tight_layout()\n",
        "plt.title(f\"{MODEL} Trained\")\n",
        "plt.savefig(f\"{images_dir}/jax_NF_plots_{MODEL}_{TARGET_DENSITY}_after_train_pdf.pdf\")"
      ],
      "metadata": {
        "colab": {
          "base_uri": "https://localhost:8080/",
          "height": 305
        },
        "id": "1RF8imwEB1Mx",
        "outputId": "a63d596a-2e31-48f3-d1b0-f7633d3c0f3d"
      },
      "execution_count": 126,
      "outputs": [
        {
          "output_type": "display_data",
          "data": {
            "text/plain": [
              "<Figure size 432x288 with 1 Axes>"
            ],
            "image/png": "[encoded data removed]"
          },
          "metadata": {
            "needs_background": "light"
          }
        }
      ]
    },
    {
      "cell_type": "code",
      "source": [],
      "metadata": {
        "id": "4TA2QA452n4A"
      },
      "execution_count": null,
      "outputs": []
    },
    {
      "cell_type": "code",
      "source": [
        "    # Evaluate\n",
        "    #plt.savefig(f\"./plots/{density}/real_nvp_{density}.jpg\", dpi=750)\n",
        "\n",
        "    # num_points = 2000\n",
        "    # x1 = jnp.linspace(-4, 4, num_points)\n",
        "    # x2 = jnp.linspace(-4, 4, num_points)\n",
        "    # X1, X2 = jnp.meshgrid(x1, x2)\n",
        "\n",
        "    # # pdf values of true and learned distribution\n",
        "    # X1X2 = jnp.stack([X1, X2], axis=-1)\n",
        "    # Z1 = dataset_pdf(X1X2)\n",
        "    # Z2 = jnp.exp(log_prob.apply(params, X1X2))\n",
        "\n",
        "    # fig, axes = plt.subplots(1, 2, figsize=(16, 8))\n",
        "    # # axes[0].contourf(X1, X2, Z1, cmap=\"viridis\")\n",
        "    # axes[1].contourf(X1, X2, Z2, cmap=\"viridis\")\n",
        "    # plt.savefig(f\"plots/{DENSITY}/{DENSITY}_pdf.jpg\", dpi=600)\n"
      ],
      "metadata": {
        "id": "qxiCeaPKHd2F"
      },
      "execution_count": null,
      "outputs": []
    }
  ]
}