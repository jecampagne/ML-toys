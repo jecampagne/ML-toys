{
  "nbformat": 4,
  "nbformat_minor": 0,
  "metadata": {
    "colab": {
      "name": "MNIST-whyCNN.ipynb",
      "provenance": [],
      "collapsed_sections": [],
      "authorship_tag": "ABX9TyNPjPRCib9kG+P7bXi1pwZI",
      "include_colab_link": true
    },
    "kernelspec": {
      "name": "python3",
      "display_name": "Python 3"
    },
    "language_info": {
      "name": "python"
    },
    "accelerator": "GPU",
    "gpuClass": "standard",
    "widgets": {
      "application/vnd.jupyter.widget-state+json": {
        "b229cbd83c704ca49b4dd374a85f67ac": {
          "model_module": "@jupyter-widgets/controls",
          "model_name": "HBoxModel",
          "model_module_version": "1.5.0",
          "state": {
            "_dom_classes": [],
            "_model_module": "@jupyter-widgets/controls",
            "_model_module_version": "1.5.0",
            "_model_name": "HBoxModel",
            "_view_count": null,
            "_view_module": "@jupyter-widgets/controls",
            "_view_module_version": "1.5.0",
            "_view_name": "HBoxView",
            "box_style": "",
            "children": [
              "IPY_MODEL_d1c0f28dcd8f404591aaee43844806ce",
              "IPY_MODEL_38b9b7a77ee347b89877de8deafd91d4",
              "IPY_MODEL_77db057ea57a47d2ab31b202166cbf9a"
            ],
            "layout": "IPY_MODEL_6d825872f731405198355ca388fa6c53"
          }
        },
        "d1c0f28dcd8f404591aaee43844806ce": {
          "model_module": "@jupyter-widgets/controls",
          "model_name": "HTMLModel",
          "model_module_version": "1.5.0",
          "state": {
            "_dom_classes": [],
            "_model_module": "@jupyter-widgets/controls",
            "_model_module_version": "1.5.0",
            "_model_name": "HTMLModel",
            "_view_count": null,
            "_view_module": "@jupyter-widgets/controls",
            "_view_module_version": "1.5.0",
            "_view_name": "HTMLView",
            "description": "",
            "description_tooltip": null,
            "layout": "IPY_MODEL_9a28d300d57243eda039d48fc6873ae8",
            "placeholder": "​",
            "style": "IPY_MODEL_1dfc2f3e35df4cbd919c076d7b3fb0be",
            "value": "100%"
          }
        },
        "38b9b7a77ee347b89877de8deafd91d4": {
          "model_module": "@jupyter-widgets/controls",
          "model_name": "FloatProgressModel",
          "model_module_version": "1.5.0",
          "state": {
            "_dom_classes": [],
            "_model_module": "@jupyter-widgets/controls",
            "_model_module_version": "1.5.0",
            "_model_name": "FloatProgressModel",
            "_view_count": null,
            "_view_module": "@jupyter-widgets/controls",
            "_view_module_version": "1.5.0",
            "_view_name": "ProgressView",
            "bar_style": "success",
            "description": "",
            "description_tooltip": null,
            "layout": "IPY_MODEL_a660ab1415c843f9b2f972b5c9609228",
            "max": 10,
            "min": 0,
            "orientation": "horizontal",
            "style": "IPY_MODEL_1d088efe1c1f4708808625d676256ff8",
            "value": 10
          }
        },
        "77db057ea57a47d2ab31b202166cbf9a": {
          "model_module": "@jupyter-widgets/controls",
          "model_name": "HTMLModel",
          "model_module_version": "1.5.0",
          "state": {
            "_dom_classes": [],
            "_model_module": "@jupyter-widgets/controls",
            "_model_module_version": "1.5.0",
            "_model_name": "HTMLModel",
            "_view_count": null,
            "_view_module": "@jupyter-widgets/controls",
            "_view_module_version": "1.5.0",
            "_view_name": "HTMLView",
            "description": "",
            "description_tooltip": null,
            "layout": "IPY_MODEL_ef0e59b4b2e74c47b17674c243c795e4",
            "placeholder": "​",
            "style": "IPY_MODEL_c24f93ec955a4f00b89dd658b7b43645",
            "value": " 10/10 [01:06&lt;00:00,  6.70s/it]"
          }
        },
        "6d825872f731405198355ca388fa6c53": {
          "model_module": "@jupyter-widgets/base",
          "model_name": "LayoutModel",
          "model_module_version": "1.2.0",
          "state": {
            "_model_module": "@jupyter-widgets/base",
            "_model_module_version": "1.2.0",
            "_model_name": "LayoutModel",
            "_view_count": null,
            "_view_module": "@jupyter-widgets/base",
            "_view_module_version": "1.2.0",
            "_view_name": "LayoutView",
            "align_content": null,
            "align_items": null,
            "align_self": null,
            "border": null,
            "bottom": null,
            "display": null,
            "flex": null,
            "flex_flow": null,
            "grid_area": null,
            "grid_auto_columns": null,
            "grid_auto_flow": null,
            "grid_auto_rows": null,
            "grid_column": null,
            "grid_gap": null,
            "grid_row": null,
            "grid_template_areas": null,
            "grid_template_columns": null,
            "grid_template_rows": null,
            "height": null,
            "justify_content": null,
            "justify_items": null,
            "left": null,
            "margin": null,
            "max_height": null,
            "max_width": null,
            "min_height": null,
            "min_width": null,
            "object_fit": null,
            "object_position": null,
            "order": null,
            "overflow": null,
            "overflow_x": null,
            "overflow_y": null,
            "padding": null,
            "right": null,
            "top": null,
            "visibility": null,
            "width": null
          }
        },
        "9a28d300d57243eda039d48fc6873ae8": {
          "model_module": "@jupyter-widgets/base",
          "model_name": "LayoutModel",
          "model_module_version": "1.2.0",
          "state": {
            "_model_module": "@jupyter-widgets/base",
            "_model_module_version": "1.2.0",
            "_model_name": "LayoutModel",
            "_view_count": null,
            "_view_module": "@jupyter-widgets/base",
            "_view_module_version": "1.2.0",
            "_view_name": "LayoutView",
            "align_content": null,
            "align_items": null,
            "align_self": null,
            "border": null,
            "bottom": null,
            "display": null,
            "flex": null,
            "flex_flow": null,
            "grid_area": null,
            "grid_auto_columns": null,
            "grid_auto_flow": null,
            "grid_auto_rows": null,
            "grid_column": null,
            "grid_gap": null,
            "grid_row": null,
            "grid_template_areas": null,
            "grid_template_columns": null,
            "grid_template_rows": null,
            "height": null,
            "justify_content": null,
            "justify_items": null,
            "left": null,
            "margin": null,
            "max_height": null,
            "max_width": null,
            "min_height": null,
            "min_width": null,
            "object_fit": null,
            "object_position": null,
            "order": null,
            "overflow": null,
            "overflow_x": null,
            "overflow_y": null,
            "padding": null,
            "right": null,
            "top": null,
            "visibility": null,
            "width": null
          }
        },
        "1dfc2f3e35df4cbd919c076d7b3fb0be": {
          "model_module": "@jupyter-widgets/controls",
          "model_name": "DescriptionStyleModel",
          "model_module_version": "1.5.0",
          "state": {
            "_model_module": "@jupyter-widgets/controls",
            "_model_module_version": "1.5.0",
            "_model_name": "DescriptionStyleModel",
            "_view_count": null,
            "_view_module": "@jupyter-widgets/base",
            "_view_module_version": "1.2.0",
            "_view_name": "StyleView",
            "description_width": ""
          }
        },
        "a660ab1415c843f9b2f972b5c9609228": {
          "model_module": "@jupyter-widgets/base",
          "model_name": "LayoutModel",
          "model_module_version": "1.2.0",
          "state": {
            "_model_module": "@jupyter-widgets/base",
            "_model_module_version": "1.2.0",
            "_model_name": "LayoutModel",
            "_view_count": null,
            "_view_module": "@jupyter-widgets/base",
            "_view_module_version": "1.2.0",
            "_view_name": "LayoutView",
            "align_content": null,
            "align_items": null,
            "align_self": null,
            "border": null,
            "bottom": null,
            "display": null,
            "flex": null,
            "flex_flow": null,
            "grid_area": null,
            "grid_auto_columns": null,
            "grid_auto_flow": null,
            "grid_auto_rows": null,
            "grid_column": null,
            "grid_gap": null,
            "grid_row": null,
            "grid_template_areas": null,
            "grid_template_columns": null,
            "grid_template_rows": null,
            "height": null,
            "justify_content": null,
            "justify_items": null,
            "left": null,
            "margin": null,
            "max_height": null,
            "max_width": null,
            "min_height": null,
            "min_width": null,
            "object_fit": null,
            "object_position": null,
            "order": null,
            "overflow": null,
            "overflow_x": null,
            "overflow_y": null,
            "padding": null,
            "right": null,
            "top": null,
            "visibility": null,
            "width": null
          }
        },
        "1d088efe1c1f4708808625d676256ff8": {
          "model_module": "@jupyter-widgets/controls",
          "model_name": "ProgressStyleModel",
          "model_module_version": "1.5.0",
          "state": {
            "_model_module": "@jupyter-widgets/controls",
            "_model_module_version": "1.5.0",
            "_model_name": "ProgressStyleModel",
            "_view_count": null,
            "_view_module": "@jupyter-widgets/base",
            "_view_module_version": "1.2.0",
            "_view_name": "StyleView",
            "bar_color": null,
            "description_width": ""
          }
        },
        "ef0e59b4b2e74c47b17674c243c795e4": {
          "model_module": "@jupyter-widgets/base",
          "model_name": "LayoutModel",
          "model_module_version": "1.2.0",
          "state": {
            "_model_module": "@jupyter-widgets/base",
            "_model_module_version": "1.2.0",
            "_model_name": "LayoutModel",
            "_view_count": null,
            "_view_module": "@jupyter-widgets/base",
            "_view_module_version": "1.2.0",
            "_view_name": "LayoutView",
            "align_content": null,
            "align_items": null,
            "align_self": null,
            "border": null,
            "bottom": null,
            "display": null,
            "flex": null,
            "flex_flow": null,
            "grid_area": null,
            "grid_auto_columns": null,
            "grid_auto_flow": null,
            "grid_auto_rows": null,
            "grid_column": null,
            "grid_gap": null,
            "grid_row": null,
            "grid_template_areas": null,
            "grid_template_columns": null,
            "grid_template_rows": null,
            "height": null,
            "justify_content": null,
            "justify_items": null,
            "left": null,
            "margin": null,
            "max_height": null,
            "max_width": null,
            "min_height": null,
            "min_width": null,
            "object_fit": null,
            "object_position": null,
            "order": null,
            "overflow": null,
            "overflow_x": null,
            "overflow_y": null,
            "padding": null,
            "right": null,
            "top": null,
            "visibility": null,
            "width": null
          }
        },
        "c24f93ec955a4f00b89dd658b7b43645": {
          "model_module": "@jupyter-widgets/controls",
          "model_name": "DescriptionStyleModel",
          "model_module_version": "1.5.0",
          "state": {
            "_model_module": "@jupyter-widgets/controls",
            "_model_module_version": "1.5.0",
            "_model_name": "DescriptionStyleModel",
            "_view_count": null,
            "_view_module": "@jupyter-widgets/base",
            "_view_module_version": "1.2.0",
            "_view_name": "StyleView",
            "description_width": ""
          }
        },
        "1f640aa0d36140dc8e2e099217cb0802": {
          "model_module": "@jupyter-widgets/controls",
          "model_name": "HBoxModel",
          "model_module_version": "1.5.0",
          "state": {
            "_dom_classes": [],
            "_model_module": "@jupyter-widgets/controls",
            "_model_module_version": "1.5.0",
            "_model_name": "HBoxModel",
            "_view_count": null,
            "_view_module": "@jupyter-widgets/controls",
            "_view_module_version": "1.5.0",
            "_view_name": "HBoxView",
            "box_style": "",
            "children": [
              "IPY_MODEL_58e3aee4f5454552a5e568e2c7098623",
              "IPY_MODEL_36ab76ff506f409ba003fa58c7e0b7fd",
              "IPY_MODEL_c3622554e65c44eb83ba0b144cd539ba"
            ],
            "layout": "IPY_MODEL_d501da7b7cd74611942c16204fedd9c1"
          }
        },
        "58e3aee4f5454552a5e568e2c7098623": {
          "model_module": "@jupyter-widgets/controls",
          "model_name": "HTMLModel",
          "model_module_version": "1.5.0",
          "state": {
            "_dom_classes": [],
            "_model_module": "@jupyter-widgets/controls",
            "_model_module_version": "1.5.0",
            "_model_name": "HTMLModel",
            "_view_count": null,
            "_view_module": "@jupyter-widgets/controls",
            "_view_module_version": "1.5.0",
            "_view_name": "HTMLView",
            "description": "",
            "description_tooltip": null,
            "layout": "IPY_MODEL_d6a5e2fe787f4ecea17cae7687e1c354",
            "placeholder": "​",
            "style": "IPY_MODEL_cfc17a43a5744caba493f88404c103ff",
            "value": "100%"
          }
        },
        "36ab76ff506f409ba003fa58c7e0b7fd": {
          "model_module": "@jupyter-widgets/controls",
          "model_name": "FloatProgressModel",
          "model_module_version": "1.5.0",
          "state": {
            "_dom_classes": [],
            "_model_module": "@jupyter-widgets/controls",
            "_model_module_version": "1.5.0",
            "_model_name": "FloatProgressModel",
            "_view_count": null,
            "_view_module": "@jupyter-widgets/controls",
            "_view_module_version": "1.5.0",
            "_view_name": "ProgressView",
            "bar_style": "success",
            "description": "",
            "description_tooltip": null,
            "layout": "IPY_MODEL_1f835d95c75b42fe85b68a352482107a",
            "max": 10,
            "min": 0,
            "orientation": "horizontal",
            "style": "IPY_MODEL_b69fcf47770f4bc394f4ca9b143d6f13",
            "value": 10
          }
        },
        "c3622554e65c44eb83ba0b144cd539ba": {
          "model_module": "@jupyter-widgets/controls",
          "model_name": "HTMLModel",
          "model_module_version": "1.5.0",
          "state": {
            "_dom_classes": [],
            "_model_module": "@jupyter-widgets/controls",
            "_model_module_version": "1.5.0",
            "_model_name": "HTMLModel",
            "_view_count": null,
            "_view_module": "@jupyter-widgets/controls",
            "_view_module_version": "1.5.0",
            "_view_name": "HTMLView",
            "description": "",
            "description_tooltip": null,
            "layout": "IPY_MODEL_246c0a9f942c467a88009f478988f1cc",
            "placeholder": "​",
            "style": "IPY_MODEL_68306978f8bb40a4a0c6ba78fd4a75d7",
            "value": " 10/10 [01:13&lt;00:00,  6.75s/it]"
          }
        },
        "d501da7b7cd74611942c16204fedd9c1": {
          "model_module": "@jupyter-widgets/base",
          "model_name": "LayoutModel",
          "model_module_version": "1.2.0",
          "state": {
            "_model_module": "@jupyter-widgets/base",
            "_model_module_version": "1.2.0",
            "_model_name": "LayoutModel",
            "_view_count": null,
            "_view_module": "@jupyter-widgets/base",
            "_view_module_version": "1.2.0",
            "_view_name": "LayoutView",
            "align_content": null,
            "align_items": null,
            "align_self": null,
            "border": null,
            "bottom": null,
            "display": null,
            "flex": null,
            "flex_flow": null,
            "grid_area": null,
            "grid_auto_columns": null,
            "grid_auto_flow": null,
            "grid_auto_rows": null,
            "grid_column": null,
            "grid_gap": null,
            "grid_row": null,
            "grid_template_areas": null,
            "grid_template_columns": null,
            "grid_template_rows": null,
            "height": null,
            "justify_content": null,
            "justify_items": null,
            "left": null,
            "margin": null,
            "max_height": null,
            "max_width": null,
            "min_height": null,
            "min_width": null,
            "object_fit": null,
            "object_position": null,
            "order": null,
            "overflow": null,
            "overflow_x": null,
            "overflow_y": null,
            "padding": null,
            "right": null,
            "top": null,
            "visibility": null,
            "width": null
          }
        },
        "d6a5e2fe787f4ecea17cae7687e1c354": {
          "model_module": "@jupyter-widgets/base",
          "model_name": "LayoutModel",
          "model_module_version": "1.2.0",
          "state": {
            "_model_module": "@jupyter-widgets/base",
            "_model_module_version": "1.2.0",
            "_model_name": "LayoutModel",
            "_view_count": null,
            "_view_module": "@jupyter-widgets/base",
            "_view_module_version": "1.2.0",
            "_view_name": "LayoutView",
            "align_content": null,
            "align_items": null,
            "align_self": null,
            "border": null,
            "bottom": null,
            "display": null,
            "flex": null,
            "flex_flow": null,
            "grid_area": null,
            "grid_auto_columns": null,
            "grid_auto_flow": null,
            "grid_auto_rows": null,
            "grid_column": null,
            "grid_gap": null,
            "grid_row": null,
            "grid_template_areas": null,
            "grid_template_columns": null,
            "grid_template_rows": null,
            "height": null,
            "justify_content": null,
            "justify_items": null,
            "left": null,
            "margin": null,
            "max_height": null,
            "max_width": null,
            "min_height": null,
            "min_width": null,
            "object_fit": null,
            "object_position": null,
            "order": null,
            "overflow": null,
            "overflow_x": null,
            "overflow_y": null,
            "padding": null,
            "right": null,
            "top": null,
            "visibility": null,
            "width": null
          }
        },
        "cfc17a43a5744caba493f88404c103ff": {
          "model_module": "@jupyter-widgets/controls",
          "model_name": "DescriptionStyleModel",
          "model_module_version": "1.5.0",
          "state": {
            "_model_module": "@jupyter-widgets/controls",
            "_model_module_version": "1.5.0",
            "_model_name": "DescriptionStyleModel",
            "_view_count": null,
            "_view_module": "@jupyter-widgets/base",
            "_view_module_version": "1.2.0",
            "_view_name": "StyleView",
            "description_width": ""
          }
        },
        "1f835d95c75b42fe85b68a352482107a": {
          "model_module": "@jupyter-widgets/base",
          "model_name": "LayoutModel",
          "model_module_version": "1.2.0",
          "state": {
            "_model_module": "@jupyter-widgets/base",
            "_model_module_version": "1.2.0",
            "_model_name": "LayoutModel",
            "_view_count": null,
            "_view_module": "@jupyter-widgets/base",
            "_view_module_version": "1.2.0",
            "_view_name": "LayoutView",
            "align_content": null,
            "align_items": null,
            "align_self": null,
            "border": null,
            "bottom": null,
            "display": null,
            "flex": null,
            "flex_flow": null,
            "grid_area": null,
            "grid_auto_columns": null,
            "grid_auto_flow": null,
            "grid_auto_rows": null,
            "grid_column": null,
            "grid_gap": null,
            "grid_row": null,
            "grid_template_areas": null,
            "grid_template_columns": null,
            "grid_template_rows": null,
            "height": null,
            "justify_content": null,
            "justify_items": null,
            "left": null,
            "margin": null,
            "max_height": null,
            "max_width": null,
            "min_height": null,
            "min_width": null,
            "object_fit": null,
            "object_position": null,
            "order": null,
            "overflow": null,
            "overflow_x": null,
            "overflow_y": null,
            "padding": null,
            "right": null,
            "top": null,
            "visibility": null,
            "width": null
          }
        },
        "b69fcf47770f4bc394f4ca9b143d6f13": {
          "model_module": "@jupyter-widgets/controls",
          "model_name": "ProgressStyleModel",
          "model_module_version": "1.5.0",
          "state": {
            "_model_module": "@jupyter-widgets/controls",
            "_model_module_version": "1.5.0",
            "_model_name": "ProgressStyleModel",
            "_view_count": null,
            "_view_module": "@jupyter-widgets/base",
            "_view_module_version": "1.2.0",
            "_view_name": "StyleView",
            "bar_color": null,
            "description_width": ""
          }
        },
        "246c0a9f942c467a88009f478988f1cc": {
          "model_module": "@jupyter-widgets/base",
          "model_name": "LayoutModel",
          "model_module_version": "1.2.0",
          "state": {
            "_model_module": "@jupyter-widgets/base",
            "_model_module_version": "1.2.0",
            "_model_name": "LayoutModel",
            "_view_count": null,
            "_view_module": "@jupyter-widgets/base",
            "_view_module_version": "1.2.0",
            "_view_name": "LayoutView",
            "align_content": null,
            "align_items": null,
            "align_self": null,
            "border": null,
            "bottom": null,
            "display": null,
            "flex": null,
            "flex_flow": null,
            "grid_area": null,
            "grid_auto_columns": null,
            "grid_auto_flow": null,
            "grid_auto_rows": null,
            "grid_column": null,
            "grid_gap": null,
            "grid_row": null,
            "grid_template_areas": null,
            "grid_template_columns": null,
            "grid_template_rows": null,
            "height": null,
            "justify_content": null,
            "justify_items": null,
            "left": null,
            "margin": null,
            "max_height": null,
            "max_width": null,
            "min_height": null,
            "min_width": null,
            "object_fit": null,
            "object_position": null,
            "order": null,
            "overflow": null,
            "overflow_x": null,
            "overflow_y": null,
            "padding": null,
            "right": null,
            "top": null,
            "visibility": null,
            "width": null
          }
        },
        "68306978f8bb40a4a0c6ba78fd4a75d7": {
          "model_module": "@jupyter-widgets/controls",
          "model_name": "DescriptionStyleModel",
          "model_module_version": "1.5.0",
          "state": {
            "_model_module": "@jupyter-widgets/controls",
            "_model_module_version": "1.5.0",
            "_model_name": "DescriptionStyleModel",
            "_view_count": null,
            "_view_module": "@jupyter-widgets/base",
            "_view_module_version": "1.2.0",
            "_view_name": "StyleView",
            "description_width": ""
          }
        },
        "5767f489d2de48e596fe570ca9bcb0be": {
          "model_module": "@jupyter-widgets/controls",
          "model_name": "HBoxModel",
          "model_module_version": "1.5.0",
          "state": {
            "_dom_classes": [],
            "_model_module": "@jupyter-widgets/controls",
            "_model_module_version": "1.5.0",
            "_model_name": "HBoxModel",
            "_view_count": null,
            "_view_module": "@jupyter-widgets/controls",
            "_view_module_version": "1.5.0",
            "_view_name": "HBoxView",
            "box_style": "",
            "children": [
              "IPY_MODEL_36c359776c2e4b87a683a14e3867704c",
              "IPY_MODEL_cf8dbbb78d4d4e2a94e0d3a966f8dbde",
              "IPY_MODEL_fc9a93eeeea04879bf48205679697ecc"
            ],
            "layout": "IPY_MODEL_92f7cf44040a414c8f2b5b510bb2611c"
          }
        },
        "36c359776c2e4b87a683a14e3867704c": {
          "model_module": "@jupyter-widgets/controls",
          "model_name": "HTMLModel",
          "model_module_version": "1.5.0",
          "state": {
            "_dom_classes": [],
            "_model_module": "@jupyter-widgets/controls",
            "_model_module_version": "1.5.0",
            "_model_name": "HTMLModel",
            "_view_count": null,
            "_view_module": "@jupyter-widgets/controls",
            "_view_module_version": "1.5.0",
            "_view_name": "HTMLView",
            "description": "",
            "description_tooltip": null,
            "layout": "IPY_MODEL_a6b5a2b45a874a4d90dae376a8a25674",
            "placeholder": "​",
            "style": "IPY_MODEL_925e14c9a8cc44c191783fb4b9b77dd7",
            "value": "  0%"
          }
        },
        "cf8dbbb78d4d4e2a94e0d3a966f8dbde": {
          "model_module": "@jupyter-widgets/controls",
          "model_name": "FloatProgressModel",
          "model_module_version": "1.5.0",
          "state": {
            "_dom_classes": [],
            "_model_module": "@jupyter-widgets/controls",
            "_model_module_version": "1.5.0",
            "_model_name": "FloatProgressModel",
            "_view_count": null,
            "_view_module": "@jupyter-widgets/controls",
            "_view_module_version": "1.5.0",
            "_view_name": "ProgressView",
            "bar_style": "danger",
            "description": "",
            "description_tooltip": null,
            "layout": "IPY_MODEL_579e535e14614449ba3ad2873b8d9cea",
            "max": 20,
            "min": 0,
            "orientation": "horizontal",
            "style": "IPY_MODEL_2d096a1d18c84b789503aaab35477836",
            "value": 0
          }
        },
        "fc9a93eeeea04879bf48205679697ecc": {
          "model_module": "@jupyter-widgets/controls",
          "model_name": "HTMLModel",
          "model_module_version": "1.5.0",
          "state": {
            "_dom_classes": [],
            "_model_module": "@jupyter-widgets/controls",
            "_model_module_version": "1.5.0",
            "_model_name": "HTMLModel",
            "_view_count": null,
            "_view_module": "@jupyter-widgets/controls",
            "_view_module_version": "1.5.0",
            "_view_name": "HTMLView",
            "description": "",
            "description_tooltip": null,
            "layout": "IPY_MODEL_ed603959fb65450d9e81a33daf2f4df9",
            "placeholder": "​",
            "style": "IPY_MODEL_823e401af9ba4839922f52c9305d0a2a",
            "value": " 0/20 [00:01&lt;?, ?it/s]"
          }
        },
        "92f7cf44040a414c8f2b5b510bb2611c": {
          "model_module": "@jupyter-widgets/base",
          "model_name": "LayoutModel",
          "model_module_version": "1.2.0",
          "state": {
            "_model_module": "@jupyter-widgets/base",
            "_model_module_version": "1.2.0",
            "_model_name": "LayoutModel",
            "_view_count": null,
            "_view_module": "@jupyter-widgets/base",
            "_view_module_version": "1.2.0",
            "_view_name": "LayoutView",
            "align_content": null,
            "align_items": null,
            "align_self": null,
            "border": null,
            "bottom": null,
            "display": null,
            "flex": null,
            "flex_flow": null,
            "grid_area": null,
            "grid_auto_columns": null,
            "grid_auto_flow": null,
            "grid_auto_rows": null,
            "grid_column": null,
            "grid_gap": null,
            "grid_row": null,
            "grid_template_areas": null,
            "grid_template_columns": null,
            "grid_template_rows": null,
            "height": null,
            "justify_content": null,
            "justify_items": null,
            "left": null,
            "margin": null,
            "max_height": null,
            "max_width": null,
            "min_height": null,
            "min_width": null,
            "object_fit": null,
            "object_position": null,
            "order": null,
            "overflow": null,
            "overflow_x": null,
            "overflow_y": null,
            "padding": null,
            "right": null,
            "top": null,
            "visibility": null,
            "width": null
          }
        },
        "a6b5a2b45a874a4d90dae376a8a25674": {
          "model_module": "@jupyter-widgets/base",
          "model_name": "LayoutModel",
          "model_module_version": "1.2.0",
          "state": {
            "_model_module": "@jupyter-widgets/base",
            "_model_module_version": "1.2.0",
            "_model_name": "LayoutModel",
            "_view_count": null,
            "_view_module": "@jupyter-widgets/base",
            "_view_module_version": "1.2.0",
            "_view_name": "LayoutView",
            "align_content": null,
            "align_items": null,
            "align_self": null,
            "border": null,
            "bottom": null,
            "display": null,
            "flex": null,
            "flex_flow": null,
            "grid_area": null,
            "grid_auto_columns": null,
            "grid_auto_flow": null,
            "grid_auto_rows": null,
            "grid_column": null,
            "grid_gap": null,
            "grid_row": null,
            "grid_template_areas": null,
            "grid_template_columns": null,
            "grid_template_rows": null,
            "height": null,
            "justify_content": null,
            "justify_items": null,
            "left": null,
            "margin": null,
            "max_height": null,
            "max_width": null,
            "min_height": null,
            "min_width": null,
            "object_fit": null,
            "object_position": null,
            "order": null,
            "overflow": null,
            "overflow_x": null,
            "overflow_y": null,
            "padding": null,
            "right": null,
            "top": null,
            "visibility": null,
            "width": null
          }
        },
        "925e14c9a8cc44c191783fb4b9b77dd7": {
          "model_module": "@jupyter-widgets/controls",
          "model_name": "DescriptionStyleModel",
          "model_module_version": "1.5.0",
          "state": {
            "_model_module": "@jupyter-widgets/controls",
            "_model_module_version": "1.5.0",
            "_model_name": "DescriptionStyleModel",
            "_view_count": null,
            "_view_module": "@jupyter-widgets/base",
            "_view_module_version": "1.2.0",
            "_view_name": "StyleView",
            "description_width": ""
          }
        },
        "579e535e14614449ba3ad2873b8d9cea": {
          "model_module": "@jupyter-widgets/base",
          "model_name": "LayoutModel",
          "model_module_version": "1.2.0",
          "state": {
            "_model_module": "@jupyter-widgets/base",
            "_model_module_version": "1.2.0",
            "_model_name": "LayoutModel",
            "_view_count": null,
            "_view_module": "@jupyter-widgets/base",
            "_view_module_version": "1.2.0",
            "_view_name": "LayoutView",
            "align_content": null,
            "align_items": null,
            "align_self": null,
            "border": null,
            "bottom": null,
            "display": null,
            "flex": null,
            "flex_flow": null,
            "grid_area": null,
            "grid_auto_columns": null,
            "grid_auto_flow": null,
            "grid_auto_rows": null,
            "grid_column": null,
            "grid_gap": null,
            "grid_row": null,
            "grid_template_areas": null,
            "grid_template_columns": null,
            "grid_template_rows": null,
            "height": null,
            "justify_content": null,
            "justify_items": null,
            "left": null,
            "margin": null,
            "max_height": null,
            "max_width": null,
            "min_height": null,
            "min_width": null,
            "object_fit": null,
            "object_position": null,
            "order": null,
            "overflow": null,
            "overflow_x": null,
            "overflow_y": null,
            "padding": null,
            "right": null,
            "top": null,
            "visibility": null,
            "width": null
          }
        },
        "2d096a1d18c84b789503aaab35477836": {
          "model_module": "@jupyter-widgets/controls",
          "model_name": "ProgressStyleModel",
          "model_module_version": "1.5.0",
          "state": {
            "_model_module": "@jupyter-widgets/controls",
            "_model_module_version": "1.5.0",
            "_model_name": "ProgressStyleModel",
            "_view_count": null,
            "_view_module": "@jupyter-widgets/base",
            "_view_module_version": "1.2.0",
            "_view_name": "StyleView",
            "bar_color": null,
            "description_width": ""
          }
        },
        "ed603959fb65450d9e81a33daf2f4df9": {
          "model_module": "@jupyter-widgets/base",
          "model_name": "LayoutModel",
          "model_module_version": "1.2.0",
          "state": {
            "_model_module": "@jupyter-widgets/base",
            "_model_module_version": "1.2.0",
            "_model_name": "LayoutModel",
            "_view_count": null,
            "_view_module": "@jupyter-widgets/base",
            "_view_module_version": "1.2.0",
            "_view_name": "LayoutView",
            "align_content": null,
            "align_items": null,
            "align_self": null,
            "border": null,
            "bottom": null,
            "display": null,
            "flex": null,
            "flex_flow": null,
            "grid_area": null,
            "grid_auto_columns": null,
            "grid_auto_flow": null,
            "grid_auto_rows": null,
            "grid_column": null,
            "grid_gap": null,
            "grid_row": null,
            "grid_template_areas": null,
            "grid_template_columns": null,
            "grid_template_rows": null,
            "height": null,
            "justify_content": null,
            "justify_items": null,
            "left": null,
            "margin": null,
            "max_height": null,
            "max_width": null,
            "min_height": null,
            "min_width": null,
            "object_fit": null,
            "object_position": null,
            "order": null,
            "overflow": null,
            "overflow_x": null,
            "overflow_y": null,
            "padding": null,
            "right": null,
            "top": null,
            "visibility": null,
            "width": null
          }
        },
        "823e401af9ba4839922f52c9305d0a2a": {
          "model_module": "@jupyter-widgets/controls",
          "model_name": "DescriptionStyleModel",
          "model_module_version": "1.5.0",
          "state": {
            "_model_module": "@jupyter-widgets/controls",
            "_model_module_version": "1.5.0",
            "_model_name": "DescriptionStyleModel",
            "_view_count": null,
            "_view_module": "@jupyter-widgets/base",
            "_view_module_version": "1.2.0",
            "_view_name": "StyleView",
            "description_width": ""
          }
        },
        "5179aeaa98b344a7bd55ff1ffe672118": {
          "model_module": "@jupyter-widgets/controls",
          "model_name": "HBoxModel",
          "model_module_version": "1.5.0",
          "state": {
            "_dom_classes": [],
            "_model_module": "@jupyter-widgets/controls",
            "_model_module_version": "1.5.0",
            "_model_name": "HBoxModel",
            "_view_count": null,
            "_view_module": "@jupyter-widgets/controls",
            "_view_module_version": "1.5.0",
            "_view_name": "HBoxView",
            "box_style": "",
            "children": [
              "IPY_MODEL_fbb99f80c21145c7b0b591fcc2f3a7bb",
              "IPY_MODEL_b57e0b16f13d4ec5b1c349abade9a0b4",
              "IPY_MODEL_bddecf22878b4764be6e62454fe30a2e"
            ],
            "layout": "IPY_MODEL_d70bbc3920a74784a192af5a47ea125c"
          }
        },
        "fbb99f80c21145c7b0b591fcc2f3a7bb": {
          "model_module": "@jupyter-widgets/controls",
          "model_name": "HTMLModel",
          "model_module_version": "1.5.0",
          "state": {
            "_dom_classes": [],
            "_model_module": "@jupyter-widgets/controls",
            "_model_module_version": "1.5.0",
            "_model_name": "HTMLModel",
            "_view_count": null,
            "_view_module": "@jupyter-widgets/controls",
            "_view_module_version": "1.5.0",
            "_view_name": "HTMLView",
            "description": "",
            "description_tooltip": null,
            "layout": "IPY_MODEL_088101da4af3403491c24a5ed526247e",
            "placeholder": "​",
            "style": "IPY_MODEL_47e74f105e7647dab4ea85cf71acf4f4",
            "value": "100%"
          }
        },
        "b57e0b16f13d4ec5b1c349abade9a0b4": {
          "model_module": "@jupyter-widgets/controls",
          "model_name": "FloatProgressModel",
          "model_module_version": "1.5.0",
          "state": {
            "_dom_classes": [],
            "_model_module": "@jupyter-widgets/controls",
            "_model_module_version": "1.5.0",
            "_model_name": "FloatProgressModel",
            "_view_count": null,
            "_view_module": "@jupyter-widgets/controls",
            "_view_module_version": "1.5.0",
            "_view_name": "ProgressView",
            "bar_style": "success",
            "description": "",
            "description_tooltip": null,
            "layout": "IPY_MODEL_35335f08a13845f9a6736966bc810735",
            "max": 20,
            "min": 0,
            "orientation": "horizontal",
            "style": "IPY_MODEL_59d9439a71b7429c96e3479fa735269a",
            "value": 20
          }
        },
        "bddecf22878b4764be6e62454fe30a2e": {
          "model_module": "@jupyter-widgets/controls",
          "model_name": "HTMLModel",
          "model_module_version": "1.5.0",
          "state": {
            "_dom_classes": [],
            "_model_module": "@jupyter-widgets/controls",
            "_model_module_version": "1.5.0",
            "_model_name": "HTMLModel",
            "_view_count": null,
            "_view_module": "@jupyter-widgets/controls",
            "_view_module_version": "1.5.0",
            "_view_name": "HTMLView",
            "description": "",
            "description_tooltip": null,
            "layout": "IPY_MODEL_28800ef5112d4f709f7e6b7837657dda",
            "placeholder": "​",
            "style": "IPY_MODEL_6af3c53f2b994e02a3fdb48bdc04bc79",
            "value": " 20/20 [01:14&lt;00:00,  3.58s/it]"
          }
        },
        "d70bbc3920a74784a192af5a47ea125c": {
          "model_module": "@jupyter-widgets/base",
          "model_name": "LayoutModel",
          "model_module_version": "1.2.0",
          "state": {
            "_model_module": "@jupyter-widgets/base",
            "_model_module_version": "1.2.0",
            "_model_name": "LayoutModel",
            "_view_count": null,
            "_view_module": "@jupyter-widgets/base",
            "_view_module_version": "1.2.0",
            "_view_name": "LayoutView",
            "align_content": null,
            "align_items": null,
            "align_self": null,
            "border": null,
            "bottom": null,
            "display": null,
            "flex": null,
            "flex_flow": null,
            "grid_area": null,
            "grid_auto_columns": null,
            "grid_auto_flow": null,
            "grid_auto_rows": null,
            "grid_column": null,
            "grid_gap": null,
            "grid_row": null,
            "grid_template_areas": null,
            "grid_template_columns": null,
            "grid_template_rows": null,
            "height": null,
            "justify_content": null,
            "justify_items": null,
            "left": null,
            "margin": null,
            "max_height": null,
            "max_width": null,
            "min_height": null,
            "min_width": null,
            "object_fit": null,
            "object_position": null,
            "order": null,
            "overflow": null,
            "overflow_x": null,
            "overflow_y": null,
            "padding": null,
            "right": null,
            "top": null,
            "visibility": null,
            "width": null
          }
        },
        "088101da4af3403491c24a5ed526247e": {
          "model_module": "@jupyter-widgets/base",
          "model_name": "LayoutModel",
          "model_module_version": "1.2.0",
          "state": {
            "_model_module": "@jupyter-widgets/base",
            "_model_module_version": "1.2.0",
            "_model_name": "LayoutModel",
            "_view_count": null,
            "_view_module": "@jupyter-widgets/base",
            "_view_module_version": "1.2.0",
            "_view_name": "LayoutView",
            "align_content": null,
            "align_items": null,
            "align_self": null,
            "border": null,
            "bottom": null,
            "display": null,
            "flex": null,
            "flex_flow": null,
            "grid_area": null,
            "grid_auto_columns": null,
            "grid_auto_flow": null,
            "grid_auto_rows": null,
            "grid_column": null,
            "grid_gap": null,
            "grid_row": null,
            "grid_template_areas": null,
            "grid_template_columns": null,
            "grid_template_rows": null,
            "height": null,
            "justify_content": null,
            "justify_items": null,
            "left": null,
            "margin": null,
            "max_height": null,
            "max_width": null,
            "min_height": null,
            "min_width": null,
            "object_fit": null,
            "object_position": null,
            "order": null,
            "overflow": null,
            "overflow_x": null,
            "overflow_y": null,
            "padding": null,
            "right": null,
            "top": null,
            "visibility": null,
            "width": null
          }
        },
        "47e74f105e7647dab4ea85cf71acf4f4": {
          "model_module": "@jupyter-widgets/controls",
          "model_name": "DescriptionStyleModel",
          "model_module_version": "1.5.0",
          "state": {
            "_model_module": "@jupyter-widgets/controls",
            "_model_module_version": "1.5.0",
            "_model_name": "DescriptionStyleModel",
            "_view_count": null,
            "_view_module": "@jupyter-widgets/base",
            "_view_module_version": "1.2.0",
            "_view_name": "StyleView",
            "description_width": ""
          }
        },
        "35335f08a13845f9a6736966bc810735": {
          "model_module": "@jupyter-widgets/base",
          "model_name": "LayoutModel",
          "model_module_version": "1.2.0",
          "state": {
            "_model_module": "@jupyter-widgets/base",
            "_model_module_version": "1.2.0",
            "_model_name": "LayoutModel",
            "_view_count": null,
            "_view_module": "@jupyter-widgets/base",
            "_view_module_version": "1.2.0",
            "_view_name": "LayoutView",
            "align_content": null,
            "align_items": null,
            "align_self": null,
            "border": null,
            "bottom": null,
            "display": null,
            "flex": null,
            "flex_flow": null,
            "grid_area": null,
            "grid_auto_columns": null,
            "grid_auto_flow": null,
            "grid_auto_rows": null,
            "grid_column": null,
            "grid_gap": null,
            "grid_row": null,
            "grid_template_areas": null,
            "grid_template_columns": null,
            "grid_template_rows": null,
            "height": null,
            "justify_content": null,
            "justify_items": null,
            "left": null,
            "margin": null,
            "max_height": null,
            "max_width": null,
            "min_height": null,
            "min_width": null,
            "object_fit": null,
            "object_position": null,
            "order": null,
            "overflow": null,
            "overflow_x": null,
            "overflow_y": null,
            "padding": null,
            "right": null,
            "top": null,
            "visibility": null,
            "width": null
          }
        },
        "59d9439a71b7429c96e3479fa735269a": {
          "model_module": "@jupyter-widgets/controls",
          "model_name": "ProgressStyleModel",
          "model_module_version": "1.5.0",
          "state": {
            "_model_module": "@jupyter-widgets/controls",
            "_model_module_version": "1.5.0",
            "_model_name": "ProgressStyleModel",
            "_view_count": null,
            "_view_module": "@jupyter-widgets/base",
            "_view_module_version": "1.2.0",
            "_view_name": "StyleView",
            "bar_color": null,
            "description_width": ""
          }
        },
        "28800ef5112d4f709f7e6b7837657dda": {
          "model_module": "@jupyter-widgets/base",
          "model_name": "LayoutModel",
          "model_module_version": "1.2.0",
          "state": {
            "_model_module": "@jupyter-widgets/base",
            "_model_module_version": "1.2.0",
            "_model_name": "LayoutModel",
            "_view_count": null,
            "_view_module": "@jupyter-widgets/base",
            "_view_module_version": "1.2.0",
            "_view_name": "LayoutView",
            "align_content": null,
            "align_items": null,
            "align_self": null,
            "border": null,
            "bottom": null,
            "display": null,
            "flex": null,
            "flex_flow": null,
            "grid_area": null,
            "grid_auto_columns": null,
            "grid_auto_flow": null,
            "grid_auto_rows": null,
            "grid_column": null,
            "grid_gap": null,
            "grid_row": null,
            "grid_template_areas": null,
            "grid_template_columns": null,
            "grid_template_rows": null,
            "height": null,
            "justify_content": null,
            "justify_items": null,
            "left": null,
            "margin": null,
            "max_height": null,
            "max_width": null,
            "min_height": null,
            "min_width": null,
            "object_fit": null,
            "object_position": null,
            "order": null,
            "overflow": null,
            "overflow_x": null,
            "overflow_y": null,
            "padding": null,
            "right": null,
            "top": null,
            "visibility": null,
            "width": null
          }
        },
        "6af3c53f2b994e02a3fdb48bdc04bc79": {
          "model_module": "@jupyter-widgets/controls",
          "model_name": "DescriptionStyleModel",
          "model_module_version": "1.5.0",
          "state": {
            "_model_module": "@jupyter-widgets/controls",
            "_model_module_version": "1.5.0",
            "_model_name": "DescriptionStyleModel",
            "_view_count": null,
            "_view_module": "@jupyter-widgets/base",
            "_view_module_version": "1.2.0",
            "_view_name": "StyleView",
            "description_width": ""
          }
        },
        "fe0045007b7a47d3869ff0a3ee6f157a": {
          "model_module": "@jupyter-widgets/controls",
          "model_name": "HBoxModel",
          "model_module_version": "1.5.0",
          "state": {
            "_dom_classes": [],
            "_model_module": "@jupyter-widgets/controls",
            "_model_module_version": "1.5.0",
            "_model_name": "HBoxModel",
            "_view_count": null,
            "_view_module": "@jupyter-widgets/controls",
            "_view_module_version": "1.5.0",
            "_view_name": "HBoxView",
            "box_style": "",
            "children": [
              "IPY_MODEL_7ba23727782c4d86b4b64cf1e463db1b",
              "IPY_MODEL_8423485544684653855930ba801f4a98",
              "IPY_MODEL_3de0b4c5111e43a094ac143fa3543c32"
            ],
            "layout": "IPY_MODEL_d638a18faf9245daa3cb059a5d19b744"
          }
        },
        "7ba23727782c4d86b4b64cf1e463db1b": {
          "model_module": "@jupyter-widgets/controls",
          "model_name": "HTMLModel",
          "model_module_version": "1.5.0",
          "state": {
            "_dom_classes": [],
            "_model_module": "@jupyter-widgets/controls",
            "_model_module_version": "1.5.0",
            "_model_name": "HTMLModel",
            "_view_count": null,
            "_view_module": "@jupyter-widgets/controls",
            "_view_module_version": "1.5.0",
            "_view_name": "HTMLView",
            "description": "",
            "description_tooltip": null,
            "layout": "IPY_MODEL_061b20e8abb64aae977d4735a21b2751",
            "placeholder": "​",
            "style": "IPY_MODEL_a563b38c412c4fa983527dc832ef0aa7",
            "value": "100%"
          }
        },
        "8423485544684653855930ba801f4a98": {
          "model_module": "@jupyter-widgets/controls",
          "model_name": "FloatProgressModel",
          "model_module_version": "1.5.0",
          "state": {
            "_dom_classes": [],
            "_model_module": "@jupyter-widgets/controls",
            "_model_module_version": "1.5.0",
            "_model_name": "FloatProgressModel",
            "_view_count": null,
            "_view_module": "@jupyter-widgets/controls",
            "_view_module_version": "1.5.0",
            "_view_name": "ProgressView",
            "bar_style": "success",
            "description": "",
            "description_tooltip": null,
            "layout": "IPY_MODEL_0ad3341a631144a4a1036ade47e3372e",
            "max": 20,
            "min": 0,
            "orientation": "horizontal",
            "style": "IPY_MODEL_86a9b95202f440379cc9e8a630959e77",
            "value": 20
          }
        },
        "3de0b4c5111e43a094ac143fa3543c32": {
          "model_module": "@jupyter-widgets/controls",
          "model_name": "HTMLModel",
          "model_module_version": "1.5.0",
          "state": {
            "_dom_classes": [],
            "_model_module": "@jupyter-widgets/controls",
            "_model_module_version": "1.5.0",
            "_model_name": "HTMLModel",
            "_view_count": null,
            "_view_module": "@jupyter-widgets/controls",
            "_view_module_version": "1.5.0",
            "_view_name": "HTMLView",
            "description": "",
            "description_tooltip": null,
            "layout": "IPY_MODEL_fd6301f219fa4205a22078fde4db6f86",
            "placeholder": "​",
            "style": "IPY_MODEL_17399a379d4143d3b9b2a3cdf1f4fb1e",
            "value": " 20/20 [01:37&lt;00:00,  3.83s/it]"
          }
        },
        "d638a18faf9245daa3cb059a5d19b744": {
          "model_module": "@jupyter-widgets/base",
          "model_name": "LayoutModel",
          "model_module_version": "1.2.0",
          "state": {
            "_model_module": "@jupyter-widgets/base",
            "_model_module_version": "1.2.0",
            "_model_name": "LayoutModel",
            "_view_count": null,
            "_view_module": "@jupyter-widgets/base",
            "_view_module_version": "1.2.0",
            "_view_name": "LayoutView",
            "align_content": null,
            "align_items": null,
            "align_self": null,
            "border": null,
            "bottom": null,
            "display": null,
            "flex": null,
            "flex_flow": null,
            "grid_area": null,
            "grid_auto_columns": null,
            "grid_auto_flow": null,
            "grid_auto_rows": null,
            "grid_column": null,
            "grid_gap": null,
            "grid_row": null,
            "grid_template_areas": null,
            "grid_template_columns": null,
            "grid_template_rows": null,
            "height": null,
            "justify_content": null,
            "justify_items": null,
            "left": null,
            "margin": null,
            "max_height": null,
            "max_width": null,
            "min_height": null,
            "min_width": null,
            "object_fit": null,
            "object_position": null,
            "order": null,
            "overflow": null,
            "overflow_x": null,
            "overflow_y": null,
            "padding": null,
            "right": null,
            "top": null,
            "visibility": null,
            "width": null
          }
        },
        "061b20e8abb64aae977d4735a21b2751": {
          "model_module": "@jupyter-widgets/base",
          "model_name": "LayoutModel",
          "model_module_version": "1.2.0",
          "state": {
            "_model_module": "@jupyter-widgets/base",
            "_model_module_version": "1.2.0",
            "_model_name": "LayoutModel",
            "_view_count": null,
            "_view_module": "@jupyter-widgets/base",
            "_view_module_version": "1.2.0",
            "_view_name": "LayoutView",
            "align_content": null,
            "align_items": null,
            "align_self": null,
            "border": null,
            "bottom": null,
            "display": null,
            "flex": null,
            "flex_flow": null,
            "grid_area": null,
            "grid_auto_columns": null,
            "grid_auto_flow": null,
            "grid_auto_rows": null,
            "grid_column": null,
            "grid_gap": null,
            "grid_row": null,
            "grid_template_areas": null,
            "grid_template_columns": null,
            "grid_template_rows": null,
            "height": null,
            "justify_content": null,
            "justify_items": null,
            "left": null,
            "margin": null,
            "max_height": null,
            "max_width": null,
            "min_height": null,
            "min_width": null,
            "object_fit": null,
            "object_position": null,
            "order": null,
            "overflow": null,
            "overflow_x": null,
            "overflow_y": null,
            "padding": null,
            "right": null,
            "top": null,
            "visibility": null,
            "width": null
          }
        },
        "a563b38c412c4fa983527dc832ef0aa7": {
          "model_module": "@jupyter-widgets/controls",
          "model_name": "DescriptionStyleModel",
          "model_module_version": "1.5.0",
          "state": {
            "_model_module": "@jupyter-widgets/controls",
            "_model_module_version": "1.5.0",
            "_model_name": "DescriptionStyleModel",
            "_view_count": null,
            "_view_module": "@jupyter-widgets/base",
            "_view_module_version": "1.2.0",
            "_view_name": "StyleView",
            "description_width": ""
          }
        },
        "0ad3341a631144a4a1036ade47e3372e": {
          "model_module": "@jupyter-widgets/base",
          "model_name": "LayoutModel",
          "model_module_version": "1.2.0",
          "state": {
            "_model_module": "@jupyter-widgets/base",
            "_model_module_version": "1.2.0",
            "_model_name": "LayoutModel",
            "_view_count": null,
            "_view_module": "@jupyter-widgets/base",
            "_view_module_version": "1.2.0",
            "_view_name": "LayoutView",
            "align_content": null,
            "align_items": null,
            "align_self": null,
            "border": null,
            "bottom": null,
            "display": null,
            "flex": null,
            "flex_flow": null,
            "grid_area": null,
            "grid_auto_columns": null,
            "grid_auto_flow": null,
            "grid_auto_rows": null,
            "grid_column": null,
            "grid_gap": null,
            "grid_row": null,
            "grid_template_areas": null,
            "grid_template_columns": null,
            "grid_template_rows": null,
            "height": null,
            "justify_content": null,
            "justify_items": null,
            "left": null,
            "margin": null,
            "max_height": null,
            "max_width": null,
            "min_height": null,
            "min_width": null,
            "object_fit": null,
            "object_position": null,
            "order": null,
            "overflow": null,
            "overflow_x": null,
            "overflow_y": null,
            "padding": null,
            "right": null,
            "top": null,
            "visibility": null,
            "width": null
          }
        },
        "86a9b95202f440379cc9e8a630959e77": {
          "model_module": "@jupyter-widgets/controls",
          "model_name": "ProgressStyleModel",
          "model_module_version": "1.5.0",
          "state": {
            "_model_module": "@jupyter-widgets/controls",
            "_model_module_version": "1.5.0",
            "_model_name": "ProgressStyleModel",
            "_view_count": null,
            "_view_module": "@jupyter-widgets/base",
            "_view_module_version": "1.2.0",
            "_view_name": "StyleView",
            "bar_color": null,
            "description_width": ""
          }
        },
        "fd6301f219fa4205a22078fde4db6f86": {
          "model_module": "@jupyter-widgets/base",
          "model_name": "LayoutModel",
          "model_module_version": "1.2.0",
          "state": {
            "_model_module": "@jupyter-widgets/base",
            "_model_module_version": "1.2.0",
            "_model_name": "LayoutModel",
            "_view_count": null,
            "_view_module": "@jupyter-widgets/base",
            "_view_module_version": "1.2.0",
            "_view_name": "LayoutView",
            "align_content": null,
            "align_items": null,
            "align_self": null,
            "border": null,
            "bottom": null,
            "display": null,
            "flex": null,
            "flex_flow": null,
            "grid_area": null,
            "grid_auto_columns": null,
            "grid_auto_flow": null,
            "grid_auto_rows": null,
            "grid_column": null,
            "grid_gap": null,
            "grid_row": null,
            "grid_template_areas": null,
            "grid_template_columns": null,
            "grid_template_rows": null,
            "height": null,
            "justify_content": null,
            "justify_items": null,
            "left": null,
            "margin": null,
            "max_height": null,
            "max_width": null,
            "min_height": null,
            "min_width": null,
            "object_fit": null,
            "object_position": null,
            "order": null,
            "overflow": null,
            "overflow_x": null,
            "overflow_y": null,
            "padding": null,
            "right": null,
            "top": null,
            "visibility": null,
            "width": null
          }
        },
        "17399a379d4143d3b9b2a3cdf1f4fb1e": {
          "model_module": "@jupyter-widgets/controls",
          "model_name": "DescriptionStyleModel",
          "model_module_version": "1.5.0",
          "state": {
            "_model_module": "@jupyter-widgets/controls",
            "_model_module_version": "1.5.0",
            "_model_name": "DescriptionStyleModel",
            "_view_count": null,
            "_view_module": "@jupyter-widgets/base",
            "_view_module_version": "1.2.0",
            "_view_name": "StyleView",
            "description_width": ""
          }
        }
      }
    }
  },
  "cells": [
    {
      "cell_type": "markdown",
      "metadata": {
        "id": "view-in-github",
        "colab_type": "text"
      },
      "source": [
        "<a href=\"https://colab.research.google.com/github/jecampagne/ML-toys/blob/main/MNIST_whyCNN.ipynb\" target=\"_parent\"><img src=\"https://colab.research.google.com/assets/colab-badge.svg\" alt=\"Open In Colab\"/></a>"
      ]
    },
    {
      "cell_type": "markdown",
      "source": [
        "# Ce notebook propose une petite exploration du dataset MNIST (digits de Y. LeCun) afin de mettre en lumière la surprenante puissance des réseaux de neurones."
      ],
      "metadata": {
        "id": "8Nqkp2l4pytc"
      }
    },
    {
      "cell_type": "code",
      "source": [
        "\n",
        "# Load the dependencies\n",
        "\n",
        "import numpy as np\n",
        "import jax\n",
        "import jax.numpy as jnp\n",
        "\n",
        "\n",
        "import matplotlib.pyplot as plt\n",
        "import matplotlib as mpl\n",
        "%matplotlib inline"
      ],
      "metadata": {
        "id": "n7qexvsOTwc-"
      },
      "execution_count": 2,
      "outputs": []
    },
    {
      "cell_type": "markdown",
      "source": [
        "## MNIST dataset: les digits écrits à la main.\n",
        "(Modified National Institute of Standards and Technology database)"
      ],
      "metadata": {
        "id": "Cn3MEcilxpJ1"
      }
    },
    {
      "cell_type": "code",
      "source": [
        "# Load the MNIST dataset\n",
        "\n",
        "import tensorflow.keras as keras\n",
        "(x_train, y_train), (x_test, y_test) = keras.datasets.mnist.load_data()\n",
        "\n",
        "# ObJAX is like Torch, and puts the channel BEFORE the height and width.\n",
        "# The data starts out as (dataset_size, height=28, width=28)\n",
        "# We're going to make it (dataset_size, channels=1, height=28, width=28)\n",
        "x_train = x_train[:,None,:,:]/255.0\n",
        "x_test = x_test[:,None,:,:]/255.0"
      ],
      "metadata": {
        "colab": {
          "base_uri": "https://localhost:8080/"
        },
        "id": "AL90APVoVcMm",
        "outputId": "eadca8e2-7563-456b-9626-ae791a827235"
      },
      "execution_count": 3,
      "outputs": [
        {
          "output_type": "stream",
          "name": "stdout",
          "text": [
            "Downloading data from https://storage.googleapis.com/tensorflow/tf-keras-datasets/mnist.npz\n",
            "11493376/11490434 [==============================] - 0s 0us/step\n",
            "11501568/11490434 [==============================] - 0s 0us/step\n"
          ]
        }
      ]
    },
    {
      "cell_type": "code",
      "source": [
        "x_train.shape, y_train.shape, x_test.shape, y_test.shape"
      ],
      "metadata": {
        "colab": {
          "base_uri": "https://localhost:8080/"
        },
        "id": "BnAUomXcVuKG",
        "outputId": "9fcb597f-bfbf-4983-b423-768f573da47e"
      },
      "execution_count": 3,
      "outputs": [
        {
          "output_type": "execute_result",
          "data": {
            "text/plain": [
              "((60000, 1, 28, 28), (60000,), (10000, 1, 28, 28), (10000,))"
            ]
          },
          "metadata": {},
          "execution_count": 3
        }
      ]
    },
    {
      "cell_type": "markdown",
      "source": [
        "Le dataset consiste en 60,000 imagettes de 28x28 pixels  (niveau de gris [0,1]) de training, et 10,000 imagettes similaires de test. Elles sont toutes labélées par le type de digit visualisé. "
      ],
      "metadata": {
        "id": "6c-FcBuYqdtc"
      }
    },
    {
      "cell_type": "code",
      "source": [
        "fig, axs = plt.subplots(1,20,figsize=(10,5))\n",
        "for i in range(20):\n",
        "  axs[i].imshow(x_train[i,0])\n",
        "  axs[i].set_title(f'{y_train[i]}');\n",
        "  axs[i].set_xticks([])\n",
        "  axs[i].set_yticks([])"
      ],
      "metadata": {
        "colab": {
          "base_uri": "https://localhost:8080/",
          "height": 74
        },
        "id": "BUU49XEDVxL4",
        "outputId": "0182f3a0-c30b-46ee-9711-2bdfafb776d1"
      },
      "execution_count": null,
      "outputs": [
        {
          "output_type": "display_data",
          "data": {
            "text/plain": [
              "<Figure size 720x360 with 20 Axes>"
            ],
            "image/png": "[encoded data removed]"
          },
          "metadata": {}
        }
      ]
    },
    {
      "cell_type": "code",
      "source": [
        "# Extraction des differents types de digits\n",
        "zeros = x_train[y_train==0].squeeze()\n",
        "ones = x_train[y_train==1].squeeze()\n",
        "twos = x_train[y_train==2].squeeze()\n",
        "threes= x_train[y_train==3].squeeze()\n",
        "fours= x_train[y_train==4].squeeze()\n",
        "fives = x_train[y_train==5].squeeze()\n",
        "sixs= x_train[y_train==6].squeeze()\n",
        "sevens= x_train[y_train==7].squeeze()\n",
        "heights= x_train[y_train==8].squeeze()\n",
        "nines= x_train[y_train==9].squeeze()"
      ],
      "metadata": {
        "id": "Tm5XhkUvZgkQ"
      },
      "execution_count": null,
      "outputs": []
    },
    {
      "cell_type": "code",
      "source": [
        "fig, axs = plt.subplots(3,6)\n",
        "for i in range(6):\n",
        "  axs[0,i].imshow(ones[i])\n",
        "  axs[0,i].set_xticks([])\n",
        "  axs[0,i].set_yticks([])\n",
        "  axs[1,i].imshow(twos[i])\n",
        "  axs[1,i].set_xticks([])\n",
        "  axs[1,i].set_yticks([])\n",
        "  axs[2,i].imshow(fives[i])\n",
        "  axs[2,i].set_xticks([])\n",
        "  axs[2,i].set_yticks([])\n",
        "\n",
        "plt.tight_layout()"
      ],
      "metadata": {
        "colab": {
          "base_uri": "https://localhost:8080/",
          "height": 267
        },
        "id": "HcNiFjqvWUzD",
        "outputId": "58ddea5f-7aac-4201-b8a7-ec6296040e1b"
      },
      "execution_count": null,
      "outputs": [
        {
          "output_type": "display_data",
          "data": {
            "text/plain": [
              "<Figure size 432x288 with 18 Axes>"
            ],
            "image/png": "[encoded data removed]"
          },
          "metadata": {}
        }
      ]
    },
    {
      "cell_type": "markdown",
      "source": [
        "## Echec des métriques de similarités entre images"
      ],
      "metadata": {
        "id": "aPYrWpDlxxnQ"
      }
    },
    {
      "cell_type": "markdown",
      "source": [
        "On note une certaine variabilité entre les imagettes d'un même type de digit. Jusqu'à quel point ces imagettes sont similaires/différentes. Pour ce faire nous allons utiliser une métrique pour comparer la similarité entre 2 images."
      ],
      "metadata": {
        "id": "wXIEf2fgrMle"
      }
    },
    {
      "cell_type": "code",
      "source": [
        "!pip install sewar"
      ],
      "metadata": {
        "colab": {
          "base_uri": "https://localhost:8080/"
        },
        "id": "4slnfJBOWgoE",
        "outputId": "567b8371-fe57-4048-b20f-42db47d3a682"
      },
      "execution_count": null,
      "outputs": [
        {
          "output_type": "stream",
          "name": "stdout",
          "text": [
            "Looking in indexes: https://pypi.org/simple, https://us-python.pkg.dev/colab-wheels/public/simple/\n",
            "Collecting sewar\n",
            "  Downloading sewar-0.4.5.tar.gz (11 kB)\n",
            "Requirement already satisfied: numpy in /usr/local/lib/python3.7/dist-packages (from sewar) (1.21.6)\n",
            "Requirement already satisfied: scipy in /usr/local/lib/python3.7/dist-packages (from sewar) (1.7.3)\n",
            "Requirement already satisfied: Pillow in /usr/local/lib/python3.7/dist-packages (from sewar) (7.1.2)\n",
            "Building wheels for collected packages: sewar\n",
            "  Building wheel for sewar (setup.py) ... \u001b[?25l\u001b[?25hdone\n",
            "  Created wheel for sewar: filename=sewar-0.4.5-py3-none-any.whl size=10608 sha256=1024cbf4f27cddb795c100825e4e19db3381adbbb89573121ccac4ee1eed64ac\n",
            "  Stored in directory: /root/.cache/pip/wheels/7a/38/6b/d066cfcb2b1c1c9b059b9ce1bdc4803b469359214e8dad4e3e\n",
            "Successfully built sewar\n",
            "Installing collected packages: sewar\n",
            "Successfully installed sewar-0.4.5\n"
          ]
        }
      ]
    },
    {
      "cell_type": "code",
      "source": [
        "from sewar.full_ref import mse, rmse, psnr, uqi, ssim, ergas, scc, rase, sam, msssim, vifp"
      ],
      "metadata": {
        "id": "impOdQBRYb-M"
      },
      "execution_count": null,
      "outputs": []
    },
    {
      "cell_type": "markdown",
      "source": [
        "Dans la suite nous allons utiliser la MSE: Mean Squared Error mais on peut utiliser une autre. Mettons que l'on dispose d'une image $I$ et d'une image de référence $R$, toutes les deux ayant $N_{pix}$ pixels, alors la $MSE$ entre ces 2 images est calculée selon \n",
        "\n",
        "$$\n",
        "MSE(I,R) = \\frac{1}{N_{pix}} \\sum_{i=1}^{N_{pix}} (I(i)- R(i))^2\n",
        "$$\n",
        "\n",
        "Prenons par la suite comme référence la première image de la collection des $5$. "
      ],
      "metadata": {
        "id": "jeNG6gHTrpHe"
      }
    },
    {
      "cell_type": "code",
      "source": [
        "ref = fives[0]"
      ],
      "metadata": {
        "id": "BQa1f5XDZdSr"
      },
      "execution_count": null,
      "outputs": []
    },
    {
      "cell_type": "code",
      "source": [
        "# MSE de quelques \"5\" avec comme référence le premier\n",
        "fig, axs = plt.subplots(1,6,figsize=(10,5))\n",
        "for i in range(6):\n",
        "  axs[i].imshow(fives[i])\n",
        "  axs[i].set_xticks([])\n",
        "  axs[i].set_yticks([])\n",
        "  axs[i].set_title(f\"MSE: {mse(fives[i],ref):.3}\")\n",
        "plt.tight_layout()"
      ],
      "metadata": {
        "colab": {
          "base_uri": "https://localhost:8080/",
          "height": 154
        },
        "id": "gZiJDwXFY0Wf",
        "outputId": "726e54b9-0816-4c66-be26-447765fd648e"
      },
      "execution_count": null,
      "outputs": [
        {
          "output_type": "display_data",
          "data": {
            "text/plain": [
              "<Figure size 720x360 with 6 Axes>"
            ],
            "image/png": "[encoded data removed]"
          },
          "metadata": {}
        }
      ]
    },
    {
      "cell_type": "markdown",
      "source": [
        "Comparons sur quelques images de différents types de digits la variablité de la MSE (toujours la même image de référence)"
      ],
      "metadata": {
        "id": "Bf3MHSivtt0K"
      }
    },
    {
      "cell_type": "code",
      "source": [
        "fig, axs = plt.subplots(3,6,figsize=(10,5))\n",
        "for i in range(6):\n",
        "  axs[0,i].imshow(fives[i])\n",
        "  axs[0,i].set_xticks([])\n",
        "  axs[0,i].set_yticks([])\n",
        "  axs[0,i].set_title(f\"MSE: {mse(fives[i],ref):.3}\")\n",
        "  axs[1,i].imshow(ones[i])\n",
        "  axs[1,i].set_xticks([])\n",
        "  axs[1,i].set_yticks([])\n",
        "  axs[1,i].set_title(f\"MSE: {mse(ones[i],ref):.3}\")\n",
        "  axs[2,i].imshow(sixs[i])\n",
        "  axs[2,i].set_xticks([])\n",
        "  axs[2,i].set_yticks([])\n",
        "  axs[2,i].set_title(f\"MSE: {mse(ones[i],ref):.3}\")\n",
        "\n",
        "plt.tight_layout()"
      ],
      "metadata": {
        "colab": {
          "base_uri": "https://localhost:8080/",
          "height": 370
        },
        "id": "k2bDJMsZZGZx",
        "outputId": "54bf2ab7-2b4b-463d-93b6-ed0dc9601d98"
      },
      "execution_count": null,
      "outputs": [
        {
          "output_type": "display_data",
          "data": {
            "text/plain": [
              "<Figure size 720x360 with 18 Axes>"
            ],
            "image/png": "[encoded data removed]"
          },
          "metadata": {}
        }
      ]
    },
    {
      "cell_type": "markdown",
      "source": [
        "La variabilité de la MSE semble similaire sans distinction entre type de digits. Tentons de confirmer cette impression avec toutes les imagettes de training. "
      ],
      "metadata": {
        "id": "rD4ZVVDauM9e"
      }
    },
    {
      "cell_type": "code",
      "source": [
        "# definissons le \"score\" comme le resultat de la similarité entre l'image courante \"I\" et la reference \"R\".\n",
        "def get_score(imgs, ref=fives[0], func=mse):\n",
        "  score=np.zeros(len(imgs))\n",
        "  for i,img in enumerate(imgs):\n",
        "      score[i] = func(imgs[i],ref)\n",
        "  return score"
      ],
      "metadata": {
        "id": "fMCqFTZwdfWF"
      },
      "execution_count": null,
      "outputs": []
    },
    {
      "cell_type": "markdown",
      "source": [
        "Obtenons le \"score\" de similarité (MSE par défaut) pour toutes les catégories de digits par rapport à la même référence."
      ],
      "metadata": {
        "id": "rpxnWIlGvFcY"
      }
    },
    {
      "cell_type": "code",
      "source": [
        "score0 = get_score(zeros)\n",
        "score1 = get_score(ones)\n",
        "score2 = get_score(twos)\n",
        "score3 = get_score(threes)\n",
        "score4 = get_score(fours)\n",
        "score5 = get_score(fives)\n",
        "score6 = get_score(sixs)\n",
        "score7 = get_score(sevens)\n",
        "score8 = get_score(heights)\n",
        "score9 = get_score(nines)"
      ],
      "metadata": {
        "id": "mtrd60mFvp_e"
      },
      "execution_count": null,
      "outputs": []
    },
    {
      "cell_type": "code",
      "source": [
        "plt.figure(figsize=(8,8))\n",
        "_,bins,_=plt.hist(score5,bins=50,density=True, range=(0,0.4), linewidth=3, histtype=\"step\", label=\"Score des 5\")\n",
        "plt.hist(score0,bins=bins,density=True,  linewidth=2, histtype=\"step\", label=\"Score des 0\");\n",
        "plt.hist(score1,bins=bins,density=True,  linewidth=2, histtype=\"step\", label=\"Score des 1\");\n",
        "plt.hist(score2,bins=bins,density=True,  linewidth=2, histtype=\"step\", label=\"Score des 2\");\n",
        "plt.hist(score3,bins=bins,density=True,  linewidth=2,histtype=\"step\", label=\"Score des 3\");\n",
        "plt.hist(score4,bins=bins,density=True,  linewidth=2,histtype=\"step\", label=\"Score des 4\");\n",
        "plt.hist(score6,bins=bins,density=True,  linewidth=2,histtype=\"step\", label=\"Score des 6\");\n",
        "plt.hist(score7,bins=bins,density=True,  linewidth=2,histtype=\"step\", label=\"Score des 7\");\n",
        "plt.hist(score8,bins=bins,density=True,  linewidth=2,histtype=\"step\", label=\"Score des 8\");\n",
        "plt.hist(score9,bins=bins,density=True,  linewidth=2,histtype=\"step\", label=\"Score des 9\");\n",
        "plt.yscale(\"log\")\n",
        "plt.legend();"
      ],
      "metadata": {
        "colab": {
          "base_uri": "https://localhost:8080/",
          "height": 483
        },
        "id": "VPt-9w-5bvo2",
        "outputId": "4c53c164-3ed5-4fc2-b224-d4e5f9f546db"
      },
      "execution_count": null,
      "outputs": [
        {
          "output_type": "display_data",
          "data": {
            "text/plain": [
              "<Figure size 576x576 with 1 Axes>"
            ],
            "image/png": "[encoded data removed]"
          },
          "metadata": {
            "needs_background": "light"
          }
        }
      ]
    },
    {
      "cell_type": "markdown",
      "source": [
        "On constate que la variabilité du score (MSE) ne change pas vraiment si l'on prend tel ou tel type de digit. Comme, le montre les 2 calculs suivants, les valeurs de la MSE sont plus petites que si on comparait le \"5\" de référence avec un image de bruit aléatoire, donc cela nous dit que les imagettes de digits sont structurées, mais si la valeur de MSE=0.15 est quasi identique à celle obtenue quand on compare deux images aléatoires. Ainsi, que cela soit les \"5\" entres-eux (courbe bleue foncé) ou bien les autres digits vis-à-vis du 5 de références, tout porte à croire que les images se comportent comme des objets aléatoires sans similarité. Tout du moins les métriques de type MSE que l'on aurait pu utiliser pour apprecier si deux courbes/surfaces sont \"proches\" l'une de l'autre, ne fonctionne pas pour classer \n",
        "des images.   "
      ],
      "metadata": {
        "id": "mzF-Khv3vaAz"
      }
    },
    {
      "cell_type": "code",
      "source": [
        "# MSE I=image random, R: \"5\"\n",
        "x=np.random.uniform(size=(784,)).reshape(28,28)\n",
        "mse(x,ref)"
      ],
      "metadata": {
        "colab": {
          "base_uri": "https://localhost:8080/"
        },
        "id": "CX2z81RScObJ",
        "outputId": "38009160-c7d8-475d-9013-87e02c33a064"
      },
      "execution_count": null,
      "outputs": [
        {
          "output_type": "execute_result",
          "data": {
            "text/plain": [
              "0.32318805460674066"
            ]
          },
          "metadata": {},
          "execution_count": 15
        }
      ]
    },
    {
      "cell_type": "code",
      "source": [
        "# MSE I et R sont 2 images random\n",
        "x=np.random.uniform(size=(784,)).reshape(28,28)\n",
        "y=np.random.uniform(size=(784,)).reshape(28,28)\n",
        "mse(x,y)"
      ],
      "metadata": {
        "colab": {
          "base_uri": "https://localhost:8080/"
        },
        "id": "PPzAxUFWjNk9",
        "outputId": "c8a8037e-6af1-4526-a019-36a362cb67b3"
      },
      "execution_count": null,
      "outputs": [
        {
          "output_type": "execute_result",
          "data": {
            "text/plain": [
              "0.15533534230053261"
            ]
          },
          "metadata": {},
          "execution_count": 16
        }
      ]
    },
    {
      "cell_type": "markdown",
      "source": [
        "## A-ton plus de chance avec les moments des images? Oui mais...\n",
        "\n",
        "Utiliser une métrique de type MSE à montrer quelle ne peut distinguer des digits tels que des 5 par rapport aux autres types de digits. Par contre, on sent bien visuellement que l'on peut les distinguer. Alors, on peut se demander les images de \"5\" et autres digits ne pourraient pas être caractérisées par des nombres représentant leurs morphologies. Dans ce cadre, **les moments** d'une image sont à exploiter. \n",
        "\n",
        "L'expression du moment d'ordre $(p,q)$ d'une image $I$ de $n_w \\times n_h$ pixels s'exprime selon\n",
        "$$\n",
        "M_{p,q} = \\sum_{i}^{n_w}\\sum_{j}^{n_h} i^p j^q I(i,j)\n",
        "$$ \n",
        "Comme le même digit peut être écrit à des positions légérement différentes, il convient de s'affranchir de cette **invariance**, en considérant les **moments centrés**. Dans ce cas il faut remplacer:\n",
        "$$\n",
        "\\begin{array}{rcl}\n",
        "i &\\rightarrow & i - M(1,0)/M(0,0) \\\\\n",
        "j &\\rightarrow & j - M(0,1)/M(0,0)\n",
        "\\end{array}\n",
        "$$  \n",
        "On normalise les moments en divisant $M(p,q)$ par $M(0,0)$.\n",
        "\n",
        "Par la suite on n'utilise que les moments centrés jusqu'à l'ordre $3$ ($p+q\\leq 3$). Par définition, $M^c(1,0)=M^c(0,1)=0$, ils ne rentrent donc pas dans la liste. De plus $M(0,0)$ représentant l'intensité globale de l'image, elle n'est pas pertinante car un même digit pourrait être écrit avec différente finesse de stylo qui donnerait alors différentes valeurs de $M(0,0)$. C'est une autre **invariance** dont il faut s'affranchir, et c'est la raison pour laquelle on utilise des moments centrés **normalisés**.\n",
        "\n",
        "Il est remarquable que la matrice constituée par \n",
        "$$\n",
        "\\Sigma = \\begin{pmatrix}\n",
        "M^c(2,0) & M^c(1,1) \\\\\n",
        "M^c(1,1) & M^c(0,2)\n",
        "\\end{pmatrix}\n",
        "$$\n",
        "est la matrice de covariance empirique de la distribution des pixels de l'image. Si on avait affaire à une répartition gaussienne des valeurs de $I(i,j)$ répartie sur l'imagette, alors $\\Sigma$ serait une approximation de la matrice de covariance de la distribution gaussienne. Les moments centrés normalisés d'ordre 3.\n",
        "\n",
        "Enfin, pour s'affranchir de l'**invariance par petites rotations** qui viendraient changer l'orientation d'une image sans en changer la sémantique (c'est-à-dire que l'on reconnait toujours le digit concerné) alors on utilise les moments de Ming-Kuei Hu (1962) [(voir ici)](http://www.sci.utah.edu/~gerig/CS7960-S2010/handouts/Hu.pdf).\n",
        "\n",
        "\n"
      ],
      "metadata": {
        "id": "Xp90Si3jxmox"
      }
    },
    {
      "cell_type": "code",
      "source": [
        "def raw_moment(data, iord, jord):\n",
        "    nrows, ncols = data.shape\n",
        "    y, x = np.mgrid[:nrows, :ncols]\n",
        "    data = data * x**iord * y**jord\n",
        "    return data.sum()"
      ],
      "metadata": {
        "id": "LVrvDVQgk8wW"
      },
      "execution_count": null,
      "outputs": []
    },
    {
      "cell_type": "code",
      "source": [
        "# moments centres et invariants par rotation d'une image jusqu'a l'ordre 3 (n+m<=3) \n",
        "def mom(img, rot_inv=True):\n",
        "    img_sum = img.sum()\n",
        "    M10 = raw_moment(img, 1, 0)\n",
        "    M01 = raw_moment(img, 0, 1)\n",
        "    x_bar = M10 / img_sum\n",
        "    y_bar = M01 / img_sum\n",
        "\n",
        "    M11 = raw_moment(img, 1, 1)\n",
        "    M20 = raw_moment(img, 2, 0)\n",
        "    M02 = raw_moment(img, 0, 2)\n",
        "\n",
        "    mu11 = (M11 - x_bar * M01) / img_sum\n",
        "    mu20 = (M20 - x_bar * M10) / img_sum\n",
        "    mu02 = (M02 - y_bar * M01) / img_sum\n",
        "\n",
        "    M21 = raw_moment(img, 2, 1)\n",
        "    M12 = raw_moment(img, 1, 2)\n",
        "    M30 = raw_moment(img, 3, 0)\n",
        "    M03 = raw_moment(img, 0, 3)\n",
        "\n",
        "    mu21 = ( M21 \\\n",
        "            -2*x_bar* M11 - y_bar* M20 + 2*x_bar*x_bar * M01) / img_sum\n",
        "    mu12 = (M12 \\\n",
        "            -2*y_bar* M11 - x_bar* M02 + 2*y_bar*y_bar * M10) / img_sum\n",
        "    mu30 = (M30 \\\n",
        "      -3*x_bar*M20 + 2*x_bar*x_bar* M10)  / img_sum\n",
        "    mu03 = ( M03 \\\n",
        "      -3*y_bar*M02 + 2*y_bar*y_bar * M01)  / img_sum\n",
        "    # covariance mtx = [[m20,m11],[m11,m02]]\n",
        "\n",
        "    if rot_inv :\n",
        "      I1 = mu20 + mu02\n",
        "      I2 = (mu20-mu02)**2 + 4*mu11**2\n",
        "      I3 = (mu30-3*mu12)**2 + (3*mu21 - mu03)**2\n",
        "      I4 = (mu30+mu12)**2 + (mu21+mu03)**2\n",
        "      I5 = (mu30-3*mu12)*(mu30+mu12)*((mu30+mu12)**2-3*(mu21+mu03)**2) +\\\n",
        "          (3*mu21-mu03)*(mu21+mu03)*(3*(mu30+mu12)**2-(mu21+mu03)**2)\n",
        "      I6 = (mu20-mu02)*((mu30+mu12)**2-(mu21+mu03)**2)+\\\n",
        "            4*mu11*(mu30+mu12)*(mu21+mu03)\n",
        "      I7 = (3*mu21-mu03)*(mu30+mu12)*((mu30+mu12)**2-3*(mu21+mu03)**2) -\\\n",
        "            (mu30-3*mu12)*(mu21+mu03)*(3*(mu30+mu12)**2-(mu21+mu03)**2)\n",
        "    else:\n",
        "      I1,I2,I3,I4,I5,I6,I7 = mu20,mu11,mu02,mu21,mu12,mu30,mu03\n",
        "\n",
        "    return np.array([I1,I2,I3,I4,I5,I6,I7])\n",
        "\n"
      ],
      "metadata": {
        "id": "9qIEbLG4nz5d"
      },
      "execution_count": null,
      "outputs": []
    },
    {
      "cell_type": "markdown",
      "source": [
        "Essayons sur un exemple, l'invariance des moments calculés. D'abord translation: "
      ],
      "metadata": {
        "id": "2hb2hr2LvIQM"
      }
    },
    {
      "cell_type": "code",
      "source": [
        "data = fives[0]"
      ],
      "metadata": {
        "id": "LnN2u4AJeW51"
      },
      "execution_count": null,
      "outputs": []
    },
    {
      "cell_type": "code",
      "source": [
        "data_cpy = data.copy()\n",
        "data1 = np.roll(data_cpy, 2, axis=0)\n",
        "data2 = np.roll(data_cpy, 2, axis=1)"
      ],
      "metadata": {
        "id": "86lRm1agfJxV"
      },
      "execution_count": null,
      "outputs": []
    },
    {
      "cell_type": "code",
      "source": [
        "fig, ax = plt.subplots(nrows=1, ncols=3, figsize=(8,10))\n",
        "ax[0].imshow(data)\n",
        "ax[1].imshow(data1)\n",
        "ax[2].imshow(data2)"
      ],
      "metadata": {
        "colab": {
          "base_uri": "https://localhost:8080/",
          "height": 199
        },
        "id": "kZo6QFqOfsxj",
        "outputId": "0ade613c-05f5-4537-d0d9-2dece679a960"
      },
      "execution_count": null,
      "outputs": [
        {
          "output_type": "execute_result",
          "data": {
            "text/plain": [
              "<matplotlib.image.AxesImage at 0x7fc07ad47210>"
            ]
          },
          "metadata": {},
          "execution_count": 21
        },
        {
          "output_type": "display_data",
          "data": {
            "text/plain": [
              "<Figure size 576x720 with 3 Axes>"
            ],
            "image/png": "[encoded data removed]"
          },
          "metadata": {
            "needs_background": "light"
          }
        }
      ]
    },
    {
      "cell_type": "code",
      "source": [
        "mom(data), mom(data1), mom(data2)"
      ],
      "metadata": {
        "colab": {
          "base_uri": "https://localhost:8080/"
        },
        "id": "b6WUv5K0gNXS",
        "outputId": "b814e883-3dac-47cc-e39c-511e0c69313b"
      },
      "execution_count": null,
      "outputs": [
        {
          "output_type": "execute_result",
          "data": {
            "text/plain": [
              "(array([ 5.86681463e+01,  1.09637075e+03,  1.20192919e+04,  2.68575499e+03,\n",
              "         5.52563792e+06,  2.51848892e+04, -1.42238637e+07]),\n",
              " array([ 5.86681463e+01,  1.09637075e+03,  1.20192919e+04,  2.68575499e+03,\n",
              "         5.52563792e+06,  2.51848892e+04, -1.42238637e+07]),\n",
              " array([ 5.86681463e+01,  1.09637075e+03,  1.20192919e+04,  2.68575499e+03,\n",
              "         5.52563792e+06,  2.51848892e+04, -1.42238637e+07]))"
            ]
          },
          "metadata": {},
          "execution_count": 22
        }
      ]
    },
    {
      "cell_type": "markdown",
      "source": [
        "puis la rotation"
      ],
      "metadata": {
        "id": "usMyQcwO8tgr"
      }
    },
    {
      "cell_type": "code",
      "source": [
        "import cv2\n",
        "import imutils\n"
      ],
      "metadata": {
        "id": "P4vzc3FYqZFD"
      },
      "execution_count": null,
      "outputs": []
    },
    {
      "cell_type": "code",
      "source": [
        "rot1 = imutils.rotate(data, angle=20)"
      ],
      "metadata": {
        "id": "3PT4E2Fzqa0d"
      },
      "execution_count": null,
      "outputs": []
    },
    {
      "cell_type": "code",
      "source": [
        "fig, ax = plt.subplots(nrows=1, ncols=2, figsize=(8,10))\n",
        "ax[0].imshow(data)\n",
        "ax[1].imshow(rot1)"
      ],
      "metadata": {
        "colab": {
          "base_uri": "https://localhost:8080/",
          "height": 269
        },
        "id": "fBugdzkyqk0d",
        "outputId": "66101d6b-754d-487d-9d22-bd68dcf8d85c"
      },
      "execution_count": null,
      "outputs": [
        {
          "output_type": "execute_result",
          "data": {
            "text/plain": [
              "<matplotlib.image.AxesImage at 0x7fc06ded61d0>"
            ]
          },
          "metadata": {},
          "execution_count": 25
        },
        {
          "output_type": "display_data",
          "data": {
            "text/plain": [
              "<Figure size 576x720 with 2 Axes>"
            ],
            "image/png": "[encoded data removed]"
          },
          "metadata": {
            "needs_background": "light"
          }
        }
      ]
    },
    {
      "cell_type": "code",
      "source": [
        "mom(data), mom(rot1)"
      ],
      "metadata": {
        "colab": {
          "base_uri": "https://localhost:8080/"
        },
        "id": "31dh6Uhxqtql",
        "outputId": "27aa460b-9c86-4bfc-f931-061c208bdef5"
      },
      "execution_count": null,
      "outputs": [
        {
          "output_type": "execute_result",
          "data": {
            "text/plain": [
              "(array([ 5.86681463e+01,  1.09637075e+03,  1.20192919e+04,  2.68575499e+03,\n",
              "         5.52563792e+06,  2.51848892e+04, -1.42238637e+07]),\n",
              " array([ 5.89589873e+01,  1.09511843e+03,  1.21013263e+04,  2.67710086e+03,\n",
              "         5.54937862e+06,  2.53759882e+04, -1.41910416e+07]))"
            ]
          },
          "metadata": {},
          "execution_count": 26
        }
      ]
    },
    {
      "cell_type": "markdown",
      "source": [
        "Préparons le calcul des moments des différentes imagettes des collections de digits."
      ],
      "metadata": {
        "id": "vV2QE9cx814n"
      }
    },
    {
      "cell_type": "code",
      "source": [
        "def get_moms(imgs):\n",
        "  infos = np.zeros((len(imgs),7))\n",
        "  for i,img in enumerate(imgs):\n",
        "    infos[i] = mom(img)\n",
        "  return infos"
      ],
      "metadata": {
        "id": "_Vt7vKOnupUg"
      },
      "execution_count": null,
      "outputs": []
    },
    {
      "cell_type": "code",
      "source": [
        "infos_0 = get_moms(zeros)\n",
        "infos_1 = get_moms(ones)\n",
        "infos_2 = get_moms(twos)\n",
        "infos_3 = get_moms(threes)\n",
        "infos_4 = get_moms(fours)\n",
        "infos_5 = get_moms(fives)\n",
        "infos_6 = get_moms(sixs)\n",
        "infos_7 = get_moms(sevens)\n",
        "infos_8 = get_moms(heights)\n",
        "infos_9 = get_moms(nines)\n",
        "\n",
        "\n",
        "\n",
        "\n",
        "\n",
        "\n",
        "\n"
      ],
      "metadata": {
        "id": "GWfkN_qdxXOz"
      },
      "execution_count": null,
      "outputs": []
    },
    {
      "cell_type": "code",
      "source": [
        "infos_5.shape"
      ],
      "metadata": {
        "colab": {
          "base_uri": "https://localhost:8080/"
        },
        "id": "xRI8HOycztAY",
        "outputId": "c8298acc-cd5f-434c-c397-8f9ac1e235a4"
      },
      "execution_count": null,
      "outputs": [
        {
          "output_type": "execute_result",
          "data": {
            "text/plain": [
              "(5421, 7)"
            ]
          },
          "metadata": {},
          "execution_count": 29
        }
      ]
    },
    {
      "cell_type": "code",
      "source": [
        "infos_all = np.vstack((infos_0, infos_1, infos_2, infos_3, infos_4, infos_5,\\\n",
        "                       infos_6, infos_7, infos_8, infos_9))"
      ],
      "metadata": {
        "id": "fswrQo-uz7fY"
      },
      "execution_count": null,
      "outputs": []
    },
    {
      "cell_type": "code",
      "source": [
        "infos_all.shape"
      ],
      "metadata": {
        "colab": {
          "base_uri": "https://localhost:8080/"
        },
        "id": "7Qn5eRer0Xbt",
        "outputId": "48da92ef-e349-46f4-f691-fd9de9766cbd"
      },
      "execution_count": null,
      "outputs": [
        {
          "output_type": "execute_result",
          "data": {
            "text/plain": [
              "(60000, 7)"
            ]
          },
          "metadata": {},
          "execution_count": 31
        }
      ]
    },
    {
      "cell_type": "code",
      "source": [
        "fig,axs = plt.subplots(nrows=2,ncols=4, figsize=(20,10))\n",
        "names = [\"I1\",\"I2\",\"I3\",\"I4\",\"I5\",\"I6\",\"I7\"]\n",
        "idx = 0\n",
        "for i in range(3):\n",
        "  for j in range(4):\n",
        "      if idx>=7:\n",
        "        break\n",
        "      x_min = infos_all[:,idx].min()\n",
        "      x_max = infos_all[:,idx].max()\n",
        "      _,bins,_ = axs[i,j].hist(infos_5[:,idx],bins=50,density=True, range=(x_min, x_max), linewidth=3, histtype=\"step\", label=\"5\")\n",
        "      axs[i,j].hist(infos_0[:,idx],bins=bins,density=True,  linewidth=2, histtype=\"step\", label=\"0\");\n",
        "      axs[i,j].hist(infos_1[:,idx],bins=bins,density=True,  linewidth=2, histtype=\"step\", label=\"1\");\n",
        "      axs[i,j].hist(infos_2[:,idx],bins=bins,density=True,  linewidth=2, histtype=\"step\", label=\"2\");\n",
        "      axs[i,j].hist(infos_3[:,idx],bins=bins,density=True,  linewidth=2,histtype=\"step\", label=\"3\");\n",
        "      axs[i,j].hist(infos_4[:,idx],bins=bins,density=True,  linewidth=2,histtype=\"step\", label=\"4\");\n",
        "      axs[i,j].hist(infos_6[:,idx],bins=bins,density=True,  linewidth=2,histtype=\"step\", label=\"6\");\n",
        "      axs[i,j].hist(infos_7[:,idx],bins=bins,density=True,  linewidth=2,histtype=\"step\", label=\"7\");\n",
        "      axs[i,j].hist(infos_8[:,idx],bins=bins,density=True,  linewidth=2,histtype=\"step\", label=\"8\");\n",
        "      axs[i,j].hist(infos_9[:,idx],bins=bins,density=True,  linewidth=2,histtype=\"step\", label=\"9\");\n",
        "      axs[i,j].set_xlabel(names[idx])\n",
        "      axs[i,j].set_yscale(\"log\")\n",
        "      axs[i,j].legend()\n",
        "\n",
        "      idx += 1\n",
        "fig.delaxes(axs[1,3])"
      ],
      "metadata": {
        "colab": {
          "base_uri": "https://localhost:8080/",
          "height": 606
        },
        "id": "yYFCtov2yMk9",
        "outputId": "638bb97b-62c1-4b09-f2ec-74439c7097b1"
      },
      "execution_count": null,
      "outputs": [
        {
          "output_type": "display_data",
          "data": {
            "text/plain": [
              "<Figure size 1440x720 with 7 Axes>"
            ],
            "image/png": "[encoded data removed]"
          },
          "metadata": {
            "needs_background": "light"
          }
        }
      ]
    },
    {
      "cell_type": "code",
      "source": [
        "def f(x):\n",
        "  return 2500*(x-27)/(60-27)"
      ],
      "metadata": {
        "id": "schDtzBRNEAQ"
      },
      "execution_count": null,
      "outputs": []
    },
    {
      "cell_type": "code",
      "source": [
        "x_vals = np.linspace(30,80)\n",
        "y_vals = f(x_vals)"
      ],
      "metadata": {
        "id": "uWJRx-zvNXiD"
      },
      "execution_count": null,
      "outputs": []
    },
    {
      "cell_type": "code",
      "source": [
        "fig = plt.figure(figsize=(8,8))\n",
        "color = iter(mpl.cm.rainbow(np.linspace(0, 1, 10)))\n",
        "for digit_idx, digit_mom  in enumerate([infos_0, infos_1]):\n",
        "                       \n",
        "  c = next(color)\n",
        "  plt.scatter(digit_mom[:,0],digit_mom[:,1],c=c,s=0.5,label=f'{digit_idx}')\n",
        "\n",
        "plt.plot(x_vals,y_vals,c=\"k\",lw=3)\n",
        "\n",
        "\n",
        "plt.xlabel(names[0])\n",
        "plt.ylabel(names[1])\n",
        "lgnd = plt.legend(loc=\"upper right\", scatterpoints=1, fontsize=10)\n",
        "for handle in lgnd.legendHandles:\n",
        "    handle.set_sizes([8.0])\n"
      ],
      "metadata": {
        "colab": {
          "base_uri": "https://localhost:8080/",
          "height": 554
        },
        "id": "LV4Ff8NA1o7X",
        "outputId": "6f9703fb-c12f-4a28-d64c-0166067ab777"
      },
      "execution_count": null,
      "outputs": [
        {
          "output_type": "stream",
          "name": "stderr",
          "text": [
            "WARNING:matplotlib.axes._axes:*c* argument looks like a single numeric RGB or RGBA sequence, which should be avoided as value-mapping will have precedence in case its length matches with *x* & *y*.  Please use the *color* keyword-argument or provide a 2-D array with a single row if you intend to specify the same RGB or RGBA value for all points.\n",
            "WARNING:matplotlib.axes._axes:*c* argument looks like a single numeric RGB or RGBA sequence, which should be avoided as value-mapping will have precedence in case its length matches with *x* & *y*.  Please use the *color* keyword-argument or provide a 2-D array with a single row if you intend to specify the same RGB or RGBA value for all points.\n"
          ]
        },
        {
          "output_type": "display_data",
          "data": {
            "text/plain": [
              "<Figure size 576x576 with 1 Axes>"
            ],
            "image/png": "[encoded data removed]"
          },
          "metadata": {
            "needs_background": "light"
          }
        }
      ]
    },
    {
      "cell_type": "code",
      "source": [
        "def clf(Imom):\n",
        "  I1, I2 = Imom[0], Imom[1]\n",
        "  if f(I1)>I2:\n",
        "     return 0\n",
        "  else:\n",
        "    return 1  "
      ],
      "metadata": {
        "id": "zeAdrysMMl2B"
      },
      "execution_count": null,
      "outputs": []
    },
    {
      "cell_type": "markdown",
      "source": [
        "Pour séparer les \"0\" et les \"1\", les moments \"I1\" et \"I2\" ont l'air très bien adaptés pour une copure en 2D. Voyons ce que cela donne avec un classificateur purement linéaire (ligne noire)."
      ],
      "metadata": {
        "id": "Ujl-AZCh_lFH"
      }
    },
    {
      "cell_type": "code",
      "source": [
        "pred_0=np.array([-1]*len(infos_0))\n",
        "for i,Imom in enumerate(infos_0):\n",
        "    pred_0[i] = clf(Imom)\n",
        "    \n",
        "\n",
        "pred_1=np.array([-1]*len(infos_1))\n",
        "for i,Imom in enumerate(infos_1):\n",
        "    pred_1[i] = clf(Imom)"
      ],
      "metadata": {
        "id": "AfWC9NeAOTp0"
      },
      "execution_count": null,
      "outputs": []
    },
    {
      "cell_type": "code",
      "source": [
        "print(f\"Accuracy (%) à reconnnaitre les 0 (train) = {np.mean(pred_0==0)*100:.2f} \")\n",
        "print(f\"Accuracy (%) à reconnnaitre les 1 (train) = {np.mean(pred_1==1)*100:.2f} \")"
      ],
      "metadata": {
        "colab": {
          "base_uri": "https://localhost:8080/"
        },
        "id": "YQX5a9onPHBN",
        "outputId": "b68f09d9-7fc6-4a52-e63b-32e99cbd7a12"
      },
      "execution_count": null,
      "outputs": [
        {
          "output_type": "stream",
          "name": "stdout",
          "text": [
            "Accuracy (%) à reconnnaitre les 0 (train) = 99.70 \n",
            "Accuracy (%) à reconnnaitre les 1 (train) = 97.89 \n"
          ]
        }
      ]
    },
    {
      "cell_type": "markdown",
      "source": [
        "Pour les lots de training, on atteind presque la perfection! Qu'en est-il pour les 0 et 1 du lot de test? Par cela on teste la généralisation du classificateur."
      ],
      "metadata": {
        "id": "X-JEee4zQJ3b"
      }
    },
    {
      "cell_type": "code",
      "source": [
        "zeros_test = x_test[y_test==0].squeeze()\n",
        "ones_test = x_test[y_test==1].squeeze()\n",
        "infos_0_test = get_moms(zeros_test)\n",
        "infos_1_test = get_moms(ones_test)\n",
        "\n",
        "pred_0=np.array([-1]*len(infos_0_test))\n",
        "for i,Imom in enumerate(infos_0_test):\n",
        "    pred_0[i] = clf(Imom)\n",
        "    \n",
        "\n",
        "pred_1=np.array([-1]*len(infos_1_test))\n",
        "for i,Imom in enumerate(infos_1_test):\n",
        "    pred_1[i] = clf(Imom)\n",
        "\n",
        "print(f\"Accuracy (%) à reconnnaitre les 0 (test) = {np.mean(pred_0==0)*100:.2f} \")\n",
        "print(f\"Accuracy (%) à reconnnaitre les 1 (test) = {np.mean(pred_1==1)*100:.2f} \")"
      ],
      "metadata": {
        "colab": {
          "base_uri": "https://localhost:8080/"
        },
        "id": "_S4zrPJIQkjM",
        "outputId": "6a3eb8c0-22c8-44da-dc3d-71921d23aab9"
      },
      "execution_count": null,
      "outputs": [
        {
          "output_type": "stream",
          "name": "stdout",
          "text": [
            "Accuracy (%) à reconnnaitre les 0 (test) = 99.90 \n",
            "Accuracy (%) à reconnnaitre les 1 (test) = 98.41 \n"
          ]
        }
      ]
    },
    {
      "cell_type": "markdown",
      "source": [
        "Résultats parfaits! la généralisation se passe parfaitement bien et donc on obtient des taux d'erreur de reconnaissance des 0 et des 1 de 0.1% et 1.6% respectivement. Mais cela est obtenu si seuls les 0 et les 1 sont les 2 classes à séparer. Qu'en est-il si on mélange tous les types de digits?"
      ],
      "metadata": {
        "id": "0uqs03hxRA9N"
      }
    },
    {
      "cell_type": "code",
      "source": [
        "fig = plt.figure(figsize=(8,8))\n",
        "color = iter(mpl.cm.rainbow(np.linspace(0, 1, 10)))\n",
        "for digit_idx, digit_mom  in enumerate([infos_0, infos_1, infos_2, infos_3, infos_4, infos_5,infos_6, infos_7, infos_8, infos_9]):\n",
        "                       \n",
        "  c = next(color)\n",
        "  plt.scatter(digit_mom[:,0],digit_mom[:,1],c=c,s=0.5,label=f'{digit_idx}')\n",
        "\n",
        "plt.xlabel(names[0])\n",
        "plt.ylabel(names[1])\n",
        "lgnd = plt.legend(loc=\"upper right\", scatterpoints=1, fontsize=10)\n",
        "for handle in lgnd.legendHandles:\n",
        "    handle.set_sizes([8.0])\n"
      ],
      "metadata": {
        "colab": {
          "base_uri": "https://localhost:8080/",
          "height": 705
        },
        "id": "LOzv1fnJ4zdz",
        "outputId": "c8706441-0630-488c-9128-9465c56166da"
      },
      "execution_count": null,
      "outputs": [
        {
          "output_type": "stream",
          "name": "stderr",
          "text": [
            "WARNING:matplotlib.axes._axes:*c* argument looks like a single numeric RGB or RGBA sequence, which should be avoided as value-mapping will have precedence in case its length matches with *x* & *y*.  Please use the *color* keyword-argument or provide a 2-D array with a single row if you intend to specify the same RGB or RGBA value for all points.\n",
            "WARNING:matplotlib.axes._axes:*c* argument looks like a single numeric RGB or RGBA sequence, which should be avoided as value-mapping will have precedence in case its length matches with *x* & *y*.  Please use the *color* keyword-argument or provide a 2-D array with a single row if you intend to specify the same RGB or RGBA value for all points.\n",
            "WARNING:matplotlib.axes._axes:*c* argument looks like a single numeric RGB or RGBA sequence, which should be avoided as value-mapping will have precedence in case its length matches with *x* & *y*.  Please use the *color* keyword-argument or provide a 2-D array with a single row if you intend to specify the same RGB or RGBA value for all points.\n",
            "WARNING:matplotlib.axes._axes:*c* argument looks like a single numeric RGB or RGBA sequence, which should be avoided as value-mapping will have precedence in case its length matches with *x* & *y*.  Please use the *color* keyword-argument or provide a 2-D array with a single row if you intend to specify the same RGB or RGBA value for all points.\n",
            "WARNING:matplotlib.axes._axes:*c* argument looks like a single numeric RGB or RGBA sequence, which should be avoided as value-mapping will have precedence in case its length matches with *x* & *y*.  Please use the *color* keyword-argument or provide a 2-D array with a single row if you intend to specify the same RGB or RGBA value for all points.\n",
            "WARNING:matplotlib.axes._axes:*c* argument looks like a single numeric RGB or RGBA sequence, which should be avoided as value-mapping will have precedence in case its length matches with *x* & *y*.  Please use the *color* keyword-argument or provide a 2-D array with a single row if you intend to specify the same RGB or RGBA value for all points.\n",
            "WARNING:matplotlib.axes._axes:*c* argument looks like a single numeric RGB or RGBA sequence, which should be avoided as value-mapping will have precedence in case its length matches with *x* & *y*.  Please use the *color* keyword-argument or provide a 2-D array with a single row if you intend to specify the same RGB or RGBA value for all points.\n",
            "WARNING:matplotlib.axes._axes:*c* argument looks like a single numeric RGB or RGBA sequence, which should be avoided as value-mapping will have precedence in case its length matches with *x* & *y*.  Please use the *color* keyword-argument or provide a 2-D array with a single row if you intend to specify the same RGB or RGBA value for all points.\n",
            "WARNING:matplotlib.axes._axes:*c* argument looks like a single numeric RGB or RGBA sequence, which should be avoided as value-mapping will have precedence in case its length matches with *x* & *y*.  Please use the *color* keyword-argument or provide a 2-D array with a single row if you intend to specify the same RGB or RGBA value for all points.\n",
            "WARNING:matplotlib.axes._axes:*c* argument looks like a single numeric RGB or RGBA sequence, which should be avoided as value-mapping will have precedence in case its length matches with *x* & *y*.  Please use the *color* keyword-argument or provide a 2-D array with a single row if you intend to specify the same RGB or RGBA value for all points.\n"
          ]
        },
        {
          "output_type": "display_data",
          "data": {
            "text/plain": [
              "<Figure size 576x576 with 1 Axes>"
            ],
            "image/png": "[encoded data removed]"
          },
          "metadata": {
            "needs_background": "light"
          }
        }
      ]
    },
    {
      "cell_type": "markdown",
      "source": [
        "Humm... si les \"1\" pourraient être séparés des autres digits, on voit un mélange dès lors que l'on aimeraient séparer les autres digits entres-eux. Ceci dit on ne se sert ici que des moments \"I1\" et \"I2\". Nous allons voir ce qu'il advient si on utilise tous les moments (I1,...,I7). \n",
        "\n",
        "Pour cela il nous faut à partir de x_train (cf. les affichettes 27x27) calculer les 7 moments. "
      ],
      "metadata": {
        "id": "Je4sH0l5_7mV"
      }
    },
    {
      "cell_type": "code",
      "source": [
        "x_train.shape"
      ],
      "metadata": {
        "colab": {
          "base_uri": "https://localhost:8080/"
        },
        "id": "igLIkw1S6lE6",
        "outputId": "f63bfc77-b9cf-443c-8acc-cbf29ac2cb3d"
      },
      "execution_count": null,
      "outputs": [
        {
          "output_type": "execute_result",
          "data": {
            "text/plain": [
              "(60000, 1, 28, 28)"
            ]
          },
          "metadata": {},
          "execution_count": 41
        }
      ]
    },
    {
      "cell_type": "code",
      "source": [
        "len(x_train)"
      ],
      "metadata": {
        "colab": {
          "base_uri": "https://localhost:8080/"
        },
        "id": "1flC3G-if1WS",
        "outputId": "820c89f5-7c2e-4b93-b48e-37ae14b0ea56"
      },
      "execution_count": null,
      "outputs": [
        {
          "output_type": "execute_result",
          "data": {
            "text/plain": [
              "60000"
            ]
          },
          "metadata": {},
          "execution_count": 42
        }
      ]
    },
    {
      "cell_type": "code",
      "source": [
        "x_train[0].shape"
      ],
      "metadata": {
        "colab": {
          "base_uri": "https://localhost:8080/"
        },
        "id": "XKXwGeDwgmHh",
        "outputId": "91a74f68-3b47-4f2c-c547-1a78b6277adb"
      },
      "execution_count": null,
      "outputs": [
        {
          "output_type": "execute_result",
          "data": {
            "text/plain": [
              "(1, 28, 28)"
            ]
          },
          "metadata": {},
          "execution_count": 43
        }
      ]
    },
    {
      "cell_type": "code",
      "source": [
        "new_x_train = np.zeros((len(x_train),7))\n",
        "for idx,x in enumerate(x_train):\n",
        "    new_x_train[idx] = mom(x.squeeze())"
      ],
      "metadata": {
        "id": "IVU5B0ykfbBD"
      },
      "execution_count": null,
      "outputs": []
    },
    {
      "cell_type": "code",
      "source": [
        "new_x_train.shape, y_train.shape"
      ],
      "metadata": {
        "colab": {
          "base_uri": "https://localhost:8080/"
        },
        "id": "nDk-7EH3f5FC",
        "outputId": "0702b9ff-73bb-4a38-9ec7-48de95420318"
      },
      "execution_count": null,
      "outputs": [
        {
          "output_type": "execute_result",
          "data": {
            "text/plain": [
              "((60000, 7), (60000,))"
            ]
          },
          "metadata": {},
          "execution_count": 45
        }
      ]
    },
    {
      "cell_type": "code",
      "source": [
        "new_x_test = np.zeros((len(x_test),7))\n",
        "for idx,x in enumerate(x_test):\n",
        "    new_x_test[idx] = mom(x.squeeze())"
      ],
      "metadata": {
        "id": "DBCVcBcYhu61"
      },
      "execution_count": null,
      "outputs": []
    },
    {
      "cell_type": "markdown",
      "source": [
        "Pour classer les digits, ont va utiliser une méthode qui généalise l'usage d'une coupe dans le plan (I1,i2) qui a servit à discerner les \"0\" et les \"1\". Ici, on se place dans l'espace de dimension 7 des *features* qui sont les 7 moments $(I_i)_{i\\leq 7}$, et on utilise des arbres de décisions binairent qui optimisent les coupures afin qu'aux feuilles terminales on obtienne 1 feuille par classe de digit."
      ],
      "metadata": {
        "id": "gcOu1WhuA2Qv"
      }
    },
    {
      "cell_type": "code",
      "source": [
        "from sklearn.ensemble import RandomForestClassifier"
      ],
      "metadata": {
        "id": "pBhZFo8Mh4lm"
      },
      "execution_count": null,
      "outputs": []
    },
    {
      "cell_type": "code",
      "source": [
        "clf = RandomForestClassifier(random_state=0)"
      ],
      "metadata": {
        "id": "0cMVr43piNmu"
      },
      "execution_count": null,
      "outputs": []
    },
    {
      "cell_type": "code",
      "source": [
        "# entrainons le classificateur sur les données de \"training\"\n",
        "clf.fit(new_x_train, y_train)"
      ],
      "metadata": {
        "colab": {
          "base_uri": "https://localhost:8080/"
        },
        "id": "SM14sNH2iRIU",
        "outputId": "e4222664-172b-42ab-a089-ddf089e9e9a6"
      },
      "execution_count": null,
      "outputs": [
        {
          "output_type": "execute_result",
          "data": {
            "text/plain": [
              "RandomForestClassifier(random_state=0)"
            ]
          },
          "metadata": {},
          "execution_count": 49
        }
      ]
    },
    {
      "cell_type": "markdown",
      "source": [
        "Après entrainement, on peut prédire à parir des 7 moments d'une imagette, à quel digit elle correspond. Puis on peut comparer cette prédiction, à la valeur \"vraie\" du label (cf. à quelle classe de digit cette imagette a-t'elle était étiquetée). On en tire alors la moyenne de la performance (dite \"accuracy\") à la fois sur le lot de training (1) et sur le lot de test (2). On répond alors à deux questions:\n",
        "1.   est-ce que le classificateur est suffisament \"puissant\" pour rendre compte des diversités de classes de digit ? \n",
        "2.   est-il capable de généralisation?\n",
        "\n",
        "Si les deux questions sont importantes, la seconde revet un caractère pratique essentiel, car à quoi bon être entrainer à reconnaitre des digits déjà étiquetés, si on est pas capable de reconnaitre le digit sur une nouvelle imagette.\n",
        "\n",
        "Comment se comporte notre classificateur?\n",
        "\n",
        "\n"
      ],
      "metadata": {
        "id": "Ir5FtzacB8mC"
      }
    },
    {
      "cell_type": "code",
      "source": [
        "pred_test = clf.predict(new_x_test)\n",
        "perf_test = pred_test == y_test\n",
        "\n",
        "pred_train = clf.predict(new_x_train)\n",
        "perf_train = pred_train == y_train\n"
      ],
      "metadata": {
        "id": "K8Ui4q5gjs8l"
      },
      "execution_count": null,
      "outputs": []
    },
    {
      "cell_type": "code",
      "source": [
        "print(f\"Accuracy (Training) en % = {np.mean(perf_train)*100:.2f}\")\n",
        "print(f\"Accuracy (General.) en % = {np.mean(perf_test)*100:.2f}\")"
      ],
      "metadata": {
        "colab": {
          "base_uri": "https://localhost:8080/"
        },
        "id": "IAG0evb8EGjK",
        "outputId": "4c5c3888-a5f1-45c4-ab27-34ebb72f8110"
      },
      "execution_count": null,
      "outputs": [
        {
          "output_type": "stream",
          "name": "stdout",
          "text": [
            "Accuracy (Training) en % = 100.00\n",
            "Accuracy (General.) en % = 66.45\n"
          ]
        }
      ]
    },
    {
      "cell_type": "markdown",
      "source": [
        "Intéressant pour un premier résultat! Le classificateur s'en est sorti pour  apprendre parfaitement (100% accuracy sur le lot de training), et obtient un score de reconnaissance de nouveaux digits de 66.5% soit un taux d'erreur de 33.5%. La baisse  de score entre le lot de training et le lot de test signe ce qui est appelé de **l'overfitting**.  \n",
        "\n",
        "Avant de passer aux réseaux de neurones, voyons 2 choses à propos de ce classificateur:\n",
        "\n",
        "\n",
        "1.   Quelle est l'importance relative de chaque moment $I_i$ pour réaliser la classification?\n",
        "2.   Est-ce que tous les types de digits sont également bien/mal classés?\n",
        "\n",
        "\n",
        "\n"
      ],
      "metadata": {
        "id": "JshYWTmaDsD9"
      }
    },
    {
      "cell_type": "code",
      "source": [
        "names = [\"I1\",\"I2\",\"I3\",\"I4\",\"I5\",\"I6\",\"I7\"]\n",
        "plt.bar(names,  clf.feature_importances_*100)#, bar_width, bottom=y_offset, align='center')\n",
        "plt.ylabel(\"proba. (%)\")\n",
        "plt.title(\"Importance relative de chaque moment $I_i$\");"
      ],
      "metadata": {
        "colab": {
          "base_uri": "https://localhost:8080/",
          "height": 283
        },
        "id": "QRd8PEAYqCCW",
        "outputId": "82f73475-c623-414f-d9ab-d8c55a748fa6"
      },
      "execution_count": null,
      "outputs": [
        {
          "output_type": "display_data",
          "data": {
            "text/plain": [
              "<Figure size 432x288 with 1 Axes>"
            ],
            "image/png": "[encoded data removed]"
          },
          "metadata": {
            "needs_background": "light"
          }
        }
      ]
    },
    {
      "cell_type": "markdown",
      "source": [
        "Même si les 3 premiers moments sont plus importants que les autres, il semble bien qu'aucun moment peut être jugé comme inutile. Donc, le classificateur à utilisé toutes les ressources dont il disposait."
      ],
      "metadata": {
        "id": "Fvl_uxUSuE2_"
      }
    },
    {
      "cell_type": "code",
      "source": [
        "from sklearn.metrics import ConfusionMatrixDisplay\n",
        "\n",
        "target_names = [str(i) for i in range(10)]\n",
        "fig, ax = plt.subplots(figsize=(10, 5))\n",
        "ConfusionMatrixDisplay.from_predictions(y_test, pred_test, ax=ax, \n",
        "                                        normalize=\"true\", values_format=\".2f\")\n",
        "ax.xaxis.set_ticklabels(target_names)\n",
        "ax.yaxis.set_ticklabels(target_names)\n",
        "_ = ax.set_title(\n",
        "    f\"Confusion Matrix (Proba., norm=True label)\"\n",
        ")"
      ],
      "metadata": {
        "colab": {
          "base_uri": "https://localhost:8080/",
          "height": 350
        },
        "id": "yJwnTnInv41J",
        "outputId": "c050e8dc-2059-4c9b-cc6d-830a5d7e510a"
      },
      "execution_count": null,
      "outputs": [
        {
          "output_type": "display_data",
          "data": {
            "text/plain": [
              "<Figure size 720x360 with 2 Axes>"
            ],
            "image/png": "[encoded data removed]"
          },
          "metadata": {
            "needs_background": "light"
          }
        }
      ]
    },
    {
      "cell_type": "markdown",
      "source": [
        "La matrice de confusion ci-dessus indique les probabilités qu'un digit de label vrai (True label) $\\ell_{true}$ soit classé parmi les 10 digits. Par exemple les digits \"0\" sont reconnus comme tels à 82% et par exemple à 8% comme des \"8\". La diagonale de cette matrice indique les probabilités de reconnaitre correctement le digit en question. On remarque alors que les \"1\" sont reconnus à 97%, score le plus élevé ce qui confirme que les \"1\" sont \"faciles\" à reconnaitre,  ce nous avions intuités plus haut. Par contre, le \"5\" est le digit le plus difficile à reconnaitre (voir la ligne des \"5\" True label): ils sont souvent confondus avec des \"0\", \"2\", \"3\" et des \"8\".  "
      ],
      "metadata": {
        "id": "o6B-zUZUyhVi"
      }
    },
    {
      "cell_type": "markdown",
      "source": [],
      "metadata": {
        "id": "xvBdO2QatVoA"
      }
    },
    {
      "cell_type": "markdown",
      "source": [
        "# Réseaux de Neurones.\n",
        "\n",
        "On va s'intéresser maintenant à ce qu'un réseau de neuronnes peut nous apporter dans ce contexte de classification de digits. Si on pourrait envisager les moments $(I_i)_{i\\leq7}$ comme *features*, on va directement s'intéresser aux images elles-mêmes.\n",
        "\n",
        "Cependant, comme on l'a vu, l'idée de trouver une métrique qui mesure la différence entre 2 images ne parrait pas être un bon angle d'attaque. On va donc utiliser les labels des images. Mais il y a un problème qui se pose à nous. \n",
        "\n",
        "Si on note $X$ une image, c'est en quelque sorte un vecteur de $N_{pixels}=28^2=784$ valeurs dans $[0,1]$, on aimerait alors trouver une fonction $f$, telle que $f(X)=y$ où $y$ est le label (c-a-d le numéro du digit). Connaissant les images d'entrainement et leurs labels ${X_i,y_i}_{i\\leq N_{train}}$, on veut alors déterminer les paramètres $\\theta$ de la fonction $f$, tels que $f_{\\theta^\\ast}$ soit le meilleur interpolateur sur le lot d'entrainement, et qui plus est, il doit être également un interpolateur du lot de test. Or, pour déterminer $\\theta^\\ast$, il nous faut une métrique $\\ell$(fonction de coût ou ***loss function***) ***différentiable*** car on va envisager une méthode par *descente de gradient*\n",
        "$$\n",
        "\\theta^{t} = \\theta^{t-1} - \\eta \\langle \\nabla_\\theta \\ell(\\theta^{t-1})\\rangle\n",
        "$$\n",
        "où la moyenne du gradient de $f$ peut être calculé sur un lot d'images training plus ou moins important (**Batch**).\n",
        "\n",
        "## L'usage des Hot-vectors et cross-entropie\n",
        "Mais pour définir $f$, on va non pas s'intéresser à $y$ proprement dit mais plutôt à la probabilité d'obtenir $y$ connaissant l'image $X$, c'est-à-dire\n",
        "$$\n",
        "p_\\theta(y|X)\n",
        "$$  \n",
        "(notons que $\\sum_y p_\\theta(y|X) = 1$). Mais pour cela, il nous faut une façon de coder les labels $y$ selon une robabilité d'obtenir le digit en question parmis tous les autres digits. Pour ce faire on utilise les ***hot-vectors***. Par exemple, un \"5\" est codé selon\n",
        "$$\n",
        "(0., 0., 0., 0., 0., 1., 0., 0., 0., 0.) = (y(k))_{k\\in \\{0,\\dots,K-1\\}}\n",
        "$$\n",
        "En quelque sorte c'est une distribution $\\delta$ discrète: $y(k)=\\delta(k-5)$ dans le cas ci-dessus.\n",
        "\n",
        "Ainsi, \n",
        "\n",
        "  1. pour déterminer $\\tilde{y}$ (ou plutôt $k$ si on pense aux hot-vectors) à partir d'une image $X$ on utilise le principe du **maximum de vraisemblance**:\n",
        "$$\n",
        "\\tilde{k} = \\underset{k\\in \\{0,\\dots,K-1\\}}{\\mathrm{argmax}}\\ p_{\\theta^\\ast}(k|X)\n",
        "$$\n",
        "\n",
        "  2. pour déterminer $\\theta^\\ast$, on utilise ***l'entropie croisée*** (voir Th. de Shannon de 1948) entre la distribution en sortie de réseau $p_{\\theta}(k|X)$ et la vraie distribution $y(k)$: \n",
        "\\begin{align}\n",
        "\\ell_{(y(k),X)}(\\theta) &= E_{k\\sim y(k)}[-\\log p_{\\theta}(k|X)] = -\\sum_{k^\\prime=0}^K y(k^\\prime) \\log p_{\\theta}(k^\\prime|X)\\\\ \n",
        "&= - \\log p_{\\theta}(k|X)\n",
        "\\end{align}\n",
        "et si l'on considère le lot d'entrainement, on peut opérer une moyenne pour que $\\theta^\\ast$ permette une classification sur l'ensemble du lot \n",
        "$$\n",
        "\\theta^\\ast = \\underset{\\theta}{\\mathrm{argmin}}\\ \\langle  \\ell_{(y(k),X)}(\\theta) \\rangle_{(y(k),X) \\in Train}\n",
        "$$\n",
        "\n",
        "L'entropie croisée est intimement reliée à la  ***divergence Kullback-Leibler***  qui mesure la \"distance\" entre 2 distributions de probabilité  : \n",
        "$$\n",
        " D_{KL}(p||q) = E_p[\\log (p/q)] = E_{x\\sim p(x)}[\\log p(x)] -E_{x\\sim p(x)}[\\log q(x)]\n",
        "$$\n",
        "(ce n'est pas vraiment une distance, mais il n'en reste pas moins vrai que si $D_{KL}(p||q)=0$ alors les 2 distributions $p$ et $q$ sont identiques).\n",
        "Si $q$ dépend de paramètre $\\theta$ alors minimiser l'entropie croisée (second terme) revient à minimiser la divergence Kullback-Leibler, et vice-versa.\n",
        "\n",
        "## La fonction softmax\n",
        "\n",
        "Dans ce schéma, il nous faut préciser comment obtenir $p_\\theta(k|X)$? Dans l'image ci-dessous, on a représenté de façon simplifiée les processus de transformations du vecteur d'entrée $X$ à travers les différentes couches du réseau jusqu'à la sortie $y$.\n",
        "\n",
        "![MLP avec Softmax](https://drive.google.com/uc?id=1AmXfWVsejltzQdwo1lNH63_b1ePLSSOA) \n",
        "\n",
        "Chaque couche est constituée par des neurones dont la valeur de sortie est conditionnée par les entrées qui lui sont affectées (flèches entrantes), les poids de chaque entrée, l'ajout éventuel d'une constante (biais) et l'application d'une non-linéarité.  Chaque neurone est un petit module construit à partir d'un Perceptron inventé par Frank Rosenblatt en 1957 illustré sur la figure suivante. C'est un *classificateur linéaire* auquel on lui adjoint une non-linéairité (fonction sigmoïde, tanh, rectificateur linéaire, etc).  \n",
        "\n",
        "![Perceptron](https://drive.google.com/uc?id=1JiPDdz1TrMLA_4Y8Wyz-GQgR7ELaFUlJ)\n",
        "\n",
        "La dernière couche (sortie) notée $(x_J(k))_{k<K}$ (où $J$ indique l'indice de la dernière couche) est un vecteur de dimension égale au nombre de labels (classes) des digits, donc $K=10$ neurones (on en a représenté que 4 par soucis de simplicité tout comme pour l'entrée au lieu des 3 éléments, il faut comprendre 28x28=784 éléments pour les imagettes de MNIST). Mais ces valeurs de sortie $(x_J(k))$ ne sont en aucun cas des probabilités ni même des valeurs positives, c'est pour cela que l'on utilise la fonction ***softmax*** qui transforme $z_y$ selon\n",
        "$$\n",
        "softmax(x_J(k)) = \\frac{e^{x_J(k)}}{\\sum_{k^\\prime=0}^{K-1} e^{x_J(k^\\prime)}}= p(k) \n",
        "$$\n",
        "*Remarquons on passage qu'en Mécanique Statistique, la probabilité dans l'ensemble canonique quantique est essentiellement une fonction softmax appliquée à $-\\beta E_c$ (où $E_c$ est l'énergie du système dans la configuration $c$, et $\\beta=1/kT$).*\n",
        "\n",
        "Comme le résultat $p(k)$ dépend de l'entrée $X$ et des paramètres du réseau via $x_J(k)$, on note naturellement le résulat $p_\\theta(k|X)$. C'est donc cette probabilité qu'il faut confronter à la distribution (vraie) $y(k)$ à l'aide l'entropie croisée.\n",
        "\n",
        "Comme on l'a vu plus haut\n",
        "\n",
        "\n",
        "\\begin{align}\n",
        "\\ell_{(y(k),X)}(\\theta) &= -\\log p_\\theta(k|X) = -\\log(softmax(x_J(k))) \\\\\n",
        "&= - x_J(k) + \\log \\left(\\sum_{k^\\prime=0}^{K-1} e^{x_J(k^\\prime)} \\right) \n",
        "\\end{align}\n",
        "\n",
        "Imaginons un instant que parmi les $x_J(k^\\prime)$ il y ait un maximum se détachant des autres valeurs, alors\n",
        "$$\n",
        "\\log\\sum_{k^\\prime} e^{x_J(k^\\prime)} \\approx \\max_{k^\\prime}[x_J(k^\\prime)]\n",
        "$$\n",
        "et donc\n",
        "$$\n",
        "\\ell_{(y(k),X)}(\\theta) \\approx -x_J(k) + \\max_{k^\\prime}[x_J(k^\\prime)]\n",
        "$$\n",
        "Ce qui revient à comparer alors $x_J(k)$ et $\\max_{k^\\prime}[x_J(k^\\prime)]$. Si lors d'une étape d'optimisation des poids $\\theta$ du réseau, $\\max_{k^\\prime}[x_J(k^\\prime)]$ est obtenu pour $k^\\prime=k$ alors on a gagné  car la différence vaut $0$ et $p_\\theta(k|X)=1$.\n",
        "\n",
        "Outre le fait que le softmax permet de faire ressortir un maximum qui se détache via l'exponentielle, c'est une **opération différentiable** ce que nous recherchions pour la descente de gradient afin d'obtenir $\\theta^\\ast$. \n",
        "\n",
        "Bien entendu $x_J$ est fonction des paramètres du réseau, et on peut considérer que la loss est un enchainement de fonctions imbriquées. Pour calculer le gradient par rapport à un paramètre particulier, on procéde au calcul des dérivées composées (***chain rule***). Ainsi, une étape intermédiaire est de calculer le vecteur gradient $\\partial_{x_J} \\ell$. Ce qui donne alors simplement $\\forall q < K$\n",
        "$$\n",
        "\\frac{\\partial \\ell}{\\partial x_J(q)} = -\\delta(q-k) + softmax(x_J(q))\n",
        "$$\n",
        "On se rend compte que $\\delta(q-k)$ n'est autre que la distribution $y(k)$, donc\n",
        "$$\n",
        "\\partial_{x_J} \\ell = softmax(x_J)-y\n",
        "$$\n",
        "L'usage du softmax rend le calcul du gradient aisé. L'opération ***softmax*** a  donc beaucoup d'avantages et c'est la panacée pour les réseaux ayant une tâche de classification.\n",
        "\n",
        "Le code qui suit est une implentation de ce schéma avec la librairie JAX qui permet le calcul de différentiation automatique. On aurait pu utilser tout aussi bien, Pytorch ou TensorFlow, et des librairies dérivées.\n",
        "\n"
      ],
      "metadata": {
        "id": "IekhXKWmHuLm"
      }
    },
    {
      "cell_type": "code",
      "source": [
        "def one_hot(x, k, dtype=jnp.float32):\n",
        "    \"\"\"Create a one-hot encoding of x of size k \"\"\"\n",
        "    return jnp.array(x[:, None] == jnp.arange(k), dtype)\n"
      ],
      "metadata": {
        "id": "XgZT4xEFkLPy"
      },
      "execution_count": 4,
      "outputs": []
    },
    {
      "cell_type": "code",
      "source": [
        "train_images = jnp.array(x_train, dtype=jnp.float32)\n",
        "test_images  = jnp.array(x_test, dtype=jnp.float32)"
      ],
      "metadata": {
        "id": "tQkUwJ-N6B1R",
        "colab": {
          "base_uri": "https://localhost:8080/"
        },
        "outputId": "bfdfa3f8-d9f6-42e1-b152-08d50fe3bf2d"
      },
      "execution_count": 5,
      "outputs": [
        {
          "output_type": "stream",
          "name": "stderr",
          "text": [
            "WARNING:absl:No GPU/TPU found, falling back to CPU. (Set TF_CPP_MIN_LOG_LEVEL=0 and rerun for more info.)\n"
          ]
        }
      ]
    },
    {
      "cell_type": "code",
      "source": [
        "N_train,c,h,w = train_images.shape\n",
        "N_test = len(test_images)\n",
        "num_pixels = h * w * c\n",
        "num_labels = len(np.unique(y_train))"
      ],
      "metadata": {
        "id": "0nBPIJkx7OW0"
      },
      "execution_count": 6,
      "outputs": []
    },
    {
      "cell_type": "code",
      "source": [
        "train_labels = one_hot(y_train, num_labels)\n",
        "test_labels  = one_hot(y_test, num_labels)"
      ],
      "metadata": {
        "id": "97imP9U96_A3"
      },
      "execution_count": 7,
      "outputs": []
    },
    {
      "cell_type": "code",
      "source": [
        "train_labels[0], y_train[0]"
      ],
      "metadata": {
        "colab": {
          "base_uri": "https://localhost:8080/"
        },
        "id": "58jBVK9n6UyE",
        "outputId": "444bd1f8-41a2-4380-b27e-275665e545b4"
      },
      "execution_count": 8,
      "outputs": [
        {
          "output_type": "execute_result",
          "data": {
            "text/plain": [
              "(DeviceArray([0., 0., 0., 0., 0., 1., 0., 0., 0., 0.], dtype=float32), 5)"
            ]
          },
          "metadata": {},
          "execution_count": 8
        }
      ]
    },
    {
      "cell_type": "markdown",
      "source": [
        "On définit un flux de données en découpant le lot de 60,000 imagettes de training en batch de 128 imagettes, de plus on visitera à chaque étape de la descente de gradient les batchs dans un ordre aléatoire. "
      ],
      "metadata": {
        "id": "aooHjRFfMBq5"
      }
    },
    {
      "cell_type": "code",
      "source": [
        "# decoupage du lot de training en batch de 128 imagettes\n",
        "batch_size = 100\n",
        "num_train = train_images.shape[0]\n",
        "num_complete_batches, leftover = divmod(num_train, batch_size)\n",
        "num_batches = num_complete_batches + bool(leftover)"
      ],
      "metadata": {
        "id": "XIK7vKTL5zYi"
      },
      "execution_count": 9,
      "outputs": []
    },
    {
      "cell_type": "code",
      "source": [
        "# randomize les batchs \n",
        "def data_stream():\n",
        "  \"\"\"Creates a data stream with a predifined batch size.\n",
        "  \"\"\"\n",
        "  rng = np.random.RandomState(0)\n",
        "  while True:\n",
        "    perm = rng.permutation(num_train)\n",
        "    for i in range(num_batches):\n",
        "      batch_idx = perm[i * batch_size: (i + 1)*batch_size]\n",
        "      yield train_images[batch_idx], train_labels[batch_idx]\n",
        "\n"
      ],
      "metadata": {
        "id": "BQOOHsKSJCk8"
      },
      "execution_count": 10,
      "outputs": []
    },
    {
      "cell_type": "code",
      "source": [
        "# Un exemple pour obtenir un lot (batch) de 100 imagettes (training)\n",
        "batches = data_stream()\n",
        "x, y = next(batches) \n",
        "x.shape"
      ],
      "metadata": {
        "colab": {
          "base_uri": "https://localhost:8080/"
        },
        "id": "inDQa8rMCfCu",
        "outputId": "68462b12-adca-4cf6-c264-83b69be7a848"
      },
      "execution_count": 11,
      "outputs": [
        {
          "output_type": "execute_result",
          "data": {
            "text/plain": [
              "(100, 1, 28, 28)"
            ]
          },
          "metadata": {},
          "execution_count": 11
        }
      ]
    },
    {
      "cell_type": "markdown",
      "source": [
        "Pour apprécier si un modèle à de bonnes performances, nous allons généraliser ce que nous avons fait précédemment en comparant le label \"vrai\" associé à une imagette et le label prédit par le réseau."
      ],
      "metadata": {
        "id": "NoGj_Zt9ORoB"
      }
    },
    {
      "cell_type": "code",
      "source": [
        "def accuracy(params, batch, model):\n",
        "  \"\"\" Calculates the accuracy in a batch.\n",
        "\n",
        "  Args:\n",
        "    params : Neural network parameters.\n",
        "    batch : Batch consisting of images and labels.\n",
        "    model: feed forward function of the network\n",
        "  \n",
        "  Outputs:\n",
        "    (float) : Mean value of the accuracy.\n",
        "  \"\"\"\n",
        "\n",
        "  # Unpack the input and targets\n",
        "  inputs, targets = batch\n",
        "  \n",
        "  # Get the label of the one-hot encoded target\n",
        "  target_class = jnp.argmax(targets, axis=1)\n",
        "  \n",
        "  # Predict the class of the batch of images using \n",
        "  # the model defined by its parameters\n",
        "  predicted_class = jnp.argmax(model(params, inputs), axis=1)\n",
        "\n",
        "  return jnp.mean(predicted_class == target_class)"
      ],
      "metadata": {
        "id": "UndRPfOlL4Qd"
      },
      "execution_count": 12,
      "outputs": []
    },
    {
      "cell_type": "markdown",
      "source": [
        "IL nous faut le calcul de la cross-entropy"
      ],
      "metadata": {
        "id": "a7WQMiCdPLhE"
      }
    },
    {
      "cell_type": "code",
      "source": [
        "def loss(params, batch, model):\n",
        "  \"\"\" Cross entropy loss.\n",
        "  Args:\n",
        "    params : Neural network parameters.\n",
        "    batch : Batch consisting of images and labels.\n",
        "    model: feed forward function of the network\n",
        "  \n",
        "  Outputs:\n",
        "    (float) : Sum of the cross entropy loss over the batch.\n",
        "  \"\"\"\n",
        "  # Unpack the input and targets\n",
        "  images, targets = batch\n",
        "  # precdict the class using the neural network\n",
        "  preds = model(params, images)\n",
        "\n",
        "  # - sum_{X in batch}(y*p_{param}(y|X))\n",
        "  return -jnp.sum(preds * targets)"
      ],
      "metadata": {
        "id": "4_WlNdpUONah"
      },
      "execution_count": 13,
      "outputs": []
    },
    {
      "cell_type": "markdown",
      "source": [
        "Afin de réaliser la descente de gradient pour minimiser la fonction *loss*, il nous faut instancier un minimizer, à savoir le type (ici Adam) et ses paramètres (ex. le step size, aka  learning rate)"
      ],
      "metadata": {
        "id": "Ps_-G0sOP7pt"
      }
    },
    {
      "cell_type": "code",
      "source": [
        "from jax.example_libraries import optimizers\n",
        "\n",
        "step_size = 1e-3\n",
        "opt_init, opt_update, get_params = optimizers.adam(step_size)\n"
      ],
      "metadata": {
        "id": "XZnTi78UP3m1"
      },
      "execution_count": 14,
      "outputs": []
    },
    {
      "cell_type": "code",
      "source": [
        "from jax import jit, value_and_grad\n",
        "from functools import partial\n",
        "\n",
        "@partial(jit, static_argnums=(4,))\n",
        "def update(params, x, y, opt_state, model):\n",
        "    \"\"\" Compute the gradient for a batch and update the parameters \"\"\"\n",
        "    \n",
        "    # Take the gradient and evaluate the loss function\n",
        "    value, grads = value_and_grad(loss)(params, (x, y), model)\n",
        "    \n",
        "    # Update the network using the gradient taken\n",
        "    opt_state = opt_update(0, grads, opt_state)\n",
        "    \n",
        "    return get_params(opt_state), opt_state, value"
      ],
      "metadata": {
        "id": "Ow6emCqoQJSv"
      },
      "execution_count": 15,
      "outputs": []
    },
    {
      "cell_type": "code",
      "source": [
        "from tqdm.notebook import tqdm\n",
        "\n",
        "def process(model, init_fun, num_epochs=10):\n",
        "  \"\"\"\n",
        "    Model Optimization.\n",
        "\n",
        "    Args:\n",
        "      model: the feedforward function of the model\n",
        "      init_fun: the model parameter initialisation function\n",
        "      num_epochs: number of epochs\n",
        "\n",
        "    Outputs:\n",
        "      train_loss: array of losses computed on Trining set after each epoch\n",
        "      val_loss:   array of losses computed on Test/Validation set after each epoch \n",
        "      train_acc:  array of accuracies on training set\n",
        "      test_acc:  array of accuracies on test set\n",
        "      params: model parameters after optimization\n",
        "  \"\"\"\n",
        "\n",
        "  # initialisation of model parameters\n",
        "  key = random.PRNGKey(0)\n",
        "  _, params = init_fun(key, (-1,) + train_images.shape[1:]) # for varying batch size we put a -1 in first position\n",
        "\n",
        "  #initialisation of optimizer\n",
        "  opt_state = opt_init(params)\n",
        "\n",
        "  #initialisation of training data_stream\n",
        "  batches = data_stream()\n",
        "\n",
        "  train_acc, test_acc = [], []\n",
        "  train_loss, val_loss = [], []\n",
        "\n",
        "  # loop over the different epochs\n",
        "  for epoch in tqdm(range(num_epochs)):\n",
        "    #loop over all batches \n",
        "    for _ in range(num_batches):\n",
        "      # get a new batch: images (x) and labels (y)\n",
        "      x, y = next(batches)    \n",
        "      # 1-step gradient descent parameter optimization\n",
        "      params, opt_state, _loss = update(params, x, y, opt_state, model=model)\n",
        "      \n",
        "\n",
        "    # Update parameters of the Network\n",
        "    params = get_params(opt_state)\n",
        "\n",
        "    # Compute loss (ie. cross-entropie) for both training set and test set (aka validation set) \n",
        "    train_loss.append(np.mean(loss(params, (train_images, train_labels), model=model))/len(train_images))\n",
        "    val_loss.append(loss(params, (test_images, test_labels), model=model)/len(test_images))\n",
        "\n",
        "    # Compute accuracy of the model both for training set and test set\n",
        "    train_acc_epoch = accuracy(params, (train_images, train_labels), model=model)\n",
        "    test_acc_epoch = accuracy(params, (test_images, test_labels), model=model)\n",
        "    \n",
        "    train_acc.append(train_acc_epoch)\n",
        "    test_acc.append(test_acc_epoch)\n",
        "\n",
        "  return train_loss, val_loss, train_acc, test_acc, params"
      ],
      "metadata": {
        "id": "BpdMMw7LQ7l-"
      },
      "execution_count": 16,
      "outputs": []
    },
    {
      "cell_type": "code",
      "source": [
        "def plot(num_epochs, train_loss, val_loss, train_acc, test_acc, \n",
        "         model_name=\"my_net\"):\n",
        "  epochs = range(num_epochs)\n",
        "\n",
        "  fig = plt.figure(figsize=(12,6))\n",
        "  gs = fig.add_gridspec(1, 2)\n",
        "  ax1 = fig.add_subplot(gs[0, 0])\n",
        "  ax2 = fig.add_subplot(gs[0, 1])\n",
        "\n",
        "  ax1.plot(epochs, train_loss, 'r', label='Training')\n",
        "  ax1.plot(epochs, val_loss, 'b', label='Validation')\n",
        "  ax1.set_xlabel('Epochs', size=16)\n",
        "  ax1.set_ylabel('Loss', size=16)\n",
        "  ax1.legend()\n",
        "\n",
        "  ax2.plot(epochs, train_acc, 'r', label='Training')\n",
        "  ax2.plot(epochs, test_acc, 'b', label='Validation')\n",
        "  ax2.set_xlabel('Epochs', size=16)\n",
        "  ax2.set_ylabel('Accuracy', size=16)\n",
        "  ax2.legend()\n",
        "  ax2.grid()\n",
        "  ax2.set_ylim([0.94, 1.0])\n",
        "  plt.title(model_name)\n",
        "  \n",
        "  plt.show()"
      ],
      "metadata": {
        "id": "tWcRmbPs4lCQ"
      },
      "execution_count": 35,
      "outputs": []
    },
    {
      "cell_type": "code",
      "source": [
        "from jax.example_libraries import stax\n",
        "from jax import random\n",
        "from jax.example_libraries.stax import (Dense, Flatten, Relu, LogSoftmax)"
      ],
      "metadata": {
        "id": "fYFQcn08ynCH"
      },
      "execution_count": 18,
      "outputs": []
    },
    {
      "cell_type": "markdown",
      "source": [
        "Utilisons à présent, la librairie Stax de JAX pour construire le modèle de réseau.\n",
        "\n",
        "\n",
        "Dans un premier temps on ne va utiliser que des **couches denses** (ou fully-connected) comme sur l'illustration donnée plus haut pour le  multi-layer perceptron. \n",
        "\n",
        "1.   La première couche/operation (Flatten) applati les images en 1 vecteur de 784 éléments \n",
        "2.   La seconde est de type **Dense**  où l'on spéecifie le nombre de neurones de sortie (120). Cette couche efefctue une opération matricielle\n",
        "$$\n",
        "out = W \\times in + b\n",
        "$$\n",
        "La taille de $W$ est donc de $120 x 784$ éléments auxquels il faut rajouter 120 coefficients de biais ($b$).\n",
        "3. La **non-linéarité Relu** qui intervient dans l'activation des neurones est une opération dite **element-wise** car elle s'applique à tous les éléments de sortie de la précédente couche. Son expression est la suivante\n",
        "$$\n",
        "Relu(x) = \\begin{cases} x & x \\geq 0 \\\\ 0 & x < 0 \\end{cases}\n",
        "$$  \n",
        "c'est ce que l'on appelle un *rectificateur linéaire*. La justification théorique de ces non-linéarités va au-delà de ce notebook, cependant on peut se convaincre de la propriété suivante: si on enchaine que des couches denses les unes à la suite des autres, tout revient en fait à connecter l'entréé de la première, à la sortie de la seconde, par une couche dense et l'on abouti alors à un classificateur lineaire tout simple (cf. il ne fait que des coupes d'hyperplans) qui ne peut résoudre des problèmes à séparation non-linéaire comme le XOR ci-dessous\n",
        "\n",
        "![XOR](https://drive.google.com/uc?id=1quXcYsKXl8v8NTwxWks6Qhwx2zaO9Hl6)\n",
        "\n",
        "Donc, il est nécessaire de faire intervenir des non-linéarités telles que le ReLU, mais il y en a d'autres (Tanh, sigmoïde,...). \n",
        "\n",
        "4. On termine par une phase de mise à plat (Flatten), puis une couche Dense ayant 10 neurones de sortie (1 par digit). Par ce biais on réalise un classificateur linéaire à ce niveau. Puis on termine par l'opération Softmax ou plus préciséemnt on en calcule le log pour directement calculé cross-entropie.\n",
        "\n",
        "\n",
        "Le nombre de paramètres définissant la fonction d'interpolation est  égal à (éléments des matrices + biais)\n",
        "$$\n",
        "\\begin{array}{rccr}\n",
        "Dense1 & 784\\times 120+120 & =&94,200   \\\\\n",
        "Dense2 & 120 \\times 10 + 10 & =&1,210 \\\\\n",
        "Total  & &  =& 95,410\n",
        "\\end{array}\n",
        "$$\n",
        "Les couches denses sont gourmandes en paramètres."
      ],
      "metadata": {
        "id": "8xq4zsOsyhqv"
      }
    },
    {
      "cell_type": "code",
      "source": [
        "init_fun1, my_net1 = stax.serial(\n",
        "    Flatten,\n",
        "    Dense(120), Relu,\n",
        "    Flatten,\n",
        "    Dense(num_labels),\n",
        "    LogSoftmax)"
      ],
      "metadata": {
        "id": "BkWlAvTbxqGK"
      },
      "execution_count": 22,
      "outputs": []
    },
    {
      "cell_type": "code",
      "source": [
        "num_epochs=10\n",
        "train_loss_1, val_loss_1, train_acc_1, test_acc_1, params_fit_1 = process(my_net1, init_fun1, num_epochs=num_epochs)"
      ],
      "metadata": {
        "colab": {
          "base_uri": "https://localhost:8080/",
          "height": 81,
          "referenced_widgets": [
            "b229cbd83c704ca49b4dd374a85f67ac",
            "d1c0f28dcd8f404591aaee43844806ce",
            "38b9b7a77ee347b89877de8deafd91d4",
            "77db057ea57a47d2ab31b202166cbf9a",
            "6d825872f731405198355ca388fa6c53",
            "9a28d300d57243eda039d48fc6873ae8",
            "1dfc2f3e35df4cbd919c076d7b3fb0be",
            "a660ab1415c843f9b2f972b5c9609228",
            "1d088efe1c1f4708808625d676256ff8",
            "ef0e59b4b2e74c47b17674c243c795e4",
            "c24f93ec955a4f00b89dd658b7b43645",
            "1f640aa0d36140dc8e2e099217cb0802",
            "58e3aee4f5454552a5e568e2c7098623",
            "36ab76ff506f409ba003fa58c7e0b7fd",
            "c3622554e65c44eb83ba0b144cd539ba",
            "d501da7b7cd74611942c16204fedd9c1",
            "d6a5e2fe787f4ecea17cae7687e1c354",
            "cfc17a43a5744caba493f88404c103ff",
            "1f835d95c75b42fe85b68a352482107a",
            "b69fcf47770f4bc394f4ca9b143d6f13",
            "246c0a9f942c467a88009f478988f1cc",
            "68306978f8bb40a4a0c6ba78fd4a75d7"
          ]
        },
        "id": "nZF-tG_bzi8i",
        "outputId": "a24966a1-8d69-4a4c-bae1-88778cd75d9a"
      },
      "execution_count": 23,
      "outputs": [
        {
          "output_type": "display_data",
          "data": {
            "text/plain": [
              "  0%|          | 0/10 [00:00<?, ?it/s]"
            ],
            "application/vnd.jupyter.widget-view+json": {
              "version_major": 2,
              "version_minor": 0,
              "model_id": "b229cbd83c704ca49b4dd374a85f67ac"
            }
          },
          "metadata": {}
        },
        {
          "output_type": "display_data",
          "data": {
            "text/plain": [
              "  0%|          | 0/10 [00:00<?, ?it/s]"
            ],
            "application/vnd.jupyter.widget-view+json": {
              "version_major": 2,
              "version_minor": 0,
              "model_id": "1f640aa0d36140dc8e2e099217cb0802"
            }
          },
          "metadata": {}
        }
      ]
    },
    {
      "cell_type": "code",
      "source": [
        "plot(num_epochs, train_loss_1, val_loss_1, train_acc_1, test_acc_1, \n",
        "         model_name=\"MLP 1\")\n"
      ],
      "metadata": {
        "colab": {
          "base_uri": "https://localhost:8080/",
          "height": 409
        },
        "id": "iWWG7cGu0f3B",
        "outputId": "340e641d-5d50-4b1d-c68e-7b39363b6876"
      },
      "execution_count": 36,
      "outputs": [
        {
          "output_type": "display_data",
          "data": {
            "text/plain": [
              "<Figure size 864x432 with 2 Axes>"
            ],
            "image/png": "[encoded data removed]"
          },
          "metadata": {
            "needs_background": "light"
          }
        }
      ]
    },
    {
      "cell_type": "code",
      "source": [
        "pred_test = jnp.argmax(my_net1(params_fit_1, test_images), axis=1)"
      ],
      "metadata": {
        "id": "mbJIQ2bo1Z2v"
      },
      "execution_count": 39,
      "outputs": []
    },
    {
      "cell_type": "code",
      "source": [
        "from sklearn.metrics import ConfusionMatrixDisplay\n",
        "target_names = [str(i) for i in range(10)]\n",
        "fig, ax = plt.subplots(figsize=(10, 5))\n",
        "ConfusionMatrixDisplay.from_predictions(y_test, pred_test, ax=ax, \n",
        "                                        normalize=\"true\", values_format=\".2f\")\n",
        "ax.xaxis.set_ticklabels(target_names)\n",
        "ax.yaxis.set_ticklabels(target_names)\n",
        "_ = ax.set_title(\n",
        "    f\"Confusion Matrix (Proba., norm=True label)\"\n",
        ")"
      ],
      "metadata": {
        "colab": {
          "base_uri": "https://localhost:8080/",
          "height": 350
        },
        "id": "cCQ0F_si1JUw",
        "outputId": "fc140df5-ce11-440a-f14d-92757f09f30d"
      },
      "execution_count": 40,
      "outputs": [
        {
          "output_type": "display_data",
          "data": {
            "text/plain": [
              "<Figure size 720x360 with 2 Axes>"
            ],
            "image/png": "[encoded data removed]"
          },
          "metadata": {
            "needs_background": "light"
          }
        }
      ]
    },
    {
      "cell_type": "markdown",
      "source": [
        "Incroyable n'est-il pas? On arrive à des taux d'erreur (Top 1) de près de 0.25% et des performances quasi-identiques pour tous les digits! On a donc réaliser un classificateur (non-linéaire) quasi-parfait pour résoudre le problème de la reconnaissance des digits écrits manuellement.\n",
        "\n",
        "\n",
        "Ce type de réseaux dit à 1-couche cachée à fait l'objet d'études jusqu'à l'aboutissement de la démonstration du **Théorème d'Universalité** dans les années 1989-93. Cependant, ce théorème est qualifié de leurre car il stipule pour faire court que le ce type de réseau certes peut interpoler n'importe quelle fonction, cela se fait au prix d'un nombre de neurones $N$ de la couche cachée (120 dans le cas du MLP mis en oeuvre)  qui croit selon la loi d'échelle suivante:\n",
        "$$\n",
        "\\Large N \\sim ɛ^{-d/m}\n",
        "$$\n",
        "où $ɛ$ est l'erreur d'approximation, $d$ la dimension de l'entrée (pour MNIST $d=28\\times 28 =784$ et $m$ est la classe de régularité de la fonction à interpoler. On voit se dessiner alors la **malédiction de la dimensionalité** car pour contrebalancer la grandeur de $d$ il faudrait ajuster uniquement des fonctions extrêmement régulaières (penser à $C^{784}$ !!! c'est quasiment des fonctions indéfiniment différentiables) or comment penser que classer des images se fait par une fonction régulière??? \n",
        "\n",
        "Ce théorème fut non pas un point final comme on aurait pu le penser, disposer d'un interpolateur universel aurait pu signer la fin de ce domaine, mais à plutôt le signe d'une faiblesse d'interprétation car par la suite l'avénement des réseaux convolutionnels à permis de s'attaquer à des problèmes très difficiles (reconnaissance d'images complexes, de la parole, traitement/analyse/génération de textes) avec des succés toujours aussi étonnants. \n",
        "\n",
        "Pour donner une idée de l'architecture d'un réseau couvolutionnel, je vais en mettre en oeuvre un tout simple pour classer les digits."
      ],
      "metadata": {
        "id": "_AGpcNnE42Mz"
      }
    },
    {
      "cell_type": "code",
      "source": [
        "from jax.example_libraries.stax import (GeneralConv, MaxPool, BatchNorm)"
      ],
      "metadata": {
        "id": "WX4rdVmfLEgK"
      },
      "execution_count": 41,
      "outputs": []
    },
    {
      "cell_type": "code",
      "source": [
        "\n",
        "MyConv = partial(GeneralConv, ('NCHW', 'HWIO', 'NCHW'))\n"
      ],
      "metadata": {
        "id": "p6nnEUxWJ3Ax"
      },
      "execution_count": 42,
      "outputs": []
    },
    {
      "cell_type": "code",
      "source": [
        "init_fun, my_cnn = stax.serial(\n",
        "    MyConv(out_chan=6, filter_shape=(5, 5), strides=(1, 1), padding=\"VALID\"), Relu,\n",
        "    MaxPool(window_shape=(2, 2), padding=\"VALID\", spec=\"NCHW\"),\n",
        "    MyConv(out_chan=16, filter_shape=(5, 5), strides=(1, 1), padding=\"VALID\"), Relu,\n",
        "    MaxPool(window_shape=(2, 2), padding=\"VALID\", spec=\"NCHW\"),\n",
        "    Flatten,\n",
        "    Dense(10), LogSoftmax)\n"
      ],
      "metadata": {
        "id": "YMdmyTq7WIs5"
      },
      "execution_count": 43,
      "outputs": []
    },
    {
      "cell_type": "code",
      "source": [
        "num_epochs=20\n",
        "train_loss_1, val_loss_1, train_acc_1, test_acc_1, params_fit_1 = process(my_cnn, init_fun, num_epochs=num_epochs)"
      ],
      "metadata": {
        "id": "gQYbv0n3DCPT",
        "colab": {
          "base_uri": "https://localhost:8080/",
          "height": 374,
          "referenced_widgets": [
            "5767f489d2de48e596fe570ca9bcb0be",
            "36c359776c2e4b87a683a14e3867704c",
            "cf8dbbb78d4d4e2a94e0d3a966f8dbde",
            "fc9a93eeeea04879bf48205679697ecc",
            "92f7cf44040a414c8f2b5b510bb2611c",
            "a6b5a2b45a874a4d90dae376a8a25674",
            "925e14c9a8cc44c191783fb4b9b77dd7",
            "579e535e14614449ba3ad2873b8d9cea",
            "2d096a1d18c84b789503aaab35477836",
            "ed603959fb65450d9e81a33daf2f4df9",
            "823e401af9ba4839922f52c9305d0a2a"
          ]
        },
        "outputId": "edd6cfcb-a2df-46b0-873d-84a560b4bf92"
      },
      "execution_count": null,
      "outputs": [
        {
          "output_type": "display_data",
          "data": {
            "text/plain": [
              "  0%|          | 0/20 [00:00<?, ?it/s]"
            ],
            "application/vnd.jupyter.widget-view+json": {
              "version_major": 2,
              "version_minor": 0,
              "model_id": "5767f489d2de48e596fe570ca9bcb0be"
            }
          },
          "metadata": {}
        },
        {
          "output_type": "error",
          "ename": "KeyboardInterrupt",
          "evalue": "ignored",
          "traceback": [
            "\u001b[0;31m---------------------------------------------------------------------------\u001b[0m",
            "\u001b[0;31mKeyboardInterrupt\u001b[0m                         Traceback (most recent call last)",
            "\u001b[0;32m<ipython-input-45-386bcb917a79>\u001b[0m in \u001b[0;36m<module>\u001b[0;34m\u001b[0m\n\u001b[1;32m      1\u001b[0m \u001b[0mnum_epochs\u001b[0m\u001b[0;34m=\u001b[0m\u001b[0;36m20\u001b[0m\u001b[0;34m\u001b[0m\u001b[0;34m\u001b[0m\u001b[0m\n\u001b[0;32m----> 2\u001b[0;31m \u001b[0mtrain_loss_1\u001b[0m\u001b[0;34m,\u001b[0m \u001b[0mval_loss_1\u001b[0m\u001b[0;34m,\u001b[0m \u001b[0mtrain_acc_1\u001b[0m\u001b[0;34m,\u001b[0m \u001b[0mtest_acc_1\u001b[0m\u001b[0;34m,\u001b[0m \u001b[0mparams_fit_1\u001b[0m \u001b[0;34m=\u001b[0m \u001b[0mprocess\u001b[0m\u001b[0;34m(\u001b[0m\u001b[0mmy_cnn\u001b[0m\u001b[0;34m,\u001b[0m \u001b[0minit_fun\u001b[0m\u001b[0;34m,\u001b[0m \u001b[0mnum_epochs\u001b[0m\u001b[0;34m=\u001b[0m\u001b[0mnum_epochs\u001b[0m\u001b[0;34m)\u001b[0m\u001b[0;34m\u001b[0m\u001b[0;34m\u001b[0m\u001b[0m\n\u001b[0m",
            "\u001b[0;32m<ipython-input-16-641f235ae8c4>\u001b[0m in \u001b[0;36mprocess\u001b[0;34m(model, init_fun, num_epochs)\u001b[0m\n\u001b[1;32m     38\u001b[0m       \u001b[0mx\u001b[0m\u001b[0;34m,\u001b[0m \u001b[0my\u001b[0m \u001b[0;34m=\u001b[0m \u001b[0mnext\u001b[0m\u001b[0;34m(\u001b[0m\u001b[0mbatches\u001b[0m\u001b[0;34m)\u001b[0m\u001b[0;34m\u001b[0m\u001b[0;34m\u001b[0m\u001b[0m\n\u001b[1;32m     39\u001b[0m       \u001b[0;31m# 1-step gradient descent parameter optimization\u001b[0m\u001b[0;34m\u001b[0m\u001b[0;34m\u001b[0m\u001b[0;34m\u001b[0m\u001b[0m\n\u001b[0;32m---> 40\u001b[0;31m       \u001b[0mparams\u001b[0m\u001b[0;34m,\u001b[0m \u001b[0mopt_state\u001b[0m\u001b[0;34m,\u001b[0m \u001b[0m_loss\u001b[0m \u001b[0;34m=\u001b[0m \u001b[0mupdate\u001b[0m\u001b[0;34m(\u001b[0m\u001b[0mparams\u001b[0m\u001b[0;34m,\u001b[0m \u001b[0mx\u001b[0m\u001b[0;34m,\u001b[0m \u001b[0my\u001b[0m\u001b[0;34m,\u001b[0m \u001b[0mopt_state\u001b[0m\u001b[0;34m,\u001b[0m \u001b[0mmodel\u001b[0m\u001b[0;34m=\u001b[0m\u001b[0mmodel\u001b[0m\u001b[0;34m)\u001b[0m\u001b[0;34m\u001b[0m\u001b[0;34m\u001b[0m\u001b[0m\n\u001b[0m\u001b[1;32m     41\u001b[0m \u001b[0;34m\u001b[0m\u001b[0m\n\u001b[1;32m     42\u001b[0m \u001b[0;34m\u001b[0m\u001b[0m\n",
            "\u001b[0;32m/usr/local/lib/python3.7/dist-packages/jax/example_libraries/optimizers.py\u001b[0m in \u001b[0;36m<lambda>\u001b[0;34m(data, xs)\u001b[0m\n\u001b[1;32m    117\u001b[0m     \u001b[0mOptimizerState\u001b[0m\u001b[0;34m,\u001b[0m\u001b[0;34m\u001b[0m\u001b[0;34m\u001b[0m\u001b[0m\n\u001b[1;32m    118\u001b[0m     \u001b[0;32mlambda\u001b[0m \u001b[0mxs\u001b[0m\u001b[0;34m:\u001b[0m \u001b[0;34m(\u001b[0m\u001b[0;34m(\u001b[0m\u001b[0mxs\u001b[0m\u001b[0;34m.\u001b[0m\u001b[0mpacked_state\u001b[0m\u001b[0;34m,\u001b[0m\u001b[0;34m)\u001b[0m\u001b[0;34m,\u001b[0m \u001b[0;34m(\u001b[0m\u001b[0mxs\u001b[0m\u001b[0;34m.\u001b[0m\u001b[0mtree_def\u001b[0m\u001b[0;34m,\u001b[0m \u001b[0mxs\u001b[0m\u001b[0;34m.\u001b[0m\u001b[0msubtree_defs\u001b[0m\u001b[0;34m)\u001b[0m\u001b[0;34m)\u001b[0m\u001b[0;34m,\u001b[0m\u001b[0;34m\u001b[0m\u001b[0;34m\u001b[0m\u001b[0m\n\u001b[0;32m--> 119\u001b[0;31m     lambda data, xs: OptimizerState(xs[0], data[0], data[1]))  # type: ignore[index]\n\u001b[0m\u001b[1;32m    120\u001b[0m \u001b[0;34m\u001b[0m\u001b[0m\n\u001b[1;32m    121\u001b[0m \u001b[0;34m\u001b[0m\u001b[0m\n",
            "\u001b[0;31mKeyboardInterrupt\u001b[0m: "
          ]
        }
      ]
    },
    {
      "cell_type": "code",
      "source": [
        "init_fun, my_LeNet = stax.serial(\n",
        "    MyConv(out_chan=6, filter_shape=(5, 5), strides=(1, 1), padding=\"VALID\"), Relu,\n",
        "    MaxPool(window_shape=(2, 2), padding=\"VALID\", spec=\"NCHW\"),\n",
        "    MyConv(out_chan=16, filter_shape=(5, 5), strides=(1, 1), padding=\"VALID\"), Relu,\n",
        "    MaxPool(window_shape=(2, 2), padding=\"VALID\", spec=\"NCHW\"),\n",
        "    Flatten,\n",
        "    Dense(120), Relu,\n",
        "    Dense(84), Relu,\n",
        "    Dense(10), LogSoftmax)"
      ],
      "metadata": {
        "id": "o9kwKTQzCGas"
      },
      "execution_count": 40,
      "outputs": []
    },
    {
      "cell_type": "code",
      "source": [
        "num_epochs=20\n",
        "train_loss, val_loss, train_acc, test_acc, params_fit = process(my_LeNet, init_fun, num_epochs=num_epochs)"
      ],
      "metadata": {
        "colab": {
          "base_uri": "https://localhost:8080/",
          "height": 49,
          "referenced_widgets": [
            "5179aeaa98b344a7bd55ff1ffe672118",
            "fbb99f80c21145c7b0b591fcc2f3a7bb",
            "b57e0b16f13d4ec5b1c349abade9a0b4",
            "bddecf22878b4764be6e62454fe30a2e",
            "d70bbc3920a74784a192af5a47ea125c",
            "088101da4af3403491c24a5ed526247e",
            "47e74f105e7647dab4ea85cf71acf4f4",
            "35335f08a13845f9a6736966bc810735",
            "59d9439a71b7429c96e3479fa735269a",
            "28800ef5112d4f709f7e6b7837657dda",
            "6af3c53f2b994e02a3fdb48bdc04bc79"
          ]
        },
        "id": "FnzWzM2jC03c",
        "outputId": "ee675bc8-a895-4132-f163-3e4a1138b06f"
      },
      "execution_count": 41,
      "outputs": [
        {
          "output_type": "display_data",
          "data": {
            "text/plain": [
              "  0%|          | 0/20 [00:00<?, ?it/s]"
            ],
            "application/vnd.jupyter.widget-view+json": {
              "version_major": 2,
              "version_minor": 0,
              "model_id": "5179aeaa98b344a7bd55ff1ffe672118"
            }
          },
          "metadata": {}
        }
      ]
    },
    {
      "cell_type": "code",
      "source": [
        "plot(num_epochs, train_loss, val_loss, train_acc, test_acc, \n",
        "         model_name=\"LeNet(ReLU)\")"
      ],
      "metadata": {
        "colab": {
          "base_uri": "https://localhost:8080/",
          "height": 409
        },
        "id": "2WDL2j6sDU9h",
        "outputId": "caacd4eb-02f1-436c-8a07-54b1f28fd8b8"
      },
      "execution_count": 43,
      "outputs": [
        {
          "output_type": "display_data",
          "data": {
            "text/plain": [
              "<Figure size 864x432 with 2 Axes>"
            ],
            "image/png": "[encoded data removed]"
          },
          "metadata": {
            "needs_background": "light"
          }
        }
      ]
    },
    {
      "cell_type": "code",
      "source": [
        "init_fun, my_cnn = stax.serial(MyConv(32, (5, 5), (2, 2), padding=\"SAME\"),\n",
        "                                 BatchNorm(), Relu,\n",
        "                                 MyConv(32, (5, 5), (2, 2), padding=\"SAME\"),\n",
        "                                 BatchNorm(), Relu,\n",
        "                                 MyConv(16, (3, 3), (2, 2), padding=\"SAME\"),\n",
        "                                 BatchNorm(), Relu,\n",
        "                                 MyConv(16, (3, 3), (2, 2), padding=\"SAME\"), Relu,\n",
        "                                 Flatten,                                 \n",
        "                                Dense(num_labels),\n",
        "                                 LogSoftmax)"
      ],
      "metadata": {
        "id": "HS5wDpCoha1W"
      },
      "execution_count": 20,
      "outputs": []
    },
    {
      "cell_type": "code",
      "source": [
        "num_epochs=20\n",
        "train_loss, val_loss, train_acc, test_acc, params_fit = process(my_cnn, init_fun, num_epochs=num_epochs)"
      ],
      "metadata": {
        "id": "IbS3LNfWHsQB",
        "colab": {
          "base_uri": "https://localhost:8080/",
          "height": 49,
          "referenced_widgets": [
            "fe0045007b7a47d3869ff0a3ee6f157a",
            "7ba23727782c4d86b4b64cf1e463db1b",
            "8423485544684653855930ba801f4a98",
            "3de0b4c5111e43a094ac143fa3543c32",
            "d638a18faf9245daa3cb059a5d19b744",
            "061b20e8abb64aae977d4735a21b2751",
            "a563b38c412c4fa983527dc832ef0aa7",
            "0ad3341a631144a4a1036ade47e3372e",
            "86a9b95202f440379cc9e8a630959e77",
            "fd6301f219fa4205a22078fde4db6f86",
            "17399a379d4143d3b9b2a3cdf1f4fb1e"
          ]
        },
        "outputId": "d13ab806-bea9-4d9e-e1de-9092e2db489c"
      },
      "execution_count": 21,
      "outputs": [
        {
          "output_type": "display_data",
          "data": {
            "text/plain": [
              "  0%|          | 0/20 [00:00<?, ?it/s]"
            ],
            "application/vnd.jupyter.widget-view+json": {
              "version_major": 2,
              "version_minor": 0,
              "model_id": "fe0045007b7a47d3869ff0a3ee6f157a"
            }
          },
          "metadata": {}
        }
      ]
    },
    {
      "cell_type": "code",
      "source": [
        "plot(num_epochs, train_loss, val_loss, train_acc, test_acc, \n",
        "         model_name=\"CNN\")"
      ],
      "metadata": {
        "colab": {
          "base_uri": "https://localhost:8080/",
          "height": 409
        },
        "id": "i-rdhj6lg95k",
        "outputId": "2e15139c-6cbe-4553-ef51-16ee17f2429d"
      },
      "execution_count": 22,
      "outputs": [
        {
          "output_type": "display_data",
          "data": {
            "text/plain": [
              "<Figure size 864x432 with 2 Axes>"
            ],
            "image/png": "[encoded data removed]"
          },
          "metadata": {
            "needs_background": "light"
          }
        }
      ]
    },
    {
      "cell_type": "code",
      "source": [],
      "metadata": {
        "id": "89s6JrX6hUfU"
      },
      "execution_count": null,
      "outputs": []
    }
  ]
}