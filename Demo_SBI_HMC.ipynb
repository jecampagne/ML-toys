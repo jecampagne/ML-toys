{
  "nbformat": 4,
  "nbformat_minor": 0,
  "metadata": {
    "colab": {
      "provenance": [],
      "collapsed_sections": [],
      "authorship_tag": "ABX9TyM33VLyBAUnMUSL2OIaMfTa",
      "include_colab_link": true
    },
    "kernelspec": {
      "name": "python3",
      "display_name": "Python 3"
    },
    "language_info": {
      "name": "python"
    },
    "widgets": {
      "application/vnd.jupyter.widget-state+json": {
        "edb2c5e1a0f04319aa56db8a94a704c1": {
          "model_module": "@jupyter-widgets/controls",
          "model_name": "HBoxModel",
          "model_module_version": "1.5.0",
          "state": {
            "_dom_classes": [],
            "_model_module": "@jupyter-widgets/controls",
            "_model_module_version": "1.5.0",
            "_model_name": "HBoxModel",
            "_view_count": null,
            "_view_module": "@jupyter-widgets/controls",
            "_view_module_version": "1.5.0",
            "_view_name": "HBoxView",
            "box_style": "",
            "children": [
              "IPY_MODEL_77b2f39b71674fbea6882d689112797b",
              "IPY_MODEL_96b98463801b47ec867506ed9466fbb7",
              "IPY_MODEL_914f0010637446e0a6890c2f1b35df47"
            ],
            "layout": "IPY_MODEL_0d380763eb6f45e3ae53a23ef8301fda"
          }
        },
        "77b2f39b71674fbea6882d689112797b": {
          "model_module": "@jupyter-widgets/controls",
          "model_name": "HTMLModel",
          "model_module_version": "1.5.0",
          "state": {
            "_dom_classes": [],
            "_model_module": "@jupyter-widgets/controls",
            "_model_module_version": "1.5.0",
            "_model_name": "HTMLModel",
            "_view_count": null,
            "_view_module": "@jupyter-widgets/controls",
            "_view_module_version": "1.5.0",
            "_view_name": "HTMLView",
            "description": "",
            "description_tooltip": null,
            "layout": "IPY_MODEL_501740912ce645d9a9ddf283438b286a",
            "placeholder": "​",
            "style": "IPY_MODEL_2a44942b196e4ef0996330663b3a0b01",
            "value": "Running 10000 simulations.: 100%"
          }
        },
        "96b98463801b47ec867506ed9466fbb7": {
          "model_module": "@jupyter-widgets/controls",
          "model_name": "FloatProgressModel",
          "model_module_version": "1.5.0",
          "state": {
            "_dom_classes": [],
            "_model_module": "@jupyter-widgets/controls",
            "_model_module_version": "1.5.0",
            "_model_name": "FloatProgressModel",
            "_view_count": null,
            "_view_module": "@jupyter-widgets/controls",
            "_view_module_version": "1.5.0",
            "_view_name": "ProgressView",
            "bar_style": "success",
            "description": "",
            "description_tooltip": null,
            "layout": "IPY_MODEL_b21b1e3a11c0443a9ea1cf67fc4ef2e9",
            "max": 10000,
            "min": 0,
            "orientation": "horizontal",
            "style": "IPY_MODEL_d5e28bce3f184810902ab7f0dd13c48e",
            "value": 10000
          }
        },
        "914f0010637446e0a6890c2f1b35df47": {
          "model_module": "@jupyter-widgets/controls",
          "model_name": "HTMLModel",
          "model_module_version": "1.5.0",
          "state": {
            "_dom_classes": [],
            "_model_module": "@jupyter-widgets/controls",
            "_model_module_version": "1.5.0",
            "_model_name": "HTMLModel",
            "_view_count": null,
            "_view_module": "@jupyter-widgets/controls",
            "_view_module_version": "1.5.0",
            "_view_name": "HTMLView",
            "description": "",
            "description_tooltip": null,
            "layout": "IPY_MODEL_e0f6a8c1637943b380622fd5e2f81498",
            "placeholder": "​",
            "style": "IPY_MODEL_3382b857f0114fc9ae569d0dad50a641",
            "value": " 10000/10000 [00:02&lt;00:00, 3848.92it/s]"
          }
        },
        "0d380763eb6f45e3ae53a23ef8301fda": {
          "model_module": "@jupyter-widgets/base",
          "model_name": "LayoutModel",
          "model_module_version": "1.2.0",
          "state": {
            "_model_module": "@jupyter-widgets/base",
            "_model_module_version": "1.2.0",
            "_model_name": "LayoutModel",
            "_view_count": null,
            "_view_module": "@jupyter-widgets/base",
            "_view_module_version": "1.2.0",
            "_view_name": "LayoutView",
            "align_content": null,
            "align_items": null,
            "align_self": null,
            "border": null,
            "bottom": null,
            "display": null,
            "flex": null,
            "flex_flow": null,
            "grid_area": null,
            "grid_auto_columns": null,
            "grid_auto_flow": null,
            "grid_auto_rows": null,
            "grid_column": null,
            "grid_gap": null,
            "grid_row": null,
            "grid_template_areas": null,
            "grid_template_columns": null,
            "grid_template_rows": null,
            "height": null,
            "justify_content": null,
            "justify_items": null,
            "left": null,
            "margin": null,
            "max_height": null,
            "max_width": null,
            "min_height": null,
            "min_width": null,
            "object_fit": null,
            "object_position": null,
            "order": null,
            "overflow": null,
            "overflow_x": null,
            "overflow_y": null,
            "padding": null,
            "right": null,
            "top": null,
            "visibility": null,
            "width": null
          }
        },
        "501740912ce645d9a9ddf283438b286a": {
          "model_module": "@jupyter-widgets/base",
          "model_name": "LayoutModel",
          "model_module_version": "1.2.0",
          "state": {
            "_model_module": "@jupyter-widgets/base",
            "_model_module_version": "1.2.0",
            "_model_name": "LayoutModel",
            "_view_count": null,
            "_view_module": "@jupyter-widgets/base",
            "_view_module_version": "1.2.0",
            "_view_name": "LayoutView",
            "align_content": null,
            "align_items": null,
            "align_self": null,
            "border": null,
            "bottom": null,
            "display": null,
            "flex": null,
            "flex_flow": null,
            "grid_area": null,
            "grid_auto_columns": null,
            "grid_auto_flow": null,
            "grid_auto_rows": null,
            "grid_column": null,
            "grid_gap": null,
            "grid_row": null,
            "grid_template_areas": null,
            "grid_template_columns": null,
            "grid_template_rows": null,
            "height": null,
            "justify_content": null,
            "justify_items": null,
            "left": null,
            "margin": null,
            "max_height": null,
            "max_width": null,
            "min_height": null,
            "min_width": null,
            "object_fit": null,
            "object_position": null,
            "order": null,
            "overflow": null,
            "overflow_x": null,
            "overflow_y": null,
            "padding": null,
            "right": null,
            "top": null,
            "visibility": null,
            "width": null
          }
        },
        "2a44942b196e4ef0996330663b3a0b01": {
          "model_module": "@jupyter-widgets/controls",
          "model_name": "DescriptionStyleModel",
          "model_module_version": "1.5.0",
          "state": {
            "_model_module": "@jupyter-widgets/controls",
            "_model_module_version": "1.5.0",
            "_model_name": "DescriptionStyleModel",
            "_view_count": null,
            "_view_module": "@jupyter-widgets/base",
            "_view_module_version": "1.2.0",
            "_view_name": "StyleView",
            "description_width": ""
          }
        },
        "b21b1e3a11c0443a9ea1cf67fc4ef2e9": {
          "model_module": "@jupyter-widgets/base",
          "model_name": "LayoutModel",
          "model_module_version": "1.2.0",
          "state": {
            "_model_module": "@jupyter-widgets/base",
            "_model_module_version": "1.2.0",
            "_model_name": "LayoutModel",
            "_view_count": null,
            "_view_module": "@jupyter-widgets/base",
            "_view_module_version": "1.2.0",
            "_view_name": "LayoutView",
            "align_content": null,
            "align_items": null,
            "align_self": null,
            "border": null,
            "bottom": null,
            "display": null,
            "flex": null,
            "flex_flow": null,
            "grid_area": null,
            "grid_auto_columns": null,
            "grid_auto_flow": null,
            "grid_auto_rows": null,
            "grid_column": null,
            "grid_gap": null,
            "grid_row": null,
            "grid_template_areas": null,
            "grid_template_columns": null,
            "grid_template_rows": null,
            "height": null,
            "justify_content": null,
            "justify_items": null,
            "left": null,
            "margin": null,
            "max_height": null,
            "max_width": null,
            "min_height": null,
            "min_width": null,
            "object_fit": null,
            "object_position": null,
            "order": null,
            "overflow": null,
            "overflow_x": null,
            "overflow_y": null,
            "padding": null,
            "right": null,
            "top": null,
            "visibility": null,
            "width": null
          }
        },
        "d5e28bce3f184810902ab7f0dd13c48e": {
          "model_module": "@jupyter-widgets/controls",
          "model_name": "ProgressStyleModel",
          "model_module_version": "1.5.0",
          "state": {
            "_model_module": "@jupyter-widgets/controls",
            "_model_module_version": "1.5.0",
            "_model_name": "ProgressStyleModel",
            "_view_count": null,
            "_view_module": "@jupyter-widgets/base",
            "_view_module_version": "1.2.0",
            "_view_name": "StyleView",
            "bar_color": null,
            "description_width": ""
          }
        },
        "e0f6a8c1637943b380622fd5e2f81498": {
          "model_module": "@jupyter-widgets/base",
          "model_name": "LayoutModel",
          "model_module_version": "1.2.0",
          "state": {
            "_model_module": "@jupyter-widgets/base",
            "_model_module_version": "1.2.0",
            "_model_name": "LayoutModel",
            "_view_count": null,
            "_view_module": "@jupyter-widgets/base",
            "_view_module_version": "1.2.0",
            "_view_name": "LayoutView",
            "align_content": null,
            "align_items": null,
            "align_self": null,
            "border": null,
            "bottom": null,
            "display": null,
            "flex": null,
            "flex_flow": null,
            "grid_area": null,
            "grid_auto_columns": null,
            "grid_auto_flow": null,
            "grid_auto_rows": null,
            "grid_column": null,
            "grid_gap": null,
            "grid_row": null,
            "grid_template_areas": null,
            "grid_template_columns": null,
            "grid_template_rows": null,
            "height": null,
            "justify_content": null,
            "justify_items": null,
            "left": null,
            "margin": null,
            "max_height": null,
            "max_width": null,
            "min_height": null,
            "min_width": null,
            "object_fit": null,
            "object_position": null,
            "order": null,
            "overflow": null,
            "overflow_x": null,
            "overflow_y": null,
            "padding": null,
            "right": null,
            "top": null,
            "visibility": null,
            "width": null
          }
        },
        "3382b857f0114fc9ae569d0dad50a641": {
          "model_module": "@jupyter-widgets/controls",
          "model_name": "DescriptionStyleModel",
          "model_module_version": "1.5.0",
          "state": {
            "_model_module": "@jupyter-widgets/controls",
            "_model_module_version": "1.5.0",
            "_model_name": "DescriptionStyleModel",
            "_view_count": null,
            "_view_module": "@jupyter-widgets/base",
            "_view_module_version": "1.2.0",
            "_view_name": "StyleView",
            "description_width": ""
          }
        },
        "4cf71885a7f941c885e61330b33852d6": {
          "model_module": "@jupyter-widgets/controls",
          "model_name": "HBoxModel",
          "model_module_version": "1.5.0",
          "state": {
            "_dom_classes": [],
            "_model_module": "@jupyter-widgets/controls",
            "_model_module_version": "1.5.0",
            "_model_name": "HBoxModel",
            "_view_count": null,
            "_view_module": "@jupyter-widgets/controls",
            "_view_module_version": "1.5.0",
            "_view_name": "HBoxView",
            "box_style": "",
            "children": [
              "IPY_MODEL_762e937f3d2d4a938781770e791ae1e4",
              "IPY_MODEL_69e12b17f164493ca0383082b81576bc",
              "IPY_MODEL_040f251e822b49ea969485ae8a7da30c"
            ],
            "layout": "IPY_MODEL_4a6928248126438cbe60f53689a407ea"
          }
        },
        "762e937f3d2d4a938781770e791ae1e4": {
          "model_module": "@jupyter-widgets/controls",
          "model_name": "HTMLModel",
          "model_module_version": "1.5.0",
          "state": {
            "_dom_classes": [],
            "_model_module": "@jupyter-widgets/controls",
            "_model_module_version": "1.5.0",
            "_model_name": "HTMLModel",
            "_view_count": null,
            "_view_module": "@jupyter-widgets/controls",
            "_view_module_version": "1.5.0",
            "_view_name": "HTMLView",
            "description": "",
            "description_tooltip": null,
            "layout": "IPY_MODEL_c77ef6a2225a4daf9447bc4514af1624",
            "placeholder": "​",
            "style": "IPY_MODEL_2fffc5221dbc4307b43c9d8b90f0be67",
            "value": "Drawing 10000 posterior samples: "
          }
        },
        "69e12b17f164493ca0383082b81576bc": {
          "model_module": "@jupyter-widgets/controls",
          "model_name": "FloatProgressModel",
          "model_module_version": "1.5.0",
          "state": {
            "_dom_classes": [],
            "_model_module": "@jupyter-widgets/controls",
            "_model_module_version": "1.5.0",
            "_model_name": "FloatProgressModel",
            "_view_count": null,
            "_view_module": "@jupyter-widgets/controls",
            "_view_module_version": "1.5.0",
            "_view_name": "ProgressView",
            "bar_style": "success",
            "description": "",
            "description_tooltip": null,
            "layout": "IPY_MODEL_e44059d4a5f3429baaa7bfc410d848f9",
            "max": 10000,
            "min": 0,
            "orientation": "horizontal",
            "style": "IPY_MODEL_0bd7dcbbb3f042fc8a73cf25c77576c4",
            "value": 10000
          }
        },
        "040f251e822b49ea969485ae8a7da30c": {
          "model_module": "@jupyter-widgets/controls",
          "model_name": "HTMLModel",
          "model_module_version": "1.5.0",
          "state": {
            "_dom_classes": [],
            "_model_module": "@jupyter-widgets/controls",
            "_model_module_version": "1.5.0",
            "_model_name": "HTMLModel",
            "_view_count": null,
            "_view_module": "@jupyter-widgets/controls",
            "_view_module_version": "1.5.0",
            "_view_name": "HTMLView",
            "description": "",
            "description_tooltip": null,
            "layout": "IPY_MODEL_edc09811380e4785b0192757c0eff19a",
            "placeholder": "​",
            "style": "IPY_MODEL_45027b22482c49eaa9174653920cb212",
            "value": " 10613/? [00:00&lt;00:00, 14430.60it/s]"
          }
        },
        "4a6928248126438cbe60f53689a407ea": {
          "model_module": "@jupyter-widgets/base",
          "model_name": "LayoutModel",
          "model_module_version": "1.2.0",
          "state": {
            "_model_module": "@jupyter-widgets/base",
            "_model_module_version": "1.2.0",
            "_model_name": "LayoutModel",
            "_view_count": null,
            "_view_module": "@jupyter-widgets/base",
            "_view_module_version": "1.2.0",
            "_view_name": "LayoutView",
            "align_content": null,
            "align_items": null,
            "align_self": null,
            "border": null,
            "bottom": null,
            "display": null,
            "flex": null,
            "flex_flow": null,
            "grid_area": null,
            "grid_auto_columns": null,
            "grid_auto_flow": null,
            "grid_auto_rows": null,
            "grid_column": null,
            "grid_gap": null,
            "grid_row": null,
            "grid_template_areas": null,
            "grid_template_columns": null,
            "grid_template_rows": null,
            "height": null,
            "justify_content": null,
            "justify_items": null,
            "left": null,
            "margin": null,
            "max_height": null,
            "max_width": null,
            "min_height": null,
            "min_width": null,
            "object_fit": null,
            "object_position": null,
            "order": null,
            "overflow": null,
            "overflow_x": null,
            "overflow_y": null,
            "padding": null,
            "right": null,
            "top": null,
            "visibility": null,
            "width": null
          }
        },
        "c77ef6a2225a4daf9447bc4514af1624": {
          "model_module": "@jupyter-widgets/base",
          "model_name": "LayoutModel",
          "model_module_version": "1.2.0",
          "state": {
            "_model_module": "@jupyter-widgets/base",
            "_model_module_version": "1.2.0",
            "_model_name": "LayoutModel",
            "_view_count": null,
            "_view_module": "@jupyter-widgets/base",
            "_view_module_version": "1.2.0",
            "_view_name": "LayoutView",
            "align_content": null,
            "align_items": null,
            "align_self": null,
            "border": null,
            "bottom": null,
            "display": null,
            "flex": null,
            "flex_flow": null,
            "grid_area": null,
            "grid_auto_columns": null,
            "grid_auto_flow": null,
            "grid_auto_rows": null,
            "grid_column": null,
            "grid_gap": null,
            "grid_row": null,
            "grid_template_areas": null,
            "grid_template_columns": null,
            "grid_template_rows": null,
            "height": null,
            "justify_content": null,
            "justify_items": null,
            "left": null,
            "margin": null,
            "max_height": null,
            "max_width": null,
            "min_height": null,
            "min_width": null,
            "object_fit": null,
            "object_position": null,
            "order": null,
            "overflow": null,
            "overflow_x": null,
            "overflow_y": null,
            "padding": null,
            "right": null,
            "top": null,
            "visibility": null,
            "width": null
          }
        },
        "2fffc5221dbc4307b43c9d8b90f0be67": {
          "model_module": "@jupyter-widgets/controls",
          "model_name": "DescriptionStyleModel",
          "model_module_version": "1.5.0",
          "state": {
            "_model_module": "@jupyter-widgets/controls",
            "_model_module_version": "1.5.0",
            "_model_name": "DescriptionStyleModel",
            "_view_count": null,
            "_view_module": "@jupyter-widgets/base",
            "_view_module_version": "1.2.0",
            "_view_name": "StyleView",
            "description_width": ""
          }
        },
        "e44059d4a5f3429baaa7bfc410d848f9": {
          "model_module": "@jupyter-widgets/base",
          "model_name": "LayoutModel",
          "model_module_version": "1.2.0",
          "state": {
            "_model_module": "@jupyter-widgets/base",
            "_model_module_version": "1.2.0",
            "_model_name": "LayoutModel",
            "_view_count": null,
            "_view_module": "@jupyter-widgets/base",
            "_view_module_version": "1.2.0",
            "_view_name": "LayoutView",
            "align_content": null,
            "align_items": null,
            "align_self": null,
            "border": null,
            "bottom": null,
            "display": null,
            "flex": null,
            "flex_flow": null,
            "grid_area": null,
            "grid_auto_columns": null,
            "grid_auto_flow": null,
            "grid_auto_rows": null,
            "grid_column": null,
            "grid_gap": null,
            "grid_row": null,
            "grid_template_areas": null,
            "grid_template_columns": null,
            "grid_template_rows": null,
            "height": null,
            "justify_content": null,
            "justify_items": null,
            "left": null,
            "margin": null,
            "max_height": null,
            "max_width": null,
            "min_height": null,
            "min_width": null,
            "object_fit": null,
            "object_position": null,
            "order": null,
            "overflow": null,
            "overflow_x": null,
            "overflow_y": null,
            "padding": null,
            "right": null,
            "top": null,
            "visibility": null,
            "width": null
          }
        },
        "0bd7dcbbb3f042fc8a73cf25c77576c4": {
          "model_module": "@jupyter-widgets/controls",
          "model_name": "ProgressStyleModel",
          "model_module_version": "1.5.0",
          "state": {
            "_model_module": "@jupyter-widgets/controls",
            "_model_module_version": "1.5.0",
            "_model_name": "ProgressStyleModel",
            "_view_count": null,
            "_view_module": "@jupyter-widgets/base",
            "_view_module_version": "1.2.0",
            "_view_name": "StyleView",
            "bar_color": null,
            "description_width": ""
          }
        },
        "edc09811380e4785b0192757c0eff19a": {
          "model_module": "@jupyter-widgets/base",
          "model_name": "LayoutModel",
          "model_module_version": "1.2.0",
          "state": {
            "_model_module": "@jupyter-widgets/base",
            "_model_module_version": "1.2.0",
            "_model_name": "LayoutModel",
            "_view_count": null,
            "_view_module": "@jupyter-widgets/base",
            "_view_module_version": "1.2.0",
            "_view_name": "LayoutView",
            "align_content": null,
            "align_items": null,
            "align_self": null,
            "border": null,
            "bottom": null,
            "display": null,
            "flex": null,
            "flex_flow": null,
            "grid_area": null,
            "grid_auto_columns": null,
            "grid_auto_flow": null,
            "grid_auto_rows": null,
            "grid_column": null,
            "grid_gap": null,
            "grid_row": null,
            "grid_template_areas": null,
            "grid_template_columns": null,
            "grid_template_rows": null,
            "height": null,
            "justify_content": null,
            "justify_items": null,
            "left": null,
            "margin": null,
            "max_height": null,
            "max_width": null,
            "min_height": null,
            "min_width": null,
            "object_fit": null,
            "object_position": null,
            "order": null,
            "overflow": null,
            "overflow_x": null,
            "overflow_y": null,
            "padding": null,
            "right": null,
            "top": null,
            "visibility": null,
            "width": null
          }
        },
        "45027b22482c49eaa9174653920cb212": {
          "model_module": "@jupyter-widgets/controls",
          "model_name": "DescriptionStyleModel",
          "model_module_version": "1.5.0",
          "state": {
            "_model_module": "@jupyter-widgets/controls",
            "_model_module_version": "1.5.0",
            "_model_name": "DescriptionStyleModel",
            "_view_count": null,
            "_view_module": "@jupyter-widgets/base",
            "_view_module_version": "1.2.0",
            "_view_name": "StyleView",
            "description_width": ""
          }
        },
        "6be72478c5664d1f86b1c644b6270291": {
          "model_module": "@jupyter-widgets/controls",
          "model_name": "HBoxModel",
          "model_module_version": "1.5.0",
          "state": {
            "_dom_classes": [],
            "_model_module": "@jupyter-widgets/controls",
            "_model_module_version": "1.5.0",
            "_model_name": "HBoxModel",
            "_view_count": null,
            "_view_module": "@jupyter-widgets/controls",
            "_view_module_version": "1.5.0",
            "_view_name": "HBoxView",
            "box_style": "",
            "children": [
              "IPY_MODEL_2140b14be1374091a2f227160c388642",
              "IPY_MODEL_71cf265342aa4532ba4baa7bc34c5fdd",
              "IPY_MODEL_1ccdc5e9e6714eb5838fc073e8f2a7d7"
            ],
            "layout": "IPY_MODEL_b43a7f02ec584c89836bad528e13daf4"
          }
        },
        "2140b14be1374091a2f227160c388642": {
          "model_module": "@jupyter-widgets/controls",
          "model_name": "HTMLModel",
          "model_module_version": "1.5.0",
          "state": {
            "_dom_classes": [],
            "_model_module": "@jupyter-widgets/controls",
            "_model_module_version": "1.5.0",
            "_model_name": "HTMLModel",
            "_view_count": null,
            "_view_module": "@jupyter-widgets/controls",
            "_view_module_version": "1.5.0",
            "_view_name": "HTMLView",
            "description": "",
            "description_tooltip": null,
            "layout": "IPY_MODEL_973582d6187942aeb8578a7a29a050e2",
            "placeholder": "​",
            "style": "IPY_MODEL_c6432837b704477e878cf86d2f8d626d",
            "value": "Drawing 10000 posterior samples: "
          }
        },
        "71cf265342aa4532ba4baa7bc34c5fdd": {
          "model_module": "@jupyter-widgets/controls",
          "model_name": "FloatProgressModel",
          "model_module_version": "1.5.0",
          "state": {
            "_dom_classes": [],
            "_model_module": "@jupyter-widgets/controls",
            "_model_module_version": "1.5.0",
            "_model_name": "FloatProgressModel",
            "_view_count": null,
            "_view_module": "@jupyter-widgets/controls",
            "_view_module_version": "1.5.0",
            "_view_name": "ProgressView",
            "bar_style": "success",
            "description": "",
            "description_tooltip": null,
            "layout": "IPY_MODEL_c0742e0860b74a4982c828963481f83a",
            "max": 10000,
            "min": 0,
            "orientation": "horizontal",
            "style": "IPY_MODEL_fd8648410f2c4c4f94b875d9b7aa75e1",
            "value": 10000
          }
        },
        "1ccdc5e9e6714eb5838fc073e8f2a7d7": {
          "model_module": "@jupyter-widgets/controls",
          "model_name": "HTMLModel",
          "model_module_version": "1.5.0",
          "state": {
            "_dom_classes": [],
            "_model_module": "@jupyter-widgets/controls",
            "_model_module_version": "1.5.0",
            "_model_name": "HTMLModel",
            "_view_count": null,
            "_view_module": "@jupyter-widgets/controls",
            "_view_module_version": "1.5.0",
            "_view_name": "HTMLView",
            "description": "",
            "description_tooltip": null,
            "layout": "IPY_MODEL_c7456084ede14ef59bbba3c39c6f7d6c",
            "placeholder": "​",
            "style": "IPY_MODEL_c7c803498ed44277b0b430bf37623562",
            "value": " 11275/? [00:01&lt;00:00, 8110.26it/s]"
          }
        },
        "b43a7f02ec584c89836bad528e13daf4": {
          "model_module": "@jupyter-widgets/base",
          "model_name": "LayoutModel",
          "model_module_version": "1.2.0",
          "state": {
            "_model_module": "@jupyter-widgets/base",
            "_model_module_version": "1.2.0",
            "_model_name": "LayoutModel",
            "_view_count": null,
            "_view_module": "@jupyter-widgets/base",
            "_view_module_version": "1.2.0",
            "_view_name": "LayoutView",
            "align_content": null,
            "align_items": null,
            "align_self": null,
            "border": null,
            "bottom": null,
            "display": null,
            "flex": null,
            "flex_flow": null,
            "grid_area": null,
            "grid_auto_columns": null,
            "grid_auto_flow": null,
            "grid_auto_rows": null,
            "grid_column": null,
            "grid_gap": null,
            "grid_row": null,
            "grid_template_areas": null,
            "grid_template_columns": null,
            "grid_template_rows": null,
            "height": null,
            "justify_content": null,
            "justify_items": null,
            "left": null,
            "margin": null,
            "max_height": null,
            "max_width": null,
            "min_height": null,
            "min_width": null,
            "object_fit": null,
            "object_position": null,
            "order": null,
            "overflow": null,
            "overflow_x": null,
            "overflow_y": null,
            "padding": null,
            "right": null,
            "top": null,
            "visibility": null,
            "width": null
          }
        },
        "973582d6187942aeb8578a7a29a050e2": {
          "model_module": "@jupyter-widgets/base",
          "model_name": "LayoutModel",
          "model_module_version": "1.2.0",
          "state": {
            "_model_module": "@jupyter-widgets/base",
            "_model_module_version": "1.2.0",
            "_model_name": "LayoutModel",
            "_view_count": null,
            "_view_module": "@jupyter-widgets/base",
            "_view_module_version": "1.2.0",
            "_view_name": "LayoutView",
            "align_content": null,
            "align_items": null,
            "align_self": null,
            "border": null,
            "bottom": null,
            "display": null,
            "flex": null,
            "flex_flow": null,
            "grid_area": null,
            "grid_auto_columns": null,
            "grid_auto_flow": null,
            "grid_auto_rows": null,
            "grid_column": null,
            "grid_gap": null,
            "grid_row": null,
            "grid_template_areas": null,
            "grid_template_columns": null,
            "grid_template_rows": null,
            "height": null,
            "justify_content": null,
            "justify_items": null,
            "left": null,
            "margin": null,
            "max_height": null,
            "max_width": null,
            "min_height": null,
            "min_width": null,
            "object_fit": null,
            "object_position": null,
            "order": null,
            "overflow": null,
            "overflow_x": null,
            "overflow_y": null,
            "padding": null,
            "right": null,
            "top": null,
            "visibility": null,
            "width": null
          }
        },
        "c6432837b704477e878cf86d2f8d626d": {
          "model_module": "@jupyter-widgets/controls",
          "model_name": "DescriptionStyleModel",
          "model_module_version": "1.5.0",
          "state": {
            "_model_module": "@jupyter-widgets/controls",
            "_model_module_version": "1.5.0",
            "_model_name": "DescriptionStyleModel",
            "_view_count": null,
            "_view_module": "@jupyter-widgets/base",
            "_view_module_version": "1.2.0",
            "_view_name": "StyleView",
            "description_width": ""
          }
        },
        "c0742e0860b74a4982c828963481f83a": {
          "model_module": "@jupyter-widgets/base",
          "model_name": "LayoutModel",
          "model_module_version": "1.2.0",
          "state": {
            "_model_module": "@jupyter-widgets/base",
            "_model_module_version": "1.2.0",
            "_model_name": "LayoutModel",
            "_view_count": null,
            "_view_module": "@jupyter-widgets/base",
            "_view_module_version": "1.2.0",
            "_view_name": "LayoutView",
            "align_content": null,
            "align_items": null,
            "align_self": null,
            "border": null,
            "bottom": null,
            "display": null,
            "flex": null,
            "flex_flow": null,
            "grid_area": null,
            "grid_auto_columns": null,
            "grid_auto_flow": null,
            "grid_auto_rows": null,
            "grid_column": null,
            "grid_gap": null,
            "grid_row": null,
            "grid_template_areas": null,
            "grid_template_columns": null,
            "grid_template_rows": null,
            "height": null,
            "justify_content": null,
            "justify_items": null,
            "left": null,
            "margin": null,
            "max_height": null,
            "max_width": null,
            "min_height": null,
            "min_width": null,
            "object_fit": null,
            "object_position": null,
            "order": null,
            "overflow": null,
            "overflow_x": null,
            "overflow_y": null,
            "padding": null,
            "right": null,
            "top": null,
            "visibility": null,
            "width": null
          }
        },
        "fd8648410f2c4c4f94b875d9b7aa75e1": {
          "model_module": "@jupyter-widgets/controls",
          "model_name": "ProgressStyleModel",
          "model_module_version": "1.5.0",
          "state": {
            "_model_module": "@jupyter-widgets/controls",
            "_model_module_version": "1.5.0",
            "_model_name": "ProgressStyleModel",
            "_view_count": null,
            "_view_module": "@jupyter-widgets/base",
            "_view_module_version": "1.2.0",
            "_view_name": "StyleView",
            "bar_color": null,
            "description_width": ""
          }
        },
        "c7456084ede14ef59bbba3c39c6f7d6c": {
          "model_module": "@jupyter-widgets/base",
          "model_name": "LayoutModel",
          "model_module_version": "1.2.0",
          "state": {
            "_model_module": "@jupyter-widgets/base",
            "_model_module_version": "1.2.0",
            "_model_name": "LayoutModel",
            "_view_count": null,
            "_view_module": "@jupyter-widgets/base",
            "_view_module_version": "1.2.0",
            "_view_name": "LayoutView",
            "align_content": null,
            "align_items": null,
            "align_self": null,
            "border": null,
            "bottom": null,
            "display": null,
            "flex": null,
            "flex_flow": null,
            "grid_area": null,
            "grid_auto_columns": null,
            "grid_auto_flow": null,
            "grid_auto_rows": null,
            "grid_column": null,
            "grid_gap": null,
            "grid_row": null,
            "grid_template_areas": null,
            "grid_template_columns": null,
            "grid_template_rows": null,
            "height": null,
            "justify_content": null,
            "justify_items": null,
            "left": null,
            "margin": null,
            "max_height": null,
            "max_width": null,
            "min_height": null,
            "min_width": null,
            "object_fit": null,
            "object_position": null,
            "order": null,
            "overflow": null,
            "overflow_x": null,
            "overflow_y": null,
            "padding": null,
            "right": null,
            "top": null,
            "visibility": null,
            "width": null
          }
        },
        "c7c803498ed44277b0b430bf37623562": {
          "model_module": "@jupyter-widgets/controls",
          "model_name": "DescriptionStyleModel",
          "model_module_version": "1.5.0",
          "state": {
            "_model_module": "@jupyter-widgets/controls",
            "_model_module_version": "1.5.0",
            "_model_name": "DescriptionStyleModel",
            "_view_count": null,
            "_view_module": "@jupyter-widgets/base",
            "_view_module_version": "1.2.0",
            "_view_name": "StyleView",
            "description_width": ""
          }
        }
      }
    }
  },
  "cells": [
    {
      "cell_type": "markdown",
      "metadata": {
        "id": "view-in-github",
        "colab_type": "text"
      },
      "source": [
        "<a href=\"https://colab.research.google.com/github/jecampagne/ML-toys/blob/main/Demo_SBI_HMC.ipynb\" target=\"_parent\"><img src=\"https://colab.research.google.com/assets/colab-badge.svg\" alt=\"Open In Colab\"/></a>"
      ]
    },
    {
      "cell_type": "code",
      "execution_count": 1,
      "metadata": {
        "colab": {
          "base_uri": "https://localhost:8080/"
        },
        "id": "wAmFAmUJ7Z1L",
        "outputId": "2b8fc496-aff1-47b6-b5db-a94388e1ae66"
      },
      "outputs": [
        {
          "output_type": "stream",
          "name": "stdout",
          "text": [
            "\u001b[K     |████████████████████████████████| 293 kB 5.3 MB/s \n",
            "\u001b[K     |████████████████████████████████| 722 kB 45.2 MB/s \n",
            "\u001b[K     |████████████████████████████████| 45 kB 1.1 MB/s \n",
            "\u001b[?25h  Building wheel for nflows (setup.py) ... \u001b[?25l\u001b[?25hdone\n"
          ]
        }
      ],
      "source": [
        "!pip install --upgrade --quiet sbi"
      ]
    },
    {
      "cell_type": "code",
      "source": [
        "!pip install --upgrade --quiet numpyro"
      ],
      "metadata": {
        "colab": {
          "base_uri": "https://localhost:8080/"
        },
        "id": "BLe-JQlP9Qfs",
        "outputId": "984a2d72-7dfb-4534-f6c9-366932e709dc"
      },
      "execution_count": 3,
      "outputs": [
        {
          "output_type": "stream",
          "name": "stdout",
          "text": [
            "\u001b[?25l\r\u001b[K     |█▏                              | 10 kB 18.8 MB/s eta 0:00:01\r\u001b[K     |██▎                             | 20 kB 6.6 MB/s eta 0:00:01\r\u001b[K     |███▍                            | 30 kB 9.2 MB/s eta 0:00:01\r\u001b[K     |████▌                           | 40 kB 4.4 MB/s eta 0:00:01\r\u001b[K     |█████▋                          | 51 kB 4.4 MB/s eta 0:00:01\r\u001b[K     |██████▊                         | 61 kB 5.2 MB/s eta 0:00:01\r\u001b[K     |███████▉                        | 71 kB 5.8 MB/s eta 0:00:01\r\u001b[K     |█████████                       | 81 kB 5.4 MB/s eta 0:00:01\r\u001b[K     |██████████                      | 92 kB 6.0 MB/s eta 0:00:01\r\u001b[K     |███████████▏                    | 102 kB 5.2 MB/s eta 0:00:01\r\u001b[K     |████████████▎                   | 112 kB 5.2 MB/s eta 0:00:01\r\u001b[K     |█████████████▍                  | 122 kB 5.2 MB/s eta 0:00:01\r\u001b[K     |██████████████▌                 | 133 kB 5.2 MB/s eta 0:00:01\r\u001b[K     |███████████████▊                | 143 kB 5.2 MB/s eta 0:00:01\r\u001b[K     |████████████████▉               | 153 kB 5.2 MB/s eta 0:00:01\r\u001b[K     |██████████████████              | 163 kB 5.2 MB/s eta 0:00:01\r\u001b[K     |███████████████████             | 174 kB 5.2 MB/s eta 0:00:01\r\u001b[K     |████████████████████▏           | 184 kB 5.2 MB/s eta 0:00:01\r\u001b[K     |█████████████████████▎          | 194 kB 5.2 MB/s eta 0:00:01\r\u001b[K     |██████████████████████▍         | 204 kB 5.2 MB/s eta 0:00:01\r\u001b[K     |███████████████████████▌        | 215 kB 5.2 MB/s eta 0:00:01\r\u001b[K     |████████████████████████▋       | 225 kB 5.2 MB/s eta 0:00:01\r\u001b[K     |█████████████████████████▊      | 235 kB 5.2 MB/s eta 0:00:01\r\u001b[K     |██████████████████████████▉     | 245 kB 5.2 MB/s eta 0:00:01\r\u001b[K     |████████████████████████████    | 256 kB 5.2 MB/s eta 0:00:01\r\u001b[K     |█████████████████████████████   | 266 kB 5.2 MB/s eta 0:00:01\r\u001b[K     |██████████████████████████████▎ | 276 kB 5.2 MB/s eta 0:00:01\r\u001b[K     |███████████████████████████████▍| 286 kB 5.2 MB/s eta 0:00:01\r\u001b[K     |████████████████████████████████| 292 kB 5.2 MB/s \n",
            "\u001b[?25h"
          ]
        }
      ]
    },
    {
      "cell_type": "code",
      "source": [
        "import numpy as np\n",
        "import jax\n",
        "import jax.numpy as jnp\n",
        "import numpyro\n",
        "\n",
        "import torch\n",
        "import pyro\n",
        "\n",
        "import torch.distributions as torch_dist\n",
        "\n",
        "import sbi\n",
        "from sbi.inference import SNPE, SNLE, SNRE, prepare_for_sbi, simulate_for_sbi\n",
        "from sbi.utils.get_nn_models import posterior_nn\n",
        "from sbi import utils as utils"
      ],
      "metadata": {
        "id": "bM6XrKHh9ZcE"
      },
      "execution_count": 68,
      "outputs": []
    },
    {
      "cell_type": "code",
      "source": [
        "# Replace version 3.2 by 3.5\n",
        "!pip uninstall -y matplotlib\n",
        "!pip install -q matplotlib==3.5.0\n",
        "# Needs Re-initialize the environment then pass to the next cell"
      ],
      "metadata": {
        "colab": {
          "base_uri": "https://localhost:8080/"
        },
        "id": "027tmBeCpQxo",
        "outputId": "841ececb-2b11-44ff-a3f0-b88debe367ea"
      },
      "execution_count": 2,
      "outputs": [
        {
          "output_type": "stream",
          "name": "stdout",
          "text": [
            "Found existing installation: matplotlib 3.5.0\n",
            "Uninstalling matplotlib-3.5.0:\n",
            "  Successfully uninstalled matplotlib-3.5.0\n"
          ]
        }
      ]
    },
    {
      "cell_type": "code",
      "source": [
        "import matplotlib as mpl\n",
        "import matplotlib.pyplot as plt\n",
        "import arviz as az\n",
        "import matplotlib.patches as mpatches"
      ],
      "metadata": {
        "id": "_6VvRY4k9op0"
      },
      "execution_count": 3,
      "outputs": []
    },
    {
      "cell_type": "code",
      "source": [
        "############\n",
        "def overplot_lines(axes, xs, reverse=False, **kwargs):\n",
        "    \"\"\"\n",
        "    Overplot lines on a figure generated by ``corner.corner``\n",
        "    Parameters\n",
        "    ----------\n",
        "    fig : Figure\n",
        "        The figure generated by a call to :func:`corner.corner`.\n",
        "    xs : array_like[ndim]\n",
        "       The values where the lines should be plotted. This must have ``ndim``\n",
        "       entries, where ``ndim`` is compatible with the :func:`corner.corner`\n",
        "       call that originally generated the figure. The entries can optionally\n",
        "       be ``None`` to omit the line in that axis.\n",
        "    reverse: bool\n",
        "       A boolean flag that should be set to 'True' if the corner plot itself\n",
        "       was plotted with 'reverse=True'.\n",
        "    **kwargs\n",
        "        Any remaining keyword arguments are passed to the ``ax.axvline``\n",
        "        method.\n",
        "    \"\"\"\n",
        "    K = len(xs)\n",
        "    if reverse:\n",
        "        for k1 in range(K):\n",
        "            if xs[k1] is not None:\n",
        "                axes[K - k1 - 1, K - k1 - 1].axvline(xs[k1], **kwargs)\n",
        "            for k2 in range(k1 + 1, K):\n",
        "                if xs[k1] is not None:\n",
        "                    axes[K - k2 - 1, K - k1 - 1].axvline(xs[k1], **kwargs)\n",
        "                if xs[k2] is not None:\n",
        "                    axes[K - k2 - 1, K - k1 - 1].axhline(xs[k2], **kwargs)\n",
        "\n",
        "    else:\n",
        "        for k1 in range(K):\n",
        "            if xs[k1] is not None:\n",
        "                axes[k1, k1].axvline(xs[k1], **kwargs)\n",
        "            for k2 in range(k1 + 1, K):\n",
        "                if xs[k1] is not None:\n",
        "                    axes[k2, k1].axvline(xs[k1], **kwargs)\n",
        "                if xs[k2] is not None:\n",
        "                    axes[k2, k1].axhline(xs[k2], **kwargs)\n",
        "\n",
        "def plot_params_kde(samples,hdi_probs=[0.393, 0.865, 0.989], \n",
        "                    patName=None, fname=None, pcut=None, reference_values=None, \n",
        "                    reference_color='k', label_size=10,labeller=None, limits=None,\n",
        "                   var_names=None, point_estimate=\"median\", figsize=(8,8)):\n",
        "    \"\"\"\n",
        "     limts = [[min_1,max_1], ... , [min_N, max_N]] N varaibles\n",
        "    \"\"\"\n",
        "        \n",
        "    if pcut is not None:\n",
        "        low = pcut[0]\n",
        "        up  = pcut[1] \n",
        "        #keep only data in the [low, up] percentiles ex. 0.5, 99.5\n",
        "        samples={name:value[(value>np.percentile(value,low)) &  (value<np.percentile(value,up))] \\\n",
        "          for name, value in samples.items()}\n",
        "        len_min = np.min([len(value) for name, value in samples.items()])\n",
        "        len_max = np.max([len(value) for name, value in samples.items()])\n",
        "        if (len_max-len_min)>0.01*len_max:\n",
        "            print(f\"Warning: pcut leads to min/max spls size = {len_min}/{len_max}\")\n",
        "        samples = {name:value[:len_min] for name, value in samples.items()}\n",
        "    \n",
        "    axs= az.plot_pair(\n",
        "            samples,\n",
        "            var_names=var_names,\n",
        "            kind=\"kde\",\n",
        "            labeller=labeller,\n",
        "            figsize=figsize,\n",
        "            marginal_kwargs={\"plot_kwargs\": {\"linewidth\": 2, \"c\": \"b\"}},\n",
        "            kde_kwargs={\n",
        "#                \"hdi_probs\": [0.68, 0.9],  # Plot 68% and 90% HDI contours\n",
        "                \"hdi_probs\":hdi_probs,  # 1, 2 and 3 sigma contours\n",
        "                \"contour_kwargs\":{\"colors\":('r', 'green', 'blue'), \"linewidths\":2},\n",
        "                \"contourf_kwargs\":{\"alpha\":0},\n",
        "            },\n",
        "            point_estimate_kwargs={\"lw\": 2, \"c\": \"b\"},\n",
        "            marginals=True, textsize=label_size, point_estimate=point_estimate,\n",
        "            reference_values=reference_values, reference_values_kwargs={\"c\":reference_color}\n",
        "        );\n",
        "    \n",
        "    if reference_values is not None:\n",
        "      overplot_lines(axs,list(reference_values.values()), color=reference_color)\n",
        "      if limits is not None:\n",
        "        assert len(limits) == len(samples.keys()), \"wrong number of limits\"\n",
        "        for i in range(0,axs.shape[0]):\n",
        "          for j in range(0,i+1):\n",
        "            if j == i:\n",
        "              axs[i,i].set_xlim(limits[i])\n",
        "            else:\n",
        "              axs[i,j].set_xlim(limits[j])\n",
        "              axs[i,j].set_ylim(limits[i])\n",
        "\n",
        "    plt.tight_layout()\n",
        "    \n",
        "    if patName is not None:\n",
        "#        patName_patch = mpatches.Patch(color='b', label=patName)\n",
        "#        axs[0,0].legend(handles=[patName_patch], fontsize=40, bbox_to_anchor=(1, 0.7));\n",
        "      fig = axs[0,0].get_figure()\n",
        "      fig.suptitle(patName)\n",
        "    if fname is not None:\n",
        "        plt.savefig(fname)\n",
        "        plt.close()\n",
        "    else:\n",
        "        plt.show();\n"
      ],
      "metadata": {
        "id": "DlRqcG8i9tqU"
      },
      "execution_count": 25,
      "outputs": []
    },
    {
      "cell_type": "code",
      "source": [
        "#torch, numpy, random seeds set manualy\n",
        "pyro.set_rng_seed(42)"
      ],
      "metadata": {
        "id": "taI-678B-E8d"
      },
      "execution_count": 5,
      "outputs": []
    },
    {
      "cell_type": "markdown",
      "source": [
        "# Data"
      ],
      "metadata": {
        "id": "sHDPGjwCewe8"
      }
    },
    {
      "cell_type": "code",
      "source": [
        "N = 50\n",
        "t = np.sort(np.random.rand(N))"
      ],
      "metadata": {
        "id": "UG6Ma71-_mqn"
      },
      "execution_count": 6,
      "outputs": []
    },
    {
      "cell_type": "code",
      "source": [
        "def make_data(theta, t):\n",
        "    a, mu, sig, b0, b1 = theta\n",
        "\n",
        "    signal = a * jnp.exp(-(mu-t)**2 / (2*sig**2))\n",
        "    bkgd  = b0 + b1*t\n",
        "\n",
        "    return signal + bkgd"
      ],
      "metadata": {
        "id": "hnozEvmG-cUN"
      },
      "execution_count": 7,
      "outputs": []
    },
    {
      "cell_type": "code",
      "source": [
        "theta_true = jnp.array([1, 0.5, 0.1, -0.1, 0.4])\n",
        "labels = [\"a\",\"mu\",\"sig\",\"b0\",\"b1\"]\n",
        "truth = {k:v for k,v in zip(labels, theta_true)}"
      ],
      "metadata": {
        "id": "Qr6cWJ95AiGl"
      },
      "execution_count": 8,
      "outputs": []
    },
    {
      "cell_type": "code",
      "source": [
        "x_o_noiseless = make_data(theta_true, t)"
      ],
      "metadata": {
        "id": "i7vUN3uZAv3N"
      },
      "execution_count": 9,
      "outputs": []
    },
    {
      "cell_type": "code",
      "source": [
        "key = jax.random.PRNGKey(42)\n",
        "key, subkey  = jax.random.split(key,2)\n",
        "sig_noise = jax.random.uniform(subkey,shape=(N,), minval=0.05, maxval=0.25) # non constant sigma of noise"
      ],
      "metadata": {
        "id": "Gt98KIs5A2ll"
      },
      "execution_count": 10,
      "outputs": []
    },
    {
      "cell_type": "code",
      "source": [
        "key, subkey  = jax.random.split(key,2)\n",
        "x_o = x_o_noiseless + jax.random.multivariate_normal(subkey, mean=jnp.array([0.]*N), cov=jnp.diag(sig_noise**2))"
      ],
      "metadata": {
        "id": "pEkgGikfBPTs"
      },
      "execution_count": 11,
      "outputs": []
    },
    {
      "cell_type": "code",
      "source": [
        "t_full = np.linspace(-0.2,1.2,100)\n",
        "x_full_no_noise = make_data(theta_true,t_full) \n",
        "plt.errorbar(t,x_o,yerr=sig_noise, fmt=\".k\", capsize=0, label=\"Data\");\n",
        "plt.plot(t_full, x_full_no_noise,c='r',label=\"Truth\")\n",
        "plt.legend();"
      ],
      "metadata": {
        "colab": {
          "base_uri": "https://localhost:8080/",
          "height": 265
        },
        "id": "LXWDBrmYLFSk",
        "outputId": "9b7f9351-6b08-4dcc-a64b-112a43163f5b"
      },
      "execution_count": 12,
      "outputs": [
        {
          "output_type": "display_data",
          "data": {
            "text/plain": [
              "<Figure size 432x288 with 1 Axes>"
            ],
            "image/png": "[encoded data removed]"
          },
          "metadata": {
            "needs_background": "light"
          }
        }
      ]
    },
    {
      "cell_type": "markdown",
      "source": [
        "# HMC"
      ],
      "metadata": {
        "id": "sWp3ywR7ez04"
      }
    },
    {
      "cell_type": "code",
      "source": [
        "import numpyro.distributions as dist\n",
        "from numpyro.infer import MCMC, NUTS"
      ],
      "metadata": {
        "id": "l765X9UiffTU"
      },
      "execution_count": 13,
      "outputs": []
    },
    {
      "cell_type": "code",
      "source": [
        "#def make_data(theta, t):\n",
        "#    a, mu, sig, b0, b1 = theta\n",
        "#\n",
        "#    signal = a * jnp.exp(-(mu-t)**2 / (2*sig**2))\n",
        "#    bkgd  = b0 + b1*t\n",
        "#\n",
        "#    return signal + bkgd"
      ],
      "metadata": {
        "id": "YTIeacN_fwWN"
      },
      "execution_count": 14,
      "outputs": []
    },
    {
      "cell_type": "code",
      "source": [
        "truth"
      ],
      "metadata": {
        "colab": {
          "base_uri": "https://localhost:8080/"
        },
        "id": "5665ucvhzamy",
        "outputId": "0d46d2a8-27a9-4e59-9fcd-b105c9115af0"
      },
      "execution_count": 51,
      "outputs": [
        {
          "output_type": "execute_result",
          "data": {
            "text/plain": [
              "{'a': DeviceArray(1., dtype=float32),\n",
              " 'mu': DeviceArray(0.5, dtype=float32),\n",
              " 'sig': DeviceArray(0.1, dtype=float32),\n",
              " 'b0': DeviceArray(-0.1, dtype=float32),\n",
              " 'b1': DeviceArray(0.4, dtype=float32)}"
            ]
          },
          "metadata": {},
          "execution_count": 51
        }
      ]
    },
    {
      "cell_type": "code",
      "source": [
        "def model(t, x_o=None, sig_noise=0.1):\n",
        "\n",
        "    # define parameters with priors\n",
        "    a = numpyro.sample('a', dist.Uniform(-2, 2))\n",
        "    mu = numpyro.sample('mu', dist.Uniform(-2, 2))\n",
        "    sig =  numpyro.sample('sig', dist.InverseGamma(1.0, rate=1.0))\n",
        "    b0 = numpyro.sample('b0', dist.Uniform(-2, 2))\n",
        "    b1 = numpyro.sample('b1', dist.Uniform(-2, 2))\n",
        "\n",
        "    # implement the model\n",
        "    theta = jnp.array([a,mu,sig,b0,b1])\n",
        "    x = make_data(theta,t)\n",
        "\n",
        "    # condition the model to the observation x_o\n",
        "    numpyro.sample('obs', dist.Normal(x, sig_noise), obs=x_o)\n"
      ],
      "metadata": {
        "id": "X47S1t2EdPKM"
      },
      "execution_count": 55,
      "outputs": []
    },
    {
      "cell_type": "code",
      "source": [
        "key, subkey  = jax.random.split(key,2)"
      ],
      "metadata": {
        "id": "jGCVgvNdl0a1"
      },
      "execution_count": 56,
      "outputs": []
    },
    {
      "cell_type": "code",
      "source": [
        "# run HMC with NUTS\n",
        "kernel = NUTS(model, target_accept_prob=0.9)\n",
        "mcmc = MCMC(kernel, num_warmup=1000, num_samples=3000)\n",
        "mcmc.run(subkey, t=t, x_o = x_o, sig_noise=sig_noise)\n",
        "mcmc.print_summary()"
      ],
      "metadata": {
        "colab": {
          "base_uri": "https://localhost:8080/"
        },
        "id": "vfR_eDXwlSOd",
        "outputId": "30650d0f-bf8c-49c5-ccd7-6ac7b1154925"
      },
      "execution_count": 57,
      "outputs": [
        {
          "output_type": "stream",
          "name": "stderr",
          "text": [
            "sample: 100%|██████████| 4000/4000 [00:10<00:00, 373.83it/s, 15 steps of size 2.77e-01. acc. prob=0.95]\n"
          ]
        },
        {
          "output_type": "stream",
          "name": "stdout",
          "text": [
            "\n",
            "                mean       std    median      5.0%     95.0%     n_eff     r_hat\n",
            "         a      1.07      0.05      1.07      0.98      1.14   2305.64      1.00\n",
            "        b0     -0.11      0.03     -0.11     -0.15     -0.06   1734.06      1.00\n",
            "        b1      0.35      0.06      0.36      0.25      0.45   2025.42      1.00\n",
            "        mu      0.50      0.01      0.50      0.49      0.51   2718.99      1.00\n",
            "       sig      0.11      0.01      0.11      0.10      0.12   2442.56      1.00\n",
            "\n",
            "Number of divergences: 0\n"
          ]
        }
      ]
    },
    {
      "cell_type": "code",
      "source": [
        "hmc_spls = mcmc.get_samples()"
      ],
      "metadata": {
        "id": "7iNISSg6lxPU"
      },
      "execution_count": 58,
      "outputs": []
    },
    {
      "cell_type": "code",
      "source": [
        "plot_params_kde(hmc_spls,var_names=labels, figsize=(8,8), limits=None,\n",
        "            point_estimate=None, reference_values=truth, reference_color='r',\n",
        "            patName=\"HMC\", fname=None);\n"
      ],
      "metadata": {
        "colab": {
          "base_uri": "https://localhost:8080/",
          "height": 585
        },
        "id": "07KZP_q0mDA9",
        "outputId": "0e388364-7380-4bbe-931f-b6ad944d336d"
      },
      "execution_count": 59,
      "outputs": [
        {
          "output_type": "display_data",
          "data": {
            "text/plain": [
              "<Figure size 576x576 with 15 Axes>"
            ],
            "image/png": "[encoded data removed]"
          },
          "metadata": {
            "needs_background": "light"
          }
        }
      ]
    },
    {
      "cell_type": "code",
      "source": [
        "from numpyro.infer import Predictive"
      ],
      "metadata": {
        "id": "3iyIyd4loKSN"
      },
      "execution_count": 60,
      "outputs": []
    },
    {
      "cell_type": "code",
      "source": [
        "predictive = Predictive(model, posterior_samples=hmc_spls)\n",
        "# need to set noise to zero\n",
        "# since the full model contains noise contribution\n",
        "predictions = predictive(subkey, t=t_full, sig_noise=0.0)['obs']\n"
      ],
      "metadata": {
        "id": "XkGSBJ9xsGj0"
      },
      "execution_count": 61,
      "outputs": []
    },
    {
      "cell_type": "code",
      "source": [
        "predictions.shape"
      ],
      "metadata": {
        "colab": {
          "base_uri": "https://localhost:8080/"
        },
        "id": "xhT-m2wjweGR",
        "outputId": "91ac350e-22d1-4b70-a39e-2409ca3085c4"
      },
      "execution_count": 62,
      "outputs": [
        {
          "output_type": "execute_result",
          "data": {
            "text/plain": [
              "(3000, 100)"
            ]
          },
          "metadata": {},
          "execution_count": 62
        }
      ]
    },
    {
      "cell_type": "code",
      "source": [
        "# select 50 predictions to show\n",
        "inds = jax.random.randint(subkey, (50,) , 0, mcmc.num_samples)\n",
        "predictions = predictions[inds]\n"
      ],
      "metadata": {
        "id": "J-XpapCsuoVF"
      },
      "execution_count": 63,
      "outputs": []
    },
    {
      "cell_type": "code",
      "source": [
        "predictions.shape"
      ],
      "metadata": {
        "colab": {
          "base_uri": "https://localhost:8080/"
        },
        "id": "0O2sflBdxPLJ",
        "outputId": "cfd1a1c7-c221-451d-b8a8-b37ddec86934"
      },
      "execution_count": 64,
      "outputs": [
        {
          "output_type": "execute_result",
          "data": {
            "text/plain": [
              "(50, 100)"
            ]
          },
          "metadata": {},
          "execution_count": 64
        }
      ]
    },
    {
      "cell_type": "code",
      "source": [
        "t_full = np.linspace(-0.2,1.2,100)\n",
        "x_full_no_noise = make_data(theta_true,t_full) \n",
        "plt.errorbar(t,x_o,yerr=sig_noise, fmt=\".k\", capsize=0, label=\"Data\");\n",
        "plt.plot(t_full, x_full_no_noise,c='r',label=\"Truth\")\n",
        "for i in range(predictions.shape[0]):\n",
        "  if i==0:\n",
        "    tag=\"HMC noise free\"\n",
        "  else:\n",
        "    tag=None\n",
        "  plt.plot(t_full, predictions[i],c=\"C0\",alpha=0.2, zorder=-1,label=tag);\n",
        "plt.legend();"
      ],
      "metadata": {
        "colab": {
          "base_uri": "https://localhost:8080/",
          "height": 265
        },
        "id": "TJPmNEs8xAr5",
        "outputId": "31f1eb95-89d2-439f-f848-546cd762e1cf"
      },
      "execution_count": 66,
      "outputs": [
        {
          "output_type": "display_data",
          "data": {
            "text/plain": [
              "<Figure size 432x288 with 1 Axes>"
            ],
            "image/png": "[encoded data removed]"
          },
          "metadata": {
            "needs_background": "light"
          }
        }
      ]
    },
    {
      "cell_type": "markdown",
      "source": [
        "#SBI"
      ],
      "metadata": {
        "id": "uvqx9zNqy90r"
      }
    },
    {
      "cell_type": "code",
      "source": [
        "import pyro.distributions as pyro_dist"
      ],
      "metadata": {
        "id": "yvsYMtlyz5q1"
      },
      "execution_count": 69,
      "outputs": []
    },
    {
      "cell_type": "code",
      "source": [
        "# theta param priors\n",
        "prior_a = pyro_dist.Uniform(-2.0*torch.ones(1,device=\"cpu\"),2.0*torch.ones(1, device=\"cpu\")) \n",
        "prior_mu = pyro_dist.Uniform(-2.0*torch.ones(1,device=\"cpu\"),2.0*torch.ones(1, device=\"cpu\")) \n",
        "prior_sig = pyro_dist.InverseGamma(1.0*torch.ones(1,device=\"cpu\"), rate=1.0*torch.ones(1,device=\"cpu\"))\n",
        "prior_b0 = pyro_dist.Uniform(-2.0*torch.ones(1,device=\"cpu\"),2.0*torch.ones(1, device=\"cpu\")) \n",
        "prior_b1 = pyro_dist.Uniform(-2.0*torch.ones(1,device=\"cpu\"),2.0*torch.ones(1, device=\"cpu\")) "
      ],
      "metadata": {
        "id": "CCRe0P2zxyC5"
      },
      "execution_count": 83,
      "outputs": []
    },
    {
      "cell_type": "code",
      "source": [
        "# Take care of the order\n",
        "prior = [prior_a, prior_mu, prior_sig, prior_b0, prior_b1]"
      ],
      "metadata": {
        "id": "sgfOps-V1S1p"
      },
      "execution_count": 84,
      "outputs": []
    },
    {
      "cell_type": "code",
      "source": [
        "# the simulator \n",
        "def simulator(theta, t, sig_noise):\n",
        "\n",
        "  theta = theta.cpu().numpy()  # torch to numpy\n",
        "\n",
        "  x_noiseless = make_data(theta, t) # here takes the JAX version\n",
        "  x_noiseless = torch.tensor(np.asarray(x_noiseless))  #JAX -> torch\n",
        "\n",
        "  # add noise consistent with true observation\n",
        "  x = x_noiseless + sig_noise * torch.randn(t.shape[0])\n",
        "  \n",
        "  return x.to(device=\"cpu\")\n"
      ],
      "metadata": {
        "id": "-Vt8BS3a1hvx"
      },
      "execution_count": 102,
      "outputs": []
    },
    {
      "cell_type": "code",
      "source": [
        "#simulator(torch.tensor(np.asarray(theta_true)), t, torch.tensor(np.asarray(sig_noise)))"
      ],
      "metadata": {
        "id": "Q0rVb8xL8C4U"
      },
      "execution_count": 108,
      "outputs": []
    },
    {
      "cell_type": "code",
      "source": [
        "# conditions the simulator with the location of the data (t) and the noise sigma\n",
        "cond_simulator = lambda theta: simulator(theta,t,  torch.tensor(np.asarray(sig_noise)))\n"
      ],
      "metadata": {
        "id": "IJPHvqg75GUG"
      },
      "execution_count": 109,
      "outputs": []
    },
    {
      "cell_type": "code",
      "source": [
        "#adapt/check the prior & simulator for SBI\n",
        "cond_simulator, prior = prepare_for_sbi(cond_simulator, prior)\n"
      ],
      "metadata": {
        "colab": {
          "base_uri": "https://localhost:8080/"
        },
        "id": "Glt7D5Tu4Yjr",
        "outputId": "87427116-eed1-4241-cbdf-81f371f61b2b"
      },
      "execution_count": 110,
      "outputs": [
        {
          "output_type": "stream",
          "name": "stderr",
          "text": [
            "/usr/local/lib/python3.7/dist-packages/sbi/utils/user_input_checks.py:67: UserWarning: Prior was provided as a sequence of 5 priors. They will be\n",
            "            interpreted as independent of each other and matched in order to the\n",
            "            components of the parameter.\n",
            "  components of the parameter.\"\"\"\n"
          ]
        }
      ]
    },
    {
      "cell_type": "code",
      "source": [
        "x_o_tensor = torch.tensor(np.asarray(x_o))[None]"
      ],
      "metadata": {
        "id": "A33HIaylIQI6"
      },
      "execution_count": null,
      "outputs": []
    },
    {
      "cell_type": "code",
      "source": [
        "def do_multi_pass(num_simu = 10_000, num_rounds = 5, max_num_epochs=1_000):\n",
        "\n",
        "    # multi rounds: first round simulates from the prior, second round simulates parameter set\n",
        "    # that were sampled from the obtained posterior.\n",
        "    # The specific observation we want to focus the inference on is x_o (single)\n",
        "\n",
        "    # default:  hidden_features: int = 50, num_transforms: int = 5,  num_blocks: int = 2,\n",
        "    density_estimator_build_fun = posterior_nn(model=\"maf\",  hidden_features=64)\n",
        "    inference = SNPE(prior=prior, device=\"cpu\",\n",
        "                     density_estimator=density_estimator_build_fun)\n",
        "\n",
        "\n",
        "    proposal = prior\n",
        "\n",
        "    for i in range(num_rounds):\n",
        "        if i==0:\n",
        "            theta, x = simulate_for_sbi(cond_simulator, proposal, num_simulations=num_simu)\n",
        "        else:\n",
        "            theta = proposal.sample((num_simu,))\n",
        "            x = cond_simulator(theta)\n",
        "\n",
        "        density_estimator = inference.append_simulations(\n",
        "            theta, x, proposal=proposal\n",
        "            ).train(max_num_epochs=max_num_epochs)\n",
        "          \n",
        "        posterior = inference.build_posterior(density_estimator)\n",
        "        proposal = posterior.set_default_x(x_o_tensor) \n",
        "\n",
        "    return  posterior"
      ],
      "metadata": {
        "id": "xAFerGCt4cbK"
      },
      "execution_count": 126,
      "outputs": []
    },
    {
      "cell_type": "code",
      "source": [
        "posterior = do_multi_pass(num_simu = 10_000, num_rounds = 5)"
      ],
      "metadata": {
        "colab": {
          "base_uri": "https://localhost:8080/",
          "height": 136,
          "referenced_widgets": [
            "edb2c5e1a0f04319aa56db8a94a704c1",
            "77b2f39b71674fbea6882d689112797b",
            "96b98463801b47ec867506ed9466fbb7",
            "914f0010637446e0a6890c2f1b35df47",
            "0d380763eb6f45e3ae53a23ef8301fda",
            "501740912ce645d9a9ddf283438b286a",
            "2a44942b196e4ef0996330663b3a0b01",
            "b21b1e3a11c0443a9ea1cf67fc4ef2e9",
            "d5e28bce3f184810902ab7f0dd13c48e",
            "e0f6a8c1637943b380622fd5e2f81498",
            "3382b857f0114fc9ae569d0dad50a641",
            "4cf71885a7f941c885e61330b33852d6",
            "762e937f3d2d4a938781770e791ae1e4",
            "69e12b17f164493ca0383082b81576bc",
            "040f251e822b49ea969485ae8a7da30c",
            "4a6928248126438cbe60f53689a407ea",
            "c77ef6a2225a4daf9447bc4514af1624",
            "2fffc5221dbc4307b43c9d8b90f0be67",
            "e44059d4a5f3429baaa7bfc410d848f9",
            "0bd7dcbbb3f042fc8a73cf25c77576c4",
            "edc09811380e4785b0192757c0eff19a",
            "45027b22482c49eaa9174653920cb212"
          ]
        },
        "id": "UTXsp8FQEKEy",
        "outputId": "34b4631d-b036-46c9-a511-f2fb15aa0b37"
      },
      "execution_count": null,
      "outputs": [
        {
          "output_type": "display_data",
          "data": {
            "text/plain": [
              "Running 10000 simulations.:   0%|          | 0/10000 [00:00<?, ?it/s]"
            ],
            "application/vnd.jupyter.widget-view+json": {
              "version_major": 2,
              "version_minor": 0,
              "model_id": "edb2c5e1a0f04319aa56db8a94a704c1"
            }
          },
          "metadata": {}
        },
        {
          "output_type": "stream",
          "name": "stdout",
          "text": [
            " Neural network successfully converged after 94 epochs."
          ]
        },
        {
          "output_type": "display_data",
          "data": {
            "text/plain": [
              "Drawing 10000 posterior samples:   0%|          | 0/10000 [00:00<?, ?it/s]"
            ],
            "application/vnd.jupyter.widget-view+json": {
              "version_major": 2,
              "version_minor": 0,
              "model_id": "4cf71885a7f941c885e61330b33852d6"
            }
          },
          "metadata": {}
        },
        {
          "output_type": "stream",
          "name": "stdout",
          "text": [
            "Using SNPE-C with atomic loss\n",
            " Training neural network. Epochs trained: 39"
          ]
        }
      ]
    },
    {
      "cell_type": "code",
      "source": [],
      "metadata": {
        "id": "xWhARsMBGTx9"
      },
      "execution_count": 115,
      "outputs": []
    },
    {
      "cell_type": "code",
      "source": [
        "sbi_samples = posterior.sample((10000,), x=x_o_tensor)\n",
        "sbi_samples = sbi_samples.detach().numpy()"
      ],
      "metadata": {
        "colab": {
          "base_uri": "https://localhost:8080/",
          "height": 49,
          "referenced_widgets": [
            "6be72478c5664d1f86b1c644b6270291",
            "2140b14be1374091a2f227160c388642",
            "71cf265342aa4532ba4baa7bc34c5fdd",
            "1ccdc5e9e6714eb5838fc073e8f2a7d7",
            "b43a7f02ec584c89836bad528e13daf4",
            "973582d6187942aeb8578a7a29a050e2",
            "c6432837b704477e878cf86d2f8d626d",
            "c0742e0860b74a4982c828963481f83a",
            "fd8648410f2c4c4f94b875d9b7aa75e1",
            "c7456084ede14ef59bbba3c39c6f7d6c",
            "c7c803498ed44277b0b430bf37623562"
          ]
        },
        "id": "0bL8deXNEaHW",
        "outputId": "abb97718-5a52-4e31-f82e-5ac44b36e1fe"
      },
      "execution_count": 116,
      "outputs": [
        {
          "output_type": "display_data",
          "data": {
            "text/plain": [
              "Drawing 10000 posterior samples:   0%|          | 0/10000 [00:00<?, ?it/s]"
            ],
            "application/vnd.jupyter.widget-view+json": {
              "version_major": 2,
              "version_minor": 0,
              "model_id": "6be72478c5664d1f86b1c644b6270291"
            }
          },
          "metadata": {}
        }
      ]
    },
    {
      "cell_type": "code",
      "source": [
        "sbi_samples.shape"
      ],
      "metadata": {
        "colab": {
          "base_uri": "https://localhost:8080/"
        },
        "id": "lHLiDzm2GxJB",
        "outputId": "9487175e-a2ed-43f4-a7b5-1230c922b4bf"
      },
      "execution_count": 118,
      "outputs": [
        {
          "output_type": "execute_result",
          "data": {
            "text/plain": [
              "(10000, 5)"
            ]
          },
          "metadata": {},
          "execution_count": 118
        }
      ]
    },
    {
      "cell_type": "code",
      "source": [
        "values = [sbi_samples[:,i]for i in range(sbi_samples.shape[1])]\n",
        "sbi_spls = dict(zip(labels,values))"
      ],
      "metadata": {
        "id": "35YwCN6uGlaK"
      },
      "execution_count": 121,
      "outputs": []
    },
    {
      "cell_type": "code",
      "source": [
        "plot_params_kde(sbi_spls,var_names=labels, figsize=(8,8), limits=None,\n",
        "            point_estimate=None, reference_values=truth, reference_color='r',\n",
        "            patName=\"SNPE\", fname=None);\n"
      ],
      "metadata": {
        "colab": {
          "base_uri": "https://localhost:8080/",
          "height": 585
        },
        "id": "T7aY_o0JG_GB",
        "outputId": "cf0b9143-82a2-4d8d-fdd0-233e0d052b1a"
      },
      "execution_count": 122,
      "outputs": [
        {
          "output_type": "display_data",
          "data": {
            "text/plain": [
              "<Figure size 576x576 with 15 Axes>"
            ],
            "image/png": "[encoded data removed]"
          },
          "metadata": {
            "needs_background": "light"
          }
        }
      ]
    },
    {
      "cell_type": "code",
      "source": [],
      "metadata": {
        "id": "V-4GSliVHYZa"
      },
      "execution_count": null,
      "outputs": []
    }
  ]
}