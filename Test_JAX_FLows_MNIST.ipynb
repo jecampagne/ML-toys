{
  "cells": [
    {
      "cell_type": "markdown",
      "metadata": {
        "id": "view-in-github",
        "colab_type": "text"
      },
      "source": [
        "<a href=\"https://colab.research.google.com/github/jecampagne/ML-toys/blob/main/Test_JAX_FLows_MNIST.ipynb\" target=\"_parent\"><img src=\"https://colab.research.google.com/assets/colab-badge.svg\" alt=\"Open In Colab\"/></a>"
      ]
    },
    {
      "cell_type": "code",
      "execution_count": null,
      "metadata": {
        "colab": {
          "base_uri": "https://localhost:8080/"
        },
        "id": "VfWiomtHCg_J",
        "outputId": "8b4edca0-c3ef-43cd-cba5-081454d99893"
      },
      "outputs": [
        {
          "name": "stdout",
          "output_type": "stream",
          "text": [
            "\u001b[K     |████████████████████████████████| 272 kB 9.1 MB/s \n",
            "\u001b[K     |████████████████████████████████| 350 kB 50.9 MB/s \n",
            "\u001b[K     |████████████████████████████████| 145 kB 58.9 MB/s \n",
            "\u001b[K     |████████████████████████████████| 85 kB 3.1 MB/s \n",
            "\u001b[?25h"
          ]
        }
      ],
      "source": [
        "!pip install -q distrax dm-haiku optax\n"
      ]
    },
    {
      "cell_type": "code",
      "execution_count": null,
      "metadata": {
        "id": "MvBKyXzs4G59"
      },
      "outputs": [],
      "source": [
        "import matplotlib as mpl\n",
        "import matplotlib.pyplot as plt\n",
        "import matplotlib.ticker as mticker\n",
        "mpl.rc('image', cmap='jet')\n",
        "mpl.rcParams['font.size'] = 16\n",
        "from mpl_toolkits.axes_grid1 import make_axes_locatable\n",
        "\n",
        "\n",
        "from typing import Any, Mapping, Sequence, Tuple, Iterator, Optional\n",
        "\n",
        "import distrax\n",
        "import haiku as hk\n",
        "import jax\n",
        "import jax.numpy as jnp\n",
        "import matplotlib.pyplot as plt\n",
        "import numpy as np\n",
        "import optax\n",
        "from distrax._src.bijectors.bijector import Array\n",
        "from tensorflow_probability.substrates import jax as tfp\n",
        "\n",
        "tfd = tfp.distributions\n",
        "tfb = tfp.bijectors\n",
        "tfpk = tfp.math.psd_kernels\n",
        "\n",
        "import tensorflow_datasets as tfds # to load MNIST"
      ]
    },
    {
      "cell_type": "code",
      "execution_count": null,
      "metadata": {
        "colab": {
          "base_uri": "https://localhost:8080/"
        },
        "id": "abNiINQc57-t",
        "outputId": "7d3cdb4f-4c4e-4cac-d934-7c5ff25009eb"
      },
      "outputs": [
        {
          "name": "stdout",
          "output_type": "stream",
          "text": [
            "0.16.0 0.1.2 0.1.3 0.0.8\n"
          ]
        }
      ],
      "source": [
        "print(tfp.__version__, distrax.__version__, optax.__version__, hk.__version__)"
      ]
    },
    {
      "cell_type": "code",
      "execution_count": null,
      "metadata": {
        "id": "49gcL3j1fJVR"
      },
      "outputs": [],
      "source": [
        "#avoid boring Warnings\n",
        "import logging\n",
        "logger = logging.getLogger()\n",
        "\n",
        "\n",
        "class CheckTypesFilter(logging.Filter):\n",
        "    def filter(self, record):\n",
        "        return \"check_types\" not in record.getMessage()\n",
        "\n",
        "\n",
        "logger.addFilter(CheckTypesFilter())\n"
      ]
    },
    {
      "cell_type": "code",
      "execution_count": null,
      "metadata": {
        "id": "szo0oTugGKmw"
      },
      "outputs": [],
      "source": [
        "Array = jnp.ndarray\n",
        "PRNGKey = Array\n",
        "Batch = Mapping[str, np.ndarray]\n",
        "OptState = Any\n",
        "\n",
        "MODEL = 'MAF' # \n",
        "TARGET_DENSITY = 'MNIST'\n",
        "\n",
        "MNIST_IMAGE_SHAPE = (28, 28, 1)\n",
        "\n",
        "\n",
        "if MODEL == 'MAF':\n",
        "  FLOW_NUM_LAYERS = 8\n",
        "  HIDDEN_SIZE = 512\n",
        "  MLP_NUM_LAYERS = 2\n",
        "  FLOW_NUM_PARAMS = 8\n",
        "else:\n",
        "  print(\"no other model implemented\")\n",
        "\n",
        "\n",
        "\n"
      ]
    },
    {
      "cell_type": "code",
      "execution_count": null,
      "metadata": {
        "id": "uQx_RK6-qZLD"
      },
      "outputs": [],
      "source": [
        "def load_dataset(split: tfds.Split, batch_size: int) -> Iterator[Batch]:\n",
        "    ds = tfds.load(\"mnist\", split=split, shuffle_files=True)\n",
        "    ds = ds.shuffle(buffer_size=10 * batch_size)\n",
        "    ds = ds.batch(batch_size)\n",
        "    ds = ds.prefetch(buffer_size=5)\n",
        "    ds = ds.repeat()\n",
        "    return iter(tfds.as_numpy(ds))\n"
      ]
    },
    {
      "cell_type": "code",
      "execution_count": null,
      "metadata": {
        "colab": {
          "base_uri": "https://localhost:8080/",
          "height": 106,
          "referenced_widgets": [
            "cbe2553067c248dc957112387002f7f8",
            "8c702e5151294efd8ede007780f5f4ef",
            "2afe2d42bd094d98852d62b5ab84586d",
            "9a6715af923244f8a43e6ee4002baf95",
            "efebfc71f09a4f408f7fb0a1b5eb9858",
            "580fc669ec7e49eeaa39710014eaecf0",
            "d8a2aad6c75a485087d32bcf70be7946",
            "055064f543fc4588a08020c0716e6daa",
            "041c67903d3d4d658d21cb3ff55c5ee2",
            "074b98cb1d1d4b3ea440fbfd992de6ea",
            "ab0b8cfd97e04adaa4ebeb79f652e904"
          ]
        },
        "id": "MZWclUcc2HUc",
        "outputId": "ed0241b0-5eac-4538-991b-71562389fe03"
      },
      "outputs": [
        {
          "name": "stdout",
          "output_type": "stream",
          "text": [
            "\u001b[1mDownloading and preparing dataset 11.06 MiB (download: 11.06 MiB, generated: 21.00 MiB, total: 32.06 MiB) to ~/tensorflow_datasets/mnist/3.0.1...\u001b[0m\n"
          ]
        },
        {
          "data": {
            "application/vnd.jupyter.widget-view+json": {
              "model_id": "cbe2553067c248dc957112387002f7f8",
              "version_major": 2,
              "version_minor": 0
            },
            "text/plain": [
              "Dl Completed...:   0%|          | 0/4 [00:00<?, ? file/s]"
            ]
          },
          "metadata": {},
          "output_type": "display_data"
        },
        {
          "name": "stdout",
          "output_type": "stream",
          "text": [
            "\u001b[1mDataset mnist downloaded and prepared to ~/tensorflow_datasets/mnist/3.0.1. Subsequent calls will reuse this data.\u001b[0m\n"
          ]
        }
      ],
      "source": [
        "data_batch =  load_dataset(\n",
        "        tfds.Split.TRAIN, batch_size=16)\n",
        "data = next(data_batch)"
      ]
    },
    {
      "cell_type": "code",
      "execution_count": null,
      "metadata": {
        "colab": {
          "base_uri": "https://localhost:8080/"
        },
        "id": "JD2yiLf6q7PY",
        "outputId": "3b8c707e-6c6c-4024-fd0b-7417aa6d2a17"
      },
      "outputs": [
        {
          "name": "stdout",
          "output_type": "stream",
          "text": [
            "Mounted at /content/gdrive\n"
          ]
        }
      ],
      "source": [
        "# mount drive\n",
        "from google.colab import drive\n",
        "drive.mount('/content/gdrive')\n",
        "\n"
      ]
    },
    {
      "cell_type": "code",
      "execution_count": null,
      "metadata": {
        "colab": {
          "base_uri": "https://localhost:8080/"
        },
        "id": "lJnKRT0vrmdV",
        "outputId": "3fa905b5-0b53-4737-fe92-aae4ccc7afd4"
      },
      "outputs": [
        {
          "name": "stdout",
          "output_type": "stream",
          "text": [
            "mkdir: cannot create directory ‘/content/gdrive/MyDrive/Images’: File exists\n"
          ]
        }
      ],
      "source": [
        "images_dir = '/content/gdrive/MyDrive/Images'\n",
        "! mkdir '/content/gdrive/MyDrive/Images'"
      ]
    },
    {
      "cell_type": "code",
      "execution_count": null,
      "metadata": {
        "colab": {
          "base_uri": "https://localhost:8080/"
        },
        "id": "n6CJFBzQsXfF",
        "outputId": "3dfed15a-021b-44ad-a961-ee1d24d07925"
      },
      "outputs": [
        {
          "data": {
            "text/plain": [
              "((16, 28, 28, 1), (16,), 4)"
            ]
          },
          "execution_count": 10,
          "metadata": {},
          "output_type": "execute_result"
        }
      ],
      "source": [
        "data['image'].shape, data['label'].shape,data['label'][1]"
      ]
    },
    {
      "cell_type": "code",
      "execution_count": null,
      "metadata": {
        "id": "4rkpMDE0vEQs"
      },
      "outputs": [],
      "source": [
        "def plot_image(imgs, title=''):\n",
        "  imgs = imgs.squeeze()\n",
        "  N=imgs.shape[0]\n",
        "  cols = rows = int(np.ceil(np.sqrt(N)))\n",
        "  fig, axes = plt.subplots(rows, cols, figsize=(2 * cols, 2 * rows), sharey=True,sharex=True)\n",
        "  for i in range(N):\n",
        "      r = int(i // rows)\n",
        "      c = int(i % cols)\n",
        "      ax = axes[r, c]\n",
        "      ax.imshow(imgs[i], cmap=\"gray_r\")\n",
        "      ax.set_xticks([])\n",
        "      ax.set_yticks([])\n",
        "  plt.subplots_adjust(wspace=0,hspace=0)\n",
        "  fig.suptitle(title)\n"
      ]
    },
    {
      "cell_type": "code",
      "execution_count": null,
      "metadata": {
        "colab": {
          "base_uri": "https://localhost:8080/",
          "height": 469
        },
        "id": "BYNRt59EvuKn",
        "outputId": "5bd9d116-ff94-40f3-ee6d-60ff3fe32cba"
      },
      "outputs": [
        {
          "data": {
            "image/png": "[encoded data removed]",
            "text/plain": [
              "<Figure size 576x576 with 16 Axes>"
            ]
          },
          "metadata": {},
          "output_type": "display_data"
        }
      ],
      "source": [
        "plot_image(data['image'])\n",
        "plt.savefig(f\"{images_dir}/jax_NF_plots_{MODEL}_{TARGET_DENSITY}_true_pdf.pdf\")"
      ]
    },
    {
      "cell_type": "code",
      "execution_count": null,
      "metadata": {
        "colab": {
          "base_uri": "https://localhost:8080/"
        },
        "id": "OI184D78-_VD",
        "outputId": "bdea6d86-d2d2-43b0-8d47-197806b7a607"
      },
      "outputs": [
        {
          "name": "stderr",
          "output_type": "stream",
          "text": [
            "WARNING:absl:No GPU/TPU found, falling back to CPU. (Set TF_CPP_MIN_LOG_LEVEL=0 and rerun for more info.)\n"
          ]
        }
      ],
      "source": [
        "mask = jnp.arange(0, np.prod(MNIST_IMAGE_SHAPE)) % 2  # every second element is masked\n",
        "mask = jnp.reshape(mask, MNIST_IMAGE_SHAPE)\n",
        "#mask = mask.astype(bool)\n"
      ]
    },
    {
      "cell_type": "code",
      "execution_count": null,
      "metadata": {
        "colab": {
          "base_uri": "https://localhost:8080/"
        },
        "id": "fQtKLzl3_Ujw",
        "outputId": "b29634a7-7546-4fd0-95eb-a61ea44adfa0"
      },
      "outputs": [
        {
          "data": {
            "text/plain": [
              "(28, 28, 1)"
            ]
          },
          "execution_count": 14,
          "metadata": {},
          "output_type": "execute_result"
        }
      ],
      "source": [
        "mask.shape"
      ]
    },
    {
      "cell_type": "code",
      "execution_count": null,
      "metadata": {
        "colab": {
          "base_uri": "https://localhost:8080/",
          "height": 290
        },
        "id": "Z9s7mAF4_IhH",
        "outputId": "94e2221f-555f-4f98-9177-810bdc17885c"
      },
      "outputs": [
        {
          "data": {
            "text/plain": [
              "<matplotlib.image.AxesImage at 0x7f51b6cb5d90>"
            ]
          },
          "execution_count": 15,
          "metadata": {},
          "output_type": "execute_result"
        },
        {
          "data": {
            "image/png": "[encoded data removed]",
            "text/plain": [
              "<Figure size 432x288 with 1 Axes>"
            ]
          },
          "metadata": {},
          "output_type": "display_data"
        }
      ],
      "source": [
        "plt.imshow(mask.squeeze())"
      ]
    },
    {
      "cell_type": "code",
      "execution_count": null,
      "metadata": {
        "id": "ZfxGzkf7tmR4"
      },
      "outputs": [],
      "source": [
        "def make_conditioner(\n",
        "    event_shape: Sequence[int], hidden_sizes: Sequence[int], num_bijector_params: int\n",
        ") -> hk.Sequential:\n",
        "\n",
        "    return hk.Sequential(\n",
        "        [\n",
        "            hk.Flatten(preserve_dims=-len(event_shape)),\n",
        "            hk.nets.MLP(hidden_sizes, activate_final=True),\n",
        "            hk.Linear(\n",
        "                np.prod(event_shape) * num_bijector_params,\n",
        "                w_init=jnp.zeros,\n",
        "                b_init=jnp.zeros,\n",
        "            ),\n",
        "            hk.Reshape(tuple(event_shape) + (num_bijector_params,), preserve_dims=-1),\n",
        "        ]\n",
        "    )\n",
        "\n",
        "\n",
        "def make_flow_model(\n",
        "    event_shape: Sequence[int],\n",
        "    num_layers: int,\n",
        "    hidden_sizes: Sequence[int],\n",
        "    flow_num_params: int,\n",
        ") -> distrax.Transformed:\n",
        "\n",
        "    mask = jnp.arange(0, np.prod(event_shape)) % 2  # every second element is masked\n",
        "    mask = jnp.reshape(mask, event_shape)\n",
        "    mask = mask.astype(bool)\n",
        "\n",
        "    flow_num_params = 3 * flow_num_params + 1\n",
        "\n",
        "    def bijector_fn(params: Array):\n",
        "        return distrax.RationalQuadraticSpline(params, range_min=0.0, range_max=1.0)\n",
        "\n",
        "    layers = []\n",
        "    for _ in range(num_layers):\n",
        "        layer = distrax.MaskedCoupling(\n",
        "            mask=mask,\n",
        "            bijector=bijector_fn,\n",
        "            conditioner=make_conditioner(\n",
        "                event_shape=event_shape,\n",
        "                hidden_sizes=hidden_sizes,\n",
        "                num_bijector_params=flow_num_params,\n",
        "            ),\n",
        "        )\n",
        "\n",
        "        layers.append(layer)\n",
        "        # Flip mask after each layer\n",
        "        mask = jnp.logical_not(mask)\n",
        "\n",
        "    flow = distrax.Inverse(distrax.Chain(layers))\n",
        "    base_distribution = distrax.Independent(\n",
        "        distrax.Uniform(low=jnp.zeros(event_shape), high=jnp.ones(event_shape)),\n",
        "        reinterpreted_batch_ndims=len(event_shape),\n",
        "    )\n",
        "    return distrax.Transformed(base_distribution, flow)\n",
        "\n",
        "\n",
        "\n",
        "def prepare_data(batch: Batch, prng_key: Optional[PRNGKey] = None) -> Array:  # type: ignore\n",
        "    data = batch[\"image\"].astype(np.float32)\n",
        "    if prng_key is not None:\n",
        "        # Dequantize pixel values {0, 1, ..., 255} with uniform noise [0, 1).\n",
        "        data += jax.random.uniform(prng_key, data.shape)\n",
        "    return data / 256.0  # Normalize pixel values from [0, 256) to [0, 1).\n",
        "\n",
        "\n",
        "@hk.without_apply_rng\n",
        "@hk.transform\n",
        "def log_prob(data: Array) -> Array:\n",
        "    model = make_flow_model(\n",
        "        event_shape=data.shape[1:],\n",
        "        num_layers=FLOW_NUM_LAYERS,\n",
        "        hidden_sizes=[HIDDEN_SIZE] * MLP_NUM_LAYERS,\n",
        "        flow_num_params=FLOW_NUM_PARAMS,\n",
        "    )\n",
        "    return model.log_prob(data)\n",
        "\n",
        "\n",
        "@hk.without_apply_rng\n",
        "@hk.transform\n",
        "def sample(event_shape: Tuple, prng_key: PRNGKey, num_samples: int):  # type: ignore\n",
        "\n",
        "    model = make_flow_model(\n",
        "        event_shape=event_shape,\n",
        "        num_layers=FLOW_NUM_LAYERS,\n",
        "        hidden_sizes=[HIDDEN_SIZE] * MLP_NUM_LAYERS,\n",
        "        flow_num_params=FLOW_NUM_PARAMS,  # num_bins\n",
        "    )\n",
        "    return model.sample(seed=prng_key, sample_shape=(num_samples,))\n",
        "\n",
        "\n",
        "@jax.jit\n",
        "def loss_fn(params: hk.Params, prng_key: PRNGKey, batch: Batch) -> Array:  # type: ignore\n",
        "    data = prepare_data(batch, prng_key)\n",
        "    # Loss is average negative log likelihood.\n",
        "    loss = -jnp.mean(log_prob.apply(params, data))\n",
        "    return loss\n",
        "\n",
        "\n",
        "@jax.jit\n",
        "def eval_fn(params: hk.Params, batch: Batch) -> Array:\n",
        "    data = prepare_data(batch)  # We don't dequantize during evaluation.\n",
        "    loss = -jnp.mean(log_prob.apply(params, data))\n",
        "    return loss"
      ]
    },
    {
      "cell_type": "code",
      "execution_count": null,
      "metadata": {
        "colab": {
          "base_uri": "https://localhost:8080/",
          "height": 252
        },
        "id": "AnpxVIV38ZKU",
        "outputId": "4df9b5ba-c802-45d8-a562-74769a61dde6"
      },
      "outputs": [
        {
          "data": {
            "image/png": "[encoded data removed]",
            "text/plain": [
              "<Figure size 288x288 with 4 Axes>"
            ]
          },
          "metadata": {},
          "output_type": "display_data"
        }
      ],
      "source": [
        "N = 4\n",
        "prng_seq = hk.PRNGSequence(42)\n",
        "params = log_prob.init(next(prng_seq), np.zeros((1, *MNIST_IMAGE_SHAPE)))\n",
        "\n",
        "samples = sample.apply(\n",
        "        params=params,\n",
        "        prng_key=next(prng_seq),\n",
        "        event_shape=MNIST_IMAGE_SHAPE,\n",
        "        num_samples=N,\n",
        ")\n",
        "# make plots\n",
        "plot_image(samples)\n",
        "plt.savefig(f\"{images_dir}/jax_NF_plots_{MODEL}_{TARGET_DENSITY}_init_pdf.pdf\")"
      ]
    },
    {
      "cell_type": "code",
      "execution_count": null,
      "metadata": {
        "id": "YQpemWaVwZMw"
      },
      "outputs": [],
      "source": []
    },
    {
      "cell_type": "code",
      "execution_count": null,
      "metadata": {
        "id": "EvvSavzk-jgm"
      },
      "outputs": [],
      "source": [
        "from IPython.lib.display import IFrame\n",
        "def train(\n",
        "    batch_size,\n",
        "    learning_rate,\n",
        "    training_steps,\n",
        "    eval_frequency,\n",
        "):\n",
        "    schedule_fn = optax.polynomial_schedule(\n",
        "    init_value=learning_rate, end_value=learning_rate/10., power=0.5, transition_steps=training_steps)\n",
        "    optimizer = optax.adam(schedule_fn)\n",
        "\n",
        "    @jax.jit\n",
        "    def update(\n",
        "        params: hk.Params, prng_key: PRNGKey, opt_state: OptState, batch: Batch\n",
        "    ) -> Tuple[hk.Params, OptState]:\n",
        "\n",
        "        \"\"\"Single SGD update step.\"\"\"\n",
        "        grads = jax.grad(loss_fn)(params, prng_key, batch)\n",
        "        updates, new_opt_state = optimizer.update(grads, opt_state)\n",
        "        new_params = optax.apply_updates(params, updates)\n",
        "        return new_params, new_opt_state\n",
        "\n",
        "    prng_seq = hk.PRNGSequence(42)\n",
        "    params = log_prob.init(next(prng_seq), np.zeros((1, *MNIST_IMAGE_SHAPE)))\n",
        "    opt_state = optimizer.init(params)\n",
        "\n",
        "    train_ds = load_dataset(tfds.Split.TRAIN, batch_size)\n",
        "    valid_ds = load_dataset(tfds.Split.TEST, batch_size)\n",
        "\n",
        "\n",
        "    best_params = params\n",
        "    best_val_loss = jnp.inf\n",
        "    all_val_loss = []\n",
        "\n",
        "    for step in range(training_steps):\n",
        "        params, opt_state = update(params, next(prng_seq), opt_state, next(train_ds))\n",
        "\n",
        "\n",
        "        if step % eval_frequency == 0:\n",
        "            val_loss = eval_fn(params, next(valid_ds))\n",
        "            all_val_loss.append(val_loss)\n",
        "\n",
        "            if val_loss < best_val_loss:\n",
        "                best_val_loss = val_loss\n",
        "                best_params = params\n",
        "          \n",
        "            print(\n",
        "                f\"STEP: {step}; validation loss: {val_loss}\"\n",
        "            )\n",
        "\n",
        "            if step % 5*eval_frequency == 0:\n",
        "                N = 16\n",
        "                samples = sample.apply(\n",
        "                    params=params,\n",
        "                    prng_key=jax.random.PRNGKey(214),  # next(prng_seq),\n",
        "                    event_shape=MNIST_IMAGE_SHAPE,\n",
        "                    num_samples=N,\n",
        "                )\n",
        "                plot_image(samples)\n",
        "                plt.savefig(f\"{images_dir}/jax_NF_plots_{MODEL}_{TARGET_DENSITY}_{step}_pdf.pdf\")\n",
        "\n",
        "    return best_params, all_val_loss"
      ]
    },
    {
      "cell_type": "code",
      "execution_count": null,
      "metadata": {
        "colab": {
          "background_save": true,
          "base_uri": "https://localhost:8080/"
        },
        "id": "xandMDPDG-zJ",
        "outputId": "fb97eac5-c572-4fa8-9545-0af506d1a909"
      },
      "outputs": [
        {
          "name": "stdout",
          "output_type": "stream",
          "text": [
            "STEP: 0; validation loss: -5.774769306182861\n",
            "STEP: 500; validation loss: -3087.270263671875\n",
            "STEP: 1000; validation loss: -3107.888671875\n",
            "STEP: 1500; validation loss: -3121.84912109375\n"
          ]
        }
      ],
      "source": [
        "\n",
        "params_fit, val_losses  = train(batch_size=128,\n",
        "    learning_rate=1e-4,\n",
        "    training_steps=10000,\n",
        "    eval_frequency=500,\n",
        ")"
      ]
    },
    {
      "cell_type": "code",
      "execution_count": null,
      "metadata": {
        "id": "-pSj-Jnc3ypI"
      },
      "outputs": [],
      "source": []
    },
    {
      "cell_type": "code",
      "execution_count": null,
      "metadata": {
        "colab": {
          "base_uri": "https://localhost:8080/",
          "height": 347
        },
        "id": "xwd5IFRC2pyJ",
        "outputId": "82f7d61e-15c0-41f8-a041-6dc28e50a9c9"
      },
      "outputs": [
        {
          "name": "stderr",
          "output_type": "stream",
          "text": [
            "/usr/local/lib/python3.7/dist-packages/ipykernel_launcher.py:6: UserWarning: Data has no positive values, and therefore cannot be log-scaled.\n",
            "  \n"
          ]
        },
        {
          "data": {
            "image/png": "[encoded data removed]",
            "text/plain": [
              "<Figure size 432x288 with 1 Axes>"
            ]
          },
          "metadata": {},
          "output_type": "display_data"
        }
      ],
      "source": [
        "plt.plot(val_losses, label='valid')\n",
        "plt.legend(loc='best')\n",
        "plt.xlabel('Epochs')\n",
        "plt.ylabel('Negative log likelihood')\n",
        "plt.title('Training and validation loss curves')\n",
        "plt.yscale(\"log\")\n",
        "plt.show()"
      ]
    },
    {
      "cell_type": "code",
      "execution_count": null,
      "metadata": {
        "colab": {
          "base_uri": "https://localhost:8080/",
          "height": 305
        },
        "id": "1RF8imwEB1Mx",
        "outputId": "a63d596a-2e31-48f3-d1b0-f7633d3c0f3d"
      },
      "outputs": [
        {
          "data": {
            "image/png": "[encoded data removed]",
            "text/plain": [
              "<Figure size 432x288 with 1 Axes>"
            ]
          },
          "metadata": {},
          "output_type": "display_data"
        }
      ],
      "source": [
        "samples = sample.apply(\n",
        "        params=params_fit,\n",
        "        prng_key=next(prng_seq),\n",
        "        event_shape=(2,),\n",
        "        num_samples=N,\n",
        ")\n",
        "# make plots\n",
        "plot_range = np.array([xlim,ylim])\n",
        "figsize = (8, 8)\n",
        "#ax.hist2d(samples[:, 0], samples[:, 1], bins=100, range=plot_range)\n",
        "plt.scatter(samples[:, 0], samples[:, 1], s=0.1, color='blue',label='Init Train')\n",
        "plt.xlim(xlim)\n",
        "plt.ylim(ylim)\n",
        "plt.xlabel(\"$x_1$\")\n",
        "plt.ylabel(\"$x_2$\")\n",
        "plt.gca().set_aspect('equal')\n",
        "plt.tight_layout()\n",
        "plt.title(f\"{MODEL} Trained\")\n",
        "plt.savefig(f\"{images_dir}/jax_NF_plots_{MODEL}_{TARGET_DENSITY}_after_train_pdf.pdf\")"
      ]
    },
    {
      "cell_type": "code",
      "execution_count": null,
      "metadata": {
        "id": "4TA2QA452n4A"
      },
      "outputs": [],
      "source": []
    },
    {
      "cell_type": "code",
      "execution_count": null,
      "metadata": {
        "id": "qxiCeaPKHd2F"
      },
      "outputs": [],
      "source": [
        "    # Evaluate\n",
        "    #plt.savefig(f\"./plots/{density}/real_nvp_{density}.jpg\", dpi=750)\n",
        "\n",
        "    # num_points = 2000\n",
        "    # x1 = jnp.linspace(-4, 4, num_points)\n",
        "    # x2 = jnp.linspace(-4, 4, num_points)\n",
        "    # X1, X2 = jnp.meshgrid(x1, x2)\n",
        "\n",
        "    # # pdf values of true and learned distribution\n",
        "    # X1X2 = jnp.stack([X1, X2], axis=-1)\n",
        "    # Z1 = dataset_pdf(X1X2)\n",
        "    # Z2 = jnp.exp(log_prob.apply(params, X1X2))\n",
        "\n",
        "    # fig, axes = plt.subplots(1, 2, figsize=(16, 8))\n",
        "    # # axes[0].contourf(X1, X2, Z1, cmap=\"viridis\")\n",
        "    # axes[1].contourf(X1, X2, Z2, cmap=\"viridis\")\n",
        "    # plt.savefig(f\"plots/{DENSITY}/{DENSITY}_pdf.jpg\", dpi=600)\n"
      ]
    }
  ],
  "metadata": {
    "accelerator": "GPU",
    "colab": {
      "collapsed_sections": [],
      "provenance": [],
      "authorship_tag": "ABX9TyPUHJ1CMFMpZFS+hdSnI6S5",
      "include_colab_link": true
    },
    "kernelspec": {
      "display_name": "Python 3",
      "name": "python3"
    },
    "language_info": {
      "name": "python"
    },
    "widgets": {
      "application/vnd.jupyter.widget-state+json": {
        "041c67903d3d4d658d21cb3ff55c5ee2": {
          "model_module": "@jupyter-widgets/controls",
          "model_module_version": "1.5.0",
          "model_name": "ProgressStyleModel",
          "state": {
            "_model_module": "@jupyter-widgets/controls",
            "_model_module_version": "1.5.0",
            "_model_name": "ProgressStyleModel",
            "_view_count": null,
            "_view_module": "@jupyter-widgets/base",
            "_view_module_version": "1.2.0",
            "_view_name": "StyleView",
            "bar_color": null,
            "description_width": ""
          }
        },
        "055064f543fc4588a08020c0716e6daa": {
          "model_module": "@jupyter-widgets/base",
          "model_module_version": "1.2.0",
          "model_name": "LayoutModel",
          "state": {
            "_model_module": "@jupyter-widgets/base",
            "_model_module_version": "1.2.0",
            "_model_name": "LayoutModel",
            "_view_count": null,
            "_view_module": "@jupyter-widgets/base",
            "_view_module_version": "1.2.0",
            "_view_name": "LayoutView",
            "align_content": null,
            "align_items": null,
            "align_self": null,
            "border": null,
            "bottom": null,
            "display": null,
            "flex": null,
            "flex_flow": null,
            "grid_area": null,
            "grid_auto_columns": null,
            "grid_auto_flow": null,
            "grid_auto_rows": null,
            "grid_column": null,
            "grid_gap": null,
            "grid_row": null,
            "grid_template_areas": null,
            "grid_template_columns": null,
            "grid_template_rows": null,
            "height": null,
            "justify_content": null,
            "justify_items": null,
            "left": null,
            "margin": null,
            "max_height": null,
            "max_width": null,
            "min_height": null,
            "min_width": null,
            "object_fit": null,
            "object_position": null,
            "order": null,
            "overflow": null,
            "overflow_x": null,
            "overflow_y": null,
            "padding": null,
            "right": null,
            "top": null,
            "visibility": null,
            "width": null
          }
        },
        "074b98cb1d1d4b3ea440fbfd992de6ea": {
          "model_module": "@jupyter-widgets/base",
          "model_module_version": "1.2.0",
          "model_name": "LayoutModel",
          "state": {
            "_model_module": "@jupyter-widgets/base",
            "_model_module_version": "1.2.0",
            "_model_name": "LayoutModel",
            "_view_count": null,
            "_view_module": "@jupyter-widgets/base",
            "_view_module_version": "1.2.0",
            "_view_name": "LayoutView",
            "align_content": null,
            "align_items": null,
            "align_self": null,
            "border": null,
            "bottom": null,
            "display": null,
            "flex": null,
            "flex_flow": null,
            "grid_area": null,
            "grid_auto_columns": null,
            "grid_auto_flow": null,
            "grid_auto_rows": null,
            "grid_column": null,
            "grid_gap": null,
            "grid_row": null,
            "grid_template_areas": null,
            "grid_template_columns": null,
            "grid_template_rows": null,
            "height": null,
            "justify_content": null,
            "justify_items": null,
            "left": null,
            "margin": null,
            "max_height": null,
            "max_width": null,
            "min_height": null,
            "min_width": null,
            "object_fit": null,
            "object_position": null,
            "order": null,
            "overflow": null,
            "overflow_x": null,
            "overflow_y": null,
            "padding": null,
            "right": null,
            "top": null,
            "visibility": null,
            "width": null
          }
        },
        "2afe2d42bd094d98852d62b5ab84586d": {
          "model_module": "@jupyter-widgets/controls",
          "model_module_version": "1.5.0",
          "model_name": "FloatProgressModel",
          "state": {
            "_dom_classes": [],
            "_model_module": "@jupyter-widgets/controls",
            "_model_module_version": "1.5.0",
            "_model_name": "FloatProgressModel",
            "_view_count": null,
            "_view_module": "@jupyter-widgets/controls",
            "_view_module_version": "1.5.0",
            "_view_name": "ProgressView",
            "bar_style": "success",
            "description": "",
            "description_tooltip": null,
            "layout": "IPY_MODEL_055064f543fc4588a08020c0716e6daa",
            "max": 4,
            "min": 0,
            "orientation": "horizontal",
            "style": "IPY_MODEL_041c67903d3d4d658d21cb3ff55c5ee2",
            "value": 4
          }
        },
        "580fc669ec7e49eeaa39710014eaecf0": {
          "model_module": "@jupyter-widgets/base",
          "model_module_version": "1.2.0",
          "model_name": "LayoutModel",
          "state": {
            "_model_module": "@jupyter-widgets/base",
            "_model_module_version": "1.2.0",
            "_model_name": "LayoutModel",
            "_view_count": null,
            "_view_module": "@jupyter-widgets/base",
            "_view_module_version": "1.2.0",
            "_view_name": "LayoutView",
            "align_content": null,
            "align_items": null,
            "align_self": null,
            "border": null,
            "bottom": null,
            "display": null,
            "flex": null,
            "flex_flow": null,
            "grid_area": null,
            "grid_auto_columns": null,
            "grid_auto_flow": null,
            "grid_auto_rows": null,
            "grid_column": null,
            "grid_gap": null,
            "grid_row": null,
            "grid_template_areas": null,
            "grid_template_columns": null,
            "grid_template_rows": null,
            "height": null,
            "justify_content": null,
            "justify_items": null,
            "left": null,
            "margin": null,
            "max_height": null,
            "max_width": null,
            "min_height": null,
            "min_width": null,
            "object_fit": null,
            "object_position": null,
            "order": null,
            "overflow": null,
            "overflow_x": null,
            "overflow_y": null,
            "padding": null,
            "right": null,
            "top": null,
            "visibility": null,
            "width": null
          }
        },
        "8c702e5151294efd8ede007780f5f4ef": {
          "model_module": "@jupyter-widgets/controls",
          "model_module_version": "1.5.0",
          "model_name": "HTMLModel",
          "state": {
            "_dom_classes": [],
            "_model_module": "@jupyter-widgets/controls",
            "_model_module_version": "1.5.0",
            "_model_name": "HTMLModel",
            "_view_count": null,
            "_view_module": "@jupyter-widgets/controls",
            "_view_module_version": "1.5.0",
            "_view_name": "HTMLView",
            "description": "",
            "description_tooltip": null,
            "layout": "IPY_MODEL_580fc669ec7e49eeaa39710014eaecf0",
            "placeholder": "​",
            "style": "IPY_MODEL_d8a2aad6c75a485087d32bcf70be7946",
            "value": "Dl Completed...: 100%"
          }
        },
        "9a6715af923244f8a43e6ee4002baf95": {
          "model_module": "@jupyter-widgets/controls",
          "model_module_version": "1.5.0",
          "model_name": "HTMLModel",
          "state": {
            "_dom_classes": [],
            "_model_module": "@jupyter-widgets/controls",
            "_model_module_version": "1.5.0",
            "_model_name": "HTMLModel",
            "_view_count": null,
            "_view_module": "@jupyter-widgets/controls",
            "_view_module_version": "1.5.0",
            "_view_name": "HTMLView",
            "description": "",
            "description_tooltip": null,
            "layout": "IPY_MODEL_074b98cb1d1d4b3ea440fbfd992de6ea",
            "placeholder": "​",
            "style": "IPY_MODEL_ab0b8cfd97e04adaa4ebeb79f652e904",
            "value": " 4/4 [00:00&lt;00:00,  8.42 file/s]"
          }
        },
        "ab0b8cfd97e04adaa4ebeb79f652e904": {
          "model_module": "@jupyter-widgets/controls",
          "model_module_version": "1.5.0",
          "model_name": "DescriptionStyleModel",
          "state": {
            "_model_module": "@jupyter-widgets/controls",
            "_model_module_version": "1.5.0",
            "_model_name": "DescriptionStyleModel",
            "_view_count": null,
            "_view_module": "@jupyter-widgets/base",
            "_view_module_version": "1.2.0",
            "_view_name": "StyleView",
            "description_width": ""
          }
        },
        "cbe2553067c248dc957112387002f7f8": {
          "model_module": "@jupyter-widgets/controls",
          "model_module_version": "1.5.0",
          "model_name": "HBoxModel",
          "state": {
            "_dom_classes": [],
            "_model_module": "@jupyter-widgets/controls",
            "_model_module_version": "1.5.0",
            "_model_name": "HBoxModel",
            "_view_count": null,
            "_view_module": "@jupyter-widgets/controls",
            "_view_module_version": "1.5.0",
            "_view_name": "HBoxView",
            "box_style": "",
            "children": [
              "IPY_MODEL_8c702e5151294efd8ede007780f5f4ef",
              "IPY_MODEL_2afe2d42bd094d98852d62b5ab84586d",
              "IPY_MODEL_9a6715af923244f8a43e6ee4002baf95"
            ],
            "layout": "IPY_MODEL_efebfc71f09a4f408f7fb0a1b5eb9858"
          }
        },
        "d8a2aad6c75a485087d32bcf70be7946": {
          "model_module": "@jupyter-widgets/controls",
          "model_module_version": "1.5.0",
          "model_name": "DescriptionStyleModel",
          "state": {
            "_model_module": "@jupyter-widgets/controls",
            "_model_module_version": "1.5.0",
            "_model_name": "DescriptionStyleModel",
            "_view_count": null,
            "_view_module": "@jupyter-widgets/base",
            "_view_module_version": "1.2.0",
            "_view_name": "StyleView",
            "description_width": ""
          }
        },
        "efebfc71f09a4f408f7fb0a1b5eb9858": {
          "model_module": "@jupyter-widgets/base",
          "model_module_version": "1.2.0",
          "model_name": "LayoutModel",
          "state": {
            "_model_module": "@jupyter-widgets/base",
            "_model_module_version": "1.2.0",
            "_model_name": "LayoutModel",
            "_view_count": null,
            "_view_module": "@jupyter-widgets/base",
            "_view_module_version": "1.2.0",
            "_view_name": "LayoutView",
            "align_content": null,
            "align_items": null,
            "align_self": null,
            "border": null,
            "bottom": null,
            "display": null,
            "flex": null,
            "flex_flow": null,
            "grid_area": null,
            "grid_auto_columns": null,
            "grid_auto_flow": null,
            "grid_auto_rows": null,
            "grid_column": null,
            "grid_gap": null,
            "grid_row": null,
            "grid_template_areas": null,
            "grid_template_columns": null,
            "grid_template_rows": null,
            "height": null,
            "justify_content": null,
            "justify_items": null,
            "left": null,
            "margin": null,
            "max_height": null,
            "max_width": null,
            "min_height": null,
            "min_width": null,
            "object_fit": null,
            "object_position": null,
            "order": null,
            "overflow": null,
            "overflow_x": null,
            "overflow_y": null,
            "padding": null,
            "right": null,
            "top": null,
            "visibility": null,
            "width": null
          }
        }
      }
    }
  },
  "nbformat": 4,
  "nbformat_minor": 0
}