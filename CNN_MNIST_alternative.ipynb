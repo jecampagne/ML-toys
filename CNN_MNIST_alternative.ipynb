{
  "nbformat": 4,
  "nbformat_minor": 0,
  "metadata": {
    "colab": {
      "provenance": [],
      "authorship_tag": "ABX9TyPw7FF53+5ey+7k3FZ+uYnN",
      "include_colab_link": true
    },
    "kernelspec": {
      "name": "python3",
      "display_name": "Python 3"
    },
    "language_info": {
      "name": "python"
    },
    "accelerator": "GPU",
    "gpuClass": "standard",
    "widgets": {
      "application/vnd.jupyter.widget-state+json": {
        "c014ddd584504a18af1344e5dee43eae": {
          "model_module": "@jupyter-widgets/controls",
          "model_name": "HBoxModel",
          "model_module_version": "1.5.0",
          "state": {
            "_dom_classes": [],
            "_model_module": "@jupyter-widgets/controls",
            "_model_module_version": "1.5.0",
            "_model_name": "HBoxModel",
            "_view_count": null,
            "_view_module": "@jupyter-widgets/controls",
            "_view_module_version": "1.5.0",
            "_view_name": "HBoxView",
            "box_style": "",
            "children": [
              "IPY_MODEL_264822f1c1044cecb5f5b68b7e01ec77",
              "IPY_MODEL_9ba1d263f7d746cbbcdacca0ff7cc643",
              "IPY_MODEL_3a75c371678d470fbf8888565a5beef4"
            ],
            "layout": "IPY_MODEL_d4614edc539d48499f37552ee911fe70"
          }
        },
        "264822f1c1044cecb5f5b68b7e01ec77": {
          "model_module": "@jupyter-widgets/controls",
          "model_name": "HTMLModel",
          "model_module_version": "1.5.0",
          "state": {
            "_dom_classes": [],
            "_model_module": "@jupyter-widgets/controls",
            "_model_module_version": "1.5.0",
            "_model_name": "HTMLModel",
            "_view_count": null,
            "_view_module": "@jupyter-widgets/controls",
            "_view_module_version": "1.5.0",
            "_view_name": "HTMLView",
            "description": "",
            "description_tooltip": null,
            "layout": "IPY_MODEL_874a6ef0388240edaad5a60ab54c4e3e",
            "placeholder": "​",
            "style": "IPY_MODEL_249869cfa9214715ba25619e42849e20",
            "value": "Dl Completed...: 100%"
          }
        },
        "9ba1d263f7d746cbbcdacca0ff7cc643": {
          "model_module": "@jupyter-widgets/controls",
          "model_name": "FloatProgressModel",
          "model_module_version": "1.5.0",
          "state": {
            "_dom_classes": [],
            "_model_module": "@jupyter-widgets/controls",
            "_model_module_version": "1.5.0",
            "_model_name": "FloatProgressModel",
            "_view_count": null,
            "_view_module": "@jupyter-widgets/controls",
            "_view_module_version": "1.5.0",
            "_view_name": "ProgressView",
            "bar_style": "success",
            "description": "",
            "description_tooltip": null,
            "layout": "IPY_MODEL_ab23888970ee4590b87a28a94da19ce9",
            "max": 4,
            "min": 0,
            "orientation": "horizontal",
            "style": "IPY_MODEL_34c80634fcdd4051b3f53e463980c074",
            "value": 4
          }
        },
        "3a75c371678d470fbf8888565a5beef4": {
          "model_module": "@jupyter-widgets/controls",
          "model_name": "HTMLModel",
          "model_module_version": "1.5.0",
          "state": {
            "_dom_classes": [],
            "_model_module": "@jupyter-widgets/controls",
            "_model_module_version": "1.5.0",
            "_model_name": "HTMLModel",
            "_view_count": null,
            "_view_module": "@jupyter-widgets/controls",
            "_view_module_version": "1.5.0",
            "_view_name": "HTMLView",
            "description": "",
            "description_tooltip": null,
            "layout": "IPY_MODEL_85d5ec6cbf864a079647735bf226dc1c",
            "placeholder": "​",
            "style": "IPY_MODEL_a9a66bc7f6d94112a10d064fa54f5e55",
            "value": " 4/4 [00:02&lt;00:00,  1.59 file/s]"
          }
        },
        "d4614edc539d48499f37552ee911fe70": {
          "model_module": "@jupyter-widgets/base",
          "model_name": "LayoutModel",
          "model_module_version": "1.2.0",
          "state": {
            "_model_module": "@jupyter-widgets/base",
            "_model_module_version": "1.2.0",
            "_model_name": "LayoutModel",
            "_view_count": null,
            "_view_module": "@jupyter-widgets/base",
            "_view_module_version": "1.2.0",
            "_view_name": "LayoutView",
            "align_content": null,
            "align_items": null,
            "align_self": null,
            "border": null,
            "bottom": null,
            "display": null,
            "flex": null,
            "flex_flow": null,
            "grid_area": null,
            "grid_auto_columns": null,
            "grid_auto_flow": null,
            "grid_auto_rows": null,
            "grid_column": null,
            "grid_gap": null,
            "grid_row": null,
            "grid_template_areas": null,
            "grid_template_columns": null,
            "grid_template_rows": null,
            "height": null,
            "justify_content": null,
            "justify_items": null,
            "left": null,
            "margin": null,
            "max_height": null,
            "max_width": null,
            "min_height": null,
            "min_width": null,
            "object_fit": null,
            "object_position": null,
            "order": null,
            "overflow": null,
            "overflow_x": null,
            "overflow_y": null,
            "padding": null,
            "right": null,
            "top": null,
            "visibility": null,
            "width": null
          }
        },
        "874a6ef0388240edaad5a60ab54c4e3e": {
          "model_module": "@jupyter-widgets/base",
          "model_name": "LayoutModel",
          "model_module_version": "1.2.0",
          "state": {
            "_model_module": "@jupyter-widgets/base",
            "_model_module_version": "1.2.0",
            "_model_name": "LayoutModel",
            "_view_count": null,
            "_view_module": "@jupyter-widgets/base",
            "_view_module_version": "1.2.0",
            "_view_name": "LayoutView",
            "align_content": null,
            "align_items": null,
            "align_self": null,
            "border": null,
            "bottom": null,
            "display": null,
            "flex": null,
            "flex_flow": null,
            "grid_area": null,
            "grid_auto_columns": null,
            "grid_auto_flow": null,
            "grid_auto_rows": null,
            "grid_column": null,
            "grid_gap": null,
            "grid_row": null,
            "grid_template_areas": null,
            "grid_template_columns": null,
            "grid_template_rows": null,
            "height": null,
            "justify_content": null,
            "justify_items": null,
            "left": null,
            "margin": null,
            "max_height": null,
            "max_width": null,
            "min_height": null,
            "min_width": null,
            "object_fit": null,
            "object_position": null,
            "order": null,
            "overflow": null,
            "overflow_x": null,
            "overflow_y": null,
            "padding": null,
            "right": null,
            "top": null,
            "visibility": null,
            "width": null
          }
        },
        "249869cfa9214715ba25619e42849e20": {
          "model_module": "@jupyter-widgets/controls",
          "model_name": "DescriptionStyleModel",
          "model_module_version": "1.5.0",
          "state": {
            "_model_module": "@jupyter-widgets/controls",
            "_model_module_version": "1.5.0",
            "_model_name": "DescriptionStyleModel",
            "_view_count": null,
            "_view_module": "@jupyter-widgets/base",
            "_view_module_version": "1.2.0",
            "_view_name": "StyleView",
            "description_width": ""
          }
        },
        "ab23888970ee4590b87a28a94da19ce9": {
          "model_module": "@jupyter-widgets/base",
          "model_name": "LayoutModel",
          "model_module_version": "1.2.0",
          "state": {
            "_model_module": "@jupyter-widgets/base",
            "_model_module_version": "1.2.0",
            "_model_name": "LayoutModel",
            "_view_count": null,
            "_view_module": "@jupyter-widgets/base",
            "_view_module_version": "1.2.0",
            "_view_name": "LayoutView",
            "align_content": null,
            "align_items": null,
            "align_self": null,
            "border": null,
            "bottom": null,
            "display": null,
            "flex": null,
            "flex_flow": null,
            "grid_area": null,
            "grid_auto_columns": null,
            "grid_auto_flow": null,
            "grid_auto_rows": null,
            "grid_column": null,
            "grid_gap": null,
            "grid_row": null,
            "grid_template_areas": null,
            "grid_template_columns": null,
            "grid_template_rows": null,
            "height": null,
            "justify_content": null,
            "justify_items": null,
            "left": null,
            "margin": null,
            "max_height": null,
            "max_width": null,
            "min_height": null,
            "min_width": null,
            "object_fit": null,
            "object_position": null,
            "order": null,
            "overflow": null,
            "overflow_x": null,
            "overflow_y": null,
            "padding": null,
            "right": null,
            "top": null,
            "visibility": null,
            "width": null
          }
        },
        "34c80634fcdd4051b3f53e463980c074": {
          "model_module": "@jupyter-widgets/controls",
          "model_name": "ProgressStyleModel",
          "model_module_version": "1.5.0",
          "state": {
            "_model_module": "@jupyter-widgets/controls",
            "_model_module_version": "1.5.0",
            "_model_name": "ProgressStyleModel",
            "_view_count": null,
            "_view_module": "@jupyter-widgets/base",
            "_view_module_version": "1.2.0",
            "_view_name": "StyleView",
            "bar_color": null,
            "description_width": ""
          }
        },
        "85d5ec6cbf864a079647735bf226dc1c": {
          "model_module": "@jupyter-widgets/base",
          "model_name": "LayoutModel",
          "model_module_version": "1.2.0",
          "state": {
            "_model_module": "@jupyter-widgets/base",
            "_model_module_version": "1.2.0",
            "_model_name": "LayoutModel",
            "_view_count": null,
            "_view_module": "@jupyter-widgets/base",
            "_view_module_version": "1.2.0",
            "_view_name": "LayoutView",
            "align_content": null,
            "align_items": null,
            "align_self": null,
            "border": null,
            "bottom": null,
            "display": null,
            "flex": null,
            "flex_flow": null,
            "grid_area": null,
            "grid_auto_columns": null,
            "grid_auto_flow": null,
            "grid_auto_rows": null,
            "grid_column": null,
            "grid_gap": null,
            "grid_row": null,
            "grid_template_areas": null,
            "grid_template_columns": null,
            "grid_template_rows": null,
            "height": null,
            "justify_content": null,
            "justify_items": null,
            "left": null,
            "margin": null,
            "max_height": null,
            "max_width": null,
            "min_height": null,
            "min_width": null,
            "object_fit": null,
            "object_position": null,
            "order": null,
            "overflow": null,
            "overflow_x": null,
            "overflow_y": null,
            "padding": null,
            "right": null,
            "top": null,
            "visibility": null,
            "width": null
          }
        },
        "a9a66bc7f6d94112a10d064fa54f5e55": {
          "model_module": "@jupyter-widgets/controls",
          "model_name": "DescriptionStyleModel",
          "model_module_version": "1.5.0",
          "state": {
            "_model_module": "@jupyter-widgets/controls",
            "_model_module_version": "1.5.0",
            "_model_name": "DescriptionStyleModel",
            "_view_count": null,
            "_view_module": "@jupyter-widgets/base",
            "_view_module_version": "1.2.0",
            "_view_name": "StyleView",
            "description_width": ""
          }
        }
      }
    }
  },
  "cells": [
    {
      "cell_type": "markdown",
      "metadata": {
        "id": "view-in-github",
        "colab_type": "text"
      },
      "source": [
        "<a href=\"https://colab.research.google.com/github/jecampagne/ML-toys/blob/main/CNN_MNIST_alternative.ipynb\" target=\"_parent\"><img src=\"https://colab.research.google.com/assets/colab-badge.svg\" alt=\"Open In Colab\"/></a>"
      ]
    },
    {
      "cell_type": "code",
      "execution_count": 9,
      "metadata": {
        "id": "BoOSN76CSar0"
      },
      "outputs": [],
      "source": [
        "import tensorflow as tf\n",
        "import tensorflow_datasets as tfds\n",
        "from tensorflow import keras\n",
        "\n",
        "import numpy as np\n",
        "import matplotlib.pyplot as plt\n",
        "import sys,os\n",
        "from importlib import reload\n"
      ]
    },
    {
      "cell_type": "code",
      "source": [],
      "metadata": {
        "id": "Dzu_lOyFoEkW"
      },
      "execution_count": null,
      "outputs": []
    },
    {
      "cell_type": "code",
      "source": [
        "tfds.load('truc')"
      ],
      "metadata": {
        "colab": {
          "base_uri": "https://localhost:8080/",
          "height": 1000
        },
        "id": "VEGggyO8oEsa",
        "outputId": "6b3c34dd-329e-4f8a-b83c-593857c1d8fc"
      },
      "execution_count": 10,
      "outputs": [
        {
          "output_type": "error",
          "ename": "DatasetNotFoundError",
          "evalue": "ignored",
          "traceback": [
            "\u001b[0;31m---------------------------------------------------------------------------\u001b[0m",
            "\u001b[0;31mDatasetNotFoundError\u001b[0m                      Traceback (most recent call last)",
            "\u001b[0;32m<ipython-input-10-66e4322fbb46>\u001b[0m in \u001b[0;36m<module>\u001b[0;34m\u001b[0m\n\u001b[0;32m----> 1\u001b[0;31m \u001b[0mtfds\u001b[0m\u001b[0;34m.\u001b[0m\u001b[0mload\u001b[0m\u001b[0;34m(\u001b[0m\u001b[0;34m'truc'\u001b[0m\u001b[0;34m)\u001b[0m\u001b[0;34m\u001b[0m\u001b[0;34m\u001b[0m\u001b[0m\n\u001b[0m",
            "\u001b[0;32m/usr/local/lib/python3.7/dist-packages/tensorflow_datasets/core/load.py\u001b[0m in \u001b[0;36mload\u001b[0;34m(name, split, data_dir, batch_size, shuffle_files, download, as_supervised, decoders, read_config, with_info, builder_kwargs, download_and_prepare_kwargs, as_dataset_kwargs, try_gcs)\u001b[0m\n\u001b[1;32m    322\u001b[0m     \u001b[0mbuilder_kwargs\u001b[0m \u001b[0;34m=\u001b[0m \u001b[0;34m{\u001b[0m\u001b[0;34m}\u001b[0m\u001b[0;34m\u001b[0m\u001b[0;34m\u001b[0m\u001b[0m\n\u001b[1;32m    323\u001b[0m \u001b[0;34m\u001b[0m\u001b[0m\n\u001b[0;32m--> 324\u001b[0;31m   \u001b[0mdbuilder\u001b[0m \u001b[0;34m=\u001b[0m \u001b[0mbuilder\u001b[0m\u001b[0;34m(\u001b[0m\u001b[0mname\u001b[0m\u001b[0;34m,\u001b[0m \u001b[0mdata_dir\u001b[0m\u001b[0;34m=\u001b[0m\u001b[0mdata_dir\u001b[0m\u001b[0;34m,\u001b[0m \u001b[0mtry_gcs\u001b[0m\u001b[0;34m=\u001b[0m\u001b[0mtry_gcs\u001b[0m\u001b[0;34m,\u001b[0m \u001b[0;34m**\u001b[0m\u001b[0mbuilder_kwargs\u001b[0m\u001b[0;34m)\u001b[0m\u001b[0;34m\u001b[0m\u001b[0;34m\u001b[0m\u001b[0m\n\u001b[0m\u001b[1;32m    325\u001b[0m   \u001b[0;32mif\u001b[0m \u001b[0mdownload\u001b[0m\u001b[0;34m:\u001b[0m\u001b[0;34m\u001b[0m\u001b[0;34m\u001b[0m\u001b[0m\n\u001b[1;32m    326\u001b[0m     \u001b[0mdownload_and_prepare_kwargs\u001b[0m \u001b[0;34m=\u001b[0m \u001b[0mdownload_and_prepare_kwargs\u001b[0m \u001b[0;32mor\u001b[0m \u001b[0;34m{\u001b[0m\u001b[0;34m}\u001b[0m\u001b[0;34m\u001b[0m\u001b[0;34m\u001b[0m\u001b[0m\n",
            "\u001b[0;32m/usr/local/lib/python3.7/dist-packages/tensorflow_datasets/core/load.py\u001b[0m in \u001b[0;36mbuilder\u001b[0;34m(name, try_gcs, **builder_kwargs)\u001b[0m\n\u001b[1;32m    171\u001b[0m \u001b[0;34m\u001b[0m\u001b[0m\n\u001b[1;32m    172\u001b[0m   \u001b[0;31m# If neither the code nor the files are found, raise DatasetNotFoundError\u001b[0m\u001b[0;34m\u001b[0m\u001b[0;34m\u001b[0m\u001b[0;34m\u001b[0m\u001b[0m\n\u001b[0;32m--> 173\u001b[0;31m   \u001b[0;32mraise\u001b[0m \u001b[0mnot_found_error\u001b[0m\u001b[0;34m\u001b[0m\u001b[0;34m\u001b[0m\u001b[0m\n\u001b[0m\u001b[1;32m    174\u001b[0m \u001b[0;34m\u001b[0m\u001b[0m\n\u001b[1;32m    175\u001b[0m \u001b[0;34m\u001b[0m\u001b[0m\n",
            "\u001b[0;32m/usr/local/lib/python3.7/dist-packages/tensorflow_datasets/core/load.py\u001b[0m in \u001b[0;36mbuilder\u001b[0;34m(name, try_gcs, **builder_kwargs)\u001b[0m\n\u001b[1;32m    152\u001b[0m   \u001b[0;31m# First check whether we can find the corresponding dataset builder code\u001b[0m\u001b[0;34m\u001b[0m\u001b[0;34m\u001b[0m\u001b[0;34m\u001b[0m\u001b[0m\n\u001b[1;32m    153\u001b[0m   \u001b[0;32mtry\u001b[0m\u001b[0;34m:\u001b[0m\u001b[0;34m\u001b[0m\u001b[0;34m\u001b[0m\u001b[0m\n\u001b[0;32m--> 154\u001b[0;31m     \u001b[0mcls\u001b[0m \u001b[0;34m=\u001b[0m \u001b[0mbuilder_cls\u001b[0m\u001b[0;34m(\u001b[0m\u001b[0mstr\u001b[0m\u001b[0;34m(\u001b[0m\u001b[0mname\u001b[0m\u001b[0;34m)\u001b[0m\u001b[0;34m)\u001b[0m\u001b[0;34m\u001b[0m\u001b[0;34m\u001b[0m\u001b[0m\n\u001b[0m\u001b[1;32m    155\u001b[0m   \u001b[0;32mexcept\u001b[0m \u001b[0mregistered\u001b[0m\u001b[0;34m.\u001b[0m\u001b[0mDatasetNotFoundError\u001b[0m \u001b[0;32mas\u001b[0m \u001b[0me\u001b[0m\u001b[0;34m:\u001b[0m\u001b[0;34m\u001b[0m\u001b[0;34m\u001b[0m\u001b[0m\n\u001b[1;32m    156\u001b[0m     \u001b[0mcls\u001b[0m \u001b[0;34m=\u001b[0m \u001b[0;32mNone\u001b[0m  \u001b[0;31m# Class not found\u001b[0m\u001b[0;34m\u001b[0m\u001b[0;34m\u001b[0m\u001b[0m\n",
            "\u001b[0;32m/usr/local/lib/python3.7/dist-packages/tensorflow_datasets/core/load.py\u001b[0m in \u001b[0;36mbuilder_cls\u001b[0;34m(name)\u001b[0m\n\u001b[1;32m     99\u001b[0m     \u001b[0;32mreturn\u001b[0m \u001b[0mcls\u001b[0m\u001b[0;34m\u001b[0m\u001b[0;34m\u001b[0m\u001b[0m\n\u001b[1;32m    100\u001b[0m   \u001b[0;32mexcept\u001b[0m \u001b[0mregistered\u001b[0m\u001b[0;34m.\u001b[0m\u001b[0mDatasetNotFoundError\u001b[0m \u001b[0;32mas\u001b[0m \u001b[0me\u001b[0m\u001b[0;34m:\u001b[0m\u001b[0;34m\u001b[0m\u001b[0;34m\u001b[0m\u001b[0m\n\u001b[0;32m--> 101\u001b[0;31m     \u001b[0m_reraise_with_list_builders\u001b[0m\u001b[0;34m(\u001b[0m\u001b[0me\u001b[0m\u001b[0;34m,\u001b[0m \u001b[0mname\u001b[0m\u001b[0;34m=\u001b[0m\u001b[0mds_name\u001b[0m\u001b[0;34m)\u001b[0m  \u001b[0;31m# pytype: disable=bad-return-type\u001b[0m\u001b[0;34m\u001b[0m\u001b[0;34m\u001b[0m\u001b[0m\n\u001b[0m\u001b[1;32m    102\u001b[0m \u001b[0;34m\u001b[0m\u001b[0m\n\u001b[1;32m    103\u001b[0m \u001b[0;34m\u001b[0m\u001b[0m\n",
            "\u001b[0;32m/usr/local/lib/python3.7/dist-packages/tensorflow_datasets/core/load.py\u001b[0m in \u001b[0;36m_reraise_with_list_builders\u001b[0;34m(e, name)\u001b[0m\n\u001b[1;32m    452\u001b[0m     \u001b[0merror_string\u001b[0m \u001b[0;34m+=\u001b[0m \u001b[0;34mf'\\nDid you mean: {name} -> {close_matches[0]}\\n'\u001b[0m\u001b[0;34m\u001b[0m\u001b[0;34m\u001b[0m\u001b[0m\n\u001b[1;32m    453\u001b[0m \u001b[0;34m\u001b[0m\u001b[0m\n\u001b[0;32m--> 454\u001b[0;31m   \u001b[0;32mraise\u001b[0m \u001b[0mpy_utils\u001b[0m\u001b[0;34m.\u001b[0m\u001b[0mreraise\u001b[0m\u001b[0;34m(\u001b[0m\u001b[0me\u001b[0m\u001b[0;34m,\u001b[0m \u001b[0msuffix\u001b[0m\u001b[0;34m=\u001b[0m\u001b[0merror_string\u001b[0m\u001b[0;34m)\u001b[0m\u001b[0;34m\u001b[0m\u001b[0;34m\u001b[0m\u001b[0m\n\u001b[0m",
            "\u001b[0;32m/usr/local/lib/python3.7/dist-packages/tensorflow_datasets/core/load.py\u001b[0m in \u001b[0;36mbuilder_cls\u001b[0;34m(name)\u001b[0m\n\u001b[1;32m     95\u001b[0m             f'Cannot load {ds_name} when community datasets are disabled')\n\u001b[1;32m     96\u001b[0m     \u001b[0;32melse\u001b[0m\u001b[0;34m:\u001b[0m\u001b[0;34m\u001b[0m\u001b[0;34m\u001b[0m\u001b[0m\n\u001b[0;32m---> 97\u001b[0;31m       \u001b[0mcls\u001b[0m \u001b[0;34m=\u001b[0m \u001b[0mregistered\u001b[0m\u001b[0;34m.\u001b[0m\u001b[0mimported_builder_cls\u001b[0m\u001b[0;34m(\u001b[0m\u001b[0mstr\u001b[0m\u001b[0;34m(\u001b[0m\u001b[0mds_name\u001b[0m\u001b[0;34m)\u001b[0m\u001b[0;34m)\u001b[0m\u001b[0;34m\u001b[0m\u001b[0;34m\u001b[0m\u001b[0m\n\u001b[0m\u001b[1;32m     98\u001b[0m       \u001b[0mcls\u001b[0m \u001b[0;34m=\u001b[0m \u001b[0mtyping\u001b[0m\u001b[0;34m.\u001b[0m\u001b[0mcast\u001b[0m\u001b[0;34m(\u001b[0m\u001b[0mType\u001b[0m\u001b[0;34m[\u001b[0m\u001b[0mdataset_builder\u001b[0m\u001b[0;34m.\u001b[0m\u001b[0mDatasetBuilder\u001b[0m\u001b[0;34m]\u001b[0m\u001b[0;34m,\u001b[0m \u001b[0mcls\u001b[0m\u001b[0;34m)\u001b[0m\u001b[0;34m\u001b[0m\u001b[0;34m\u001b[0m\u001b[0m\n\u001b[1;32m     99\u001b[0m     \u001b[0;32mreturn\u001b[0m \u001b[0mcls\u001b[0m\u001b[0;34m\u001b[0m\u001b[0;34m\u001b[0m\u001b[0m\n",
            "\u001b[0;32m/usr/local/lib/python3.7/dist-packages/tensorflow_datasets/core/registered.py\u001b[0m in \u001b[0;36mimported_builder_cls\u001b[0;34m(name)\u001b[0m\n\u001b[1;32m    127\u001b[0m \u001b[0;34m\u001b[0m\u001b[0m\n\u001b[1;32m    128\u001b[0m   \u001b[0;32mif\u001b[0m \u001b[0mname\u001b[0m \u001b[0;32mnot\u001b[0m \u001b[0;32min\u001b[0m \u001b[0m_DATASET_REGISTRY\u001b[0m\u001b[0;34m:\u001b[0m\u001b[0;34m\u001b[0m\u001b[0;34m\u001b[0m\u001b[0m\n\u001b[0;32m--> 129\u001b[0;31m     \u001b[0;32mraise\u001b[0m \u001b[0mDatasetNotFoundError\u001b[0m\u001b[0;34m(\u001b[0m\u001b[0;34mf'Dataset {name} not found.'\u001b[0m\u001b[0;34m)\u001b[0m\u001b[0;34m\u001b[0m\u001b[0;34m\u001b[0m\u001b[0m\n\u001b[0m\u001b[1;32m    130\u001b[0m \u001b[0;34m\u001b[0m\u001b[0m\n\u001b[1;32m    131\u001b[0m   \u001b[0mbuilder_cls\u001b[0m \u001b[0;34m=\u001b[0m \u001b[0m_DATASET_REGISTRY\u001b[0m\u001b[0;34m[\u001b[0m\u001b[0mname\u001b[0m\u001b[0;34m]\u001b[0m\u001b[0;34m\u001b[0m\u001b[0;34m\u001b[0m\u001b[0m\n",
            "\u001b[0;31mDatasetNotFoundError\u001b[0m: Dataset truc not found.\nAvailable datasets:\n\t- abstract_reasoning\n\t- accentdb\n\t- aeslc\n\t- aflw2k3d\n\t- ag_news_subset\n\t- ai2_arc\n\t- ai2_arc_with_ir\n\t- amazon_us_reviews\n\t- anli\n\t- answer_equivalence\n\t- arc\n\t- asqa\n\t- asset\n\t- assin2\n\t- bair_robot_pushing_small\n\t- bccd\n\t- beans\n\t- bee_dataset\n\t- beir\n\t- big_patent\n\t- bigearthnet\n\t- billsum\n\t- binarized_mnist\n\t- binary_alpha_digits\n\t- ble_wind_field\n\t- blimp\n\t- booksum\n\t- bool_q\n\t- c4\n\t- caltech101\n\t- caltech_birds2010\n\t- caltech_birds2011\n\t- cardiotox\n\t- cars196\n\t- cassava\n\t- cats_vs_dogs\n\t- celeb_a\n\t- celeb_a_hq\n\t- cfq\n\t- cherry_blossoms\n\t- chexpert\n\t- cifar10\n\t- cifar100\n\t- cifar10_1\n\t- cifar10_corrupted\n\t- citrus_leaves\n\t- cityscapes\n\t- civil_comments\n\t- clevr\n\t- clic\n\t- clinc_oos\n\t- cmaterdb\n\t- cnn_dailymail\n\t- coco\n\t- coco_captions\n\t- coil100\n\t- colorectal_histology\n\t- colorectal_histology_large\n\t- common_voice\n\t- coqa\n\t- cos_e\n\t- cosmos_qa\n\t- covid19\n\t- covid19sum\n\t- crema_d\n\t- criteo\n\t- cs_restaurants\n\t- curated_breast_imaging_ddsm\n\t- cycle_gan\n\t- d4rl_adroit_door\n\t- d4rl_adroit_hammer\n\t- d4rl_adroit_pen\n\t- d4rl_adroit_relocate\n\t- d4rl_antmaze\n\t- d4rl_mujoco_ant\n\t- d4rl_mujoco_halfcheetah\n\t- d4rl_mujoco_hopper\n\t- d4rl_mujoco_walker2d\n\t- dart\n\t- davis\n\t- deep1b\n\t- deep_weeds\n\t- definite_pronoun_resolution\n\t- dementiabank\n\t- diabetic_retinopathy_detection\n\t- diamonds\n\t- div2k\n\t- dmlab\n\t- doc_nli\n\t- dolphin_number_word\n\t- domainnet\n\t- downsampled_imagenet\n\t- drop\n\t- dsprites\n\t- dtd\n\t- duke_ultrasound\n\t- e2e_cleaned\n\t- efron_morris75\n\t- emnist\n\t- eraser_multi_rc\n\t- esnli\n\t- eurosat\n\t- fashion_mnist\n\t- flic\n\t- flores\n\t- food101\n\t- forest_fires\n\t- fuss\n\t- gap\n\t- geirhos_conflict_stimuli\n\t- gem\n\t- genomics_ood\n\t- german_credit_numeric\n\t- gigaword\n\t- glove100_angular\n\t- glue\n\t- goemotions\n\t- gov_report\n\t- gpt3\n\t- gref\n\t- groove\n\t- grounded_scan\n\t- gsm8k\n\t- gtzan\n\t- gtzan_music_speech\n\t- hellaswag\n\t- higgs\n\t- hillstrom\n\t- horses_or_humans\n\t- howell\n\t- i_naturalist2017\n\t- i_naturalist2018\n\t- imagenet2012\n\t- imagenet2012_corrupted\n\t- imagenet2012_fewshot\n\t- imagenet2012_multilabel\n\t- imagenet2012_real\n\t- imagenet2012_subset\n\t- imagenet_a\n\t- imagenet_lt\n\t- imagenet_r\n\t- imagenet_resized\n\t- imagenet_sketch\n\t- imagenet_v2\n\t- imagenette\n\t- imagewang\n\t- imdb_reviews\n\t- irc_disentanglement\n\t- iris\n\t- istella\n\t- kddcup99\n\t- kitti\n\t- kmnist\n\t- lambada\n\t- lfw\n\t- librispeech\n\t- librispeech_lm\n\t- libritts\n\t- ljspeech\n\t- lm1b\n\t- locomotion\n\t- lost_and_found\n\t- lsun\n\t- lvis\n\t- malaria\n\t- math_dataset\n\t- math_qa\n\t- mctaco\n\t- media_sum\n\t- mlqa\n\t- mnist\n\t- mnist_corrupted\n\t- movie_lens\n\t- movie_rationales\n\t- movielens\n\t- moving_mnist\n\t- mrqa\n\t- mslr_web\n\t- mt_opt\n\t- multi_news\n\t- multi_nli\n\t- multi_nli_mismatch\n\t- natural_questions\n\t- natural_questions_open\n\t- newsroom\n\t- nsynth\n\t- nyu_depth_v2\n\t- ogbg_molpcba\n\t- omniglot\n\t- open_images_challenge2019_detection\n\t- open_images_v4\n\t- openbookqa\n\t- opinion_abstracts\n\t- opinosis\n\t- opus\n\t- oxford_flowers102\n\t- oxford_iiit_pet\n\t- para_crawl\n\t- pass\n\t- patch_camelyon\n\t- paws_wiki\n\t- paws_x_wiki\n\t- penguins\n\t- pet_finder\n\t- pg19\n\t- piqa\n\t- places365_small\n\t- plant_leaves\n\t- plant_village\n\t- plantae_k\n\t- protein_net\n\t- qa4mre\n\t- qasc\n\t- quac\n\t- quality\n\t- quickdraw_bitmap\n\t- race\n\t- radon\n\t- reddit\n\t- reddit_disentanglement\n\t- reddit_tifu\n\t- ref_coco\n\t- resisc45\n\t- rlu_atari\n\t- rlu_atari_checkpoints\n\t- rlu_atari_checkpoints_ordered\n\t- rlu_control_suite\n\t- rlu_dmlab_explore_object_rewards_few\n\t- rlu_dmlab_explore_object_rewards_many\n\t- rlu_dmlab_rooms_select_nonmatching_object\n\t- rlu_dmlab_rooms_watermaze\n\t- rlu_dmlab_seekavoid_arena01\n\t- rlu_locomotion\n\t- rlu_rwrl\n\t- robomimic_ph\n\t- robonet\n\t- robosuite_panda_pick_place_can\n\t- rock_paper_scissors\n\t- rock_you\n\t- s3o4d\n\t- salient_span_wikipedia\n\t- samsum\n\t- savee\n\t- scan\n\t- scene_parse150\n\t- schema_guided_dialogue\n\t- sci_tail\n\t- scicite\n\t- scientific_papers\n\t- scrolls\n\t- sentiment140\n\t- shapes3d\n\t- sift1m\n\t- simpte\n\t- siscore\n\t- smallnorb\n\t- smartwatch_gestures\n\t- snli\n\t- so2sat\n\t- speech_commands\n\t- spoken_digit\n\t- squad\n\t- squad_question_generation\n\t- stanford_dogs\n\t- stanford_online_products\n\t- star_cfq\n\t- starcraft_video\n\t- stl10\n\t- story_cloze\n\t- summscreen\n\t- sun397\n\t- super_glue\n\t- svhn_cropped\n\t- symmetric_solids\n\t- tao\n\t- ted_hrlr_translate\n\t- ted_multi_translate\n\t- tedlium\n\t- tf_flowers\n\t- the300w_lp\n\t- tiny_shakespeare\n\t- titanic\n\t- trec\n\t- trivia_qa\n\t- tydi_qa\n\t- uc_merced\n\t- ucf101\n\t- unified_qa\n\t- vctk\n\t- visual_domain_decathlon\n\t- voc\n\t- voxceleb\n\t- voxforge\n\t- waymo_open_dataset\n\t- web_graph\n\t- web_nlg\n\t- web_questions\n\t- wider_face\n\t- wiki40b\n\t- wiki_auto\n\t- wiki_bio\n\t- wiki_dialog\n\t- wiki_table_questions\n\t- wiki_table_text\n\t- wikiann\n\t- wikihow\n\t- wikipedia\n\t- wikipedia_toxicity_subtypes\n\t- wine_quality\n\t- winogrande\n\t- wit\n\t- wit_kaggle\n\t- wmt13_translate\n\t- wmt14_translate\n\t- wmt15_translate\n\t- wmt16_translate\n\t- wmt17_translate\n\t- wmt18_translate\n\t- wmt19_translate\n\t- wmt_t2t_translate\n\t- wmt_translate\n\t- wordnet\n\t- wsc273\n\t- xnli\n\t- xquad\n\t- xsum\n\t- xtreme_pawsx\n\t- xtreme_s\n\t- xtreme_xnli\n\t- yelp_polarity_reviews\n\t- yes_no\n\t- youtube_vis\n\nCheck that:\n    - if dataset was added recently, it may only be available\n      in `tfds-nightly`\n    - the dataset name is spelled correctly\n    - dataset class defines all base class abstract methods\n    - the module defining the dataset class is imported\n\nDid you mean: truc -> trec\n"
          ]
        }
      ]
    },
    {
      "cell_type": "code",
      "source": [
        "(train_ds, val_ds, test_ds), metadata = tfds.load(\n",
        "    'mnist',\n",
        "    split=['train[:80%]', 'train[80%:90%]', 'train[90%:]'],\n",
        "    with_info=True,\n",
        "    as_supervised=True,\n",
        ")\n",
        "\n",
        "num_classes = metadata.features['label'].num_classes\n",
        "print(num_classes)\n",
        "\n",
        "\n",
        "rescale = tf.keras.Sequential([\n",
        "  tf.keras.layers.Rescaling(1./255)\n",
        "])\n",
        "\n",
        "data_augmentation = tf.keras.Sequential([\n",
        "  tf.keras.layers.RandomRotation(factor=(-0.07,0.07)), # fraction of +/- 2pi\n",
        "  tf.keras.layers.RandomTranslation(height_factor=(-0.05,0.05),width_factor=(-0.05,0.05),\n",
        "                                    fill_mode='constant',fill_value=0.0) # fraction on height/width\n",
        "])\n",
        "\n",
        "batch_size = 256\n",
        "AUTOTUNE = tf.data.AUTOTUNE\n",
        "\n",
        "def prepare(ds, shuffle=False, augment=False):\n",
        "  # Resize and rescale all datasets.\n",
        "  ds = ds.map(lambda x, y: (rescale(x), y), \n",
        "              num_parallel_calls=AUTOTUNE)\n",
        "\n",
        "  if shuffle:\n",
        "    ds = ds.shuffle(1000)\n",
        "\n",
        "  # Batch all datasets.\n",
        "  ds = ds.batch(batch_size)\n",
        "\n",
        "  # Use data augmentation only on the training set.\n",
        "  if augment:\n",
        "    ds = ds.map(lambda x, y: tf.cond(tf.random.uniform([], 0, 1) > 0.50, \n",
        "                                    lambda: (data_augmentation(x, training=True), y), \n",
        "                                    lambda: (x,y)), \n",
        "                num_parallel_calls=AUTOTUNE)\n",
        "\n",
        "  # Use buffered prefetching on all datasets.\n",
        "  return ds.prefetch(buffer_size=AUTOTUNE)\n",
        "\n",
        "\n",
        "\n",
        "train_ds = prepare(train_ds, shuffle=True, augment=True)\n",
        "val_ds = prepare(val_ds)\n",
        "test_ds = prepare(test_ds)\n"
      ],
      "metadata": {
        "colab": {
          "base_uri": "https://localhost:8080/",
          "height": 435,
          "referenced_widgets": [
            "c014ddd584504a18af1344e5dee43eae",
            "264822f1c1044cecb5f5b68b7e01ec77",
            "9ba1d263f7d746cbbcdacca0ff7cc643",
            "3a75c371678d470fbf8888565a5beef4",
            "d4614edc539d48499f37552ee911fe70",
            "874a6ef0388240edaad5a60ab54c4e3e",
            "249869cfa9214715ba25619e42849e20",
            "ab23888970ee4590b87a28a94da19ce9",
            "34c80634fcdd4051b3f53e463980c074",
            "85d5ec6cbf864a079647735bf226dc1c",
            "a9a66bc7f6d94112a10d064fa54f5e55"
          ]
        },
        "id": "s6vuUEodSj5V",
        "outputId": "305c3224-e053-494a-845e-95fd012a5fa3"
      },
      "execution_count": 18,
      "outputs": [
        {
          "output_type": "stream",
          "name": "stdout",
          "text": [
            "Downloading and preparing dataset 11.06 MiB (download: 11.06 MiB, generated: 21.00 MiB, total: 32.06 MiB) to ~/tensorflow_datasets/mnist/3.0.1...\n"
          ]
        },
        {
          "output_type": "display_data",
          "data": {
            "text/plain": [
              "Dl Completed...:   0%|          | 0/4 [00:00<?, ? file/s]"
            ],
            "application/vnd.jupyter.widget-view+json": {
              "version_major": 2,
              "version_minor": 0,
              "model_id": "c014ddd584504a18af1344e5dee43eae"
            }
          },
          "metadata": {}
        },
        {
          "output_type": "stream",
          "name": "stdout",
          "text": [
            "Dataset mnist downloaded and prepared to ~/tensorflow_datasets/mnist/3.0.1. Subsequent calls will reuse this data.\n",
            "10\n"
          ]
        },
        {
          "output_type": "stream",
          "name": "stderr",
          "text": [
            "WARNING:tensorflow:Using a while_loop for converting RngReadAndSkip\n",
            "WARNING:tensorflow:Using a while_loop for converting Bitcast\n",
            "WARNING:tensorflow:Using a while_loop for converting Bitcast\n",
            "WARNING:tensorflow:Using a while_loop for converting StatelessRandomUniformV2\n",
            "WARNING:tensorflow:Using a while_loop for converting RngReadAndSkip\n",
            "WARNING:tensorflow:Using a while_loop for converting Bitcast\n",
            "WARNING:tensorflow:Using a while_loop for converting Bitcast\n",
            "WARNING:tensorflow:Using a while_loop for converting StatelessRandomUniformV2\n",
            "WARNING:tensorflow:Using a while_loop for converting ImageProjectiveTransformV3\n",
            "WARNING:tensorflow:Using a while_loop for converting RngReadAndSkip\n",
            "WARNING:tensorflow:Using a while_loop for converting Bitcast\n",
            "WARNING:tensorflow:Using a while_loop for converting Bitcast\n",
            "WARNING:tensorflow:Using a while_loop for converting StatelessRandomUniformV2\n",
            "WARNING:tensorflow:Using a while_loop for converting RngReadAndSkip\n",
            "WARNING:tensorflow:Using a while_loop for converting Bitcast\n",
            "WARNING:tensorflow:Using a while_loop for converting Bitcast\n",
            "WARNING:tensorflow:Using a while_loop for converting StatelessRandomUniformV2\n",
            "WARNING:tensorflow:Using a while_loop for converting ImageProjectiveTransformV3\n"
          ]
        }
      ]
    },
    {
      "cell_type": "code",
      "source": [
        "get_label_name = metadata.features['label'].int2str\n",
        "\n",
        "image, label = next(iter(train_ds))\n",
        "_ = plt.imshow(image[2][:,:,0], cmap='gray_r')\n",
        "_ = plt.title(get_label_name(label[2]))\n"
      ],
      "metadata": {
        "colab": {
          "base_uri": "https://localhost:8080/",
          "height": 281
        },
        "id": "9M4rQcgtSqsD",
        "outputId": "6ee08aa1-b37a-4b1c-e5dc-d64c557d960d"
      },
      "execution_count": 19,
      "outputs": [
        {
          "output_type": "display_data",
          "data": {
            "text/plain": [
              "<Figure size 432x288 with 1 Axes>"
            ],
            "image/png": "[encoded data removed]"
          },
          "metadata": {
            "needs_background": "light"
          }
        }
      ]
    },
    {
      "cell_type": "code",
      "source": [
        "model = keras.models.Sequential()\n",
        "\n",
        "model.add( keras.layers.Input((28,28,1)) )\n",
        "\n",
        "model.add( keras.layers.Conv2D(512, (5,5),  activation='relu') )\n",
        "model.add(keras.layers.BatchNormalization())\n",
        "model.add( keras.layers.AveragePooling2D((2,2)))\n",
        "model.add( keras.layers.Conv2D(64, (1,1), activation='relu') )\n",
        "\n",
        "\n",
        "model.add( keras.layers.Conv2D(512, (3,3), activation='relu') )\n",
        "model.add(keras.layers.BatchNormalization())\n",
        "model.add( keras.layers.AveragePooling2D((2,2)))\n",
        "model.add( keras.layers.Conv2D(64, (1,1), activation='relu') )\n",
        "\n",
        "\n",
        "\n",
        "\n",
        "model.add( keras.layers.Flatten()) \n",
        "model.add( keras.layers.Dense(num_classes, activation='softmax'))"
      ],
      "metadata": {
        "id": "UsA8kUKkT49v"
      },
      "execution_count": 20,
      "outputs": []
    },
    {
      "cell_type": "code",
      "source": [
        "model.summary()\n",
        "\n",
        "optimizer = tf.keras.optimizers.Adam(learning_rate=0.001)\n",
        "\n",
        "\n",
        "model.compile(optimizer=optimizer,\n",
        "              loss='sparse_categorical_crossentropy',\n",
        "              metrics=['accuracy'])"
      ],
      "metadata": {
        "colab": {
          "base_uri": "https://localhost:8080/"
        },
        "id": "BiqJ5Q-WUIwA",
        "outputId": "5b6002cb-aee2-436d-c208-68f77c40e901"
      },
      "execution_count": 21,
      "outputs": [
        {
          "output_type": "stream",
          "name": "stdout",
          "text": [
            "Model: \"sequential_5\"\n",
            "_________________________________________________________________\n",
            " Layer (type)                Output Shape              Param #   \n",
            "=================================================================\n",
            " conv2d_4 (Conv2D)           (None, 24, 24, 512)       13312     \n",
            "                                                                 \n",
            " batch_normalization_2 (Batc  (None, 24, 24, 512)      2048      \n",
            " hNormalization)                                                 \n",
            "                                                                 \n",
            " average_pooling2d_2 (Averag  (None, 12, 12, 512)      0         \n",
            " ePooling2D)                                                     \n",
            "                                                                 \n",
            " conv2d_5 (Conv2D)           (None, 12, 12, 64)        32832     \n",
            "                                                                 \n",
            " conv2d_6 (Conv2D)           (None, 10, 10, 512)       295424    \n",
            "                                                                 \n",
            " batch_normalization_3 (Batc  (None, 10, 10, 512)      2048      \n",
            " hNormalization)                                                 \n",
            "                                                                 \n",
            " average_pooling2d_3 (Averag  (None, 5, 5, 512)        0         \n",
            " ePooling2D)                                                     \n",
            "                                                                 \n",
            " conv2d_7 (Conv2D)           (None, 5, 5, 64)          32832     \n",
            "                                                                 \n",
            " flatten_1 (Flatten)         (None, 1600)              0         \n",
            "                                                                 \n",
            " dense_1 (Dense)             (None, 10)                16010     \n",
            "                                                                 \n",
            "=================================================================\n",
            "Total params: 394,506\n",
            "Trainable params: 392,458\n",
            "Non-trainable params: 2,048\n",
            "_________________________________________________________________\n"
          ]
        }
      ]
    },
    {
      "cell_type": "code",
      "source": [
        "epochs      = 50\n",
        "\n",
        "reduce_lr = tf.keras.callbacks.ReduceLROnPlateau(\n",
        "    monitor=\"val_loss\",\n",
        "    factor=0.1,\n",
        "    patience=10,\n",
        "    min_lr=1e-5,\n",
        "    verbose=1)\n",
        "\n",
        "\n",
        "history = model.fit(  train_ds,\n",
        "                      batch_size      = batch_size,\n",
        "                      epochs          = epochs,\n",
        "                      verbose         = 1,\n",
        "                      validation_data = val_ds,\n",
        "                    callbacks=[reduce_lr])"
      ],
      "metadata": {
        "colab": {
          "base_uri": "https://localhost:8080/"
        },
        "id": "3OJfHx6GUMIh",
        "outputId": "abc53104-e22f-4cbf-b074-11755b56f5a3"
      },
      "execution_count": 22,
      "outputs": [
        {
          "output_type": "stream",
          "name": "stdout",
          "text": [
            "Epoch 1/50\n",
            "188/188 [==============================] - 22s 115ms/step - loss: 0.2013 - accuracy: 0.9375 - val_loss: 2.9733 - val_accuracy: 0.1060 - lr: 0.0010\n",
            "Epoch 2/50\n",
            "188/188 [==============================] - 21s 110ms/step - loss: 0.0782 - accuracy: 0.9758 - val_loss: 1.8471 - val_accuracy: 0.4105 - lr: 0.0010\n",
            "Epoch 3/50\n",
            "188/188 [==============================] - 21s 114ms/step - loss: 0.0577 - accuracy: 0.9821 - val_loss: 0.1530 - val_accuracy: 0.9555 - lr: 0.0010\n",
            "Epoch 4/50\n",
            "188/188 [==============================] - 18s 98ms/step - loss: 0.0442 - accuracy: 0.9860 - val_loss: 0.0577 - val_accuracy: 0.9832 - lr: 0.0010\n",
            "Epoch 5/50\n",
            "188/188 [==============================] - 22s 115ms/step - loss: 0.0483 - accuracy: 0.9849 - val_loss: 0.0623 - val_accuracy: 0.9803 - lr: 0.0010\n",
            "Epoch 6/50\n",
            "188/188 [==============================] - 20s 107ms/step - loss: 0.0409 - accuracy: 0.9871 - val_loss: 0.0332 - val_accuracy: 0.9890 - lr: 0.0010\n",
            "Epoch 7/50\n",
            "188/188 [==============================] - 20s 108ms/step - loss: 0.0355 - accuracy: 0.9887 - val_loss: 0.0339 - val_accuracy: 0.9885 - lr: 0.0010\n",
            "Epoch 8/50\n",
            "188/188 [==============================] - 20s 107ms/step - loss: 0.0305 - accuracy: 0.9903 - val_loss: 0.0405 - val_accuracy: 0.9893 - lr: 0.0010\n",
            "Epoch 9/50\n",
            "188/188 [==============================] - 21s 112ms/step - loss: 0.0312 - accuracy: 0.9901 - val_loss: 0.0809 - val_accuracy: 0.9765 - lr: 0.0010\n",
            "Epoch 10/50\n",
            "188/188 [==============================] - 20s 107ms/step - loss: 0.0294 - accuracy: 0.9911 - val_loss: 0.0380 - val_accuracy: 0.9857 - lr: 0.0010\n",
            "Epoch 11/50\n",
            "188/188 [==============================] - 20s 105ms/step - loss: 0.0255 - accuracy: 0.9918 - val_loss: 0.0350 - val_accuracy: 0.9892 - lr: 0.0010\n",
            "Epoch 12/50\n",
            "188/188 [==============================] - 21s 112ms/step - loss: 0.0265 - accuracy: 0.9917 - val_loss: 0.0365 - val_accuracy: 0.9880 - lr: 0.0010\n",
            "Epoch 13/50\n",
            "188/188 [==============================] - 22s 115ms/step - loss: 0.0271 - accuracy: 0.9916 - val_loss: 0.0335 - val_accuracy: 0.9890 - lr: 0.0010\n",
            "Epoch 14/50\n",
            "188/188 [==============================] - 20s 103ms/step - loss: 0.0216 - accuracy: 0.9929 - val_loss: 0.0234 - val_accuracy: 0.9932 - lr: 0.0010\n",
            "Epoch 15/50\n",
            "188/188 [==============================] - 19s 101ms/step - loss: 0.0213 - accuracy: 0.9936 - val_loss: 0.0202 - val_accuracy: 0.9927 - lr: 0.0010\n",
            "Epoch 16/50\n",
            "188/188 [==============================] - 20s 106ms/step - loss: 0.0227 - accuracy: 0.9931 - val_loss: 0.0227 - val_accuracy: 0.9915 - lr: 0.0010\n",
            "Epoch 17/50\n",
            "188/188 [==============================] - 21s 112ms/step - loss: 0.0230 - accuracy: 0.9927 - val_loss: 0.0274 - val_accuracy: 0.9917 - lr: 0.0010\n",
            "Epoch 18/50\n",
            "188/188 [==============================] - 20s 104ms/step - loss: 0.0211 - accuracy: 0.9933 - val_loss: 0.0272 - val_accuracy: 0.9920 - lr: 0.0010\n",
            "Epoch 19/50\n",
            "188/188 [==============================] - 21s 109ms/step - loss: 0.0207 - accuracy: 0.9933 - val_loss: 0.0235 - val_accuracy: 0.9918 - lr: 0.0010\n",
            "Epoch 20/50\n",
            "188/188 [==============================] - 21s 111ms/step - loss: 0.0194 - accuracy: 0.9937 - val_loss: 0.0265 - val_accuracy: 0.9908 - lr: 0.0010\n",
            "Epoch 21/50\n",
            "188/188 [==============================] - 19s 102ms/step - loss: 0.0171 - accuracy: 0.9947 - val_loss: 0.0286 - val_accuracy: 0.9923 - lr: 0.0010\n",
            "Epoch 22/50\n",
            "188/188 [==============================] - 19s 100ms/step - loss: 0.0170 - accuracy: 0.9951 - val_loss: 0.0208 - val_accuracy: 0.9938 - lr: 0.0010\n",
            "Epoch 23/50\n",
            "188/188 [==============================] - 20s 105ms/step - loss: 0.0175 - accuracy: 0.9944 - val_loss: 0.0297 - val_accuracy: 0.9908 - lr: 0.0010\n",
            "Epoch 24/50\n",
            "188/188 [==============================] - 19s 103ms/step - loss: 0.0167 - accuracy: 0.9948 - val_loss: 0.0273 - val_accuracy: 0.9903 - lr: 0.0010\n",
            "Epoch 25/50\n",
            "187/188 [============================>.] - ETA: 0s - loss: 0.0177 - accuracy: 0.9944\n",
            "Epoch 25: ReduceLROnPlateau reducing learning rate to 0.00010000000474974513.\n",
            "188/188 [==============================] - 20s 108ms/step - loss: 0.0178 - accuracy: 0.9944 - val_loss: 0.0259 - val_accuracy: 0.9925 - lr: 0.0010\n",
            "Epoch 26/50\n",
            "188/188 [==============================] - 20s 106ms/step - loss: 0.0119 - accuracy: 0.9964 - val_loss: 0.0114 - val_accuracy: 0.9962 - lr: 1.0000e-04\n",
            "Epoch 27/50\n",
            "188/188 [==============================] - 21s 110ms/step - loss: 0.0113 - accuracy: 0.9966 - val_loss: 0.0109 - val_accuracy: 0.9970 - lr: 1.0000e-04\n",
            "Epoch 28/50\n",
            "188/188 [==============================] - 20s 107ms/step - loss: 0.0091 - accuracy: 0.9971 - val_loss: 0.0103 - val_accuracy: 0.9967 - lr: 1.0000e-04\n",
            "Epoch 29/50\n",
            "188/188 [==============================] - 21s 108ms/step - loss: 0.0100 - accuracy: 0.9969 - val_loss: 0.0109 - val_accuracy: 0.9967 - lr: 1.0000e-04\n",
            "Epoch 30/50\n",
            "188/188 [==============================] - 21s 110ms/step - loss: 0.0079 - accuracy: 0.9977 - val_loss: 0.0114 - val_accuracy: 0.9968 - lr: 1.0000e-04\n",
            "Epoch 31/50\n",
            "188/188 [==============================] - 21s 110ms/step - loss: 0.0085 - accuracy: 0.9975 - val_loss: 0.0110 - val_accuracy: 0.9970 - lr: 1.0000e-04\n",
            "Epoch 32/50\n",
            "188/188 [==============================] - 20s 106ms/step - loss: 0.0069 - accuracy: 0.9981 - val_loss: 0.0112 - val_accuracy: 0.9965 - lr: 1.0000e-04\n",
            "Epoch 33/50\n",
            "188/188 [==============================] - 20s 105ms/step - loss: 0.0068 - accuracy: 0.9979 - val_loss: 0.0104 - val_accuracy: 0.9968 - lr: 1.0000e-04\n",
            "Epoch 34/50\n",
            "188/188 [==============================] - 20s 105ms/step - loss: 0.0069 - accuracy: 0.9982 - val_loss: 0.0112 - val_accuracy: 0.9965 - lr: 1.0000e-04\n",
            "Epoch 35/50\n",
            "188/188 [==============================] - 21s 112ms/step - loss: 0.0066 - accuracy: 0.9981 - val_loss: 0.0113 - val_accuracy: 0.9962 - lr: 1.0000e-04\n",
            "Epoch 36/50\n",
            "188/188 [==============================] - 20s 107ms/step - loss: 0.0061 - accuracy: 0.9982 - val_loss: 0.0120 - val_accuracy: 0.9963 - lr: 1.0000e-04\n",
            "Epoch 37/50\n",
            "188/188 [==============================] - 20s 105ms/step - loss: 0.0072 - accuracy: 0.9977 - val_loss: 0.0111 - val_accuracy: 0.9967 - lr: 1.0000e-04\n",
            "Epoch 38/50\n",
            "187/188 [============================>.] - ETA: 0s - loss: 0.0057 - accuracy: 0.9984\n",
            "Epoch 38: ReduceLROnPlateau reducing learning rate to 1.0000000474974514e-05.\n",
            "188/188 [==============================] - 21s 111ms/step - loss: 0.0057 - accuracy: 0.9984 - val_loss: 0.0106 - val_accuracy: 0.9963 - lr: 1.0000e-04\n",
            "Epoch 39/50\n",
            "188/188 [==============================] - 21s 109ms/step - loss: 0.0078 - accuracy: 0.9977 - val_loss: 0.0107 - val_accuracy: 0.9965 - lr: 1.0000e-05\n",
            "Epoch 40/50\n",
            "188/188 [==============================] - 20s 106ms/step - loss: 0.0051 - accuracy: 0.9986 - val_loss: 0.0106 - val_accuracy: 0.9963 - lr: 1.0000e-05\n",
            "Epoch 41/50\n",
            "188/188 [==============================] - 19s 99ms/step - loss: 0.0046 - accuracy: 0.9987 - val_loss: 0.0106 - val_accuracy: 0.9963 - lr: 1.0000e-05\n",
            "Epoch 42/50\n",
            "188/188 [==============================] - 20s 104ms/step - loss: 0.0056 - accuracy: 0.9983 - val_loss: 0.0105 - val_accuracy: 0.9963 - lr: 1.0000e-05\n",
            "Epoch 43/50\n",
            "188/188 [==============================] - 22s 114ms/step - loss: 0.0062 - accuracy: 0.9981 - val_loss: 0.0104 - val_accuracy: 0.9963 - lr: 1.0000e-05\n",
            "Epoch 44/50\n",
            "188/188 [==============================] - 21s 110ms/step - loss: 0.0065 - accuracy: 0.9979 - val_loss: 0.0105 - val_accuracy: 0.9963 - lr: 1.0000e-05\n",
            "Epoch 45/50\n",
            "188/188 [==============================] - 20s 105ms/step - loss: 0.0056 - accuracy: 0.9981 - val_loss: 0.0102 - val_accuracy: 0.9963 - lr: 1.0000e-05\n",
            "Epoch 46/50\n",
            "188/188 [==============================] - 19s 103ms/step - loss: 0.0051 - accuracy: 0.9985 - val_loss: 0.0103 - val_accuracy: 0.9967 - lr: 1.0000e-05\n",
            "Epoch 47/50\n",
            "188/188 [==============================] - 21s 113ms/step - loss: 0.0062 - accuracy: 0.9981 - val_loss: 0.0106 - val_accuracy: 0.9967 - lr: 1.0000e-05\n",
            "Epoch 48/50\n",
            "187/188 [============================>.] - ETA: 0s - loss: 0.0055 - accuracy: 0.9981\n",
            "Epoch 48: ReduceLROnPlateau reducing learning rate to 1e-05.\n",
            "188/188 [==============================] - 21s 113ms/step - loss: 0.0055 - accuracy: 0.9981 - val_loss: 0.0103 - val_accuracy: 0.9967 - lr: 1.0000e-05\n",
            "Epoch 49/50\n",
            "188/188 [==============================] - 20s 104ms/step - loss: 0.0060 - accuracy: 0.9983 - val_loss: 0.0103 - val_accuracy: 0.9968 - lr: 1.0000e-05\n",
            "Epoch 50/50\n",
            "188/188 [==============================] - 20s 104ms/step - loss: 0.0059 - accuracy: 0.9984 - val_loss: 0.0103 - val_accuracy: 0.9968 - lr: 1.0000e-05\n"
          ]
        }
      ]
    },
    {
      "cell_type": "code",
      "source": [
        "history.history.keys()"
      ],
      "metadata": {
        "colab": {
          "base_uri": "https://localhost:8080/"
        },
        "id": "HGrSZqadazqO",
        "outputId": "418a87dc-55da-4248-cd7a-5855d7e486c6"
      },
      "execution_count": 23,
      "outputs": [
        {
          "output_type": "execute_result",
          "data": {
            "text/plain": [
              "dict_keys(['loss', 'accuracy', 'val_loss', 'val_accuracy', 'lr'])"
            ]
          },
          "metadata": {},
          "execution_count": 23
        }
      ]
    },
    {
      "cell_type": "code",
      "source": [
        "fig,ax=plt.subplots(3,1,figsize=(5,8))\n",
        "ax[0].plot(history.history['loss'], label='train loss')\n",
        "ax[0].plot(history.history['val_loss'], label='valid loss')\n",
        "ax[0].set_yscale('log')\n",
        "ax[0].legend()\n",
        "ax[1].plot(history.history['accuracy'], label='train acc')\n",
        "ax[1].plot(history.history['val_accuracy'], label='valid acc')\n",
        "ax[1].set_ylim([0.98,1.0])\n",
        "ax[1].legend()\n",
        "\n",
        "ax[2].plot(history.history['lr'], label='learning rate')\n",
        "ax[2].set_yscale('log')\n",
        "ax[2].legend();\n"
      ],
      "metadata": {
        "colab": {
          "base_uri": "https://localhost:8080/",
          "height": 483
        },
        "id": "fQRChruMa6BV",
        "outputId": "de04110d-f4bd-437f-fbbf-848043372356"
      },
      "execution_count": 24,
      "outputs": [
        {
          "output_type": "display_data",
          "data": {
            "text/plain": [
              "<Figure size 360x576 with 3 Axes>"
            ],
            "image/png": "[encoded data removed]"
          },
          "metadata": {
            "needs_background": "light"
          }
        }
      ]
    },
    {
      "cell_type": "code",
      "source": [],
      "metadata": {
        "id": "t2TCJaXGtdmn"
      },
      "execution_count": null,
      "outputs": []
    }
  ]
}