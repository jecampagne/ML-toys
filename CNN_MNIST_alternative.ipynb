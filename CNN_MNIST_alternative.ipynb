{
  "nbformat": 4,
  "nbformat_minor": 0,
  "metadata": {
    "colab": {
      "provenance": [],
      "authorship_tag": "ABX9TyPFZLMF6UUMi4yMobBSkvAV",
      "include_colab_link": true
    },
    "kernelspec": {
      "name": "python3",
      "display_name": "Python 3"
    },
    "language_info": {
      "name": "python"
    },
    "accelerator": "GPU",
    "gpuClass": "standard",
    "widgets": {
      "application/vnd.jupyter.widget-state+json": {
        "6792e45f158c433b94e6cc916abe74e6": {
          "model_module": "@jupyter-widgets/controls",
          "model_name": "HBoxModel",
          "model_module_version": "1.5.0",
          "state": {
            "_dom_classes": [],
            "_model_module": "@jupyter-widgets/controls",
            "_model_module_version": "1.5.0",
            "_model_name": "HBoxModel",
            "_view_count": null,
            "_view_module": "@jupyter-widgets/controls",
            "_view_module_version": "1.5.0",
            "_view_name": "HBoxView",
            "box_style": "",
            "children": [
              "IPY_MODEL_22198789bbe548719f809d8d9bb55aeb",
              "IPY_MODEL_17c368365770429584ad3ae038965541",
              "IPY_MODEL_da946464115c4572a0bc25a0c214f65f"
            ],
            "layout": "IPY_MODEL_f7e1268c54f245f099c179b5d3eabe5f"
          }
        },
        "22198789bbe548719f809d8d9bb55aeb": {
          "model_module": "@jupyter-widgets/controls",
          "model_name": "HTMLModel",
          "model_module_version": "1.5.0",
          "state": {
            "_dom_classes": [],
            "_model_module": "@jupyter-widgets/controls",
            "_model_module_version": "1.5.0",
            "_model_name": "HTMLModel",
            "_view_count": null,
            "_view_module": "@jupyter-widgets/controls",
            "_view_module_version": "1.5.0",
            "_view_name": "HTMLView",
            "description": "",
            "description_tooltip": null,
            "layout": "IPY_MODEL_1db9fcdcb562484baa43c2d0beb38919",
            "placeholder": "​",
            "style": "IPY_MODEL_56a98a2ec12e49e18d5449096ce9f775",
            "value": "Dl Completed...: 100%"
          }
        },
        "17c368365770429584ad3ae038965541": {
          "model_module": "@jupyter-widgets/controls",
          "model_name": "FloatProgressModel",
          "model_module_version": "1.5.0",
          "state": {
            "_dom_classes": [],
            "_model_module": "@jupyter-widgets/controls",
            "_model_module_version": "1.5.0",
            "_model_name": "FloatProgressModel",
            "_view_count": null,
            "_view_module": "@jupyter-widgets/controls",
            "_view_module_version": "1.5.0",
            "_view_name": "ProgressView",
            "bar_style": "success",
            "description": "",
            "description_tooltip": null,
            "layout": "IPY_MODEL_97079f5c006e4f15a14bb0f5ae6a9093",
            "max": 4,
            "min": 0,
            "orientation": "horizontal",
            "style": "IPY_MODEL_5ab463c11f754fa1a92ca559cbb4b94e",
            "value": 4
          }
        },
        "da946464115c4572a0bc25a0c214f65f": {
          "model_module": "@jupyter-widgets/controls",
          "model_name": "HTMLModel",
          "model_module_version": "1.5.0",
          "state": {
            "_dom_classes": [],
            "_model_module": "@jupyter-widgets/controls",
            "_model_module_version": "1.5.0",
            "_model_name": "HTMLModel",
            "_view_count": null,
            "_view_module": "@jupyter-widgets/controls",
            "_view_module_version": "1.5.0",
            "_view_name": "HTMLView",
            "description": "",
            "description_tooltip": null,
            "layout": "IPY_MODEL_b311d05246ea41699953a727232c2631",
            "placeholder": "​",
            "style": "IPY_MODEL_0aec5fe710894cfd86d7a77d9afd7961",
            "value": " 4/4 [00:01&lt;00:00,  1.69 file/s]"
          }
        },
        "f7e1268c54f245f099c179b5d3eabe5f": {
          "model_module": "@jupyter-widgets/base",
          "model_name": "LayoutModel",
          "model_module_version": "1.2.0",
          "state": {
            "_model_module": "@jupyter-widgets/base",
            "_model_module_version": "1.2.0",
            "_model_name": "LayoutModel",
            "_view_count": null,
            "_view_module": "@jupyter-widgets/base",
            "_view_module_version": "1.2.0",
            "_view_name": "LayoutView",
            "align_content": null,
            "align_items": null,
            "align_self": null,
            "border": null,
            "bottom": null,
            "display": null,
            "flex": null,
            "flex_flow": null,
            "grid_area": null,
            "grid_auto_columns": null,
            "grid_auto_flow": null,
            "grid_auto_rows": null,
            "grid_column": null,
            "grid_gap": null,
            "grid_row": null,
            "grid_template_areas": null,
            "grid_template_columns": null,
            "grid_template_rows": null,
            "height": null,
            "justify_content": null,
            "justify_items": null,
            "left": null,
            "margin": null,
            "max_height": null,
            "max_width": null,
            "min_height": null,
            "min_width": null,
            "object_fit": null,
            "object_position": null,
            "order": null,
            "overflow": null,
            "overflow_x": null,
            "overflow_y": null,
            "padding": null,
            "right": null,
            "top": null,
            "visibility": null,
            "width": null
          }
        },
        "1db9fcdcb562484baa43c2d0beb38919": {
          "model_module": "@jupyter-widgets/base",
          "model_name": "LayoutModel",
          "model_module_version": "1.2.0",
          "state": {
            "_model_module": "@jupyter-widgets/base",
            "_model_module_version": "1.2.0",
            "_model_name": "LayoutModel",
            "_view_count": null,
            "_view_module": "@jupyter-widgets/base",
            "_view_module_version": "1.2.0",
            "_view_name": "LayoutView",
            "align_content": null,
            "align_items": null,
            "align_self": null,
            "border": null,
            "bottom": null,
            "display": null,
            "flex": null,
            "flex_flow": null,
            "grid_area": null,
            "grid_auto_columns": null,
            "grid_auto_flow": null,
            "grid_auto_rows": null,
            "grid_column": null,
            "grid_gap": null,
            "grid_row": null,
            "grid_template_areas": null,
            "grid_template_columns": null,
            "grid_template_rows": null,
            "height": null,
            "justify_content": null,
            "justify_items": null,
            "left": null,
            "margin": null,
            "max_height": null,
            "max_width": null,
            "min_height": null,
            "min_width": null,
            "object_fit": null,
            "object_position": null,
            "order": null,
            "overflow": null,
            "overflow_x": null,
            "overflow_y": null,
            "padding": null,
            "right": null,
            "top": null,
            "visibility": null,
            "width": null
          }
        },
        "56a98a2ec12e49e18d5449096ce9f775": {
          "model_module": "@jupyter-widgets/controls",
          "model_name": "DescriptionStyleModel",
          "model_module_version": "1.5.0",
          "state": {
            "_model_module": "@jupyter-widgets/controls",
            "_model_module_version": "1.5.0",
            "_model_name": "DescriptionStyleModel",
            "_view_count": null,
            "_view_module": "@jupyter-widgets/base",
            "_view_module_version": "1.2.0",
            "_view_name": "StyleView",
            "description_width": ""
          }
        },
        "97079f5c006e4f15a14bb0f5ae6a9093": {
          "model_module": "@jupyter-widgets/base",
          "model_name": "LayoutModel",
          "model_module_version": "1.2.0",
          "state": {
            "_model_module": "@jupyter-widgets/base",
            "_model_module_version": "1.2.0",
            "_model_name": "LayoutModel",
            "_view_count": null,
            "_view_module": "@jupyter-widgets/base",
            "_view_module_version": "1.2.0",
            "_view_name": "LayoutView",
            "align_content": null,
            "align_items": null,
            "align_self": null,
            "border": null,
            "bottom": null,
            "display": null,
            "flex": null,
            "flex_flow": null,
            "grid_area": null,
            "grid_auto_columns": null,
            "grid_auto_flow": null,
            "grid_auto_rows": null,
            "grid_column": null,
            "grid_gap": null,
            "grid_row": null,
            "grid_template_areas": null,
            "grid_template_columns": null,
            "grid_template_rows": null,
            "height": null,
            "justify_content": null,
            "justify_items": null,
            "left": null,
            "margin": null,
            "max_height": null,
            "max_width": null,
            "min_height": null,
            "min_width": null,
            "object_fit": null,
            "object_position": null,
            "order": null,
            "overflow": null,
            "overflow_x": null,
            "overflow_y": null,
            "padding": null,
            "right": null,
            "top": null,
            "visibility": null,
            "width": null
          }
        },
        "5ab463c11f754fa1a92ca559cbb4b94e": {
          "model_module": "@jupyter-widgets/controls",
          "model_name": "ProgressStyleModel",
          "model_module_version": "1.5.0",
          "state": {
            "_model_module": "@jupyter-widgets/controls",
            "_model_module_version": "1.5.0",
            "_model_name": "ProgressStyleModel",
            "_view_count": null,
            "_view_module": "@jupyter-widgets/base",
            "_view_module_version": "1.2.0",
            "_view_name": "StyleView",
            "bar_color": null,
            "description_width": ""
          }
        },
        "b311d05246ea41699953a727232c2631": {
          "model_module": "@jupyter-widgets/base",
          "model_name": "LayoutModel",
          "model_module_version": "1.2.0",
          "state": {
            "_model_module": "@jupyter-widgets/base",
            "_model_module_version": "1.2.0",
            "_model_name": "LayoutModel",
            "_view_count": null,
            "_view_module": "@jupyter-widgets/base",
            "_view_module_version": "1.2.0",
            "_view_name": "LayoutView",
            "align_content": null,
            "align_items": null,
            "align_self": null,
            "border": null,
            "bottom": null,
            "display": null,
            "flex": null,
            "flex_flow": null,
            "grid_area": null,
            "grid_auto_columns": null,
            "grid_auto_flow": null,
            "grid_auto_rows": null,
            "grid_column": null,
            "grid_gap": null,
            "grid_row": null,
            "grid_template_areas": null,
            "grid_template_columns": null,
            "grid_template_rows": null,
            "height": null,
            "justify_content": null,
            "justify_items": null,
            "left": null,
            "margin": null,
            "max_height": null,
            "max_width": null,
            "min_height": null,
            "min_width": null,
            "object_fit": null,
            "object_position": null,
            "order": null,
            "overflow": null,
            "overflow_x": null,
            "overflow_y": null,
            "padding": null,
            "right": null,
            "top": null,
            "visibility": null,
            "width": null
          }
        },
        "0aec5fe710894cfd86d7a77d9afd7961": {
          "model_module": "@jupyter-widgets/controls",
          "model_name": "DescriptionStyleModel",
          "model_module_version": "1.5.0",
          "state": {
            "_model_module": "@jupyter-widgets/controls",
            "_model_module_version": "1.5.0",
            "_model_name": "DescriptionStyleModel",
            "_view_count": null,
            "_view_module": "@jupyter-widgets/base",
            "_view_module_version": "1.2.0",
            "_view_name": "StyleView",
            "description_width": ""
          }
        }
      }
    }
  },
  "cells": [
    {
      "cell_type": "markdown",
      "metadata": {
        "id": "view-in-github",
        "colab_type": "text"
      },
      "source": [
        "<a href=\"https://colab.research.google.com/github/jecampagne/ML-toys/blob/main/CNN_MNIST_alternative.ipynb\" target=\"_parent\"><img src=\"https://colab.research.google.com/assets/colab-badge.svg\" alt=\"Open In Colab\"/></a>"
      ]
    },
    {
      "cell_type": "code",
      "execution_count": 4,
      "metadata": {
        "id": "BoOSN76CSar0"
      },
      "outputs": [],
      "source": [
        "import tensorflow as tf\n",
        "import tensorflow_datasets as tfds\n",
        "from tensorflow import keras\n",
        "\n",
        "import numpy as np\n",
        "import matplotlib.pyplot as plt\n",
        "import sys,os\n",
        "from importlib import reload\n"
      ]
    },
    {
      "cell_type": "code",
      "source": [
        "(train_ds, val_ds, test_ds), metadata = tfds.load(\n",
        "    'mnist',\n",
        "    split=['train[:80%]', 'train[80%:90%]', 'train[90%:]'],\n",
        "    with_info=True,\n",
        "    as_supervised=True,\n",
        ")\n",
        "\n",
        "num_classes = metadata.features['label'].num_classes\n",
        "print(num_classes)\n",
        "\n",
        "\n",
        "rescale = tf.keras.Sequential([\n",
        "  tf.keras.layers.Rescaling(1./255)\n",
        "])\n",
        "\n",
        "data_augmentation = tf.keras.Sequential([\n",
        "  tf.keras.layers.RandomRotation(factor=(-0.07,0.07)), # fraction of +/- 2pi\n",
        "  tf.keras.layers.RandomTranslation(height_factor=(-0.05,0.05),width_factor=(-0.05,0.05),\n",
        "                                    fill_mode='constant',fill_value=0.0) # fraction on height/width\n",
        "])\n",
        "\n",
        "batch_size = 256\n",
        "AUTOTUNE = tf.data.AUTOTUNE\n",
        "\n",
        "def prepare(ds, shuffle=False, augment=False):\n",
        "  # Resize and rescale all datasets.\n",
        "  ds = ds.map(lambda x, y: (rescale(x), y), \n",
        "              num_parallel_calls=AUTOTUNE)\n",
        "\n",
        "  if shuffle:\n",
        "    ds = ds.shuffle(1000)\n",
        "\n",
        "  # Batch all datasets.\n",
        "  ds = ds.batch(batch_size)\n",
        "\n",
        "  # Use data augmentation only on the training set.\n",
        "  if augment:\n",
        "    ds = ds.map(lambda x, y: tf.cond(tf.random.uniform([], 0, 1) > 0.50, \n",
        "                                    lambda: (data_augmentation(x, training=True), y), \n",
        "                                    lambda: (x,y)), \n",
        "                num_parallel_calls=AUTOTUNE)\n",
        "\n",
        "  # Use buffered prefetching on all datasets.\n",
        "  return ds.prefetch(buffer_size=AUTOTUNE)\n",
        "\n",
        "\n",
        "\n",
        "train_ds = prepare(train_ds, shuffle=True, augment=True)\n",
        "val_ds = prepare(val_ds)\n",
        "test_ds = prepare(test_ds)\n"
      ],
      "metadata": {
        "colab": {
          "base_uri": "https://localhost:8080/",
          "height": 435,
          "referenced_widgets": [
            "6792e45f158c433b94e6cc916abe74e6",
            "22198789bbe548719f809d8d9bb55aeb",
            "17c368365770429584ad3ae038965541",
            "da946464115c4572a0bc25a0c214f65f",
            "f7e1268c54f245f099c179b5d3eabe5f",
            "1db9fcdcb562484baa43c2d0beb38919",
            "56a98a2ec12e49e18d5449096ce9f775",
            "97079f5c006e4f15a14bb0f5ae6a9093",
            "5ab463c11f754fa1a92ca559cbb4b94e",
            "b311d05246ea41699953a727232c2631",
            "0aec5fe710894cfd86d7a77d9afd7961"
          ]
        },
        "id": "s6vuUEodSj5V",
        "outputId": "cd2af0c2-8e28-4271-fe9f-4bf81426aa62"
      },
      "execution_count": 5,
      "outputs": [
        {
          "output_type": "stream",
          "name": "stdout",
          "text": [
            "Downloading and preparing dataset 11.06 MiB (download: 11.06 MiB, generated: 21.00 MiB, total: 32.06 MiB) to ~/tensorflow_datasets/mnist/3.0.1...\n"
          ]
        },
        {
          "output_type": "display_data",
          "data": {
            "text/plain": [
              "Dl Completed...:   0%|          | 0/4 [00:00<?, ? file/s]"
            ],
            "application/vnd.jupyter.widget-view+json": {
              "version_major": 2,
              "version_minor": 0,
              "model_id": "6792e45f158c433b94e6cc916abe74e6"
            }
          },
          "metadata": {}
        },
        {
          "output_type": "stream",
          "name": "stdout",
          "text": [
            "Dataset mnist downloaded and prepared to ~/tensorflow_datasets/mnist/3.0.1. Subsequent calls will reuse this data.\n",
            "10\n"
          ]
        },
        {
          "output_type": "stream",
          "name": "stderr",
          "text": [
            "WARNING:tensorflow:Using a while_loop for converting RngReadAndSkip\n",
            "WARNING:tensorflow:Using a while_loop for converting Bitcast\n",
            "WARNING:tensorflow:Using a while_loop for converting Bitcast\n",
            "WARNING:tensorflow:Using a while_loop for converting StatelessRandomUniformV2\n",
            "WARNING:tensorflow:Using a while_loop for converting RngReadAndSkip\n",
            "WARNING:tensorflow:Using a while_loop for converting Bitcast\n",
            "WARNING:tensorflow:Using a while_loop for converting Bitcast\n",
            "WARNING:tensorflow:Using a while_loop for converting StatelessRandomUniformV2\n",
            "WARNING:tensorflow:Using a while_loop for converting ImageProjectiveTransformV3\n",
            "WARNING:tensorflow:Using a while_loop for converting RngReadAndSkip\n",
            "WARNING:tensorflow:Using a while_loop for converting Bitcast\n",
            "WARNING:tensorflow:Using a while_loop for converting Bitcast\n",
            "WARNING:tensorflow:Using a while_loop for converting StatelessRandomUniformV2\n",
            "WARNING:tensorflow:Using a while_loop for converting RngReadAndSkip\n",
            "WARNING:tensorflow:Using a while_loop for converting Bitcast\n",
            "WARNING:tensorflow:Using a while_loop for converting Bitcast\n",
            "WARNING:tensorflow:Using a while_loop for converting StatelessRandomUniformV2\n",
            "WARNING:tensorflow:Using a while_loop for converting ImageProjectiveTransformV3\n"
          ]
        }
      ]
    },
    {
      "cell_type": "code",
      "source": [
        "get_label_name = metadata.features['label'].int2str\n",
        "\n",
        "image, label = next(iter(train_ds))\n",
        "_ = plt.imshow(image[2][:,:,0], cmap='gray_r')\n",
        "_ = plt.title(get_label_name(label[2]))\n"
      ],
      "metadata": {
        "colab": {
          "base_uri": "https://localhost:8080/",
          "height": 281
        },
        "id": "9M4rQcgtSqsD",
        "outputId": "f5c838dc-f8b7-4dd8-ebff-233a6b4c1621"
      },
      "execution_count": 7,
      "outputs": [
        {
          "output_type": "display_data",
          "data": {
            "text/plain": [
              "<Figure size 432x288 with 1 Axes>"
            ],
            "image/png": "[encoded data removed]"
          },
          "metadata": {
            "needs_background": "light"
          }
        }
      ]
    },
    {
      "cell_type": "code",
      "source": [
        "model = keras.models.Sequential()\n",
        "\n",
        "model.add( keras.layers.Input((28,28,1)) )\n",
        "\n",
        "model.add( keras.layers.Conv2D(512, (5,5),  activation='relu') )\n",
        "model.add(keras.layers.BatchNormalization())\n",
        "model.add( keras.layers.AveragePooling2D((2,2)))\n",
        "model.add( keras.layers.Conv2D(64, (1,1), activation='relu') )\n",
        "\n",
        "\n",
        "model.add( keras.layers.Conv2D(512, (3,3), activation='relu') )\n",
        "model.add(keras.layers.BatchNormalization())\n",
        "model.add( keras.layers.AveragePooling2D((2,2)))\n",
        "model.add( keras.layers.Conv2D(64, (1,1), activation='relu') )\n",
        "\n",
        "\n",
        "\n",
        "\n",
        "model.add( keras.layers.Flatten()) \n",
        "model.add( keras.layers.Dense(num_classes, activation='softmax'))"
      ],
      "metadata": {
        "id": "UsA8kUKkT49v"
      },
      "execution_count": 8,
      "outputs": []
    },
    {
      "cell_type": "code",
      "source": [
        "model.summary()\n",
        "\n",
        "optimizer = tf.keras.optimizers.Adam(learning_rate=0.001)\n",
        "\n",
        "\n",
        "model.compile(optimizer=optimizer,\n",
        "              loss='sparse_categorical_crossentropy',\n",
        "              metrics=['accuracy'])"
      ],
      "metadata": {
        "colab": {
          "base_uri": "https://localhost:8080/"
        },
        "id": "BiqJ5Q-WUIwA",
        "outputId": "015a7a17-2427-4773-8752-11037a470fa7"
      },
      "execution_count": 9,
      "outputs": [
        {
          "output_type": "stream",
          "name": "stdout",
          "text": [
            "Model: \"sequential_2\"\n",
            "_________________________________________________________________\n",
            " Layer (type)                Output Shape              Param #   \n",
            "=================================================================\n",
            " conv2d (Conv2D)             (None, 24, 24, 512)       13312     \n",
            "                                                                 \n",
            " batch_normalization (BatchN  (None, 24, 24, 512)      2048      \n",
            " ormalization)                                                   \n",
            "                                                                 \n",
            " average_pooling2d (AverageP  (None, 12, 12, 512)      0         \n",
            " ooling2D)                                                       \n",
            "                                                                 \n",
            " conv2d_1 (Conv2D)           (None, 12, 12, 64)        32832     \n",
            "                                                                 \n",
            " conv2d_2 (Conv2D)           (None, 10, 10, 512)       295424    \n",
            "                                                                 \n",
            " batch_normalization_1 (Batc  (None, 10, 10, 512)      2048      \n",
            " hNormalization)                                                 \n",
            "                                                                 \n",
            " average_pooling2d_1 (Averag  (None, 5, 5, 512)        0         \n",
            " ePooling2D)                                                     \n",
            "                                                                 \n",
            " conv2d_3 (Conv2D)           (None, 5, 5, 64)          32832     \n",
            "                                                                 \n",
            " flatten (Flatten)           (None, 1600)              0         \n",
            "                                                                 \n",
            " dense (Dense)               (None, 10)                16010     \n",
            "                                                                 \n",
            "=================================================================\n",
            "Total params: 394,506\n",
            "Trainable params: 392,458\n",
            "Non-trainable params: 2,048\n",
            "_________________________________________________________________\n"
          ]
        }
      ]
    },
    {
      "cell_type": "code",
      "source": [
        "epochs      = 50\n",
        "\n",
        "reduce_lr = tf.keras.callbacks.ReduceLROnPlateau(\n",
        "    monitor=\"val_loss\",\n",
        "    factor=0.1,\n",
        "    patience=10,\n",
        "    min_lr=1e-5,\n",
        "    verbose=1)\n",
        "\n",
        "\n",
        "history = model.fit(  train_ds,\n",
        "                      batch_size      = batch_size,\n",
        "                      epochs          = epochs,\n",
        "                      verbose         = 1,\n",
        "                      validation_data = val_ds,\n",
        "                    callbacks=[reduce_lr])"
      ],
      "metadata": {
        "colab": {
          "base_uri": "https://localhost:8080/"
        },
        "id": "3OJfHx6GUMIh",
        "outputId": "f63392fb-dac3-48df-dccd-51bb14975b11"
      },
      "execution_count": 11,
      "outputs": [
        {
          "output_type": "stream",
          "name": "stdout",
          "text": [
            "Epoch 1/50\n",
            "188/188 [==============================] - 30s 116ms/step - loss: 0.1885 - accuracy: 0.9408 - val_loss: 4.2710 - val_accuracy: 0.0987 - lr: 0.0010\n",
            "Epoch 2/50\n",
            "188/188 [==============================] - 20s 105ms/step - loss: 0.0724 - accuracy: 0.9780 - val_loss: 3.4192 - val_accuracy: 0.1608 - lr: 0.0010\n",
            "Epoch 3/50\n",
            "188/188 [==============================] - 21s 110ms/step - loss: 0.0543 - accuracy: 0.9837 - val_loss: 0.4331 - val_accuracy: 0.8452 - lr: 0.0010\n",
            "Epoch 4/50\n",
            "188/188 [==============================] - 22s 116ms/step - loss: 0.0513 - accuracy: 0.9842 - val_loss: 0.0533 - val_accuracy: 0.9838 - lr: 0.0010\n",
            "Epoch 5/50\n",
            "188/188 [==============================] - 22s 114ms/step - loss: 0.0410 - accuracy: 0.9870 - val_loss: 0.0455 - val_accuracy: 0.9858 - lr: 0.0010\n",
            "Epoch 6/50\n",
            "188/188 [==============================] - 21s 112ms/step - loss: 0.0381 - accuracy: 0.9883 - val_loss: 0.0462 - val_accuracy: 0.9863 - lr: 0.0010\n",
            "Epoch 7/50\n",
            "188/188 [==============================] - 21s 110ms/step - loss: 0.0341 - accuracy: 0.9897 - val_loss: 0.0393 - val_accuracy: 0.9893 - lr: 0.0010\n",
            "Epoch 8/50\n",
            "188/188 [==============================] - 21s 112ms/step - loss: 0.0332 - accuracy: 0.9897 - val_loss: 0.0292 - val_accuracy: 0.9913 - lr: 0.0010\n",
            "Epoch 9/50\n",
            "188/188 [==============================] - 21s 112ms/step - loss: 0.0294 - accuracy: 0.9906 - val_loss: 0.0469 - val_accuracy: 0.9867 - lr: 0.0010\n",
            "Epoch 10/50\n",
            "188/188 [==============================] - 19s 102ms/step - loss: 0.0239 - accuracy: 0.9926 - val_loss: 0.0357 - val_accuracy: 0.9895 - lr: 0.0010\n",
            "Epoch 11/50\n",
            "188/188 [==============================] - 21s 113ms/step - loss: 0.0268 - accuracy: 0.9919 - val_loss: 0.0362 - val_accuracy: 0.9897 - lr: 0.0010\n",
            "Epoch 12/50\n",
            "188/188 [==============================] - 20s 108ms/step - loss: 0.0251 - accuracy: 0.9921 - val_loss: 0.0232 - val_accuracy: 0.9935 - lr: 0.0010\n",
            "Epoch 13/50\n",
            "188/188 [==============================] - 21s 110ms/step - loss: 0.0232 - accuracy: 0.9928 - val_loss: 0.0436 - val_accuracy: 0.9873 - lr: 0.0010\n",
            "Epoch 14/50\n",
            "188/188 [==============================] - 21s 111ms/step - loss: 0.0242 - accuracy: 0.9920 - val_loss: 0.0397 - val_accuracy: 0.9893 - lr: 0.0010\n",
            "Epoch 15/50\n",
            "188/188 [==============================] - 21s 111ms/step - loss: 0.0245 - accuracy: 0.9921 - val_loss: 0.0767 - val_accuracy: 0.9797 - lr: 0.0010\n",
            "Epoch 16/50\n",
            "188/188 [==============================] - 21s 110ms/step - loss: 0.0209 - accuracy: 0.9932 - val_loss: 0.0267 - val_accuracy: 0.9925 - lr: 0.0010\n",
            "Epoch 17/50\n",
            "188/188 [==============================] - 21s 113ms/step - loss: 0.0202 - accuracy: 0.9941 - val_loss: 0.0402 - val_accuracy: 0.9880 - lr: 0.0010\n",
            "Epoch 18/50\n",
            "188/188 [==============================] - 21s 109ms/step - loss: 0.0204 - accuracy: 0.9937 - val_loss: 0.0269 - val_accuracy: 0.9932 - lr: 0.0010\n",
            "Epoch 19/50\n",
            "188/188 [==============================] - 21s 110ms/step - loss: 0.0193 - accuracy: 0.9939 - val_loss: 0.0343 - val_accuracy: 0.9895 - lr: 0.0010\n",
            "Epoch 20/50\n",
            "188/188 [==============================] - 21s 111ms/step - loss: 0.0205 - accuracy: 0.9935 - val_loss: 0.0391 - val_accuracy: 0.9888 - lr: 0.0010\n",
            "Epoch 21/50\n",
            "188/188 [==============================] - 21s 112ms/step - loss: 0.0208 - accuracy: 0.9933 - val_loss: 0.0220 - val_accuracy: 0.9930 - lr: 0.0010\n",
            "Epoch 22/50\n",
            "188/188 [==============================] - 20s 107ms/step - loss: 0.0182 - accuracy: 0.9942 - val_loss: 0.0336 - val_accuracy: 0.9908 - lr: 0.0010\n",
            "Epoch 23/50\n",
            "188/188 [==============================] - 20s 108ms/step - loss: 0.0174 - accuracy: 0.9948 - val_loss: 0.0250 - val_accuracy: 0.9928 - lr: 0.0010\n",
            "Epoch 24/50\n",
            "188/188 [==============================] - 22s 114ms/step - loss: 0.0158 - accuracy: 0.9950 - val_loss: 0.0211 - val_accuracy: 0.9932 - lr: 0.0010\n",
            "Epoch 25/50\n",
            "188/188 [==============================] - 21s 109ms/step - loss: 0.0175 - accuracy: 0.9943 - val_loss: 0.0402 - val_accuracy: 0.9887 - lr: 0.0010\n",
            "Epoch 26/50\n",
            "188/188 [==============================] - 21s 113ms/step - loss: 0.0184 - accuracy: 0.9940 - val_loss: 0.0239 - val_accuracy: 0.9923 - lr: 0.0010\n",
            "Epoch 27/50\n",
            "188/188 [==============================] - 21s 111ms/step - loss: 0.0169 - accuracy: 0.9942 - val_loss: 0.0265 - val_accuracy: 0.9915 - lr: 0.0010\n",
            "Epoch 28/50\n",
            "188/188 [==============================] - 21s 114ms/step - loss: 0.0147 - accuracy: 0.9952 - val_loss: 0.0255 - val_accuracy: 0.9925 - lr: 0.0010\n",
            "Epoch 29/50\n",
            "188/188 [==============================] - 22s 115ms/step - loss: 0.0166 - accuracy: 0.9948 - val_loss: 0.0260 - val_accuracy: 0.9920 - lr: 0.0010\n",
            "Epoch 30/50\n",
            "188/188 [==============================] - 21s 112ms/step - loss: 0.0176 - accuracy: 0.9943 - val_loss: 0.0248 - val_accuracy: 0.9922 - lr: 0.0010\n",
            "Epoch 31/50\n",
            "188/188 [==============================] - 22s 116ms/step - loss: 0.0135 - accuracy: 0.9957 - val_loss: 0.0230 - val_accuracy: 0.9942 - lr: 0.0010\n",
            "Epoch 32/50\n",
            "188/188 [==============================] - 21s 111ms/step - loss: 0.0137 - accuracy: 0.9959 - val_loss: 0.0254 - val_accuracy: 0.9932 - lr: 0.0010\n",
            "Epoch 33/50\n",
            "188/188 [==============================] - 21s 113ms/step - loss: 0.0154 - accuracy: 0.9954 - val_loss: 0.0340 - val_accuracy: 0.9903 - lr: 0.0010\n",
            "Epoch 34/50\n",
            "187/188 [============================>.] - ETA: 0s - loss: 0.0131 - accuracy: 0.9960\n",
            "Epoch 34: ReduceLROnPlateau reducing learning rate to 0.00010000000474974513.\n",
            "188/188 [==============================] - 21s 109ms/step - loss: 0.0131 - accuracy: 0.9960 - val_loss: 0.0290 - val_accuracy: 0.9905 - lr: 0.0010\n",
            "Epoch 35/50\n",
            "188/188 [==============================] - 22s 115ms/step - loss: 0.0108 - accuracy: 0.9969 - val_loss: 0.0153 - val_accuracy: 0.9963 - lr: 1.0000e-04\n",
            "Epoch 36/50\n",
            "188/188 [==============================] - 20s 104ms/step - loss: 0.0075 - accuracy: 0.9976 - val_loss: 0.0135 - val_accuracy: 0.9965 - lr: 1.0000e-04\n",
            "Epoch 37/50\n",
            "188/188 [==============================] - 19s 103ms/step - loss: 0.0064 - accuracy: 0.9979 - val_loss: 0.0126 - val_accuracy: 0.9957 - lr: 1.0000e-04\n",
            "Epoch 38/50\n",
            "188/188 [==============================] - 21s 113ms/step - loss: 0.0077 - accuracy: 0.9979 - val_loss: 0.0126 - val_accuracy: 0.9965 - lr: 1.0000e-04\n",
            "Epoch 39/50\n",
            "188/188 [==============================] - 21s 111ms/step - loss: 0.0068 - accuracy: 0.9978 - val_loss: 0.0136 - val_accuracy: 0.9967 - lr: 1.0000e-04\n",
            "Epoch 40/50\n",
            "188/188 [==============================] - 20s 109ms/step - loss: 0.0066 - accuracy: 0.9980 - val_loss: 0.0128 - val_accuracy: 0.9967 - lr: 1.0000e-04\n",
            "Epoch 41/50\n",
            "188/188 [==============================] - 21s 110ms/step - loss: 0.0063 - accuracy: 0.9980 - val_loss: 0.0125 - val_accuracy: 0.9963 - lr: 1.0000e-04\n",
            "Epoch 42/50\n",
            "188/188 [==============================] - 21s 108ms/step - loss: 0.0053 - accuracy: 0.9984 - val_loss: 0.0124 - val_accuracy: 0.9960 - lr: 1.0000e-04\n",
            "Epoch 43/50\n",
            "188/188 [==============================] - 21s 110ms/step - loss: 0.0055 - accuracy: 0.9982 - val_loss: 0.0127 - val_accuracy: 0.9963 - lr: 1.0000e-04\n",
            "Epoch 44/50\n",
            "188/188 [==============================] - 20s 109ms/step - loss: 0.0055 - accuracy: 0.9983 - val_loss: 0.0127 - val_accuracy: 0.9965 - lr: 1.0000e-04\n",
            "Epoch 45/50\n",
            "188/188 [==============================] - 21s 110ms/step - loss: 0.0065 - accuracy: 0.9981 - val_loss: 0.0132 - val_accuracy: 0.9963 - lr: 1.0000e-04\n",
            "Epoch 46/50\n",
            "188/188 [==============================] - 22s 116ms/step - loss: 0.0055 - accuracy: 0.9984 - val_loss: 0.0130 - val_accuracy: 0.9963 - lr: 1.0000e-04\n",
            "Epoch 47/50\n",
            "188/188 [==============================] - 21s 111ms/step - loss: 0.0052 - accuracy: 0.9984 - val_loss: 0.0135 - val_accuracy: 0.9963 - lr: 1.0000e-04\n",
            "Epoch 48/50\n",
            "188/188 [==============================] - 20s 104ms/step - loss: 0.0053 - accuracy: 0.9985 - val_loss: 0.0126 - val_accuracy: 0.9965 - lr: 1.0000e-04\n",
            "Epoch 49/50\n",
            "188/188 [==============================] - 22s 113ms/step - loss: 0.0045 - accuracy: 0.9986 - val_loss: 0.0136 - val_accuracy: 0.9952 - lr: 1.0000e-04\n",
            "Epoch 50/50\n",
            "188/188 [==============================] - 20s 108ms/step - loss: 0.0052 - accuracy: 0.9985 - val_loss: 0.0132 - val_accuracy: 0.9953 - lr: 1.0000e-04\n"
          ]
        }
      ]
    },
    {
      "cell_type": "code",
      "source": [
        "history"
      ],
      "metadata": {
        "colab": {
          "base_uri": "https://localhost:8080/"
        },
        "id": "RhCigID0UQqS",
        "outputId": "6dee27b4-d05b-456c-f55f-6e87d62c43b1"
      },
      "execution_count": 12,
      "outputs": [
        {
          "output_type": "execute_result",
          "data": {
            "text/plain": [
              "<keras.callbacks.History at 0x7f9dec193d90>"
            ]
          },
          "metadata": {},
          "execution_count": 12
        }
      ]
    },
    {
      "cell_type": "code",
      "source": [
        "history.history.keys()"
      ],
      "metadata": {
        "colab": {
          "base_uri": "https://localhost:8080/"
        },
        "id": "HGrSZqadazqO",
        "outputId": "9073cc4f-7da1-4e3a-ac25-478ab28745d8"
      },
      "execution_count": 16,
      "outputs": [
        {
          "output_type": "execute_result",
          "data": {
            "text/plain": [
              "dict_keys(['loss', 'accuracy', 'val_loss', 'val_accuracy', 'lr'])"
            ]
          },
          "metadata": {},
          "execution_count": 16
        }
      ]
    },
    {
      "cell_type": "code",
      "source": [
        "fig,ax=plt.subplots(3,1,figsize=(5,8))\n",
        "ax[0].plot(history.history['loss'], label='train loss')\n",
        "ax[0].plot(history.history['val_loss'], label='valid loss')\n",
        "ax[0].set_yscale('log')\n",
        "ax[0].legend()\n",
        "ax[1].plot(history.history['accuracy'], label='train acc')\n",
        "ax[1].plot(history.history['val_accuracy'], label='valid acc')\n",
        "ax[1].set_ylim([0.98,1.0])\n",
        "ax[1].legend()\n",
        "\n",
        "ax[2].plot(history.history['lr'], label='learning rate')\n",
        "ax[2].legend();\n"
      ],
      "metadata": {
        "colab": {
          "base_uri": "https://localhost:8080/",
          "height": 483
        },
        "id": "fQRChruMa6BV",
        "outputId": "eda20f33-a466-40d6-8c0e-9800472efbc3"
      },
      "execution_count": 27,
      "outputs": [
        {
          "output_type": "display_data",
          "data": {
            "text/plain": [
              "<Figure size 360x576 with 3 Axes>"
            ],
            "image/png": "[encoded data removed]"
          },
          "metadata": {
            "needs_background": "light"
          }
        }
      ]
    },
    {
      "cell_type": "code",
      "source": [],
      "metadata": {
        "id": "aUaZoFO3bOuo"
      },
      "execution_count": null,
      "outputs": []
    }
  ]
}