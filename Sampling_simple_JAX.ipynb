{
  "nbformat": 4,
  "nbformat_minor": 0,
  "metadata": {
    "colab": {
      "provenance": [],
      "authorship_tag": "ABX9TyNJzQgLKDgN5LnzGJcGUgAS",
      "include_colab_link": true
    },
    "kernelspec": {
      "name": "python3",
      "display_name": "Python 3"
    },
    "language_info": {
      "name": "python"
    }
  },
  "cells": [
    {
      "cell_type": "markdown",
      "metadata": {
        "id": "view-in-github",
        "colab_type": "text"
      },
      "source": [
        "<a href=\"https://colab.research.google.com/github/jecampagne/ML-toys/blob/main/Sampling_simple_JAX.ipynb\" target=\"_parent\"><img src=\"https://colab.research.google.com/assets/colab-badge.svg\" alt=\"Open In Colab\"/></a>"
      ]
    },
    {
      "cell_type": "code",
      "source": [
        "!pip install -q distrax"
      ],
      "metadata": {
        "id": "Gc6qYIzLcSO9"
      },
      "execution_count": 38,
      "outputs": []
    },
    {
      "cell_type": "code",
      "execution_count": 39,
      "metadata": {
        "id": "nLEDGuf7YzAp"
      },
      "outputs": [],
      "source": [
        "from functools import partial\n",
        "\n",
        "import numpy as np\n",
        "import matplotlib as mpl\n",
        "import matplotlib.pyplot as plt\n",
        "mpl.rc('image', cmap='jet')\n",
        "mpl.rcParams['font.size'] = 18\n",
        "\n",
        "\n",
        "import jax\n",
        "import jax.numpy as jnp\n",
        "import jax.scipy as jsc\n",
        "from jax import grad, jit, vmap\n",
        "from jax import jacfwd, jacrev, hessian\n",
        "\n",
        "import distrax\n",
        "\n",
        "from tensorflow_probability.substrates import jax as tfp\n",
        "\n",
        "tfd = tfp.distributions\n",
        "tfb = tfp.bijectors\n",
        "tfpk = tfp.math.psd_kernels\n"
      ]
    },
    {
      "cell_type": "code",
      "source": [
        "#avoid boring Warnings\n",
        "import logging\n",
        "logger = logging.getLogger()\n",
        "\n",
        "\n",
        "class CheckTypesFilter(logging.Filter):\n",
        "    def filter(self, record):\n",
        "        return \"check_types\" not in record.getMessage()\n",
        "\n",
        "\n",
        "logger.addFilter(CheckTypesFilter())"
      ],
      "metadata": {
        "id": "9EdlYsArIDGi"
      },
      "execution_count": 260,
      "outputs": []
    },
    {
      "cell_type": "markdown",
      "source": [
        "# Sampling par réjection"
      ],
      "metadata": {
        "id": "CuFUBBPuOwSC"
      }
    },
    {
      "cell_type": "code",
      "source": [
        "base_distribution = distrax.Independent(\n",
        "        distrax.Normal(loc=0., scale=1.5),\n",
        "    )"
      ],
      "metadata": {
        "id": "FxeOYHE39l9T"
      },
      "execution_count": 276,
      "outputs": []
    },
    {
      "cell_type": "code",
      "source": [
        "# pdf cible\n",
        "p1 = 2/0.1 / (8/0.5 + 2/0.1)\n",
        "p2 = 1.-p1\n",
        "target_distribution = distrax.Independent(\n",
        "    distrax.MixtureSameFamily(\n",
        "        mixture_distribution=tfd.Categorical(\n",
        "          probs=[p1, p2]),\n",
        "      components_distribution=tfd.Normal(\n",
        "        loc=[-0.5, 0.5],       # One for each component.\n",
        "        scale=[0.5, 0.3]\n",
        "        )\n",
        "    ),\n",
        ")"
      ],
      "metadata": {
        "id": "Q28abum1GG6_"
      },
      "execution_count": 278,
      "outputs": []
    },
    {
      "cell_type": "code",
      "source": [
        "x=jnp.linspace(-3,3,1000)\n",
        "plt.plot(x,target_distribution.prob(x))\n",
        "plt.plot(x,base_distribution.prob(x))"
      ],
      "metadata": {
        "colab": {
          "base_uri": "https://localhost:8080/",
          "height": 291
        },
        "id": "GIAozD81IHCf",
        "outputId": "10e18c90-3f8f-4e7e-dc9f-7ecf9ab38f30"
      },
      "execution_count": 280,
      "outputs": [
        {
          "output_type": "execute_result",
          "data": {
            "text/plain": [
              "[<matplotlib.lines.Line2D at 0x7effdd2cde10>]"
            ]
          },
          "metadata": {},
          "execution_count": 280
        },
        {
          "output_type": "display_data",
          "data": {
            "text/plain": [
              "<Figure size 432x288 with 1 Axes>"
            ],
            "image/png": "[encoded data removed]"
          },
          "metadata": {
            "needs_background": "light"
          }
        }
      ]
    },
    {
      "cell_type": "code",
      "source": [
        "# facteur de normalisation\n",
        "K = 1.1 * jnp.max(jax.numpy.divide(target_distribution.prob(x),base_distribution.prob(x)))"
      ],
      "metadata": {
        "id": "67zBFZHS9Ifn"
      },
      "execution_count": 282,
      "outputs": []
    },
    {
      "cell_type": "code",
      "source": [
        "N=300_000"
      ],
      "metadata": {
        "id": "IPRZgis2KK_Y"
      },
      "execution_count": 315,
      "outputs": []
    },
    {
      "cell_type": "code",
      "source": [
        "base_spl = base_distribution.sample(seed=jax.random.PRNGKey(10), sample_shape=(N))"
      ],
      "metadata": {
        "id": "10DDVXIVz-OH"
      },
      "execution_count": 316,
      "outputs": []
    },
    {
      "cell_type": "code",
      "source": [
        "plt.hist(base_spl, bins=100, density=True);"
      ],
      "metadata": {
        "colab": {
          "base_uri": "https://localhost:8080/",
          "height": 273
        },
        "id": "AjwHf9bQ0c8h",
        "outputId": "c0fbda8d-8126-438e-b44c-c75c14fe25e5"
      },
      "execution_count": 317,
      "outputs": [
        {
          "output_type": "display_data",
          "data": {
            "text/plain": [
              "<Figure size 432x288 with 1 Axes>"
            ],
            "image/png": "[encoded data removed]"
          },
          "metadata": {
            "needs_background": "light"
          }
        }
      ]
    },
    {
      "cell_type": "code",
      "source": [
        "y = jax.numpy.divide(target_distribution.prob(base_spl),base_distribution.prob(base_spl))/K"
      ],
      "metadata": {
        "id": "P5RbeEUX2pGD"
      },
      "execution_count": 318,
      "outputs": []
    },
    {
      "cell_type": "code",
      "source": [
        "assert jnp.max(y) <1.0"
      ],
      "metadata": {
        "id": "ta8uWc8o8i_T"
      },
      "execution_count": 319,
      "outputs": []
    },
    {
      "cell_type": "code",
      "source": [
        "u = jax.random.uniform(jax.random.PRNGKey(30), shape=(N,))"
      ],
      "metadata": {
        "id": "uMca5v7Z4Lic"
      },
      "execution_count": 320,
      "outputs": []
    },
    {
      "cell_type": "code",
      "source": [
        "spl_ok = base_spl[y>u]"
      ],
      "metadata": {
        "id": "vabnMGOH5gb8"
      },
      "execution_count": 321,
      "outputs": []
    },
    {
      "cell_type": "code",
      "source": [
        "fig, ax = plt.subplots(1,2,figsize=(8,4))\n",
        "ax[0].hist(base_spl, bins=100, density=True,label=\"base dist. spl.\");\n",
        "ax[0].legend();\n",
        "ax[0].set_xlabel(r\"$\\theta$\");\n",
        "x=jnp.linspace(-3,3,1000)\n",
        "ax[1].hist(spl_ok,bins=100, density=True,label=\"spl accepted.\");\n",
        "ax[1].plot(x,target_distribution.prob(x),label=\"target dist.\",lw=3);\n",
        "ax[1].legend();\n",
        "ax[1].set_xlabel(r\"$\\theta$\");\n"
      ],
      "metadata": {
        "colab": {
          "base_uri": "https://localhost:8080/",
          "height": 295
        },
        "id": "dotx_dpD5yiT",
        "outputId": "570c164d-a6f0-4584-bee9-afef7ec57141"
      },
      "execution_count": 322,
      "outputs": [
        {
          "output_type": "display_data",
          "data": {
            "text/plain": [
              "<Figure size 576x288 with 2 Axes>"
            ],
            "image/png": "[encoded data removed]"
          },
          "metadata": {
            "needs_background": "light"
          }
        }
      ]
    },
    {
      "cell_type": "code",
      "source": [
        "@partial(jax.jit, static_argnums=(1,))\n",
        "def jax_metropolis_kernel(rng_key, logpdf, position, log_prob):\n",
        "    key, subkey = jax.random.split(rng_key)\n",
        "    \"\"\"Moves the chain by one step using the Random Walk Metropolis algorithm.\n",
        "  \n",
        "    Attributes\n",
        "    ----------\n",
        "    rng_key: jax.random.PRNGKey\n",
        "      Key for the pseudo random number generator.\n",
        "    logpdf: function\n",
        "      Returns the log-probability of the model given a position.\n",
        "    position: np.ndarray, shape (n_dims,)\n",
        "      The starting position.\n",
        "    log_prob: float\n",
        "      The log probability at the starting position.\n",
        "\n",
        "    Returns\n",
        "    -------\n",
        "    Tuple\n",
        "        The next positions of the chains along with their log probability.\n",
        "    \"\"\"\n",
        "    move_proposals = jax.random.normal(key, shape=position.shape) * 0.1\n",
        "    proposal = position + move_proposals\n",
        "    proposal_log_prob = logpdf(proposal)\n",
        "\n",
        "    log_uniform = jnp.log(jax.random.uniform(subkey))\n",
        "    do_accept = log_uniform < proposal_log_prob - log_prob\n",
        "\n",
        "    position = jnp.where(do_accept, proposal, position)\n",
        "    log_prob = jnp.where(do_accept, proposal_log_prob, log_prob)\n",
        "    return position, log_prob\n",
        "\n",
        "@partial(jax.jit, static_argnums=(1, 2))\n",
        "def jax_metropolis_sampler(rng_key, n_samples, logpdf, initial_position):\n",
        "    \"\"\"Generate samples using the Random Walk Metropolis algorithm.\n",
        "    Attributes\n",
        "    ----------\n",
        "    rng_key: jax.random.PRNGKey\n",
        "        Key for the pseudo random number generator.\n",
        "    n_samples: int\n",
        "        Number of samples to generate per chain.\n",
        "    logpdf: function\n",
        "      Returns the log-probability of the model given a position.\n",
        "    inital_position: np.ndarray (n_dims, n_chains)\n",
        "      The starting position.\n",
        "    Returns\n",
        "    -------\n",
        "    (n_samples, n_dim)\n",
        "    \"\"\"\n",
        "    def mh_update(i, state):\n",
        "        key, positions, log_prob = state\n",
        "        _, key = jax.random.split(key)\n",
        "        new_position, new_log_prob = jax_metropolis_kernel(key, \n",
        "                                                           logpdf, \n",
        "                                                           positions[i-1], \n",
        "                                                           log_prob)\n",
        "        positions=positions.at[i].set(new_position)\n",
        "        return (key, positions, new_log_prob)\n",
        "\n",
        "\n",
        "    logp = logpdf(initial_position)\n",
        "    # all positions structure should be set before lax.fori_loop\n",
        "    \n",
        "    all_positions = jnp.zeros((n_samples,initial_position.shape[0]))  # 1 chain for each vmap call\n",
        "    \n",
        "    initial_state = (rng_key,all_positions, logp)\n",
        "    rng_key, all_positions, log_prob = jax.lax.fori_loop(1, n_samples, \n",
        "                                                 mh_update, \n",
        "                                                 initial_state)\n",
        "    \n",
        "    \n",
        "    return all_positions"
      ],
      "metadata": {
        "id": "ZkX8VmcvEXTg"
      },
      "execution_count": 293,
      "outputs": []
    },
    {
      "cell_type": "code",
      "source": [
        "n_dim = 1\n",
        "n_forget = 25_000\n",
        "n_samples = 100_000 + n_forget\n",
        "n_chains = 3\n",
        "\n",
        "rng_key = jax.random.PRNGKey(42)\n",
        "\n",
        "rng_keys = jax.random.split(rng_key, n_chains)\n",
        "initial_position = jnp.zeros((n_dim, n_chains))\n",
        "\n",
        "run_mcmc = vmap(jax_metropolis_sampler, \n",
        "                    in_axes=(0, None, None, 1),\n",
        "                    out_axes=0)\n",
        "all_positions = run_mcmc(rng_keys, n_samples, \n",
        "                     lambda x: target_distribution.log_prob(x), \n",
        "                     initial_position)\n",
        "\n",
        "all_positions = all_positions.squeeze()\n",
        "\n",
        "all_positions=np.asarray(all_positions[:,n_forget:])"
      ],
      "metadata": {
        "id": "whxzUylZFEzV"
      },
      "execution_count": 312,
      "outputs": []
    },
    {
      "cell_type": "code",
      "source": [
        "all_positions.shape"
      ],
      "metadata": {
        "colab": {
          "base_uri": "https://localhost:8080/"
        },
        "id": "Z1tBVeLGKyqs",
        "outputId": "6ac4beff-812c-48f1-a8cd-08a2273a0233"
      },
      "execution_count": 313,
      "outputs": [
        {
          "output_type": "execute_result",
          "data": {
            "text/plain": [
              "(3, 100000)"
            ]
          },
          "metadata": {},
          "execution_count": 313
        }
      ]
    },
    {
      "cell_type": "code",
      "source": [
        "fig, axs = plt.subplots(1,1, figsize=(8,5))\n",
        "axs.hist(all_positions.flatten(),bins=100, density=True,label=f\"spl all\");\n",
        "x_axis = np.arange(-3, 3, 0.01)\n",
        "axs.plot(x_axis, target_distribution.prob(x_axis),'r-', lw=5, alpha=0.6, label='true pdf')\n",
        "axs.legend()\n",
        "fig.suptitle(f\"Metropolis-Hastings (Jax): {all_positions.shape[0]} chains of {all_positions.shape[1]} spls\")\n"
      ],
      "metadata": {
        "colab": {
          "base_uri": "https://localhost:8080/",
          "height": 382
        },
        "id": "J2UxkxKQLQyc",
        "outputId": "47ad756f-6cc1-4a3b-b8ed-6f65312bd70e"
      },
      "execution_count": 314,
      "outputs": [
        {
          "output_type": "execute_result",
          "data": {
            "text/plain": [
              "Text(0.5, 0.98, 'Metropolis-Hastings (Jax): 3 chains of 100000 spls')"
            ]
          },
          "metadata": {},
          "execution_count": 314
        },
        {
          "output_type": "display_data",
          "data": {
            "text/plain": [
              "<Figure size 576x360 with 1 Axes>"
            ],
            "image/png": "[encoded data removed]"
          },
          "metadata": {
            "needs_background": "light"
          }
        }
      ]
    },
    {
      "cell_type": "code",
      "source": [],
      "metadata": {
        "id": "nNaWgo8kLnIw"
      },
      "execution_count": null,
      "outputs": []
    }
  ]
}