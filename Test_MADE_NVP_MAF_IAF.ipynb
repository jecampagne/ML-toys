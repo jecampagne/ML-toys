{
  "nbformat": 4,
  "nbformat_minor": 0,
  "metadata": {
    "colab": {
      "provenance": [],
      "collapsed_sections": [],
      "authorship_tag": "ABX9TyOjO5n6OOaVLt6+pp2/G2Rc",
      "include_colab_link": true
    },
    "kernelspec": {
      "name": "python3",
      "display_name": "Python 3"
    },
    "language_info": {
      "name": "python"
    },
    "accelerator": "GPU"
  },
  "cells": [
    {
      "cell_type": "markdown",
      "metadata": {
        "id": "view-in-github",
        "colab_type": "text"
      },
      "source": [
        "<a href=\"https://colab.research.google.com/github/jecampagne/ML-toys/blob/main/Test_MADE_NVP_MAF_IAF.ipynb\" target=\"_parent\"><img src=\"https://colab.research.google.com/assets/colab-badge.svg\" alt=\"Open In Colab\"/></a>"
      ]
    },
    {
      "cell_type": "code",
      "execution_count": 1,
      "metadata": {
        "id": "MvBKyXzs4G59"
      },
      "outputs": [],
      "source": [
        "import matplotlib as mpl\n",
        "import matplotlib.pyplot as plt\n",
        "import matplotlib.ticker as mticker\n",
        "mpl.rc('image', cmap='jet')\n",
        "mpl.rcParams['font.size'] = 16\n",
        "\n",
        "import numpy as np\n",
        "\n",
        "import tensorflow.compat.v2 as tf\n",
        "import tensorflow_probability as tfp\n",
        "\n",
        "from tensorflow_probability import bijectors as tfb\n",
        "from tensorflow_probability import distributions as tfd\n",
        "from tensorflow import keras as tfk\n",
        "from tensorflow.keras import layers as tfkl\n",
        "\n",
        "tf.enable_v2_behavior()"
      ]
    },
    {
      "cell_type": "code",
      "source": [
        "tf.__version__"
      ],
      "metadata": {
        "colab": {
          "base_uri": "https://localhost:8080/",
          "height": 36
        },
        "id": "abNiINQc57-t",
        "outputId": "bbda646e-d627-4e8e-bf24-64d16588b829"
      },
      "execution_count": 3,
      "outputs": [
        {
          "output_type": "execute_result",
          "data": {
            "text/plain": [
              "'2.8.2'"
            ],
            "application/vnd.google.colaboratory.intrinsic+json": {
              "type": "string"
            }
          },
          "metadata": {},
          "execution_count": 3
        }
      ]
    },
    {
      "cell_type": "code",
      "source": [
        "tf.random.set_seed(0)"
      ],
      "metadata": {
        "id": "3Fp_42di6F8f"
      },
      "execution_count": 6,
      "outputs": []
    },
    {
      "cell_type": "markdown",
      "source": [
        "# Essai de MADE (1 couche)"
      ],
      "metadata": {
        "id": "bTyjwO6k5Sy-"
      }
    },
    {
      "cell_type": "code",
      "source": [
        "n = 10_000\n",
        "x2 = np.random.randn(n).astype(dtype=np.float32) * 2.\n",
        "x1 = np.random.randn(n).astype(dtype=np.float32) + (x2 * x2 / 4.)\n",
        "data = np.stack([x1, x2], axis=-1)\n"
      ],
      "metadata": {
        "id": "x8NZPVrd4Z6I"
      },
      "execution_count": 85,
      "outputs": []
    },
    {
      "cell_type": "code",
      "source": [
        "data.shape"
      ],
      "metadata": {
        "colab": {
          "base_uri": "https://localhost:8080/"
        },
        "id": "ibHXUZY8QCJ7",
        "outputId": "6918cf6e-77e0-4813-be72-ea3f753328d1"
      },
      "execution_count": 86,
      "outputs": [
        {
          "output_type": "execute_result",
          "data": {
            "text/plain": [
              "(10000, 2)"
            ]
          },
          "metadata": {},
          "execution_count": 86
        }
      ]
    },
    {
      "cell_type": "code",
      "source": [
        "joint = tfd.JointDistributionSequential([\n",
        "  tfd.Normal(loc=0,scale=2), # x2\n",
        "  lambda x2: tfd.Normal(loc=x2*x2/4.,scale=1)],\n",
        "  batch_ndims=0, use_vectorized_map=True)\n"
      ],
      "metadata": {
        "id": "HDr4spcC4g3z"
      },
      "execution_count": null,
      "outputs": []
    },
    {
      "cell_type": "code",
      "source": [
        "n = 2_000\n",
        "x2b,x1b = joint.sample(sample_shape=(n))"
      ],
      "metadata": {
        "id": "EUEmVjae4ioD"
      },
      "execution_count": null,
      "outputs": []
    },
    {
      "cell_type": "code",
      "source": [
        "data_bis = np.stack([x2b, x1b], axis=-1)"
      ],
      "metadata": {
        "id": "tj2ClxQY4rIN"
      },
      "execution_count": null,
      "outputs": []
    },
    {
      "cell_type": "code",
      "source": [
        "x = np.linspace(-3,6)\n",
        "y = np.linspace(-6,6)\n",
        "xv, yv = np.meshgrid(x, y, sparse=True)\n",
        "z = joint.prob(x2=yv,x=xv)"
      ],
      "metadata": {
        "id": "VVMa1QAf4sbr"
      },
      "execution_count": null,
      "outputs": []
    },
    {
      "cell_type": "code",
      "source": [
        "fig = plt.figure(figsize=(5,5))\n",
        "plt.scatter(x1,x2,s=0.1)\n",
        "plt.hist2d(x1,x2,density=True,bins=[100,100])\n",
        "plt.contour(x,y,z)\n",
        "plt.gca().set_aspect('equal')\n",
        "plt.xlim([x.min(),x.max()])\n",
        "plt.ylim([y.min(),y.max()])\n",
        "plt.draw()"
      ],
      "metadata": {
        "id": "HGKPunxf4whr"
      },
      "execution_count": null,
      "outputs": []
    },
    {
      "cell_type": "code",
      "source": [
        "made = tfb.AutoregressiveNetwork(params=2, hidden_units=[10, 10], activation='leaky_relu')"
      ],
      "metadata": {
        "id": "ebc3i4E54znU"
      },
      "execution_count": null,
      "outputs": []
    },
    {
      "cell_type": "code",
      "source": [
        "# A base distribtion as 2D Normal\n",
        "base_dist=tfd.Sample(tfd.Normal(loc=0., scale=1.), sample_shape=[2])\n",
        "# generate 10 samples 2D\n",
        "base_spl = base_dist.sample(sample_shape=(10_000))"
      ],
      "metadata": {
        "id": "H6ou084q47Mo"
      },
      "execution_count": null,
      "outputs": []
    },
    {
      "cell_type": "code",
      "source": [
        "# The base distribution transformed by a MADE bijector\n",
        "trans_dist = tfd.TransformedDistribution(\n",
        "    distribution=base_dist,\n",
        "    bijector=tfb.MaskedAutoregressiveFlow(made))\n"
      ],
      "metadata": {
        "id": "V0wPfnnk49Hm"
      },
      "execution_count": null,
      "outputs": []
    },
    {
      "cell_type": "code",
      "source": [
        "x_ = tfkl.Input(shape=(2,), dtype=tf.float32)\n",
        "log_prob_ = trans_dist.log_prob(x_)\n",
        "model = tfk.Model(x_, log_prob_)\n",
        "model.compile(optimizer=tf.optimizers.Adam(learning_rate=0.01),\n",
        "                loss=lambda _, log_prob: -log_prob) # signature of loss fn(y_true,output_of_the_model)\n",
        "\n",
        "batch_size = 25\n",
        "model.fit(x=data,\n",
        "            y=np.zeros((n, 0), dtype=np.float32),\n",
        "            batch_size=batch_size,\n",
        "            epochs=50,\n",
        "            steps_per_epoch=1,  # Usually `n // batch_size`.\n",
        "            shuffle=True,\n",
        "            verbose=True)"
      ],
      "metadata": {
        "id": "CvVUOQ5l5Eq4"
      },
      "execution_count": null,
      "outputs": []
    },
    {
      "cell_type": "code",
      "source": [
        "spl= trans_dist.sample(100_000)"
      ],
      "metadata": {
        "id": "zxc9-KJM5F9V"
      },
      "execution_count": null,
      "outputs": []
    },
    {
      "cell_type": "code",
      "source": [
        "fig = plt.figure(figsize=(5,5))\n",
        "#plt.scatter(spl[:,0],spl[:,1],s=0.1)\n",
        "plt.hist2d(spl[:,0],spl[:,1],density=True,bins=[100,200])\n",
        "#plt.scatter(base_spl[:,0],base_spl[:,1],s=0.1,c=\"k\")\n",
        "#plt.contour(x,y,z)\n",
        "plt.gca().set_aspect('equal')\n",
        "\n",
        "plt.xlim([x.min(),x.max()])\n",
        "plt.ylim([y.min(),y.max()])\n",
        "plt.draw()"
      ],
      "metadata": {
        "id": "cLlNJMXK5Jbr"
      },
      "execution_count": null,
      "outputs": []
    },
    {
      "cell_type": "markdown",
      "source": [
        "# MAF/IAF"
      ],
      "metadata": {
        "id": "bmBboJTy6etk"
      }
    },
    {
      "cell_type": "code",
      "source": [
        "sess =tf.compat.v1.InteractiveSession()\n"
      ],
      "metadata": {
        "id": "_Pbo2FOzCQba"
      },
      "execution_count": 35,
      "outputs": []
    },
    {
      "cell_type": "code",
      "source": [
        "DTYPE=tf.float32\n",
        "NP_DTYPE=np.float32\n",
        "MODEL = 'MAF' # Which Normalizing Flow to use. 'MAF' or 'IAF'\n",
        "TARGET_DENSITY = 'MOONS' # Which dataset to model. \n",
        "USE_BATCHNORM = False"
      ],
      "metadata": {
        "id": "n6A47FBM6_8F"
      },
      "execution_count": 190,
      "outputs": []
    },
    {
      "cell_type": "code",
      "source": [
        "# dataset-specific settings\n",
        "settings = {\n",
        "    'SIGGRAPH': {\n",
        "        'batch_size': 1500,\n",
        "        'num_bijectors': 8,\n",
        "        'train_iters': 2e5\n",
        "    },\n",
        "    'MOONS': {\n",
        "        'batch_size': 100,\n",
        "        'num_bijectors': 4,\n",
        "        'train_iters': 2e4\n",
        "    },\n",
        "    'MAFGAUSS':{\n",
        "        'batch_size': 100,\n",
        "        'num_bijectors': 4,\n",
        "        'train_iters': 2e4\n",
        "    }\n",
        "}"
      ],
      "metadata": {
        "id": "_yxgfcsc7Hvu"
      },
      "execution_count": 191,
      "outputs": []
    },
    {
      "cell_type": "code",
      "source": [
        "if TARGET_DENSITY == 'SIGGRAPH':\n",
        "    import pickle\n",
        "    with open('siggraph.pkl', 'rb') as f:\n",
        "        X = np.array(pickle.load(f))\n",
        "    X -= np.mean(X, axis=0)  # center\n",
        "    xlim, ylim = [-4, 4], [-2, 2]\n",
        "elif TARGET_DENSITY == 'MOONS':\n",
        "    from sklearn import cluster, datasets, mixture\n",
        "    from sklearn.preprocessing import StandardScaler\n",
        "    n_samples = 1000\n",
        "    noisy_moons = datasets.make_moons(n_samples=n_samples, noise=.05)\n",
        "    X, y = noisy_moons\n",
        "    X = StandardScaler().fit_transform(X)\n",
        "    xlim, ylim = [-2, 2], [-2, 2]\n",
        "elif TARGET_DENSITY == 'GAUSSIAN':\n",
        "    mean = [0.4, 1]\n",
        "    A = np.array([[2, .3], [-1., 4]])\n",
        "    cov = A.T.dot(A)\n",
        "    print(mean)\n",
        "    print(cov)\n",
        "    X = np.random.multivariate_normal(mean, cov, 2000)\n",
        "    xlim, ylim = [-2, 2], [-2, 2]\n",
        "elif TARGET_DENSITY == 'MAFGAUSS':\n",
        "    n=2000\n",
        "    x2 = np.random.randn(n).astype(dtype=np.float32) * 2.\n",
        "    x1 = np.random.randn(n).astype(dtype=np.float32) + (x2 * x2 / 4.)\n",
        "    X = np.stack([x1, x2], axis=-1)\n",
        "    xlim, ylim = [-4, 8], [-6, 6]\n",
        "\n",
        "X = X.astype(np.float32)\n",
        "plt.scatter(X[:, 0], X[:, 1], s=10, color='red')\n",
        "plt.title(TARGET_DENSITY)\n",
        "plt.xlim(xlim)\n",
        "plt.ylim(ylim)\n",
        "plt.gca().set_aspect('equal')"
      ],
      "metadata": {
        "colab": {
          "base_uri": "https://localhost:8080/",
          "height": 291
        },
        "id": "nRdNQMR-7cK_",
        "outputId": "9430cd66-7877-4d0e-f10c-ad05a16c3665"
      },
      "execution_count": 192,
      "outputs": [
        {
          "output_type": "display_data",
          "data": {
            "text/plain": [
              "<Figure size 432x288 with 1 Axes>"
            ],
            "image/png": "[encoded data removed]"
          },
          "metadata": {
            "needs_background": "light"
          }
        }
      ]
    },
    {
      "cell_type": "code",
      "source": [
        "X[0]"
      ],
      "metadata": {
        "colab": {
          "base_uri": "https://localhost:8080/"
        },
        "id": "-GHErEpwOH90",
        "outputId": "e6e230ab-4576-4229-f7ca-e2a024fa9161"
      },
      "execution_count": 193,
      "outputs": [
        {
          "output_type": "execute_result",
          "data": {
            "text/plain": [
              "array([-0.19579744, -0.8763679 ], dtype=float32)"
            ]
          },
          "metadata": {},
          "execution_count": 193
        }
      ]
    },
    {
      "cell_type": "code",
      "source": [],
      "metadata": {
        "id": "6Ra_hY198Y8g"
      },
      "execution_count": 193,
      "outputs": []
    },
    {
      "cell_type": "code",
      "source": [
        "base_dist = tfd.MultivariateNormalDiag(loc=tf.zeros([2], DTYPE),name='base dist')"
      ],
      "metadata": {
        "id": "aTkOGjV79Ler"
      },
      "execution_count": 194,
      "outputs": []
    },
    {
      "cell_type": "code",
      "source": [
        "class BatchNorm(tfb.Bijector):\n",
        "    def __init__(self, eps=1e-5, decay=0.95, validate_args=False, name=\"batch_norm\"):\n",
        "        super(BatchNorm, self).__init__(\n",
        "            event_ndims=1, validate_args=validate_args, name=name)\n",
        "        self._vars_created = False\n",
        "        self.eps = eps\n",
        "        self.decay = decay\n",
        "\n",
        "    def _create_vars(self, x):\n",
        "        n = x.get_shape().as_list()[1]\n",
        "        with tf.variable_scope(self.name):\n",
        "            self.beta = tf.get_variable('beta', [1, n], dtype=DTYPE)\n",
        "            self.gamma = tf.get_variable('gamma', [1, n], dtype=DTYPE)\n",
        "            self.train_m = tf.get_variable(\n",
        "                'mean', [1, n], dtype=DTYPE, trainable=False)\n",
        "            self.train_v = tf.get_variable(\n",
        "                'var', [1, n], dtype=DTYPE, initializer=tf.ones_initializer, trainable=False)\n",
        "        self._vars_created = True\n",
        "\n",
        "    def _forward(self, u):\n",
        "        if not self._vars_created:\n",
        "            self._create_vars(u)\n",
        "        return (u - self.beta) * tf.exp(-self.gamma) * tf.sqrt(self.train_v + self.eps) + self.train_m\n",
        "\n",
        "    def _inverse(self, x):\n",
        "        # Eq 22. Called during training of a normalizing flow.\n",
        "        if not self._vars_created:\n",
        "            self._create_vars(x)\n",
        "        # statistics of current minibatch\n",
        "        m, v = tf.nn.moments(x, axes=[0], keep_dims=True)\n",
        "        # update train statistics via exponential moving average\n",
        "        update_train_m = tf.assign_sub(\n",
        "            self.train_m, self.decay * (self.train_m - m))\n",
        "        update_train_v = tf.assign_sub(\n",
        "            self.train_v, self.decay * (self.train_v - v))\n",
        "        # normalize using current minibatch statistics, followed by BN scale and shift\n",
        "        with tf.control_dependencies([update_train_m, update_train_v]):\n",
        "            return (x - m) * 1. / tf.sqrt(v + self.eps) * tf.exp(self.gamma) + self.beta\n",
        "\n",
        "    def _inverse_log_det_jacobian(self, x):\n",
        "        # at training time, the log_det_jacobian is computed from statistics of the\n",
        "        # current minibatch.\n",
        "        if not self._vars_created:\n",
        "            self._create_vars(x)\n",
        "        _, v = tf.nn.moments(x, axes=[0], keep_dims=True)\n",
        "        abs_log_det_J_inv = tf.reduce_sum(\n",
        "            self.gamma - .5 * tf.log(v + self.eps))\n",
        "        return abs_log_det_J_inv"
      ],
      "metadata": {
        "id": "x1N9YFuQV_FJ"
      },
      "execution_count": 195,
      "outputs": []
    },
    {
      "cell_type": "code",
      "source": [
        "num_bijectors = settings[TARGET_DENSITY]['num_bijectors']\n",
        "bijectors = []\n",
        "\n",
        "for i in range(num_bijectors):\n",
        "    if MODEL == 'NVP':\n",
        "        #bijectors.append(NVPCoupling(D=2, d=1, layer_id=i))\n",
        "        raise Exception(\"To be done with TF implementation\") \n",
        "    elif MODEL == 'MAF':\n",
        "        #bijectors.append(tfb.MaskedAutoregressiveFlow(\n",
        "        #    shift_and_log_scale_fn=tfb.masked_autoregressive_default_template(\n",
        "        #        hidden_layers=[512, 512])))\n",
        "        bijectors.append(tfb.MaskedAutoregressiveFlow( name ='MAF%d' %i, \n",
        "            shift_and_log_scale_fn=tfb.AutoregressiveNetwork(\n",
        "                params=2, hidden_units=[512, 512])))\n",
        "    elif MODEL == 'IAF':\n",
        "        #bijectors.append(tfb.Invert(tfb.MaskedAutoregressiveFlow(\n",
        "        #    shift_and_log_scale_fn=tfb.masked_autoregressive_default_template(\n",
        "        #        hidden_layers=[512, 512]))))\n",
        "        bijectors.append(tfb.Invert(tfb.MaskedAutoregressiveFlow(name ='IAF%d' %i,\n",
        "            shift_and_log_scale_fn=tfb.AutoregressiveNetwork(\n",
        "                params=2, hidden_units=[512, 512]))))\n",
        "    if USE_BATCHNORM and i % 2 == 0:\n",
        "        # BatchNorm helps to stabilize deep normalizing flows, esp. Real-NVP\n",
        "        #bijectors.append(BatchNorm(name='batch_norm%d' % i))\n",
        "        bijectors.append(tfb.BatchNormalization(name='BN%d' % i))\n",
        "    bijectors.append(tfb.Permute(permutation=[1, 0]))\n",
        "# Discard the last Permute layer.\n",
        "flow_bijector = tfb.Chain(list(reversed(bijectors[:-1])))"
      ],
      "metadata": {
        "id": "gHuxWUe--AYd"
      },
      "execution_count": 196,
      "outputs": []
    },
    {
      "cell_type": "code",
      "source": [
        "X.shape"
      ],
      "metadata": {
        "colab": {
          "base_uri": "https://localhost:8080/"
        },
        "id": "WLyj8Wc_P9vi",
        "outputId": "06943375-8f0c-4bdc-d52e-d9a819be2de5"
      },
      "execution_count": 197,
      "outputs": [
        {
          "output_type": "execute_result",
          "data": {
            "text/plain": [
              "(1000, 2)"
            ]
          },
          "metadata": {},
          "execution_count": 197
        }
      ]
    },
    {
      "cell_type": "code",
      "source": [
        "trans_dist = tfd.TransformedDistribution(\n",
        "    distribution=base_dist,\n",
        "    bijector=flow_bijector)\n"
      ],
      "metadata": {
        "id": "ZG6pubmQBvK6"
      },
      "execution_count": 198,
      "outputs": []
    },
    {
      "cell_type": "code",
      "source": [
        "trans_dist.bijector.forward(X)"
      ],
      "metadata": {
        "colab": {
          "base_uri": "https://localhost:8080/"
        },
        "id": "KWj-aaFUNwgZ",
        "outputId": "c8caaba0-ad87-4e38-9a81-09d771a7aff9"
      },
      "execution_count": 199,
      "outputs": [
        {
          "output_type": "execute_result",
          "data": {
            "text/plain": [
              "<tf.Tensor: shape=(1000, 2), dtype=float32, numpy=\n",
              "array([[-0.8977675 , -0.20175195],\n",
              "       [ 1.441589  , -1.0398935 ],\n",
              "       [ 0.802679  , -1.5247128 ],\n",
              "       ...,\n",
              "       [ 0.412042  , -1.7038785 ],\n",
              "       [-0.05127002, -1.619414  ],\n",
              "       [-1.415656  ,  0.34289464]], dtype=float32)>"
            ]
          },
          "metadata": {},
          "execution_count": 199
        }
      ]
    },
    {
      "cell_type": "code",
      "source": [
        "- tf.reduce_mean(trans_dist.log_prob(X))"
      ],
      "metadata": {
        "colab": {
          "base_uri": "https://localhost:8080/"
        },
        "id": "FqPLe4BzQg70",
        "outputId": "7d27ec70-bf69-42b1-a511-2ba7b11cfab4"
      },
      "execution_count": 200,
      "outputs": [
        {
          "output_type": "execute_result",
          "data": {
            "text/plain": [
              "<tf.Tensor: shape=(), dtype=float32, numpy=2.8731174>"
            ]
          },
          "metadata": {},
          "execution_count": 200
        }
      ]
    },
    {
      "cell_type": "code",
      "source": [
        "# visualization\n",
        "x = base_dist.sample(8000)\n",
        "samples = [x]\n",
        "names = [base_dist.name]\n",
        "for bijector in reversed(trans_dist.bijector.bijectors):\n",
        "    x = bijector.forward(x)\n",
        "    samples.append(x)\n",
        "    names.append(bijector.name)\n"
      ],
      "metadata": {
        "id": "4J1r6NcGB5BF"
      },
      "execution_count": 201,
      "outputs": []
    },
    {
      "cell_type": "code",
      "source": [
        "results = samples\n",
        "f, arr = plt.subplots(1, len(results), figsize=(4 * (len(results)), 4))\n",
        "X0 = results[0].numpy()\n",
        "for i in range(len(results)):\n",
        "    X1 = results[i].numpy()\n",
        "    idx = np.logical_and(X0[:, 0] < 0, X0[:, 1] < 0)\n",
        "    arr[i].scatter(X1[idx, 0], X1[idx, 1], s=10, color='red')\n",
        "    idx = np.logical_and(X0[:, 0] > 0, X0[:, 1] < 0)\n",
        "    arr[i].scatter(X1[idx, 0], X1[idx, 1], s=10, color='green')\n",
        "    idx = np.logical_and(X0[:, 0] < 0, X0[:, 1] > 0)\n",
        "    arr[i].scatter(X1[idx, 0], X1[idx, 1], s=10, color='blue')\n",
        "    idx = np.logical_and(X0[:, 0] > 0, X0[:, 1] > 0)\n",
        "    arr[i].scatter(X1[idx, 0], X1[idx, 1], s=10, color='black')\n",
        "    arr[i].set_xlim([-10, 10])\n",
        "    arr[i].set_ylim([-10, 10])\n",
        "    arr[i].set_title(names[i])\n"
      ],
      "metadata": {
        "colab": {
          "base_uri": "https://localhost:8080/",
          "height": 149
        },
        "id": "Nnbrzj1hCDbE",
        "outputId": "5a4cb6da-b8b5-47af-960f-c0b6d8ff041b"
      },
      "execution_count": 202,
      "outputs": [
        {
          "output_type": "display_data",
          "data": {
            "text/plain": [
              "<Figure size 2304x288 with 8 Axes>"
            ],
            "image/png": "[encoded data removed]"
          },
          "metadata": {
            "needs_background": "light"
          }
        }
      ]
    },
    {
      "cell_type": "code",
      "source": [
        "x_ = tfkl.Input(shape=(2,), dtype=tf.float32)\n",
        "log_prob_ = trans_dist.log_prob(x_)\n",
        "model = tfk.Model(x_, log_prob_)\n",
        "model.compile(optimizer=tf.optimizers.Adam(learning_rate=1e-4),\n",
        "                loss=lambda _, log_prob: -tf.reduce_mean(log_prob)) # signature of loss fn(y_true,output_of_the_model)\n",
        "\n",
        "NUM_STEPS = int(settings[TARGET_DENSITY]['train_iters'])\n",
        "BATCH_SIZE = int(settings[TARGET_DENSITY]['batch_size'])\n",
        "\n",
        "hist = model.fit(x=X,\n",
        "            y=np.zeros((n_samples, 0), dtype=np.float32),\n",
        "            batch_size=BATCH_SIZE,\n",
        "            epochs=1_000,\n",
        "            steps_per_epoch=n_samples//BATCH_SIZE,  # Usually `n // batch_size`.\n",
        "            shuffle=True,\n",
        "            verbose=0)"
      ],
      "metadata": {
        "id": "vsfRInvKCH1t"
      },
      "execution_count": 203,
      "outputs": []
    },
    {
      "cell_type": "code",
      "source": [
        "hist.history.keys()"
      ],
      "metadata": {
        "colab": {
          "base_uri": "https://localhost:8080/"
        },
        "id": "9OGkpXqAIJSQ",
        "outputId": "a69ef959-cc41-4ec2-d804-34a0986a4278"
      },
      "execution_count": 204,
      "outputs": [
        {
          "output_type": "execute_result",
          "data": {
            "text/plain": [
              "dict_keys(['loss'])"
            ]
          },
          "metadata": {},
          "execution_count": 204
        }
      ]
    },
    {
      "cell_type": "code",
      "source": [
        "plt.plot(hist.history['loss'])\n"
      ],
      "metadata": {
        "colab": {
          "base_uri": "https://localhost:8080/",
          "height": 294
        },
        "id": "8zKBot-zUCGD",
        "outputId": "09468046-d85b-4879-9aa0-09e1edfb7cd1"
      },
      "execution_count": 205,
      "outputs": [
        {
          "output_type": "execute_result",
          "data": {
            "text/plain": [
              "[<matplotlib.lines.Line2D at 0x7ff47ba72790>]"
            ]
          },
          "metadata": {},
          "execution_count": 205
        },
        {
          "output_type": "display_data",
          "data": {
            "text/plain": [
              "<Figure size 432x288 with 1 Axes>"
            ],
            "image/png": "[encoded data removed]"
          },
          "metadata": {
            "needs_background": "light"
          }
        }
      ]
    },
    {
      "cell_type": "code",
      "source": [
        "x = base_dist.sample(8000)\n",
        "samples = [x]\n",
        "names = [base_dist.name]\n",
        "for bijector in reversed(trans_dist.bijector.bijectors):\n",
        "    x = bijector.forward(x)\n",
        "    samples.append(x)\n",
        "    names.append(bijector.name)"
      ],
      "metadata": {
        "id": "tJF8ldzXUWCu"
      },
      "execution_count": 206,
      "outputs": []
    },
    {
      "cell_type": "code",
      "source": [
        "results = samples\n",
        "f, arr = plt.subplots(1, len(results), figsize=(4 * (len(results)), 4))\n",
        "X0 = results[0].numpy()\n",
        "for i in range(len(results)):\n",
        "    X1 = results[i].numpy()\n",
        "    idx = np.logical_and(X0[:, 0] < 0, X0[:, 1] < 0)\n",
        "    arr[i].scatter(X1[idx, 0], X1[idx, 1], s=10, color='red')\n",
        "    idx = np.logical_and(X0[:, 0] > 0, X0[:, 1] < 0)\n",
        "    arr[i].scatter(X1[idx, 0], X1[idx, 1], s=10, color='green')\n",
        "    idx = np.logical_and(X0[:, 0] < 0, X0[:, 1] > 0)\n",
        "    arr[i].scatter(X1[idx, 0], X1[idx, 1], s=10, color='blue')\n",
        "    idx = np.logical_and(X0[:, 0] > 0, X0[:, 1] > 0)\n",
        "    arr[i].scatter(X1[idx, 0], X1[idx, 1], s=10, color='black')\n",
        "    arr[i].set_xlim([-10, 10])\n",
        "    arr[i].set_ylim([-10, 10])\n",
        "    arr[i].set_title(names[i])"
      ],
      "metadata": {
        "colab": {
          "base_uri": "https://localhost:8080/",
          "height": 149
        },
        "id": "DWyiRhCtXY42",
        "outputId": "c18e27c4-cac8-4787-e2e4-5d96a0b96a13"
      },
      "execution_count": 207,
      "outputs": [
        {
          "output_type": "display_data",
          "data": {
            "text/plain": [
              "<Figure size 2304x288 with 8 Axes>"
            ],
            "image/png": "[encoded data removed]"
          },
          "metadata": {
            "needs_background": "light"
          }
        }
      ]
    },
    {
      "cell_type": "code",
      "source": [],
      "metadata": {
        "id": "-g27M9BCXbZl"
      },
      "execution_count": null,
      "outputs": []
    }
  ]
}